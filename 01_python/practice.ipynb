{
 "cells": [
  {
   "cell_type": "markdown",
   "metadata": {},
   "source": [
    "# 가장 위\n",
    "탐색기의 개요를 통해 MarkDown 으로 작성된 섹션별로 이동이 쉽다."
   ]
  },
  {
   "cell_type": "code",
   "execution_count": 8,
   "metadata": {},
   "outputs": [
    {
     "name": "stdout",
     "output_type": "stream",
     "text": [
      "위일경우 a\n"
     ]
    }
   ],
   "source": [
    "print('위일경우 a')"
   ]
  },
  {
   "cell_type": "code",
   "execution_count": 7,
   "metadata": {},
   "outputs": [
    {
     "name": "stdout",
     "output_type": "stream",
     "text": [
      "Hello, World\n",
      "2\n",
      "False\n",
      "{1: 2}\n"
     ]
    }
   ],
   "source": [
    "print('Hello, World')\n",
    "print(2)\n",
    "print(False)\n",
    "print({1:2})"
   ]
  },
  {
   "cell_type": "markdown",
   "metadata": {},
   "source": [
    "# 중간"
   ]
  },
  {
   "cell_type": "code",
   "execution_count": 10,
   "metadata": {},
   "outputs": [
    {
     "name": "stdout",
     "output_type": "stream",
     "text": [
      "아래일경우 b\n"
     ]
    }
   ],
   "source": [
    "print('아래일경우 b')"
   ]
  },
  {
   "cell_type": "code",
   "execution_count": null,
   "metadata": {},
   "outputs": [],
   "source": []
  },
  {
   "cell_type": "code",
   "execution_count": null,
   "metadata": {},
   "outputs": [
    {
     "name": "stdout",
     "output_type": "stream",
     "text": [
      "3.0\n"
     ]
    }
   ],
   "source": [
    "print(6/2) #주석달기-명확하고정확하게"
   ]
  },
  {
   "cell_type": "markdown",
   "metadata": {},
   "source": [
    "MarkDown 작성법\n",
    "# 제목1\n",
    "## 제목2\n",
    "### 제목3\n",
    "설명 **구간**입니다. \\\n",
    "줄바꿈입니다. \\\n",
    "하핫"
   ]
  },
  {
   "cell_type": "markdown",
   "metadata": {},
   "source": [
    "# 동시할당"
   ]
  },
  {
   "cell_type": "code",
   "execution_count": 5,
   "metadata": {},
   "outputs": [
    {
     "name": "stdout",
     "output_type": "stream",
     "text": [
      "문\n",
      "자\n",
      "열\n"
     ]
    }
   ],
   "source": [
    "x, y, z = \"문자열\"\n",
    "\n",
    "print(x, y, z, sep='\\n') # print 시 sep=' ' 이 기본값"
   ]
  },
  {
   "cell_type": "code",
   "execution_count": 2,
   "metadata": {},
   "outputs": [
    {
     "ename": "ValueError",
     "evalue": "too many values to unpack (expected 3)",
     "output_type": "error",
     "traceback": [
      "\u001b[0;31m---------------------------------------------------------------------------\u001b[0m",
      "\u001b[0;31mValueError\u001b[0m                                Traceback (most recent call last)",
      "Cell \u001b[0;32mIn[2], line 1\u001b[0m\n\u001b[0;32m----> 1\u001b[0m x, y, z \u001b[38;5;241m=\u001b[39m \u001b[38;5;124m\"\u001b[39m\u001b[38;5;124m문자열없\u001b[39m\u001b[38;5;124m\"\u001b[39m\n\u001b[1;32m      3\u001b[0m \u001b[38;5;28mprint\u001b[39m(x, y, z)\n",
      "\u001b[0;31mValueError\u001b[0m: too many values to unpack (expected 3)"
     ]
    }
   ],
   "source": [
    "x, y, z = \"문자열없\"\n",
    "\n",
    "print(x, y, z)"
   ]
  },
  {
   "cell_type": "code",
   "execution_count": 12,
   "metadata": {},
   "outputs": [
    {
     "name": "stdout",
     "output_type": "stream",
     "text": [
      "10\n",
      "10\n",
      "4299244048\n",
      "4299244048\n",
      "----------------------\n",
      "10\n",
      "4299244048\n",
      "----------------------\n",
      "1000\n",
      "1000\n",
      "4465025776\n",
      "4465025776\n",
      "----------------------\n",
      "1000\n",
      "4465027024\n"
     ]
    }
   ],
   "source": [
    "a = 10\n",
    "b = a\n",
    "c = 10\n",
    "\n",
    "x = 1000\n",
    "y = x\n",
    "z = 1000\n",
    "\n",
    "print(a)\n",
    "print(b)\n",
    "print(id(a))\n",
    "print(id(b))\n",
    "print('----------------------')\n",
    "print(c)\n",
    "print(id(c))\n",
    "print('----------------------')\n",
    "print(x)\n",
    "print(y)\n",
    "print(id(x))\n",
    "print(id(y))\n",
    "print('----------------------')\n",
    "print(z)\n",
    "print(id(z))\n"
   ]
  },
  {
   "cell_type": "markdown",
   "metadata": {},
   "source": [
    "클래스\n",
    "변수에 클래스를 할당시 클래스를 활용한 새로운 객체가 생긴 것 -> 클래스를 만들면 재활용이 가능하다.\n",
    "    class Dog(arg1, arg2)\n",
    "\n",
    "    merry = Dog('a', 'b')\n",
    "    jane = Dog('a', 'b') \n",
    "    -> merry 와 jane 은 다른 객체다. 다른 메모리 주소를 가지게 되는것"
   ]
  },
  {
   "cell_type": "code",
   "execution_count": 13,
   "metadata": {},
   "outputs": [
    {
     "name": "stdout",
     "output_type": "stream",
     "text": [
      "4465407024\n",
      "4464118608\n"
     ]
    }
   ],
   "source": [
    "a = (1,)\n",
    "print(id(a))\n",
    "print(id((1,))) #튜플은 클래스로 기준을 두고 새로운 객체를 만드는것"
   ]
  },
  {
   "cell_type": "code",
   "execution_count": 15,
   "metadata": {},
   "outputs": [
    {
     "name": "stdout",
     "output_type": "stream",
     "text": [
      "4299243760\n",
      "4299243760\n",
      "-------------\n",
      "4465022256\n",
      "4465017808\n"
     ]
    }
   ],
   "source": [
    "b = 1\n",
    "print(id(b))\n",
    "print(id(1)) #-5 ~ 256 는 이미 저장(cashing)되어 있어 새로 객체를 생성해도 같은 메모리 주소를 참조하게 됨.\n",
    "\n",
    "print('-------------')\n",
    "\n",
    "c = 257\n",
    "print(id(c))\n",
    "print(id(257)) #-5 ~ 256 를 벗어낫기 때문에 다른 메모리 주소를 가짐"
   ]
  },
  {
   "cell_type": "code",
   "execution_count": 25,
   "metadata": {},
   "outputs": [
    {
     "name": "stdout",
     "output_type": "stream",
     "text": [
      "Hello, 'This is my world!'\n",
      "Hello, \\nThis is my world\n",
      "Hello, \n",
      "This is my world\n",
      "------------------\n",
      "one line\n",
      "two line\n",
      "\n",
      "------------------\n",
      "\n",
      "one line\n",
      "two line\n",
      "\n"
     ]
    }
   ],
   "source": [
    "print('Hello, \\'This is my world!\\'')\n",
    "\n",
    "print('Hello, \\\\nThis is my world')\n",
    "\n",
    "print('Hello, \\nThis is my world')\n",
    "\n",
    "print('------------------')\n",
    "a = '''\\\n",
    "one line\n",
    "two line\n",
    "'''\n",
    "print(a)\n",
    "\n",
    "print('------------------')\n",
    "b = '''\n",
    "one line\n",
    "two line\n",
    "'''\n",
    "print(b)"
   ]
  },
  {
   "cell_type": "code",
   "execution_count": null,
   "metadata": {},
   "outputs": [
    {
     "data": {
      "text/plain": [
       "'test test test'"
      ]
     },
     "execution_count": 26,
     "metadata": {},
     "output_type": "execute_result"
    }
   ],
   "source": [
    "'test \\\n",
    "test \\\n",
    "test'"
   ]
  },
  {
   "cell_type": "markdown",
   "metadata": {},
   "source": [
    "test\n",
    "test\n",
    "test\n",
    "\n",
    "test \\\n",
    "test \\\n",
    "test"
   ]
  },
  {
   "cell_type": "markdown",
   "metadata": {},
   "source": [
    "# len()"
   ]
  },
  {
   "cell_type": "code",
   "execution_count": 4,
   "metadata": {},
   "outputs": [
    {
     "name": "stdout",
     "output_type": "stream",
     "text": [
      "16\n",
      "16\n"
     ]
    }
   ],
   "source": [
    "# len()\n",
    "word = 'This is my world'\n",
    "\n",
    "print(len(word))\n",
    "print(len('This is my world'))\n",
    "\n"
   ]
  },
  {
   "cell_type": "markdown",
   "metadata": {},
   "source": [
    "# replace()"
   ]
  },
  {
   "cell_type": "code",
   "execution_count": null,
   "metadata": {},
   "outputs": [
    {
     "name": "stdout",
     "output_type": "stream",
     "text": [
      "This_is_my_world\n"
     ]
    }
   ],
   "source": [
    "# replace\n",
    "word = 'This is my world' # 클래스로 만든 하나의 객체\n",
    "\n",
    "print(word.replace(' ', '_')) # 바꾼것을 출력만 한 상태\n",
    "\n"
   ]
  },
  {
   "cell_type": "code",
   "execution_count": 9,
   "metadata": {},
   "outputs": [
    {
     "name": "stdout",
     "output_type": "stream",
     "text": [
      "This is my world\n"
     ]
    }
   ],
   "source": [
    "print(word) # 그래서 실질적인 메모리의 값은 바뀌지 않음 - str 은 불변 "
   ]
  },
  {
   "cell_type": "code",
   "execution_count": null,
   "metadata": {},
   "outputs": [
    {
     "name": "stdout",
     "output_type": "stream",
     "text": [
      "This3is3my3world\n",
      "This is my world\n",
      "4364236112\n",
      "4364422400\n"
     ]
    }
   ],
   "source": [
    "word2 = word.replace(' ', '3') # 새로운 변수에 할당해 새로운 객체가 생겨 해당값에 대한 메모리 주소가 생김\n",
    "\n",
    "print(word2)\n",
    "print(word)\n",
    "print(id(word))\n",
    "print(id(word2))\n"
   ]
  },
  {
   "cell_type": "markdown",
   "metadata": {},
   "source": [
    "# upper()"
   ]
  },
  {
   "cell_type": "code",
   "execution_count": 14,
   "metadata": {},
   "outputs": [
    {
     "name": "stdout",
     "output_type": "stream",
     "text": [
      "HELLO, THIS IS MY WORLD\n",
      "word :  Hello, This Is My World\n",
      "word2 :  HELLO, THIS IS MY WORLD\n"
     ]
    }
   ],
   "source": [
    "word = 'Hello, This Is My World'\n",
    "\n",
    "print(word.upper())\n",
    "\n",
    "print('word : ', word)\n",
    "\n",
    "word2 = word.upper()\n",
    "\n",
    "print('word2 : ', word2)\n"
   ]
  },
  {
   "cell_type": "markdown",
   "metadata": {},
   "source": [
    "# lower()"
   ]
  },
  {
   "cell_type": "code",
   "execution_count": null,
   "metadata": {},
   "outputs": [
    {
     "name": "stdout",
     "output_type": "stream",
     "text": [
      "hello, this is my world\n",
      "word :  Hello, This Is My World\n",
      "word2 :  hello, this is my world\n"
     ]
    }
   ],
   "source": [
    "word = 'Hello, This Is My World'\n",
    "\n",
    "print(word.lower())\n",
    "\n",
    "print('word : ', word)\n",
    "\n",
    "word2 = word.lower()\n",
    "\n",
    "print('word2 : ', word2)"
   ]
  },
  {
   "cell_type": "code",
   "execution_count": null,
   "metadata": {},
   "outputs": [],
   "source": []
  }
 ],
 "metadata": {
  "kernelspec": {
   "display_name": "sesac",
   "language": "python",
   "name": "python3"
  },
  "language_info": {
   "codemirror_mode": {
    "name": "ipython",
    "version": 3
   },
   "file_extension": ".py",
   "mimetype": "text/x-python",
   "name": "python",
   "nbconvert_exporter": "python",
   "pygments_lexer": "ipython3",
   "version": "3.10.15"
  }
 },
 "nbformat": 4,
 "nbformat_minor": 2
}
