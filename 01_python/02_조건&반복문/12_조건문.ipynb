{
 "cells": [
  {
   "cell_type": "markdown",
   "metadata": {},
   "source": [
    "# 조건문 개요"
   ]
  },
  {
   "cell_type": "code",
   "execution_count": null,
   "metadata": {},
   "outputs": [],
   "source": [
    "# if 조건식:\n",
    "#     코드\n"
   ]
  },
  {
   "cell_type": "markdown",
   "metadata": {},
   "source": [
    "# 1. 조건문 작성 예제"
   ]
  },
  {
   "cell_type": "markdown",
   "metadata": {},
   "source": [
    "1. x에 정수를 받고 타입 확인해보기"
   ]
  },
  {
   "cell_type": "code",
   "execution_count": 1,
   "metadata": {},
   "outputs": [
    {
     "name": "stdout",
     "output_type": "stream",
     "text": [
      "<class 'int'>\n"
     ]
    }
   ],
   "source": [
    "x = int(input())\n",
    "print(type(x))"
   ]
  },
  {
   "cell_type": "markdown",
   "metadata": {},
   "source": [
    "2. is를 통해 좌, 우 동일한지 확인해보기 "
   ]
  },
  {
   "cell_type": "code",
   "execution_count": 2,
   "metadata": {},
   "outputs": [
    {
     "name": "stdout",
     "output_type": "stream",
     "text": [
      "True\n"
     ]
    }
   ],
   "source": [
    "print(type(x) is int)\n",
    "\n",
    "# == 와 is 는 달라\n",
    "# is 는 객체비교\n",
    "# == 값 비교\n"
   ]
  },
  {
   "cell_type": "markdown",
   "metadata": {},
   "source": [
    "3. 최종적으로 x가 정수일때만 실행되는 코드 작성해보기"
   ]
  },
  {
   "cell_type": "code",
   "execution_count": 4,
   "metadata": {},
   "outputs": [
    {
     "name": "stdout",
     "output_type": "stream",
     "text": [
      "if문 실행 완료\n"
     ]
    }
   ],
   "source": [
    "x = '예제'\n",
    "\n",
    "if type(x) is int:\n",
    "    print('x는 정수입니다.') # True 일시 실행\n",
    "print('if문 실행 완료') # if문 실행 완료후 실행"
   ]
  },
  {
   "cell_type": "markdown",
   "metadata": {},
   "source": [
    "# 2. 논리연산자 활용"
   ]
  },
  {
   "cell_type": "markdown",
   "metadata": {},
   "source": [
    "and, or, not 활용"
   ]
  },
  {
   "cell_type": "code",
   "execution_count": 21,
   "metadata": {},
   "outputs": [
    {
     "name": "stdout",
     "output_type": "stream",
     "text": [
      "True\n",
      "True\n",
      "조건문 끝\n"
     ]
    }
   ],
   "source": [
    "a = 123\n",
    "b = 'abc'\n",
    "\n",
    "if (type(a) is int) and (type(b) is str):\n",
    "    print(type(a) is int)\n",
    "    print(type(b) is str)\n",
    "print('조건문 끝')\n"
   ]
  },
  {
   "cell_type": "code",
   "execution_count": 20,
   "metadata": {},
   "outputs": [
    {
     "name": "stdout",
     "output_type": "stream",
     "text": [
      "조건문 끝\n"
     ]
    }
   ],
   "source": [
    "a = 123\n",
    "b = 'abc'\n",
    "\n",
    "if (type(a) is int) and (type(b) is int):\n",
    "    print(type(a) is int)\n",
    "    print(type(b) is str)\n",
    "print('조건문 끝')"
   ]
  },
  {
   "cell_type": "markdown",
   "metadata": {},
   "source": [
    "# 3. if문과 elif문"
   ]
  },
  {
   "cell_type": "markdown",
   "metadata": {},
   "source": [
    "if 가 False 일때 elif 가 실행된다."
   ]
  },
  {
   "cell_type": "code",
   "execution_count": 6,
   "metadata": {},
   "outputs": [
    {
     "name": "stdout",
     "output_type": "stream",
     "text": [
      "30대\n",
      "조건문 끝\n"
     ]
    }
   ],
   "source": [
    "# if 문이 False 일 경우\n",
    "age = 39\n",
    "\n",
    "if 20 <= age < 30: # false\n",
    "    print('20대') # 실행안함\n",
    "elif 30 <= age < 40: # true\n",
    "    print('30대') # 실행함\n",
    "\n",
    "print('조건문 끝')\n",
    "\n"
   ]
  },
  {
   "cell_type": "code",
   "execution_count": 7,
   "metadata": {},
   "outputs": [
    {
     "name": "stdout",
     "output_type": "stream",
     "text": [
      "20대\n",
      "조건문 끝\n"
     ]
    }
   ],
   "source": [
    "# if 문이 True 일 경우\n",
    "age = 26\n",
    "\n",
    "if 20 <= age < 30: # true\n",
    "    print('20대') # 실행함\n",
    "elif 30 <= age < 40:\n",
    "    print('30대') # 실행안함\n",
    "\n",
    "print('조건문 끝')"
   ]
  },
  {
   "cell_type": "markdown",
   "metadata": {},
   "source": [
    "# 4. if문과 elif문 그리고 else문"
   ]
  },
  {
   "cell_type": "markdown",
   "metadata": {},
   "source": [
    "if False, elif False 일시 else 가 실행됨 \\\n",
    "메인 흐름과 구분되는 구문에서는 필히 구분해줘야 한다."
   ]
  },
  {
   "cell_type": "code",
   "execution_count": 9,
   "metadata": {},
   "outputs": [
    {
     "name": "stdout",
     "output_type": "stream",
     "text": [
      "40대\n",
      "조건문 끝\n"
     ]
    }
   ],
   "source": [
    "age = 41\n",
    "\n",
    "if 20 <= age < 30:\n",
    "    print('20대')\n",
    "elif 30 <= age < 40:\n",
    "    print('30대')\n",
    "else:\n",
    "    print('40대')\n",
    "    \n",
    "print('조건문 끝')"
   ]
  },
  {
   "cell_type": "code",
   "execution_count": 10,
   "metadata": {},
   "outputs": [
    {
     "name": "stdout",
     "output_type": "stream",
     "text": [
      "F\n",
      "조건문 끝\n"
     ]
    }
   ],
   "source": [
    "score = 50\n",
    "\n",
    "if score >= 90: # 조건식\n",
    "    print('A')\n",
    "elif score >= 80: # 조건식\n",
    "    print('B')\n",
    "elif score >= 70:\n",
    "    print('C')\n",
    "else:\n",
    "    print('F')\n",
    "\n",
    "print('조건문 끝')"
   ]
  },
  {
   "cell_type": "markdown",
   "metadata": {},
   "source": [
    "# 5. 실습 01\n",
    "[문제] 물의 온도에 따라 현재 상태를 출력하는 프로그램을 만들려고 함\n",
    "- 사용자로부터 물의 온도가 몇인지 입력 받고\n",
    "- 100 이상이면 ‘기체로 예상됩니다’를 출력\n",
    "- 100보다 작고 0이상이면, ‘액체로 예상됩니다.’를 출력\n",
    "- 0보다 작으면 ‘고체로 예상됩니다.’를 출력 \n"
   ]
  },
  {
   "cell_type": "code",
   "execution_count": 24,
   "metadata": {},
   "outputs": [
    {
     "name": "stdout",
     "output_type": "stream",
     "text": [
      "물의 온도가 몇인가요?: 36.5\n",
      "액체로 예상됩니다\n"
     ]
    }
   ],
   "source": [
    "# my_input = int(input('물의 온도가 몇인가요?: '))\n",
    "my_input = float(input('물의 온도가 몇인가요?: ')) # 더 넓은 범위를 받음\n",
    "print(f'물의 온도가 몇인가요?: {my_input}')\n",
    "\n",
    "if my_input >= 100:\n",
    "    print('기체로 예상됩니다')\n",
    "elif 100 > my_input >= 0:\n",
    "    print('액체로 예상됩니다')\n",
    "else:\n",
    "    print('고체로 예상됩니다.')\n",
    "\n"
   ]
  },
  {
   "cell_type": "markdown",
   "metadata": {},
   "source": [
    "# 6. 실습 02\n",
    "- 사용자로부터 아이디를 입력 받습니다.\n",
    "- 이 때 아이디가 ’admin’면 ‘최고 관리자, 모든 권한을 갖습니다.’를 출력하고 프로그램 종료.\n",
    "- 아이디가 ’admin’이 아니면, 회원 등급을 정수로 받습니다.\n",
    "- 만약 회원 레벨이 1~3 사이(1이상 3이하) 값이면, ‘제한적인 권한을 갖습니다’를 출력하고 \n",
    "- 그렇지 않으면, ‘권한이 없습니다’를 출력 후 프로그램 종료\n"
   ]
  },
  {
   "cell_type": "code",
   "execution_count": 23,
   "metadata": {},
   "outputs": [
    {
     "name": "stdout",
     "output_type": "stream",
     "text": [
      "최고 관리자, 모든 권한을 갖습니다.\n",
      "프로그램 종료\n"
     ]
    }
   ],
   "source": [
    "my_input = input('아이디: ')\n",
    "\n",
    "if my_input == 'admin':\n",
    "    print('최고 관리자, 모든 권한을 갖습니다.')\n",
    "else:\n",
    "    my_class_input = int(input('회원등급: '))\n",
    "    \n",
    "    if 1 <= my_class_input <= 3:\n",
    "        print('제한적인 권한을 갖습니다')\n",
    "    else:\n",
    "        print('권한이 없습니다.')\n",
    "\n",
    "print('프로그램 종료')"
   ]
  },
  {
   "cell_type": "markdown",
   "metadata": {},
   "source": [
    "# 7. 실습 03\n",
    "[문제] 일반 시내버스 요금을 받는 프로그램을 만들려고 함\n",
    "- 사용자로부터 나이를 입력 받고 나이에 따른 일반 시내버스 요금을 출력하세요.\n",
    "    - 성인 (19세 이상)이면 1500원\n",
    "    - 청소년 (12~18세)이면 1100원\n",
    "    - 어린이(6~11세)면 800원\n",
    "    - 미취학 아동은 무료\n"
   ]
  },
  {
   "cell_type": "code",
   "execution_count": 22,
   "metadata": {},
   "outputs": [
    {
     "name": "stdout",
     "output_type": "stream",
     "text": [
      "800\n"
     ]
    }
   ],
   "source": [
    "my_input = int(input('나이: '))\n",
    "\n",
    "if my_input >= 19:\n",
    "    print('1,500')\n",
    "elif 12 <= my_input <= 18:\n",
    "    print('1,100')\n",
    "elif 6 <= my_input <= 11:\n",
    "    print('800')\n",
    "else:\n",
    "    print('FREE')"
   ]
  },
  {
   "cell_type": "markdown",
   "metadata": {},
   "source": [
    "# 8. pass"
   ]
  },
  {
   "cell_type": "code",
   "execution_count": null,
   "metadata": {},
   "outputs": [],
   "source": [
    "# if 조건식:\n",
    "#     pass \n",
    "\n",
    "# 다시 주 흐름으로\n",
    "\n",
    "# 문법상 오류 나 아무것도 실행하지 않기위해 쓰임"
   ]
  },
  {
   "cell_type": "code",
   "execution_count": 26,
   "metadata": {},
   "outputs": [
    {
     "name": "stdout",
     "output_type": "stream",
     "text": [
      "if 문의 body입니다.\n",
      "out\n",
      "조건문 끝\n"
     ]
    }
   ],
   "source": [
    "# 잚못된 예\n",
    "\n",
    "x = 20\n",
    "if x == 20:\n",
    "    print('if 문의 body입니다.')\n",
    "    pass \n",
    "    print('out')\n",
    "\n",
    "print('조건문 끝')"
   ]
  },
  {
   "cell_type": "code",
   "execution_count": 27,
   "metadata": {},
   "outputs": [
    {
     "name": "stdout",
     "output_type": "stream",
     "text": [
      "조건문 끝\n"
     ]
    }
   ],
   "source": [
    "# 올바른 예\n",
    "x = 20\n",
    "if x == 20:\n",
    "    print('if 문의 body입니다.')\n",
    "    test = 1 + x\n",
    "    print(test)\n",
    "    # pass \n",
    "\n",
    "\n",
    "print('조건문 끝')"
   ]
  },
  {
   "cell_type": "code",
   "execution_count": null,
   "metadata": {},
   "outputs": [],
   "source": []
  },
  {
   "cell_type": "markdown",
   "metadata": {},
   "source": [
    "# 9. 중첩"
   ]
  },
  {
   "cell_type": "code",
   "execution_count": 31,
   "metadata": {},
   "outputs": [
    {
     "name": "stdout",
     "output_type": "stream",
     "text": [
      "10살 이상\n",
      "age>=10 구간입니다.\n",
      "조건문 끝\n"
     ]
    }
   ],
   "source": [
    "age = int(input())\n",
    "\n",
    "if age >= 10:\n",
    "    print('10살 이상')\n",
    "    if age >= 20:\n",
    "        print('20살 이상')\n",
    "        if age >= 30: # 내부적으로 if 문 사용시 그 구문안에서 실행할 코드를 추가 할 수 있다.\n",
    "            print('30살 이상')\n",
    "        print('age>=20 구간입니다.') # 구문에 따른 코드블럭 조심!\n",
    "    print('age>=10 구간입니다.')\n",
    "\n",
    "print('조건문 끝')\n",
    "    "
   ]
  },
  {
   "cell_type": "code",
   "execution_count": 32,
   "metadata": {},
   "outputs": [
    {
     "ename": "SyntaxError",
     "evalue": "invalid syntax (1106038983.py, line 10)",
     "output_type": "error",
     "traceback": [
      "\u001b[0;36m  Cell \u001b[0;32mIn[32], line 10\u001b[0;36m\u001b[0m\n\u001b[0;31m    else:\u001b[0m\n\u001b[0m    ^\u001b[0m\n\u001b[0;31mSyntaxError\u001b[0m\u001b[0;31m:\u001b[0m invalid syntax\n"
     ]
    }
   ],
   "source": [
    "age = 30\n",
    "\n",
    "if age >= 10:\n",
    "    print('10')\n",
    "elif age >= 20:\n",
    "    print('20')\n",
    "elif age >= 30:\n",
    "    print('30')\n",
    "print('20 구간')\n",
    "else:\n",
    "    print('test')"
   ]
  },
  {
   "cell_type": "markdown",
   "metadata": {},
   "source": [
    "# 10. 실습 04\n",
    "- 사용자로부터 자연수를 입력 받습니다. 그 숫자에서 50을 뺀 값을 출력하세요.\n",
    "- 단, 출력 값의 범위는 0 이상입니다.\n",
    "- 50을 뺀 결과가 음수가 될 경우, 0을 출력해야 합니다."
   ]
  },
  {
   "cell_type": "code",
   "execution_count": 34,
   "metadata": {},
   "outputs": [
    {
     "name": "stdout",
     "output_type": "stream",
     "text": [
      "자연수: 10\n"
     ]
    }
   ],
   "source": [
    "my_input = int(input('숫자 입력!: '))\n",
    "my_mi_input = my_input - 50\n",
    "\n",
    "if my_mi_input >= 0:\n",
    "    print(f'자연수: {my_mi_input}')\n",
    "else:\n",
    "    print('0')"
   ]
  },
  {
   "cell_type": "code",
   "execution_count": null,
   "metadata": {},
   "outputs": [],
   "source": [
    "# 쌤 답안\n",
    "x = int(input())\n",
    "\n",
    "print('x : ')\n",
    "\n",
    "result = x -50\n",
    "\n",
    "if result < 0:\n",
    "    result = 0\n",
    "\n",
    "print(result)\n"
   ]
  },
  {
   "cell_type": "markdown",
   "metadata": {},
   "source": [
    "# 11. if문과 else문 "
   ]
  },
  {
   "cell_type": "code",
   "execution_count": null,
   "metadata": {},
   "outputs": [],
   "source": [
    "# if 조건문:\n",
    "#     내용\n",
    "# else:\n",
    "#     내용\n",
    "\n",
    "# 메인흐름과 구분하여 else 를 쓴다."
   ]
  },
  {
   "cell_type": "code",
   "execution_count": null,
   "metadata": {},
   "outputs": [],
   "source": []
  },
  {
   "cell_type": "markdown",
   "metadata": {},
   "source": [
    "# 12. 실습 05\n",
    "- 사용자로 부터 자연수를 입력 받습니다.\n",
    "- 값이 짝수인지 홀수인지 화면에 출력합니다."
   ]
  },
  {
   "cell_type": "code",
   "execution_count": 36,
   "metadata": {},
   "outputs": [
    {
     "name": "stdout",
     "output_type": "stream",
     "text": [
      "짝수: 3904\n",
      "종료\n"
     ]
    }
   ],
   "source": [
    "my_input = int(input('자연수 입력!: '))\n",
    "\n",
    "if (my_input % 2) == 0:\n",
    "    print(f'짝수: {my_input}')\n",
    "else:\n",
    "    print(f'홀수: {my_input}')\n",
    "\n",
    "print('종료')"
   ]
  },
  {
   "cell_type": "code",
   "execution_count": null,
   "metadata": {},
   "outputs": [],
   "source": [
    "# 쌤 답안\n",
    "num = int(input('자연수 하나를 입력하세요: '))\n",
    "if (num % 2) == 0:\n",
    "    print('짝수')\n",
    "else:\n",
    "    print('홀수')\n",
    "\n",
    "print('조건문 끝')"
   ]
  },
  {
   "cell_type": "code",
   "execution_count": null,
   "metadata": {},
   "outputs": [],
   "source": [
    "# 쌤 답안 - 잘못된 방법\n",
    "num = int(input('자연수 하나를 입력하세요: '))\n",
    "if (num % 2) == 0:\n",
    "    print('짝수')\n",
    "\n",
    "# if 문이 false 여도 무조건 실행됨\n",
    "print('홀수')"
   ]
  },
  {
   "cell_type": "markdown",
   "metadata": {},
   "source": [
    "# 13. 실습 06\n",
    "- A사는 B사에서 C상품 ($10/개) 을 납품합니다. 발주 수량에 따라 수량할인을 고려하여 납품가가 달라집니다.\n",
    "- 1000개 미만은 수량할인이 적용되지 않습니다.\n",
    "- 1000개부터 1500개 까지 5% 할인, 1500개 초과 2000개까지 10% 할인, 2000개 초과부터는 20% 할인됩니다.\n",
    "- 발주 수량을 사용자로부터 입력 받고, 총 발주금액을 출력하는 프로그램을 작성해보세요.\n",
    "- 소수점은 할인의 일환으로 버립니다.\n"
   ]
  },
  {
   "cell_type": "code",
   "execution_count": 40,
   "metadata": {},
   "outputs": [
    {
     "name": "stdout",
     "output_type": "stream",
     "text": [
      "20% 할인가: 16800\n"
     ]
    }
   ],
   "source": [
    "num = int(input('발주 수량을 입력해주세요: '))\n",
    "# c_pro_pay = num * 10\n",
    "def cal(per):\n",
    "    c_pro_pay = num * 10\n",
    "    result = c_pro_pay - (c_pro_pay * (per))\n",
    "    return result\n",
    "\n",
    "if num < 1000:\n",
    "    print('수량할인 적용안됨')\n",
    "elif 1000 <= num <= 1500:\n",
    "    final_pay = int(cal(0.05))\n",
    "    print(f'5% 할인가: {final_pay}')\n",
    "elif 1500 < num <= 2000:\n",
    "    final_pay = int(cal(0.10))\n",
    "    print(f'10% 할인가: {final_pay}')\n",
    "else:\n",
    "    final_pay = int(cal(0.20))\n",
    "    print(f'20% 할인가: {final_pay}')\n"
   ]
  },
  {
   "cell_type": "code",
   "execution_count": 46,
   "metadata": {},
   "outputs": [
    {
     "name": "stdout",
     "output_type": "stream",
     "text": [
      "2001개를 주문하셨습니다.\n",
      "적용 할인율은 20%입니다.\n",
      "총 발주 금액은 $16008입니다.\n"
     ]
    }
   ],
   "source": [
    "# 쌤 답안\n",
    "quantity = int(input('발주 수량을 입력하세요: '))\n",
    "print(f'{quantity}개를 주문하셨습니다.')\n",
    "\n",
    "price = 10 # 가격\n",
    "rate = 0 # 할인률 # 초기화\n",
    "# order_amount = 0 # 주문수량\n",
    "\n",
    "if quantity > 2000:\n",
    "    rate = 20 # 문제에서 제시한 값 그대로 사용하는\n",
    "elif 2000 >= quantity > 1500:\n",
    "    rate = 10\n",
    "elif 1500 >= quantity >= 1000:\n",
    "    rate = 5\n",
    "# else:\n",
    "\n",
    "order_amount = int(price * quantity * ((100-rate) / 100)) \n",
    "# 문제의 값들을 그대로 사용하는 그 값들은 받아들이는 값으로 변동성이 있으니 변수로 만들어서 적용 결국 동일한 계산 방법이므로 필요한 값을 받으면 마지막에 한번 계산하는 것으로 종료\n",
    "print(f'적용 할인율은 {rate}%입니다.')\n",
    "print(f'총 발주 금액은 ${order_amount}입니다.')"
   ]
  },
  {
   "cell_type": "markdown",
   "metadata": {},
   "source": [
    "# 14. 실습 07\n",
    "[문제] 주민등록번호 뒷자리를 입력 받아 성별을 확인하는 프로그램을 작성해보기\n",
    "- 주민등록번호 뒷자리 7자리 중 맨 앞 번호가 1, 3인 경우는 남자이고, 2, 4인 경우는 여자를 의미\n",
    "- 자리수가 7자리가 아니면 ‘자리수를 잘못 입력했습니다.’를 출력\n",
    "- 맨 앞 번호가 1, 2, 3, 4가 아니면, ‘잘못된 입력입니다.’를 출력\n"
   ]
  },
  {
   "cell_type": "code",
   "execution_count": 45,
   "metadata": {},
   "outputs": [
    {
     "name": "stdout",
     "output_type": "stream",
     "text": [
      "잘못된 입력입니다.\n",
      "종료\n"
     ]
    }
   ],
   "source": [
    "num_input = input('주민등록번호 뒷자리를 입력해주세요: ')\n",
    "\n",
    "if len(num_input) != 7:\n",
    "    print('자리수를 잘못 입력했습니다.')\n",
    "else:\n",
    "    first_num = int(num_input[0])\n",
    "    if (first_num == 1) or (first_num == 2) or (first_num == 3) or (first_num == 4):\n",
    "        if (first_num == 1) or (first_num == 3):\n",
    "            print('남')\n",
    "        else:\n",
    "            print('여')\n",
    "    else:\n",
    "        print('잘못된 입력입니다.')\n",
    "print('종료')\n",
    "    "
   ]
  },
  {
   "cell_type": "code",
   "execution_count": 55,
   "metadata": {},
   "outputs": [
    {
     "name": "stdout",
     "output_type": "stream",
     "text": [
      "주민번호 뒷자리를 입력하세요:  1234567\n",
      "남자\n",
      "종료\n"
     ]
    }
   ],
   "source": [
    "# 쌤 답안\n",
    "reg_num = input('주민번호 뒷자리를 입력하세요: ')\n",
    "print('주민번호 뒷자리를 입력하세요: ', reg_num)\n",
    "\n",
    "# 7자리가 맞을때 아닐때\n",
    "# 7자리가 맞았을때 - 1,2,3,4 가 맞을때 아닐때\n",
    "# 7자리가 맞았을때 - 1,2,3,4 가 맞을때 - 1, 3 일 때\n",
    "# 7자리가 맞았을때 - 1,2,3,4 가 맞을때 - 2, 4 일 때\n",
    "\n",
    "\n",
    "# 상위가 짧고 내부가 길어지는게 나음\n",
    "if len(reg_num) != 7:\n",
    "    print('자리수를 잘못 입력했습니다.')\n",
    "else:\n",
    "    fst_num = int(reg_num[0]) # 첫번째 자리 담기\n",
    "    if fst_num in (1, 3): # 1, 3 중에 있나?\n",
    "        print('남자')\n",
    "    elif fst_num in (2, 4): # 2, 4 중에 있나?\n",
    "        print('여자')\n",
    "    else:\n",
    "        print('잘못된 입력입니다.')\n",
    "\n",
    "print('종료')\n",
    "\n"
   ]
  },
  {
   "cell_type": "markdown",
   "metadata": {},
   "source": [
    "# 15. 실습 08\n",
    "[문제] 연도 값을 입력 받아 윤년인지 평년인지를 출력하는 프로그램 작성해보기\n",
    "- 연도가 4로 나누어 떨어지는 경우: 윤년\n",
    "- 그 밖의 해: 평년\n",
    "- 예외\n",
    "    - 100으로 나누어 떨어지되 400으로 나누어 떨어지지 않는 해: 평년"
   ]
  },
  {
   "cell_type": "code",
   "execution_count": 59,
   "metadata": {},
   "outputs": [
    {
     "name": "stdout",
     "output_type": "stream",
     "text": [
      "입력연도: 2024\n",
      "윤년\n"
     ]
    }
   ],
   "source": [
    "year = int(input('연도?: '))\n",
    "print(f'입력연도: {year}')\n",
    "\n",
    "if (year % 4) == 0:\n",
    "    if (year % 100) == 0 and (year % 400) != 0:\n",
    "        print('평년')\n",
    "    else:\n",
    "        print('윤년')\n",
    "else:\n",
    "    print('평년')\n",
    "\n"
   ]
  },
  {
   "cell_type": "code",
   "execution_count": null,
   "metadata": {},
   "outputs": [
    {
     "name": "stdout",
     "output_type": "stream",
     "text": [
      "확인할 연도를 입력하세요:  2024\n",
      "윤년\n"
     ]
    }
   ],
   "source": [
    "# 쌤 답안 1\n",
    "year = int(input('확인할 연도를 입력하세요: '))\n",
    "# print(f'확인할 연도를 입력하세요: {year}')\n",
    "print('확인할 연도를 입력하세요: ', year)\n",
    "\n",
    "if (year % 4) != 0:\n",
    "    print('평년입니다.')\n",
    "else:\n",
    "    if (year % 400) == 0:\n",
    "        print('윤년')\n",
    "    elif (year % 100) == 0:\n",
    "        print('평년')\n",
    "    else:\n",
    "        print('윤년')\n"
   ]
  },
  {
   "cell_type": "code",
   "execution_count": 61,
   "metadata": {},
   "outputs": [
    {
     "name": "stdout",
     "output_type": "stream",
     "text": [
      "확인할 연도를 입력하세요:  2024\n",
      "윤년\n"
     ]
    }
   ],
   "source": [
    "# 쌤 답안 2\n",
    "year = int(input('확인할 연도를 입력하세요: '))\n",
    "print('확인할 연도를 입력하세요: ', year)\n",
    "\n",
    "if (year % 4) == 0 and (year % 100 != 0 or year % 400 == 0):\n",
    "    print('윤년')\n",
    "else:\n",
    "    print('평년')\n"
   ]
  }
 ],
 "metadata": {
  "kernelspec": {
   "display_name": "sesac",
   "language": "python",
   "name": "python3"
  },
  "language_info": {
   "codemirror_mode": {
    "name": "ipython",
    "version": 3
   },
   "file_extension": ".py",
   "mimetype": "text/x-python",
   "name": "python",
   "nbconvert_exporter": "python",
   "pygments_lexer": "ipython3",
   "version": "3.10.15"
  }
 },
 "nbformat": 4,
 "nbformat_minor": 2
}
