{
 "cells": [
  {
   "cell_type": "markdown",
   "metadata": {},
   "source": [
    "# 반복문"
   ]
  },
  {
   "cell_type": "markdown",
   "metadata": {},
   "source": [
    "# 1. range() 함수"
   ]
  },
  {
   "cell_type": "markdown",
   "metadata": {},
   "source": [
    "## 1.1 range() 함수로 list 생성하기 "
   ]
  },
  {
   "cell_type": "code",
   "execution_count": 2,
   "metadata": {},
   "outputs": [
    {
     "name": "stdout",
     "output_type": "stream",
     "text": [
      "<class 'range'>\n"
     ]
    }
   ],
   "source": [
    "range(2, 100, 2) # range 객체만 반환함 메모리공간을 차지하고 있지 않는상태\n",
    "print(type(range(2, 100, 2)))"
   ]
  },
  {
   "cell_type": "code",
   "execution_count": null,
   "metadata": {},
   "outputs": [],
   "source": [
    "[1 ~ 100] "
   ]
  },
  {
   "cell_type": "code",
   "execution_count": null,
   "metadata": {},
   "outputs": [
    {
     "data": {
      "text/plain": [
       "[2,\n",
       " 4,\n",
       " 6,\n",
       " 8,\n",
       " 10,\n",
       " 12,\n",
       " 14,\n",
       " 16,\n",
       " 18,\n",
       " 20,\n",
       " 22,\n",
       " 24,\n",
       " 26,\n",
       " 28,\n",
       " 30,\n",
       " 32,\n",
       " 34,\n",
       " 36,\n",
       " 38,\n",
       " 40,\n",
       " 42,\n",
       " 44,\n",
       " 46,\n",
       " 48,\n",
       " 50,\n",
       " 52,\n",
       " 54,\n",
       " 56,\n",
       " 58,\n",
       " 60,\n",
       " 62,\n",
       " 64,\n",
       " 66,\n",
       " 68,\n",
       " 70,\n",
       " 72,\n",
       " 74,\n",
       " 76,\n",
       " 78,\n",
       " 80,\n",
       " 82,\n",
       " 84,\n",
       " 86,\n",
       " 88,\n",
       " 90,\n",
       " 92,\n",
       " 94,\n",
       " 96,\n",
       " 98]"
      ]
     },
     "execution_count": 3,
     "metadata": {},
     "output_type": "execute_result"
    }
   ],
   "source": [
    "list(range(2, 100, 2)) # list 로 감싸야만 메모리에 담기고 반환"
   ]
  },
  {
   "cell_type": "markdown",
   "metadata": {},
   "source": [
    "## 1.2 range()함수 실습 01"
   ]
  },
  {
   "cell_type": "code",
   "execution_count": 5,
   "metadata": {},
   "outputs": [
    {
     "data": {
      "text/plain": [
       "[5, 6, 7, 8, 9]"
      ]
     },
     "execution_count": 5,
     "metadata": {},
     "output_type": "execute_result"
    }
   ],
   "source": [
    "list(range(5, 10))"
   ]
  },
  {
   "cell_type": "code",
   "execution_count": 10,
   "metadata": {},
   "outputs": [
    {
     "name": "stdout",
     "output_type": "stream",
     "text": [
      "[5, 6, 7, 8, 9]\n"
     ]
    }
   ],
   "source": [
    "# 쌤\n",
    "print(list(range(5, 10)))"
   ]
  },
  {
   "cell_type": "code",
   "execution_count": 11,
   "metadata": {},
   "outputs": [
    {
     "data": {
      "text/plain": [
       "[0, 3, 6, 9]"
      ]
     },
     "execution_count": 11,
     "metadata": {},
     "output_type": "execute_result"
    }
   ],
   "source": [
    "list(range(0,10,3))"
   ]
  },
  {
   "cell_type": "code",
   "execution_count": 12,
   "metadata": {},
   "outputs": [
    {
     "name": "stdout",
     "output_type": "stream",
     "text": [
      "[0, 3, 6, 9]\n"
     ]
    }
   ],
   "source": [
    "# 쌤\n",
    "print(list(range(0, 10, 3)))"
   ]
  },
  {
   "cell_type": "code",
   "execution_count": 9,
   "metadata": {},
   "outputs": [
    {
     "data": {
      "text/plain": [
       "[-10, -40, -70]"
      ]
     },
     "execution_count": 9,
     "metadata": {},
     "output_type": "execute_result"
    }
   ],
   "source": [
    "list(range(-10, -100, -30))"
   ]
  },
  {
   "cell_type": "code",
   "execution_count": 13,
   "metadata": {},
   "outputs": [
    {
     "name": "stdout",
     "output_type": "stream",
     "text": [
      "[-10, -40, -70]\n"
     ]
    }
   ],
   "source": [
    "# 쌤\n",
    "print(list(range(-10, -100, -30)))"
   ]
  },
  {
   "cell_type": "markdown",
   "metadata": {},
   "source": [
    "# 2. for문"
   ]
  },
  {
   "cell_type": "markdown",
   "metadata": {},
   "source": [
    "## 2.1 for문과 다양한 자료형들"
   ]
  },
  {
   "cell_type": "code",
   "execution_count": 15,
   "metadata": {},
   "outputs": [
    {
     "name": "stdout",
     "output_type": "stream",
     "text": [
      "Hello World!\n",
      "Hello World!\n",
      "Hello World!\n",
      "Hello World!\n",
      "Hello World!\n",
      "Hello World!\n",
      "Hello World!\n",
      "Hello World!\n",
      "Hello World!\n",
      "Hello World!\n"
     ]
    }
   ],
   "source": [
    "for i in range(10):\n",
    "    print('Hello World!')"
   ]
  },
  {
   "cell_type": "markdown",
   "metadata": {},
   "source": [
    "1. list"
   ]
  },
  {
   "cell_type": "code",
   "execution_count": 20,
   "metadata": {},
   "outputs": [
    {
     "name": "stdout",
     "output_type": "stream",
     "text": [
      "1234567"
     ]
    }
   ],
   "source": [
    "# list\n",
    "a = [1,2,3,4,5,6,7]\n",
    "for i in a:\n",
    "    print(i, end='')"
   ]
  },
  {
   "cell_type": "code",
   "execution_count": 22,
   "metadata": {},
   "outputs": [
    {
     "name": "stdout",
     "output_type": "stream",
     "text": [
      "100,-420,250,1030,210,770,240,"
     ]
    }
   ],
   "source": [
    "x = [10, -42, 25, 103, 21, 77, 24]\n",
    "\n",
    "for i in x:\n",
    "    print(i * 10, end=',')"
   ]
  },
  {
   "cell_type": "markdown",
   "metadata": {},
   "source": [
    "2. str "
   ]
  },
  {
   "cell_type": "code",
   "execution_count": null,
   "metadata": {},
   "outputs": [],
   "source": [
    "# 문자열\n",
    "a = 'Orange'\n",
    "for i in a:\n",
    "    print(i, end='') # end 출력후 끝맺음 처리에 대한 옵션 기본값=end='\\n'"
   ]
  },
  {
   "cell_type": "code",
   "execution_count": null,
   "metadata": {},
   "outputs": [],
   "source": []
  },
  {
   "cell_type": "markdown",
   "metadata": {},
   "source": [
    "3. dictionary"
   ]
  },
  {
   "cell_type": "code",
   "execution_count": null,
   "metadata": {},
   "outputs": [],
   "source": [
    "# dicationary\n",
    "a = {'name': 'Tom', 'math': 80, 'english': 70}\n",
    "\n",
    "# key 활용\n",
    "for i in a:\n",
    "    print(i) \n",
    "\n",
    "# value 활용\n",
    "for i in a:\n",
    "    print(i, end=' : ')\n",
    "    print(a[i]) # key 값으로 인덱싱한 value 를 출력함\n"
   ]
  },
  {
   "cell_type": "code",
   "execution_count": 24,
   "metadata": {},
   "outputs": [
    {
     "name": "stdout",
     "output_type": "stream",
     "text": [
      "name\n",
      "math\n",
      "english\n"
     ]
    }
   ],
   "source": [
    "a = dict(name='Tom', math=80, english=70)\n",
    "for i in a:\n",
    "    print(i)"
   ]
  },
  {
   "cell_type": "code",
   "execution_count": null,
   "metadata": {},
   "outputs": [
    {
     "name": "stdout",
     "output_type": "stream",
     "text": [
      "name : Tom\n",
      "math : 80\n",
      "english : 70\n"
     ]
    }
   ],
   "source": [
    "a = dict(name='Tom', math=80, english=70)\n",
    "for i in a:\n",
    "    print(i, end=' : ')\n",
    "    print(a[i]) # end='\\n' 가 적용됨"
   ]
  },
  {
   "cell_type": "markdown",
   "metadata": {},
   "source": [
    "## 2.2 for문 응용 "
   ]
  },
  {
   "cell_type": "markdown",
   "metadata": {},
   "source": [
    "### 2.2.1 입력한 횟수만큼 반복하기 "
   ]
  },
  {
   "cell_type": "code",
   "execution_count": null,
   "metadata": {},
   "outputs": [
    {
     "name": "stdout",
     "output_type": "stream",
     "text": [
      "0\n",
      "1\n",
      "2\n"
     ]
    }
   ],
   "source": [
    "count = int(input('횟수: '))\n",
    "\n",
    "for i in range(count): # = range(0,count,1)\n",
    "    print(i)"
   ]
  },
  {
   "cell_type": "code",
   "execution_count": 31,
   "metadata": {},
   "outputs": [
    {
     "name": "stdout",
     "output_type": "stream",
     "text": [
      "1번째 hello, world!\n",
      "2번째 hello, world!\n",
      "3번째 hello, world!\n"
     ]
    }
   ],
   "source": [
    "for i in range(1, count+1): # range(시작, 끝, 증감) - 1 부터 count 까지 하나씩 증가하는 값이 i 가 됨\n",
    "    print(f'{i}번째 hello, world!')"
   ]
  },
  {
   "cell_type": "code",
   "execution_count": null,
   "metadata": {},
   "outputs": [
    {
     "name": "stdout",
     "output_type": "stream",
     "text": [
      "1번째 hello, world!\n",
      "2번째 hello, world!\n",
      "3번째 hello, world!\n"
     ]
    }
   ],
   "source": [
    "for i in range(count): # 0, 1, 2\n",
    "    print(f'{i + 1}번째 hello, world!')"
   ]
  },
  {
   "cell_type": "markdown",
   "metadata": {},
   "source": [
    "### 2.2.2 enumerate 사용하여 Index 접근"
   ]
  },
  {
   "cell_type": "code",
   "execution_count": 27,
   "metadata": {},
   "outputs": [
    {
     "name": "stdout",
     "output_type": "stream",
     "text": [
      "0 : 1\n",
      "1 : 2\n",
      "2 : 3\n"
     ]
    }
   ],
   "source": [
    "a = [1,2,3]\n",
    "\n",
    "for idx, value in enumerate(a):\n",
    "    print(idx, value, sep=' : ')"
   ]
  },
  {
   "cell_type": "code",
   "execution_count": 34,
   "metadata": {},
   "outputs": [
    {
     "data": {
      "text/plain": [
       "<enumerate at 0x107aa0c00>"
      ]
     },
     "execution_count": 34,
     "metadata": {},
     "output_type": "execute_result"
    }
   ],
   "source": [
    "a = [1,2,3]\n",
    "\n",
    "enumerate(a) # 메모리상에만 존재하고 반환하는 값은 없음 "
   ]
  },
  {
   "cell_type": "code",
   "execution_count": null,
   "metadata": {},
   "outputs": [
    {
     "data": {
      "text/plain": [
       "[(0, 1), (1, 2), (2, 3)]"
      ]
     },
     "execution_count": 35,
     "metadata": {},
     "output_type": "execute_result"
    }
   ],
   "source": [
    "list(enumerate(a)) # 리스트 안에 튜플처럼 -> [(0, 1), (1, 2), (2, 3)] -> [(인덱스, 값), (인덱스, 값), (인덱스, 값))]"
   ]
  },
  {
   "cell_type": "code",
   "execution_count": null,
   "metadata": {},
   "outputs": [
    {
     "name": "stdout",
     "output_type": "stream",
     "text": [
      "0: 1\n",
      "1\n",
      "1: 2\n",
      "2\n",
      "2: 3\n",
      "3\n"
     ]
    }
   ],
   "source": [
    "for idx, val in enumerate(a): # 리스트의 튜플요소가 언팩킹되어 각각 담기는 것, 동시할당 \n",
    "    print(idx, val, sep=': ')\n",
    "    print(a[idx])"
   ]
  },
  {
   "cell_type": "code",
   "execution_count": null,
   "metadata": {},
   "outputs": [],
   "source": []
  },
  {
   "cell_type": "markdown",
   "metadata": {},
   "source": [
    "## 2.3 for문 중첩 "
   ]
  },
  {
   "cell_type": "code",
   "execution_count": null,
   "metadata": {},
   "outputs": [],
   "source": []
  },
  {
   "cell_type": "code",
   "execution_count": null,
   "metadata": {},
   "outputs": [],
   "source": []
  },
  {
   "cell_type": "markdown",
   "metadata": {},
   "source": [
    "## for문 실습 01\n",
    "[문제] Hello World를 100번 출력해주세요. \\\n",
    "- 1부터 100까지의 숫자를 함께 출력해주세요.\n",
    "- 아래의 실행 결과를 참고하세요.\n",
    "\n",
    "[실행 결과] \\\n",
    "Hello World 1 \\\n",
    "Hello World 2 \\\n",
    "Hello World 3 \\\n",
    "… \\\n",
    "Hello World 100"
   ]
  },
  {
   "cell_type": "code",
   "execution_count": null,
   "metadata": {},
   "outputs": [],
   "source": []
  },
  {
   "cell_type": "markdown",
   "metadata": {},
   "source": [
    "## for문 실습 02\n",
    "\n",
    "[문제] 사용자로부터 자연수를 입력 받고 입력 받은 횟수만큼 ‘Hello World’를 출력해보세요. \\\n",
    "\n",
    "[실행 결과] \\\n",
    "인사 몇 번 해드릴까요? 3 \\\n",
    "Hello World 1 \\\n",
    "Hello World 2 \\\n",
    "Hello World 3"
   ]
  },
  {
   "cell_type": "code",
   "execution_count": null,
   "metadata": {},
   "outputs": [],
   "source": []
  },
  {
   "cell_type": "markdown",
   "metadata": {},
   "source": [
    "## for문 실습 03\n",
    "\n",
    "[문제] 아래의 실행 결과처럼 나오도록 for문과 range()를 활용해서 구현해봅시다. \\\n",
    "- 숫자와 숫자 사이에 \\t를 사용 \\\n",
    "\n",
    "[실행 결과] \\\n",
    "자연수 하나 입력해주세요: 6 \\\n",
    "6 6 6 6 6 6 \\\n",
    "5 5 5 5 5 \\\n",
    "4 4 4 4 \\\n",
    "3 3 3 \\\n",
    "2 2 \\\n",
    "1 "
   ]
  },
  {
   "cell_type": "code",
   "execution_count": null,
   "metadata": {},
   "outputs": [],
   "source": []
  },
  {
   "cell_type": "markdown",
   "metadata": {},
   "source": [
    "## for문 실습 04\n",
    "\n",
    "[문제] ppt의 문제 결과처럼 나오도록 for문과 if문, range()를 활용해서 구현해봅시다.\n",
    "- 첫 줄의 *의 개수는 10개 입니다.\n",
    "\n",
    "[실행 결과] \\\n",
    "ppt를 참고해주세요."
   ]
  },
  {
   "cell_type": "code",
   "execution_count": null,
   "metadata": {},
   "outputs": [],
   "source": []
  },
  {
   "cell_type": "markdown",
   "metadata": {},
   "source": [
    "## for문 실습 05\n",
    "\n",
    "[문제] 1부터 사용자로부터 입렵 받은 자연수까지의 홀수의 합을 구합니다.\n",
    "- 1부터 입력받은 수까지 홀수 전체를 각각 더하는 산식을 표현하고 \n",
    "- 그 계산식의 결과를 아래 실행 결과와 같이 출력되도록 구해보세요\n",
    "\n",
    "[실행 결과] \\\n",
    "1부터 입력한 자연수까지의 모든 홀수의 합을 구합니다: 100 \\\n",
    "1 + 3 + 5 + 7 + 9 + … + 99 = 2500"
   ]
  },
  {
   "cell_type": "code",
   "execution_count": null,
   "metadata": {},
   "outputs": [],
   "source": []
  },
  {
   "cell_type": "code",
   "execution_count": null,
   "metadata": {},
   "outputs": [],
   "source": []
  },
  {
   "cell_type": "markdown",
   "metadata": {},
   "source": [
    "## for문 실습 06\n",
    "\n",
    "[문제] 계승(Factorial)을 계산해보려 합니다. \n",
    "- 사용자로부터 정수 하나를 입력 받습니다.\n",
    "- 입력 받은 숫자까지의 계승을 for문을 활용하여 구한 뒤 출력해주세요.\n",
    "- 계승이란 1부터 n까지의 자연수를 모두 곱하는 것을 의미합니다. \n",
    "- n! = 1 x 2 x 3 x … x (n-1) x n\n",
    "\n",
    "\n",
    "[실행 결과] \\\n",
    "계승을 구할 숫자를 입력하세요: 4 \\\n",
    "24 \n",
    "\n",
    "계승을 구할 숫자를 입력하세요: 7 \\\n",
    "5040 \n",
    "\n"
   ]
  },
  {
   "cell_type": "code",
   "execution_count": null,
   "metadata": {},
   "outputs": [],
   "source": []
  },
  {
   "cell_type": "markdown",
   "metadata": {},
   "source": [
    "# 3. while문 "
   ]
  },
  {
   "cell_type": "markdown",
   "metadata": {},
   "source": [
    "## 3.1 while문 작성해보기"
   ]
  },
  {
   "cell_type": "code",
   "execution_count": null,
   "metadata": {},
   "outputs": [],
   "source": []
  },
  {
   "cell_type": "markdown",
   "metadata": {},
   "source": [
    "- 입렵한 횟수대로 반복하는 예제\n",
    "- 다만, 숫자를 감소시켜 제어"
   ]
  },
  {
   "cell_type": "code",
   "execution_count": null,
   "metadata": {},
   "outputs": [],
   "source": []
  },
  {
   "cell_type": "markdown",
   "metadata": {},
   "source": [
    "## while문 실습 01\n",
    "\n",
    "[문제] while문을 사용하여 1이상 100이하의 짝수를 ‘\\t’를 구분자로 하여 출력해보세요.\n",
    "\n",
    "[실행 결과] \\\n",
    "2  4  6  8  10  12  14  16  18  20  … 98  100"
   ]
  },
  {
   "cell_type": "code",
   "execution_count": null,
   "metadata": {},
   "outputs": [],
   "source": []
  },
  {
   "cell_type": "markdown",
   "metadata": {},
   "source": [
    "## while문 실습 02\n",
    "\n",
    "[문제] 자연수를 입력받아 구구단을 출력하는 프로그램을 구현해보세요.\n",
    "- 아래의 실행 결과 참고하세요.\n",
    "\n",
    "[실행 결과] \\\n",
    "구구단을 알려드립니다. 숫자를 입력하세요: 9 \\\n",
    "9 * 1 = 9 \\\n",
    "9 * 2 = 18 \\\n",
    "9 * 3 = 27 \\\n",
    "… \\\n",
    "9 * 8 = 72 \\\n",
    "9 * 9 = 81"
   ]
  },
  {
   "cell_type": "code",
   "execution_count": null,
   "metadata": {},
   "outputs": [],
   "source": []
  },
  {
   "cell_type": "markdown",
   "metadata": {},
   "source": [
    "## while문 실습 03\n",
    "\n",
    "[문제] 학생의 수와 학생들의 성적을 입력 받아 성적 평균을 구하는 프로그램을 구현해보세요.\n",
    "\n",
    "[실행 결과]\n",
    "학생 수: 3 \\\n",
    "1번 학생의 점수: 77 \\\n",
    "2번 학생의 점수: 88 \\\n",
    "3번 학생의 점수: 99 \\\n",
    "평균: 88.0점"
   ]
  },
  {
   "cell_type": "code",
   "execution_count": null,
   "metadata": {},
   "outputs": [],
   "source": []
  },
  {
   "cell_type": "markdown",
   "metadata": {},
   "source": [
    "## while문 실습 04\n",
    "\n",
    "[문제] 학급의 수학 평균 점수를 구하는 프로그램을 구현해보세요. \n",
    "- A학급의 수학점수가 다음과 같을 때 while문 조건식에 len()함수를 사용하여 평균 점수를 구해보세요\n",
    "- class_a = (70, 60, 55, 75, 95, 90, 80, 80, 85, 100)\n",
    "\n",
    "[실행 결과] \\\n",
    "79.0"
   ]
  },
  {
   "cell_type": "code",
   "execution_count": null,
   "metadata": {},
   "outputs": [],
   "source": []
  },
  {
   "cell_type": "markdown",
   "metadata": {},
   "source": [
    "## while문, for문 비교"
   ]
  },
  {
   "cell_type": "code",
   "execution_count": null,
   "metadata": {},
   "outputs": [],
   "source": []
  },
  {
   "cell_type": "code",
   "execution_count": null,
   "metadata": {},
   "outputs": [],
   "source": []
  },
  {
   "cell_type": "markdown",
   "metadata": {},
   "source": [
    "## 3.2 break"
   ]
  },
  {
   "cell_type": "code",
   "execution_count": null,
   "metadata": {},
   "outputs": [],
   "source": []
  },
  {
   "cell_type": "markdown",
   "metadata": {},
   "source": [
    "## while문 실습 05\n",
    "\n",
    "[문제] 0부터 100까지 자연수의 총합을 구하는 프로그램을 구현해 보세요\n",
    "- while문과 break를 활용해서 작성해보세요\n",
    "\n",
    "[실행 결과] \\\n",
    "5050"
   ]
  },
  {
   "cell_type": "code",
   "execution_count": null,
   "metadata": {},
   "outputs": [],
   "source": []
  },
  {
   "cell_type": "markdown",
   "metadata": {},
   "source": [
    "## 3.3 continue"
   ]
  },
  {
   "cell_type": "markdown",
   "metadata": {},
   "source": [
    "1. for문에서의 continue"
   ]
  },
  {
   "cell_type": "code",
   "execution_count": null,
   "metadata": {},
   "outputs": [],
   "source": []
  },
  {
   "cell_type": "markdown",
   "metadata": {},
   "source": [
    "2. while문에서의 continue"
   ]
  },
  {
   "cell_type": "code",
   "execution_count": null,
   "metadata": {},
   "outputs": [],
   "source": []
  },
  {
   "cell_type": "markdown",
   "metadata": {},
   "source": [
    "## while문 실습 06\n",
    "\n",
    "[문제] 두 자연수 n, m을 입력받고 n부터 m까지의 합을 구하는 프로그램을 작성하세요. \n",
    "- for, while 모두 작성해보기\n",
    "\n",
    "[실습 결과] \\\n",
    "시작하는 정수 입력: 1 \\\n",
    "끝나는 정수 입력: 10 \\\n",
    "1부터 10까지의 합은 55입니다.\n"
   ]
  },
  {
   "cell_type": "code",
   "execution_count": null,
   "metadata": {},
   "outputs": [],
   "source": []
  },
  {
   "cell_type": "code",
   "execution_count": null,
   "metadata": {},
   "outputs": [],
   "source": []
  }
 ],
 "metadata": {
  "kernelspec": {
   "display_name": "sesac",
   "language": "python",
   "name": "python3"
  },
  "language_info": {
   "codemirror_mode": {
    "name": "ipython",
    "version": 3
   },
   "file_extension": ".py",
   "mimetype": "text/x-python",
   "name": "python",
   "nbconvert_exporter": "python",
   "pygments_lexer": "ipython3",
   "version": "3.10.15"
  }
 },
 "nbformat": 4,
 "nbformat_minor": 2
}
