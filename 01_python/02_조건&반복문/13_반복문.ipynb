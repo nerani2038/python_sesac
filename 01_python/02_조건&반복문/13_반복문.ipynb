{
 "cells": [
  {
   "cell_type": "markdown",
   "metadata": {},
   "source": [
    "# 반복문"
   ]
  },
  {
   "cell_type": "markdown",
   "metadata": {},
   "source": [
    "# 1. range() 함수"
   ]
  },
  {
   "cell_type": "markdown",
   "metadata": {},
   "source": [
    "## 1.1 range() 함수로 list 생성하기 "
   ]
  },
  {
   "cell_type": "code",
   "execution_count": null,
   "metadata": {},
   "outputs": [],
   "source": []
  },
  {
   "cell_type": "code",
   "execution_count": null,
   "metadata": {},
   "outputs": [],
   "source": []
  },
  {
   "cell_type": "markdown",
   "metadata": {},
   "source": [
    "## 1.2 range()함수 실습 01"
   ]
  },
  {
   "cell_type": "code",
   "execution_count": null,
   "metadata": {},
   "outputs": [],
   "source": []
  },
  {
   "cell_type": "markdown",
   "metadata": {},
   "source": [
    "# 2. for문"
   ]
  },
  {
   "cell_type": "markdown",
   "metadata": {},
   "source": [
    "## 2.1 for문과 다양한 자료형들"
   ]
  },
  {
   "cell_type": "markdown",
   "metadata": {},
   "source": [
    "1. list"
   ]
  },
  {
   "cell_type": "code",
   "execution_count": null,
   "metadata": {},
   "outputs": [],
   "source": []
  },
  {
   "cell_type": "code",
   "execution_count": null,
   "metadata": {},
   "outputs": [],
   "source": []
  },
  {
   "cell_type": "markdown",
   "metadata": {},
   "source": [
    "2. str "
   ]
  },
  {
   "cell_type": "code",
   "execution_count": null,
   "metadata": {},
   "outputs": [],
   "source": []
  },
  {
   "cell_type": "code",
   "execution_count": null,
   "metadata": {},
   "outputs": [],
   "source": []
  },
  {
   "cell_type": "markdown",
   "metadata": {},
   "source": [
    "3. dictionary"
   ]
  },
  {
   "cell_type": "code",
   "execution_count": null,
   "metadata": {},
   "outputs": [],
   "source": []
  },
  {
   "cell_type": "code",
   "execution_count": null,
   "metadata": {},
   "outputs": [],
   "source": []
  },
  {
   "cell_type": "markdown",
   "metadata": {},
   "source": [
    "## 2.2 for문 응용 "
   ]
  },
  {
   "cell_type": "markdown",
   "metadata": {},
   "source": [
    "### 2.2.1 입력한 횟수만큼 반복하기 "
   ]
  },
  {
   "cell_type": "code",
   "execution_count": null,
   "metadata": {},
   "outputs": [],
   "source": []
  },
  {
   "cell_type": "markdown",
   "metadata": {},
   "source": [
    "### 2.2.2 enumerate 사용하여 Index 접근"
   ]
  },
  {
   "cell_type": "code",
   "execution_count": null,
   "metadata": {},
   "outputs": [],
   "source": []
  },
  {
   "cell_type": "code",
   "execution_count": null,
   "metadata": {},
   "outputs": [],
   "source": []
  },
  {
   "cell_type": "markdown",
   "metadata": {},
   "source": [
    "## 2.3 for문 중첩 "
   ]
  },
  {
   "cell_type": "code",
   "execution_count": null,
   "metadata": {},
   "outputs": [],
   "source": []
  },
  {
   "cell_type": "code",
   "execution_count": null,
   "metadata": {},
   "outputs": [],
   "source": []
  },
  {
   "cell_type": "markdown",
   "metadata": {},
   "source": [
    "## for문 실습 01\n",
    "[문제] Hello World를 100번 출력해주세요. \\\n",
    "- 1부터 100까지의 숫자를 함께 출력해주세요.\n",
    "- 아래의 실행 결과를 참고하세요.\n",
    "\n",
    "[실행 결과] \\\n",
    "Hello World 1 \\\n",
    "Hello World 2 \\\n",
    "Hello World 3 \\\n",
    "… \\\n",
    "Hello World 100"
   ]
  },
  {
   "cell_type": "code",
   "execution_count": null,
   "metadata": {},
   "outputs": [],
   "source": []
  },
  {
   "cell_type": "markdown",
   "metadata": {},
   "source": [
    "## for문 실습 02\n",
    "\n",
    "[문제] 사용자로부터 자연수를 입력 받고 입력 받은 횟수만큼 ‘Hello World’를 출력해보세요. \\\n",
    "\n",
    "[실행 결과] \\\n",
    "인사 몇 번 해드릴까요? 3 \\\n",
    "Hello World 1 \\\n",
    "Hello World 2 \\\n",
    "Hello World 3"
   ]
  },
  {
   "cell_type": "code",
   "execution_count": null,
   "metadata": {},
   "outputs": [],
   "source": []
  },
  {
   "cell_type": "markdown",
   "metadata": {},
   "source": [
    "## for문 실습 03\n",
    "\n",
    "[문제] 아래의 실행 결과처럼 나오도록 for문과 range()를 활용해서 구현해봅시다. \\\n",
    "- 숫자와 숫자 사이에 \\t를 사용 \\\n",
    "\n",
    "[실행 결과] \\\n",
    "자연수 하나 입력해주세요: 6 \\\n",
    "6 6 6 6 6 6 \\\n",
    "5 5 5 5 5 \\\n",
    "4 4 4 4 \\\n",
    "3 3 3 \\\n",
    "2 2 \\\n",
    "1 "
   ]
  },
  {
   "cell_type": "code",
   "execution_count": null,
   "metadata": {},
   "outputs": [],
   "source": []
  },
  {
   "cell_type": "markdown",
   "metadata": {},
   "source": [
    "## for문 실습 04\n",
    "\n",
    "[문제] ppt의 문제 결과처럼 나오도록 for문과 if문, range()를 활용해서 구현해봅시다.\n",
    "- 첫 줄의 *의 개수는 10개 입니다.\n",
    "\n",
    "[실행 결과] \\\n",
    "ppt를 참고해주세요."
   ]
  },
  {
   "cell_type": "code",
   "execution_count": null,
   "metadata": {},
   "outputs": [],
   "source": []
  },
  {
   "cell_type": "markdown",
   "metadata": {},
   "source": [
    "## for문 실습 05\n",
    "\n",
    "[문제] 1부터 사용자로부터 입렵 받은 자연수까지의 홀수의 합을 구합니다.\n",
    "- 1부터 입력받은 수까지 홀수 전체를 각각 더하는 산식을 표현하고 \n",
    "- 그 계산식의 결과를 아래 실행 결과와 같이 출력되도록 구해보세요\n",
    "\n",
    "[실행 결과] \\\n",
    "1부터 입력한 자연수까지의 모든 홀수의 합을 구합니다: 100 \\\n",
    "1 + 3 + 5 + 7 + 9 + … + 99 = 2500"
   ]
  },
  {
   "cell_type": "code",
   "execution_count": null,
   "metadata": {},
   "outputs": [],
   "source": []
  },
  {
   "cell_type": "code",
   "execution_count": null,
   "metadata": {},
   "outputs": [],
   "source": []
  },
  {
   "cell_type": "markdown",
   "metadata": {},
   "source": [
    "## for문 실습 06\n",
    "\n",
    "[문제] 계승(Factorial)을 계산해보려 합니다. \n",
    "- 사용자로부터 정수 하나를 입력 받습니다.\n",
    "- 입력 받은 숫자까지의 계승을 for문을 활용하여 구한 뒤 출력해주세요.\n",
    "- 계승이란 1부터 n까지의 자연수를 모두 곱하는 것을 의미합니다. \n",
    "- n! = 1 x 2 x 3 x … x (n-1) x n\n",
    "\n",
    "\n",
    "[실행 결과] \\\n",
    "계승을 구할 숫자를 입력하세요: 4 \\\n",
    "24 \n",
    "\n",
    "계승을 구할 숫자를 입력하세요: 7 \\\n",
    "5040 \n",
    "\n"
   ]
  },
  {
   "cell_type": "code",
   "execution_count": null,
   "metadata": {},
   "outputs": [],
   "source": []
  },
  {
   "cell_type": "markdown",
   "metadata": {},
   "source": [
    "# 3. while문 "
   ]
  },
  {
   "cell_type": "markdown",
   "metadata": {},
   "source": [
    "## 3.1 while문 작성해보기"
   ]
  },
  {
   "cell_type": "code",
   "execution_count": null,
   "metadata": {},
   "outputs": [],
   "source": []
  },
  {
   "cell_type": "markdown",
   "metadata": {},
   "source": [
    "- 입렵한 횟수대로 반복하는 예제\n",
    "- 다만, 숫자를 감소시켜 제어"
   ]
  },
  {
   "cell_type": "code",
   "execution_count": null,
   "metadata": {},
   "outputs": [],
   "source": []
  },
  {
   "cell_type": "markdown",
   "metadata": {},
   "source": [
    "## while문 실습 01\n",
    "\n",
    "[문제] while문을 사용하여 1이상 100이하의 짝수를 ‘\\t’를 구분자로 하여 출력해보세요.\n",
    "\n",
    "[실행 결과] \\\n",
    "2  4  6  8  10  12  14  16  18  20  … 98  100"
   ]
  },
  {
   "cell_type": "code",
   "execution_count": null,
   "metadata": {},
   "outputs": [],
   "source": []
  },
  {
   "cell_type": "markdown",
   "metadata": {},
   "source": [
    "## while문 실습 02\n",
    "\n",
    "[문제] 자연수를 입력받아 구구단을 출력하는 프로그램을 구현해보세요.\n",
    "- 아래의 실행 결과 참고하세요.\n",
    "\n",
    "[실행 결과] \\\n",
    "구구단을 알려드립니다. 숫자를 입력하세요: 9 \\\n",
    "9 * 1 = 9 \\\n",
    "9 * 2 = 18 \\\n",
    "9 * 3 = 27 \\\n",
    "… \\\n",
    "9 * 8 = 72 \\\n",
    "9 * 9 = 81"
   ]
  },
  {
   "cell_type": "code",
   "execution_count": null,
   "metadata": {},
   "outputs": [],
   "source": []
  },
  {
   "cell_type": "markdown",
   "metadata": {},
   "source": [
    "## while문 실습 03\n",
    "\n",
    "[문제] 학생의 수와 학생들의 성적을 입력 받아 성적 평균을 구하는 프로그램을 구현해보세요.\n",
    "\n",
    "[실행 결과]\n",
    "학생 수: 3 \\\n",
    "1번 학생의 점수: 77 \\\n",
    "2번 학생의 점수: 88 \\\n",
    "3번 학생의 점수: 99 \\\n",
    "평균: 88.0점"
   ]
  },
  {
   "cell_type": "code",
   "execution_count": null,
   "metadata": {},
   "outputs": [],
   "source": []
  },
  {
   "cell_type": "markdown",
   "metadata": {},
   "source": [
    "## while문 실습 04\n",
    "\n",
    "[문제] 학급의 수학 평균 점수를 구하는 프로그램을 구현해보세요. \n",
    "- A학급의 수학점수가 다음과 같을 때 while문 조건식에 len()함수를 사용하여 평균 점수를 구해보세요\n",
    "- class_a = (70, 60, 55, 75, 95, 90, 80, 80, 85, 100)\n",
    "\n",
    "[실행 결과] \\\n",
    "79.0"
   ]
  },
  {
   "cell_type": "code",
   "execution_count": null,
   "metadata": {},
   "outputs": [],
   "source": []
  },
  {
   "cell_type": "markdown",
   "metadata": {},
   "source": [
    "## while문, for문 비교"
   ]
  },
  {
   "cell_type": "code",
   "execution_count": null,
   "metadata": {},
   "outputs": [],
   "source": []
  },
  {
   "cell_type": "code",
   "execution_count": null,
   "metadata": {},
   "outputs": [],
   "source": []
  },
  {
   "cell_type": "markdown",
   "metadata": {},
   "source": [
    "## 3.2 break"
   ]
  },
  {
   "cell_type": "code",
   "execution_count": null,
   "metadata": {},
   "outputs": [],
   "source": []
  },
  {
   "cell_type": "markdown",
   "metadata": {},
   "source": [
    "## while문 실습 05\n",
    "\n",
    "[문제] 0부터 100까지 자연수의 총합을 구하는 프로그램을 구현해 보세요\n",
    "- while문과 break를 활용해서 작성해보세요\n",
    "\n",
    "[실행 결과] \\\n",
    "5050"
   ]
  },
  {
   "cell_type": "code",
   "execution_count": null,
   "metadata": {},
   "outputs": [],
   "source": []
  },
  {
   "cell_type": "markdown",
   "metadata": {},
   "source": [
    "## 3.3 continue"
   ]
  },
  {
   "cell_type": "markdown",
   "metadata": {},
   "source": [
    "1. for문에서의 continue"
   ]
  },
  {
   "cell_type": "code",
   "execution_count": null,
   "metadata": {},
   "outputs": [],
   "source": []
  },
  {
   "cell_type": "markdown",
   "metadata": {},
   "source": [
    "2. while문에서의 continue"
   ]
  },
  {
   "cell_type": "code",
   "execution_count": null,
   "metadata": {},
   "outputs": [],
   "source": []
  },
  {
   "cell_type": "markdown",
   "metadata": {},
   "source": [
    "## while문 실습 06\n",
    "\n",
    "[문제] 두 자연수 n, m을 입력받고 n부터 m까지의 합을 구하는 프로그램을 작성하세요. \n",
    "- for, while 모두 작성해보기\n",
    "\n",
    "[실습 결과] \\\n",
    "시작하는 정수 입력: 1 \\\n",
    "끝나는 정수 입력: 10 \\\n",
    "1부터 10까지의 합은 55입니다.\n"
   ]
  },
  {
   "cell_type": "code",
   "execution_count": null,
   "metadata": {},
   "outputs": [],
   "source": []
  },
  {
   "cell_type": "code",
   "execution_count": null,
   "metadata": {},
   "outputs": [],
   "source": []
  }
 ],
 "metadata": {
  "kernelspec": {
   "display_name": "myVenv",
   "language": "python",
   "name": "python3"
  },
  "language_info": {
   "codemirror_mode": {
    "name": "ipython",
    "version": 3
   },
   "file_extension": ".py",
   "mimetype": "text/x-python",
   "name": "python",
   "nbconvert_exporter": "python",
   "pygments_lexer": "ipython3",
   "version": "3.10.14"
  }
 },
 "nbformat": 4,
 "nbformat_minor": 2
}
