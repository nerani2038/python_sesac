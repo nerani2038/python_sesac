{
 "cells": [
  {
   "cell_type": "markdown",
   "metadata": {},
   "source": [
    "# 반복문"
   ]
  },
  {
   "cell_type": "markdown",
   "metadata": {},
   "source": [
    "# 1. range() 함수"
   ]
  },
  {
   "cell_type": "markdown",
   "metadata": {},
   "source": [
    "## 1.1 range() 함수로 list 생성하기 "
   ]
  },
  {
   "cell_type": "code",
   "execution_count": 2,
   "metadata": {},
   "outputs": [
    {
     "name": "stdout",
     "output_type": "stream",
     "text": [
      "<class 'range'>\n"
     ]
    }
   ],
   "source": [
    "range(2, 100, 2) # range 객체만 반환함 메모리공간을 차지하고 있지 않는상태\n",
    "print(type(range(2, 100, 2)))"
   ]
  },
  {
   "cell_type": "code",
   "execution_count": null,
   "metadata": {},
   "outputs": [],
   "source": [
    "[1 ~ 100] "
   ]
  },
  {
   "cell_type": "code",
   "execution_count": null,
   "metadata": {},
   "outputs": [
    {
     "data": {
      "text/plain": [
       "[2,\n",
       " 4,\n",
       " 6,\n",
       " 8,\n",
       " 10,\n",
       " 12,\n",
       " 14,\n",
       " 16,\n",
       " 18,\n",
       " 20,\n",
       " 22,\n",
       " 24,\n",
       " 26,\n",
       " 28,\n",
       " 30,\n",
       " 32,\n",
       " 34,\n",
       " 36,\n",
       " 38,\n",
       " 40,\n",
       " 42,\n",
       " 44,\n",
       " 46,\n",
       " 48,\n",
       " 50,\n",
       " 52,\n",
       " 54,\n",
       " 56,\n",
       " 58,\n",
       " 60,\n",
       " 62,\n",
       " 64,\n",
       " 66,\n",
       " 68,\n",
       " 70,\n",
       " 72,\n",
       " 74,\n",
       " 76,\n",
       " 78,\n",
       " 80,\n",
       " 82,\n",
       " 84,\n",
       " 86,\n",
       " 88,\n",
       " 90,\n",
       " 92,\n",
       " 94,\n",
       " 96,\n",
       " 98]"
      ]
     },
     "execution_count": 3,
     "metadata": {},
     "output_type": "execute_result"
    }
   ],
   "source": [
    "list(range(2, 100, 2)) # list 로 감싸야만 메모리에 담기고 반환"
   ]
  },
  {
   "cell_type": "markdown",
   "metadata": {},
   "source": [
    "## 1.2 range()함수 실습 01"
   ]
  },
  {
   "cell_type": "code",
   "execution_count": 5,
   "metadata": {},
   "outputs": [
    {
     "data": {
      "text/plain": [
       "[5, 6, 7, 8, 9]"
      ]
     },
     "execution_count": 5,
     "metadata": {},
     "output_type": "execute_result"
    }
   ],
   "source": [
    "list(range(5, 10))"
   ]
  },
  {
   "cell_type": "code",
   "execution_count": 10,
   "metadata": {},
   "outputs": [
    {
     "name": "stdout",
     "output_type": "stream",
     "text": [
      "[5, 6, 7, 8, 9]\n"
     ]
    }
   ],
   "source": [
    "# 쌤\n",
    "print(list(range(5, 10)))"
   ]
  },
  {
   "cell_type": "code",
   "execution_count": 11,
   "metadata": {},
   "outputs": [
    {
     "data": {
      "text/plain": [
       "[0, 3, 6, 9]"
      ]
     },
     "execution_count": 11,
     "metadata": {},
     "output_type": "execute_result"
    }
   ],
   "source": [
    "list(range(0,10,3))"
   ]
  },
  {
   "cell_type": "code",
   "execution_count": 12,
   "metadata": {},
   "outputs": [
    {
     "name": "stdout",
     "output_type": "stream",
     "text": [
      "[0, 3, 6, 9]\n"
     ]
    }
   ],
   "source": [
    "# 쌤\n",
    "print(list(range(0, 10, 3)))"
   ]
  },
  {
   "cell_type": "code",
   "execution_count": 9,
   "metadata": {},
   "outputs": [
    {
     "data": {
      "text/plain": [
       "[-10, -40, -70]"
      ]
     },
     "execution_count": 9,
     "metadata": {},
     "output_type": "execute_result"
    }
   ],
   "source": [
    "list(range(-10, -100, -30))"
   ]
  },
  {
   "cell_type": "code",
   "execution_count": 13,
   "metadata": {},
   "outputs": [
    {
     "name": "stdout",
     "output_type": "stream",
     "text": [
      "[-10, -40, -70]\n"
     ]
    }
   ],
   "source": [
    "# 쌤\n",
    "print(list(range(-10, -100, -30)))"
   ]
  },
  {
   "cell_type": "markdown",
   "metadata": {},
   "source": [
    "# 2. for문"
   ]
  },
  {
   "cell_type": "markdown",
   "metadata": {},
   "source": [
    "## 2.1 for문과 다양한 자료형들"
   ]
  },
  {
   "cell_type": "code",
   "execution_count": 15,
   "metadata": {},
   "outputs": [
    {
     "name": "stdout",
     "output_type": "stream",
     "text": [
      "Hello World!\n",
      "Hello World!\n",
      "Hello World!\n",
      "Hello World!\n",
      "Hello World!\n",
      "Hello World!\n",
      "Hello World!\n",
      "Hello World!\n",
      "Hello World!\n",
      "Hello World!\n"
     ]
    }
   ],
   "source": [
    "for i in range(10):\n",
    "    print('Hello World!')"
   ]
  },
  {
   "cell_type": "markdown",
   "metadata": {},
   "source": [
    "1. list"
   ]
  },
  {
   "cell_type": "code",
   "execution_count": 20,
   "metadata": {},
   "outputs": [
    {
     "name": "stdout",
     "output_type": "stream",
     "text": [
      "1234567"
     ]
    }
   ],
   "source": [
    "# list\n",
    "a = [1,2,3,4,5,6,7]\n",
    "for i in a:\n",
    "    print(i, end='')"
   ]
  },
  {
   "cell_type": "code",
   "execution_count": 22,
   "metadata": {},
   "outputs": [
    {
     "name": "stdout",
     "output_type": "stream",
     "text": [
      "100,-420,250,1030,210,770,240,"
     ]
    }
   ],
   "source": [
    "x = [10, -42, 25, 103, 21, 77, 24]\n",
    "\n",
    "for i in x:\n",
    "    print(i * 10, end=',')"
   ]
  },
  {
   "cell_type": "markdown",
   "metadata": {},
   "source": [
    "2. str "
   ]
  },
  {
   "cell_type": "code",
   "execution_count": null,
   "metadata": {},
   "outputs": [],
   "source": [
    "# 문자열\n",
    "a = 'Orange'\n",
    "for i in a:\n",
    "    print(i, end='') # end 출력후 끝맺음 처리에 대한 옵션 기본값=end='\\n'"
   ]
  },
  {
   "cell_type": "code",
   "execution_count": null,
   "metadata": {},
   "outputs": [],
   "source": []
  },
  {
   "cell_type": "markdown",
   "metadata": {},
   "source": [
    "3. dictionary"
   ]
  },
  {
   "cell_type": "code",
   "execution_count": null,
   "metadata": {},
   "outputs": [],
   "source": [
    "# dicationary\n",
    "a = {'name': 'Tom', 'math': 80, 'english': 70}\n",
    "\n",
    "# key 활용\n",
    "for i in a:\n",
    "    print(i) \n",
    "\n",
    "# value 활용\n",
    "for i in a:\n",
    "    print(i, end=' : ')\n",
    "    print(a[i]) # key 값으로 인덱싱한 value 를 출력함\n"
   ]
  },
  {
   "cell_type": "code",
   "execution_count": 24,
   "metadata": {},
   "outputs": [
    {
     "name": "stdout",
     "output_type": "stream",
     "text": [
      "name\n",
      "math\n",
      "english\n"
     ]
    }
   ],
   "source": [
    "a = dict(name='Tom', math=80, english=70)\n",
    "for i in a:\n",
    "    print(i)"
   ]
  },
  {
   "cell_type": "code",
   "execution_count": null,
   "metadata": {},
   "outputs": [
    {
     "name": "stdout",
     "output_type": "stream",
     "text": [
      "name : Tom\n",
      "math : 80\n",
      "english : 70\n"
     ]
    }
   ],
   "source": [
    "a = dict(name='Tom', math=80, english=70)\n",
    "for i in a:\n",
    "    print(i, end=' : ')\n",
    "    print(a[i]) # end='\\n' 가 적용됨"
   ]
  },
  {
   "cell_type": "markdown",
   "metadata": {},
   "source": [
    "## 2.2 for문 응용 "
   ]
  },
  {
   "cell_type": "markdown",
   "metadata": {},
   "source": [
    "### 2.2.1 입력한 횟수만큼 반복하기 "
   ]
  },
  {
   "cell_type": "code",
   "execution_count": null,
   "metadata": {},
   "outputs": [
    {
     "name": "stdout",
     "output_type": "stream",
     "text": [
      "0\n",
      "1\n",
      "2\n"
     ]
    }
   ],
   "source": [
    "count = int(input('횟수: '))\n",
    "\n",
    "for i in range(count): # = range(0,count,1)\n",
    "    print(i)"
   ]
  },
  {
   "cell_type": "code",
   "execution_count": 31,
   "metadata": {},
   "outputs": [
    {
     "name": "stdout",
     "output_type": "stream",
     "text": [
      "1번째 hello, world!\n",
      "2번째 hello, world!\n",
      "3번째 hello, world!\n"
     ]
    }
   ],
   "source": [
    "for i in range(1, count+1): # range(시작, 끝, 증감) - 1 부터 count 까지 하나씩 증가하는 값이 i 가 됨\n",
    "    print(f'{i}번째 hello, world!')"
   ]
  },
  {
   "cell_type": "code",
   "execution_count": null,
   "metadata": {},
   "outputs": [
    {
     "name": "stdout",
     "output_type": "stream",
     "text": [
      "1번째 hello, world!\n",
      "2번째 hello, world!\n",
      "3번째 hello, world!\n"
     ]
    }
   ],
   "source": [
    "for i in range(count): # 0, 1, 2\n",
    "    print(f'{i + 1}번째 hello, world!')"
   ]
  },
  {
   "cell_type": "markdown",
   "metadata": {},
   "source": [
    "### 2.2.2 enumerate 사용하여 Index 접근"
   ]
  },
  {
   "cell_type": "code",
   "execution_count": 27,
   "metadata": {},
   "outputs": [
    {
     "name": "stdout",
     "output_type": "stream",
     "text": [
      "0 : 1\n",
      "1 : 2\n",
      "2 : 3\n"
     ]
    }
   ],
   "source": [
    "a = [1,2,3]\n",
    "\n",
    "for idx, value in enumerate(a):\n",
    "    print(idx, value, sep=' : ')"
   ]
  },
  {
   "cell_type": "code",
   "execution_count": 34,
   "metadata": {},
   "outputs": [
    {
     "data": {
      "text/plain": [
       "<enumerate at 0x107aa0c00>"
      ]
     },
     "execution_count": 34,
     "metadata": {},
     "output_type": "execute_result"
    }
   ],
   "source": [
    "a = [1,2,3]\n",
    "\n",
    "enumerate(a) # 메모리상에만 존재하고 반환하는 값은 없음 "
   ]
  },
  {
   "cell_type": "code",
   "execution_count": null,
   "metadata": {},
   "outputs": [
    {
     "data": {
      "text/plain": [
       "[(0, 1), (1, 2), (2, 3)]"
      ]
     },
     "execution_count": 35,
     "metadata": {},
     "output_type": "execute_result"
    }
   ],
   "source": [
    "list(enumerate(a)) # 리스트 안에 튜플처럼 -> [(0, 1), (1, 2), (2, 3)] -> [(인덱스, 값), (인덱스, 값), (인덱스, 값))]"
   ]
  },
  {
   "cell_type": "code",
   "execution_count": null,
   "metadata": {},
   "outputs": [
    {
     "name": "stdout",
     "output_type": "stream",
     "text": [
      "0: 1\n",
      "1\n",
      "1: 2\n",
      "2\n",
      "2: 3\n",
      "3\n"
     ]
    }
   ],
   "source": [
    "for idx, val in enumerate(a): # 리스트의 튜플요소가 언팩킹되어 각각 담기는 것, 동시할당 \n",
    "    print(idx, val, sep=': ')\n",
    "    print(a[idx])"
   ]
  },
  {
   "cell_type": "code",
   "execution_count": 1,
   "metadata": {},
   "outputs": [
    {
     "name": "stdout",
     "output_type": "stream",
     "text": [
      "1.H\n",
      "2.e\n",
      "3.l\n",
      "4.l\n",
      "5.o\n",
      "6.,\n",
      "7. \n",
      "8.W\n",
      "9.o\n",
      "10.r\n",
      "11.l\n",
      "12.d\n",
      "13.!\n"
     ]
    }
   ],
   "source": [
    "a = 'Hello, World!'\n",
    "\n",
    "for idx, val in enumerate(a, start=1): # start= : 옵션 시작을 설정할수 있음\n",
    "    print(idx, val, sep='.')"
   ]
  },
  {
   "cell_type": "markdown",
   "metadata": {},
   "source": [
    "## 2.3 for문 중첩 "
   ]
  },
  {
   "cell_type": "code",
   "execution_count": 2,
   "metadata": {},
   "outputs": [
    {
     "name": "stdout",
     "output_type": "stream",
     "text": [
      "i: 1 / j: 1\n",
      "i: 1 / j: 2\n",
      "i: 2 / j: 1\n",
      "i: 2 / j: 2\n",
      "i: 3 / j: 1\n",
      "i: 3 / j: 2\n"
     ]
    }
   ],
   "source": [
    "a = [1,2,3]\n",
    "b = [1,2]\n",
    "\n",
    "for i in a:\n",
    "    for j in b:\n",
    "        print(f'i: {i} / j: {j}')"
   ]
  },
  {
   "cell_type": "code",
   "execution_count": 9,
   "metadata": {},
   "outputs": [
    {
     "name": "stdout",
     "output_type": "stream",
     "text": [
      "----------0\n",
      "i=0, j=0\n",
      "0, 0, 0\n",
      "0, 0, 1\n",
      "0, 0, 2\n",
      "0, 0, 3\n",
      "i=0, j=1\n",
      "0, 1, 0\n",
      "0, 1, 1\n",
      "0, 1, 2\n",
      "0, 1, 3\n",
      "----------1\n",
      "i=1, j=0\n",
      "1, 0, 0\n",
      "1, 0, 1\n",
      "1, 0, 2\n",
      "1, 0, 3\n",
      "i=1, j=1\n",
      "1, 1, 0\n",
      "1, 1, 1\n",
      "1, 1, 2\n",
      "1, 1, 3\n",
      "----------2\n",
      "i=2, j=0\n",
      "2, 0, 0\n",
      "2, 0, 1\n",
      "2, 0, 2\n",
      "2, 0, 3\n",
      "i=2, j=1\n",
      "2, 1, 0\n",
      "2, 1, 1\n",
      "2, 1, 2\n",
      "2, 1, 3\n"
     ]
    }
   ],
   "source": [
    "for i in range(3): # 외부루프: 0,1,2\n",
    "    print(f'----------{i}')\n",
    "    for j in range(2): # 내부루프: 0,1\n",
    "        print(f'i={i}, j={j}')\n",
    "        for k in range(4):\n",
    "            print(i, j, k, sep=', ')"
   ]
  },
  {
   "cell_type": "code",
   "execution_count": 13,
   "metadata": {},
   "outputs": [
    {
     "name": "stdout",
     "output_type": "stream",
     "text": [
      "---------0\n",
      "=========100\n",
      "=========101\n",
      "=========102\n",
      "---------1\n",
      "=========100\n",
      "=========101\n",
      "=========102\n"
     ]
    }
   ],
   "source": [
    "for i in range(2):\n",
    "    print(f'---------{i}')\n",
    "    for i in range(3):\n",
    "        print(f'========={i + 100}')"
   ]
  },
  {
   "cell_type": "code",
   "execution_count": 18,
   "metadata": {},
   "outputs": [
    {
     "name": "stdout",
     "output_type": "stream",
     "text": [
      "2단-----------\n",
      "2 x 1 = 2\n",
      "2 x 2 = 4\n",
      "2 x 3 = 6\n",
      "2 x 4 = 8\n",
      "2 x 5 = 10\n",
      "2 x 6 = 12\n",
      "2 x 7 = 14\n",
      "2 x 8 = 16\n",
      "2 x 9 = 18\n",
      "3단-----------\n",
      "3 x 1 = 3\n",
      "3 x 2 = 6\n",
      "3 x 3 = 9\n",
      "3 x 4 = 12\n",
      "3 x 5 = 15\n",
      "3 x 6 = 18\n",
      "3 x 7 = 21\n",
      "3 x 8 = 24\n",
      "3 x 9 = 27\n",
      "4단-----------\n",
      "4 x 1 = 4\n",
      "4 x 2 = 8\n",
      "4 x 3 = 12\n",
      "4 x 4 = 16\n",
      "4 x 5 = 20\n",
      "4 x 6 = 24\n",
      "4 x 7 = 28\n",
      "4 x 8 = 32\n",
      "4 x 9 = 36\n",
      "5단-----------\n",
      "5 x 1 = 5\n",
      "5 x 2 = 10\n",
      "5 x 3 = 15\n",
      "5 x 4 = 20\n",
      "5 x 5 = 25\n",
      "5 x 6 = 30\n",
      "5 x 7 = 35\n",
      "5 x 8 = 40\n",
      "5 x 9 = 45\n",
      "6단-----------\n",
      "6 x 1 = 6\n",
      "6 x 2 = 12\n",
      "6 x 3 = 18\n",
      "6 x 4 = 24\n",
      "6 x 5 = 30\n",
      "6 x 6 = 36\n",
      "6 x 7 = 42\n",
      "6 x 8 = 48\n",
      "6 x 9 = 54\n",
      "7단-----------\n",
      "7 x 1 = 7\n",
      "7 x 2 = 14\n",
      "7 x 3 = 21\n",
      "7 x 4 = 28\n",
      "7 x 5 = 35\n",
      "7 x 6 = 42\n",
      "7 x 7 = 49\n",
      "7 x 8 = 56\n",
      "7 x 9 = 63\n",
      "8단-----------\n",
      "8 x 1 = 8\n",
      "8 x 2 = 16\n",
      "8 x 3 = 24\n",
      "8 x 4 = 32\n",
      "8 x 5 = 40\n",
      "8 x 6 = 48\n",
      "8 x 7 = 56\n",
      "8 x 8 = 64\n",
      "8 x 9 = 72\n",
      "9단-----------\n",
      "9 x 1 = 9\n",
      "9 x 2 = 18\n",
      "9 x 3 = 27\n",
      "9 x 4 = 36\n",
      "9 x 5 = 45\n",
      "9 x 6 = 54\n",
      "9 x 7 = 63\n",
      "9 x 8 = 72\n",
      "9 x 9 = 81\n"
     ]
    }
   ],
   "source": [
    "# 구구단\n",
    "\n",
    "for i in range(2, 10):\n",
    "    print(f'{i}단-----------')\n",
    "    for j in range(1, 10):\n",
    "        print(f'{i} x {j} = {i*j}')"
   ]
  },
  {
   "cell_type": "code",
   "execution_count": 21,
   "metadata": {},
   "outputs": [
    {
     "name": "stdout",
     "output_type": "stream",
     "text": [
      "2단 --------------\n",
      "2 x 1 = 2\n",
      "2 x 2 = 4\n",
      "2 x 3 = 6\n",
      "2 x 4 = 8\n",
      "2 x 5 = 10\n",
      "2 x 6 = 12\n",
      "2 x 7 = 14\n",
      "2 x 8 = 16\n",
      "2 x 9 = 18\n",
      "\n",
      "3단 --------------\n",
      "3 x 1 = 3\n",
      "3 x 2 = 6\n",
      "3 x 3 = 9\n",
      "3 x 4 = 12\n",
      "3 x 5 = 15\n",
      "3 x 6 = 18\n",
      "3 x 7 = 21\n",
      "3 x 8 = 24\n",
      "3 x 9 = 27\n",
      "\n",
      "4단 --------------\n",
      "4 x 1 = 4\n",
      "4 x 2 = 8\n",
      "4 x 3 = 12\n",
      "4 x 4 = 16\n",
      "4 x 5 = 20\n",
      "4 x 6 = 24\n",
      "4 x 7 = 28\n",
      "4 x 8 = 32\n",
      "4 x 9 = 36\n",
      "\n",
      "5단 --------------\n",
      "5 x 1 = 5\n",
      "5 x 2 = 10\n",
      "5 x 3 = 15\n",
      "5 x 4 = 20\n",
      "5 x 5 = 25\n",
      "5 x 6 = 30\n",
      "5 x 7 = 35\n",
      "5 x 8 = 40\n",
      "5 x 9 = 45\n",
      "\n",
      "6단 --------------\n",
      "6 x 1 = 6\n",
      "6 x 2 = 12\n",
      "6 x 3 = 18\n",
      "6 x 4 = 24\n",
      "6 x 5 = 30\n",
      "6 x 6 = 36\n",
      "6 x 7 = 42\n",
      "6 x 8 = 48\n",
      "6 x 9 = 54\n",
      "\n",
      "7단 --------------\n",
      "7 x 1 = 7\n",
      "7 x 2 = 14\n",
      "7 x 3 = 21\n",
      "7 x 4 = 28\n",
      "7 x 5 = 35\n",
      "7 x 6 = 42\n",
      "7 x 7 = 49\n",
      "7 x 8 = 56\n",
      "7 x 9 = 63\n",
      "\n",
      "8단 --------------\n",
      "8 x 1 = 8\n",
      "8 x 2 = 16\n",
      "8 x 3 = 24\n",
      "8 x 4 = 32\n",
      "8 x 5 = 40\n",
      "8 x 6 = 48\n",
      "8 x 7 = 56\n",
      "8 x 8 = 64\n",
      "8 x 9 = 72\n",
      "\n",
      "9단 --------------\n",
      "9 x 1 = 9\n",
      "9 x 2 = 18\n",
      "9 x 3 = 27\n",
      "9 x 4 = 36\n",
      "9 x 5 = 45\n",
      "9 x 6 = 54\n",
      "9 x 7 = 63\n",
      "9 x 8 = 72\n",
      "9 x 9 = 81\n",
      "\n"
     ]
    }
   ],
   "source": [
    "# 2단부터 9단까지 구구단 출력 (ex. 2x1=1 ~ 2x9=18)\n",
    "\n",
    "for i in range(2, 10): # 2단부터 9단까지\n",
    "    print(f'{i}단 --------------') # 1.\n",
    "    for j in range(1, 10): # 1부처 9까지 곱해줌\n",
    "        print(f'{i} x {j} = {i*j}') # 2.\n",
    "    print() # 내부 포문이 끝나면 실행 # 3."
   ]
  },
  {
   "cell_type": "markdown",
   "metadata": {},
   "source": [
    "## for문 실습 01\n",
    "[문제] Hello World를 100번 출력해주세요. \\\n",
    "- 1부터 100까지의 숫자를 함께 출력해주세요.\n",
    "- 아래의 실행 결과를 참고하세요.\n",
    "\n",
    "[실행 결과] \\\n",
    "Hello World 1 \\\n",
    "Hello World 2 \\\n",
    "Hello World 3 \\\n",
    "… \\\n",
    "Hello World 100"
   ]
  },
  {
   "cell_type": "code",
   "execution_count": 23,
   "metadata": {},
   "outputs": [
    {
     "name": "stdout",
     "output_type": "stream",
     "text": [
      "Hello World 1\n",
      "Hello World 2\n",
      "Hello World 3\n",
      "Hello World 4\n",
      "Hello World 5\n",
      "Hello World 6\n",
      "Hello World 7\n",
      "Hello World 8\n",
      "Hello World 9\n",
      "Hello World 10\n",
      "Hello World 11\n",
      "Hello World 12\n",
      "Hello World 13\n",
      "Hello World 14\n",
      "Hello World 15\n",
      "Hello World 16\n",
      "Hello World 17\n",
      "Hello World 18\n",
      "Hello World 19\n",
      "Hello World 20\n",
      "Hello World 21\n",
      "Hello World 22\n",
      "Hello World 23\n",
      "Hello World 24\n",
      "Hello World 25\n",
      "Hello World 26\n",
      "Hello World 27\n",
      "Hello World 28\n",
      "Hello World 29\n",
      "Hello World 30\n",
      "Hello World 31\n",
      "Hello World 32\n",
      "Hello World 33\n",
      "Hello World 34\n",
      "Hello World 35\n",
      "Hello World 36\n",
      "Hello World 37\n",
      "Hello World 38\n",
      "Hello World 39\n",
      "Hello World 40\n",
      "Hello World 41\n",
      "Hello World 42\n",
      "Hello World 43\n",
      "Hello World 44\n",
      "Hello World 45\n",
      "Hello World 46\n",
      "Hello World 47\n",
      "Hello World 48\n",
      "Hello World 49\n",
      "Hello World 50\n",
      "Hello World 51\n",
      "Hello World 52\n",
      "Hello World 53\n",
      "Hello World 54\n",
      "Hello World 55\n",
      "Hello World 56\n",
      "Hello World 57\n",
      "Hello World 58\n",
      "Hello World 59\n",
      "Hello World 60\n",
      "Hello World 61\n",
      "Hello World 62\n",
      "Hello World 63\n",
      "Hello World 64\n",
      "Hello World 65\n",
      "Hello World 66\n",
      "Hello World 67\n",
      "Hello World 68\n",
      "Hello World 69\n",
      "Hello World 70\n",
      "Hello World 71\n",
      "Hello World 72\n",
      "Hello World 73\n",
      "Hello World 74\n",
      "Hello World 75\n",
      "Hello World 76\n",
      "Hello World 77\n",
      "Hello World 78\n",
      "Hello World 79\n",
      "Hello World 80\n",
      "Hello World 81\n",
      "Hello World 82\n",
      "Hello World 83\n",
      "Hello World 84\n",
      "Hello World 85\n",
      "Hello World 86\n",
      "Hello World 87\n",
      "Hello World 88\n",
      "Hello World 89\n",
      "Hello World 90\n",
      "Hello World 91\n",
      "Hello World 92\n",
      "Hello World 93\n",
      "Hello World 94\n",
      "Hello World 95\n",
      "Hello World 96\n",
      "Hello World 97\n",
      "Hello World 98\n",
      "Hello World 99\n",
      "Hello World 100\n"
     ]
    }
   ],
   "source": [
    "for i in range(100):\n",
    "    print(f'Hello World {i + 1}')"
   ]
  },
  {
   "cell_type": "code",
   "execution_count": 28,
   "metadata": {},
   "outputs": [
    {
     "name": "stdout",
     "output_type": "stream",
     "text": [
      "Hello world 1\n",
      "Hello world 2\n",
      "Hello world 3\n",
      "Hello world 4\n",
      "Hello world 5\n",
      "Hello world 6\n",
      "Hello world 7\n",
      "Hello world 8\n",
      "Hello world 9\n",
      "Hello world 10\n",
      "Hello world 11\n",
      "Hello world 12\n",
      "Hello world 13\n",
      "Hello world 14\n",
      "Hello world 15\n",
      "Hello world 16\n",
      "Hello world 17\n",
      "Hello world 18\n",
      "Hello world 19\n",
      "Hello world 20\n",
      "Hello world 21\n",
      "Hello world 22\n",
      "Hello world 23\n",
      "Hello world 24\n",
      "Hello world 25\n",
      "Hello world 26\n",
      "Hello world 27\n",
      "Hello world 28\n",
      "Hello world 29\n",
      "Hello world 30\n",
      "Hello world 31\n",
      "Hello world 32\n",
      "Hello world 33\n",
      "Hello world 34\n",
      "Hello world 35\n",
      "Hello world 36\n",
      "Hello world 37\n",
      "Hello world 38\n",
      "Hello world 39\n",
      "Hello world 40\n",
      "Hello world 41\n",
      "Hello world 42\n",
      "Hello world 43\n",
      "Hello world 44\n",
      "Hello world 45\n",
      "Hello world 46\n",
      "Hello world 47\n",
      "Hello world 48\n",
      "Hello world 49\n",
      "Hello world 50\n",
      "Hello world 51\n",
      "Hello world 52\n",
      "Hello world 53\n",
      "Hello world 54\n",
      "Hello world 55\n",
      "Hello world 56\n",
      "Hello world 57\n",
      "Hello world 58\n",
      "Hello world 59\n",
      "Hello world 60\n",
      "Hello world 61\n",
      "Hello world 62\n",
      "Hello world 63\n",
      "Hello world 64\n",
      "Hello world 65\n",
      "Hello world 66\n",
      "Hello world 67\n",
      "Hello world 68\n",
      "Hello world 69\n",
      "Hello world 70\n",
      "Hello world 71\n",
      "Hello world 72\n",
      "Hello world 73\n",
      "Hello world 74\n",
      "Hello world 75\n",
      "Hello world 76\n",
      "Hello world 77\n",
      "Hello world 78\n",
      "Hello world 79\n",
      "Hello world 80\n",
      "Hello world 81\n",
      "Hello world 82\n",
      "Hello world 83\n",
      "Hello world 84\n",
      "Hello world 85\n",
      "Hello world 86\n",
      "Hello world 87\n",
      "Hello world 88\n",
      "Hello world 89\n",
      "Hello world 90\n",
      "Hello world 91\n",
      "Hello world 92\n",
      "Hello world 93\n",
      "Hello world 94\n",
      "Hello world 95\n",
      "Hello world 96\n",
      "Hello world 97\n",
      "Hello world 98\n",
      "Hello world 99\n",
      "Hello world 100\n"
     ]
    }
   ],
   "source": [
    "for i in range(1, 101):\n",
    "    print(f'Hello world {i}')"
   ]
  },
  {
   "cell_type": "markdown",
   "metadata": {},
   "source": [
    "## for문 실습 02\n",
    "\n",
    "[문제] 사용자로부터 자연수를 입력 받고 입력 받은 횟수만큼 ‘Hello World’를 출력해보세요. \\\n",
    "\n",
    "[실행 결과] \\\n",
    "인사 몇 번 해드릴까요? 3 \\\n",
    "Hello World 1 \\\n",
    "Hello World 2 \\\n",
    "Hello World 3"
   ]
  },
  {
   "cell_type": "code",
   "execution_count": 27,
   "metadata": {},
   "outputs": [
    {
     "name": "stdout",
     "output_type": "stream",
     "text": [
      "인사 몇 번 해드릴까요? 3\n",
      "Hello World 1\n",
      "Hello World 2\n",
      "Hello World 3\n"
     ]
    }
   ],
   "source": [
    "count = int(input('인사 몇 번 해드릴까요?'))\n",
    "print(f'인사 몇 번 해드릴까요? {count}')\n",
    "for i in range(count):\n",
    "    print(f'Hello World {i + 1}')"
   ]
  },
  {
   "cell_type": "code",
   "execution_count": 92,
   "metadata": {},
   "outputs": [
    {
     "name": "stdout",
     "output_type": "stream",
     "text": [
      "Hello World 1\n",
      "Hello World 2\n",
      "Hello World 3\n"
     ]
    }
   ],
   "source": [
    "# 쌤 답안\n",
    "# for문 실습 03 답안입니다.\n",
    "count = int(input('인사 몇 번 해드릴까요? '))\n",
    "\n",
    "for i in range(1, count + 1):\n",
    "    print(f'Hello World {i}')"
   ]
  },
  {
   "cell_type": "markdown",
   "metadata": {},
   "source": [
    "## for문 실습 03\n",
    "\n",
    "[문제] 아래의 실행 결과처럼 나오도록 for문과 range()를 활용해서 구현해봅시다. \\\n",
    "- 숫자와 숫자 사이에 \\t를 사용 \\\n",
    "\n",
    "[실행 결과] \\\n",
    "자연수 하나 입력해주세요: 6 \\\n",
    "6 6 6 6 6 6 \\\n",
    "5 5 5 5 5 \\\n",
    "4 4 4 4 \\\n",
    "3 3 3 \\\n",
    "2 2 \\\n",
    "1 "
   ]
  },
  {
   "cell_type": "code",
   "execution_count": 97,
   "metadata": {},
   "outputs": [
    {
     "name": "stdout",
     "output_type": "stream",
     "text": [
      "자연수 하나 입력해주세요: 6\n",
      "6\t6\t6\t6\t6\t6\t\n",
      "5\t5\t5\t5\t5\t\n",
      "4\t4\t4\t4\t\n",
      "3\t3\t3\t\n",
      "2\t2\t\n",
      "1\t\n"
     ]
    }
   ],
   "source": [
    "# \\t = tab\n",
    "num = int(input('자연수 하나 입력해주세요: '))\n",
    "print(f'자연수 하나 입력해주세요: {num}')\n",
    "\n",
    "for i in range(num):\n",
    "    for j in range(num-i):\n",
    "        print(num-i, end='\\t')\n",
    "    print()"
   ]
  },
  {
   "cell_type": "code",
   "execution_count": 96,
   "metadata": {},
   "outputs": [
    {
     "name": "stdout",
     "output_type": "stream",
     "text": [
      "6\t6\t6\t6\t6\t6\t\n",
      "5\t5\t5\t5\t5\t\n",
      "4\t4\t4\t4\t\n",
      "3\t3\t3\t\n",
      "2\t2\t\n",
      "1\t\n"
     ]
    }
   ],
   "source": [
    "# 쌤 답안\n",
    "for i in range(6, 0, -1):\n",
    "    for j in range(i):\n",
    "        print(i, end='\\t')\n",
    "    print()"
   ]
  },
  {
   "cell_type": "markdown",
   "metadata": {},
   "source": [
    "## for문 실습 04\n",
    "\n",
    "[문제] ppt의 문제 결과처럼 나오도록 for문과 if문, range()를 활용해서 구현해봅시다.\n",
    "- 첫 줄의 *의 개수는 10개 입니다.\n",
    "\n",
    "[실행 결과] \\\n",
    "ppt를 참고해주세요."
   ]
  },
  {
   "cell_type": "code",
   "execution_count": 76,
   "metadata": {},
   "outputs": [
    {
     "name": "stdout",
     "output_type": "stream",
     "text": [
      "* * * * * * * * * * \n",
      "*                 * \n",
      "*                 * \n",
      "*                 * \n",
      "*                 * \n",
      "*                 * \n",
      "*                 * \n",
      "*                 * \n",
      "* * * * * * * * * * \n"
     ]
    }
   ],
   "source": [
    "count = 10\n",
    "line = 9\n",
    "for i in range(line):\n",
    "    # print(f'{i+1}')\n",
    "    if i == 0:\n",
    "        for j in range(count):\n",
    "            print('*', end=' ')\n",
    "    elif i == line-1:\n",
    "        for j in range(count):\n",
    "            print('*', end=' ')\n",
    "    else:\n",
    "        for j in range(count):\n",
    "            if j == 0:\n",
    "                print('*', end=' ')\n",
    "            elif j == count - 1:\n",
    "                print('*', end=' ')\n",
    "            else:\n",
    "                print(' ', end=' ')\n",
    "    print('')\n",
    "\n"
   ]
  },
  {
   "cell_type": "code",
   "execution_count": 103,
   "metadata": {},
   "outputs": [
    {
     "name": "stdout",
     "output_type": "stream",
     "text": [
      "* * * * * * * * * * \n",
      "*                 *\n",
      "*                 *\n",
      "*                 *\n",
      "*                 *\n",
      "*                 *\n",
      "*                 *\n",
      "*                 *\n",
      "*                 *\n",
      "* * * * * * * * * * \n"
     ]
    }
   ],
   "source": [
    "# 쌤 답안\n",
    "# 우선 결과값을 만드는 게 중요! 데드라인이 있으니까네\n",
    "for i in range(10):\n",
    "    if i == 0 or i == 9:\n",
    "        print('* ' * 10)\n",
    "    else:\n",
    "        print('*                 *')"
   ]
  },
  {
   "cell_type": "code",
   "execution_count": 104,
   "metadata": {},
   "outputs": [
    {
     "name": "stdout",
     "output_type": "stream",
     "text": [
      "* * * * * * * * * * \n",
      "*                 *\n",
      "*                 *\n",
      "*                 *\n",
      "*                 *\n",
      "*                 *\n",
      "*                 *\n",
      "*                 *\n",
      "*                 *\n",
      "* * * * * * * * * * \n"
     ]
    }
   ],
   "source": [
    "# 쌤 답안 2\n",
    "a=int(input())\n",
    "for i in range(a):\n",
    "    if i == 0 or i == (a-1):\n",
    "        print('* '*a)\n",
    "    else:\n",
    "        num = a - 2\n",
    "        # print('*%18s'%'*')\n",
    "        print('*' + '  '*num + ' *')"
   ]
  },
  {
   "cell_type": "markdown",
   "metadata": {},
   "source": [
    "## for문 실습 05\n",
    "\n",
    "[문제] 1부터 사용자로부터 입렵 받은 자연수까지의 홀수의 합을 구합니다.\n",
    "- 1부터 입력받은 수까지 홀수 전체를 각각 더하는 산식을 표현하고 \n",
    "- 그 계산식의 결과를 아래 실행 결과와 같이 출력되도록 구해보세요\n",
    "\n",
    "[실행 결과] \\\n",
    "1부터 입력한 자연수까지의 모든 홀수의 합을 구합니다: 100 \\\n",
    "1 + 3 + 5 + 7 + 9 + … + 99 = 2500"
   ]
  },
  {
   "cell_type": "code",
   "execution_count": 116,
   "metadata": {},
   "outputs": [
    {
     "name": "stdout",
     "output_type": "stream",
     "text": [
      "1부터 입력한 자연수까지의 모든 홀수의 합을 구합니다.: 10\n",
      "1 + 3 + 5 + 7 + 9 = 25\n"
     ]
    }
   ],
   "source": [
    "num = int(input('자연수를 입력하세요: '))\n",
    "\n",
    "print(f'1부터 입력한 자연수까지의 모든 홀수의 합을 구합니다.: {num}')\n",
    "\n",
    "result = 0\n",
    "\n",
    "for i in range(1, num + 1, 2):\n",
    "    result = result + i\n",
    "    if i == num or i == num - 1:\n",
    "        print(i, end=' = ')\n",
    "    else:\n",
    "        print(f'{i}', end=' + ')\n",
    "\n",
    "print(result)\n",
    "    \n",
    "\n"
   ]
  },
  {
   "cell_type": "code",
   "execution_count": 114,
   "metadata": {},
   "outputs": [
    {
     "name": "stdout",
     "output_type": "stream",
     "text": [
      "1 + 3 + 5 + 7 = 16\n"
     ]
    }
   ],
   "source": [
    "# 쌤 답안\n",
    "input_value = int(input())\n",
    "result = 0\n",
    "\n",
    "for i in range(1, input_value+1): # ex. 100 1에서 100까지\n",
    "    if i % 2 == 1:\n",
    "\n",
    "        if i == (input_value-1) or  i == input_value: # ex. 100 i==99 or i==100 | 101 i==100 or i==101 홀수이든짝수이든 마지막 순번인지를 확인하기 위해\n",
    "            print(i, end=' = ')\n",
    "        else:\n",
    "            print(i, end=' + ')\n",
    "        \n",
    "        result += i\n",
    "\n",
    "print(result)"
   ]
  },
  {
   "cell_type": "code",
   "execution_count": null,
   "metadata": {},
   "outputs": [],
   "source": [
    "# for문 실습 05 방법 2\n",
    "input_value = int(input('1부터 사용자로부터 입렵 받은 자연수까지의 홀수의 합을 구합니다: '))\n",
    "result = 0\n",
    "\n",
    "print(1, end='') # for문에서 print할 때 + 를 i 앞에 붙이기 위해서 (+ 1으로 출력이 안 되게 하기 위해서 1은 따로 뺌)\n",
    "for i in range(3, input_value+1, 2):\n",
    "    result += i \n",
    "    print(' +', i, end='') \n",
    "\n",
    "print(' =', result+1) # for문이 3부터 시작됐기 때문에 result에 1이 안 더해짐 "
   ]
  },
  {
   "cell_type": "markdown",
   "metadata": {},
   "source": [
    "## for문 실습 06\n",
    "\n",
    "[문제] 계승(Factorial)을 계산해보려 합니다. \n",
    "- 사용자로부터 정수 하나를 입력 받습니다.\n",
    "- 입력 받은 숫자까지의 계승을 for문을 활용하여 구한 뒤 출력해주세요.\n",
    "- 계승이란 1부터 n까지의 자연수를 모두 곱하는 것을 의미합니다. \n",
    "- n! = 1 x 2 x 3 x … x (n-1) x n\n",
    "\n",
    "\n",
    "[실행 결과] \\\n",
    "계승을 구할 숫자를 입력하세요: 4 \\\n",
    "24 \n",
    "\n",
    "계승을 구할 숫자를 입력하세요: 7 \\\n",
    "5040 \n",
    "\n"
   ]
  },
  {
   "cell_type": "code",
   "execution_count": 117,
   "metadata": {},
   "outputs": [
    {
     "name": "stdout",
     "output_type": "stream",
     "text": [
      "계승을 구할 숫자를 입력하세요: 7\n",
      "5040\n"
     ]
    }
   ],
   "source": [
    "num = int(input('계승을 구할 숫자를 입력하세요: '))\n",
    "print(f'계승을 구할 숫자를 입력하세요: {num}')\n",
    "\n",
    "result = 1\n",
    "\n",
    "for i in range(num):\n",
    "    result = result * (i + 1)\n",
    "\n",
    "print(result)\n",
    "\n"
   ]
  },
  {
   "cell_type": "code",
   "execution_count": 121,
   "metadata": {},
   "outputs": [
    {
     "name": "stdout",
     "output_type": "stream",
     "text": [
      "5040\n"
     ]
    }
   ],
   "source": [
    "# 쌤 답안\n",
    "n = int(input())\n",
    "\n",
    "result = 1 # 시작값이 1이기 때문에\n",
    "\n",
    "for i in range(1, n+1):\n",
    "    # result = result * i \n",
    "    result *= i\n",
    "\n",
    "print(result)\n",
    "\n"
   ]
  },
  {
   "cell_type": "code",
   "execution_count": null,
   "metadata": {},
   "outputs": [],
   "source": []
  },
  {
   "cell_type": "markdown",
   "metadata": {},
   "source": [
    "# 3. while문 "
   ]
  },
  {
   "cell_type": "markdown",
   "metadata": {},
   "source": [
    "## 3.1 while문 작성해보기"
   ]
  },
  {
   "cell_type": "code",
   "execution_count": 126,
   "metadata": {},
   "outputs": [
    {
     "name": "stdout",
     "output_type": "stream",
     "text": [
      "Hello World!  0\n",
      "Hello World!  1\n",
      "Hello World!  2\n",
      "Hello World!  3\n",
      "Hello World!  4\n",
      "Hello World!  5\n",
      "Hello World!  6\n",
      "Hello World!  7\n",
      "Hello World!  8\n",
      "Hello World!  9\n"
     ]
    }
   ],
   "source": [
    "i = 0\n",
    "\n",
    "while i < 10:\n",
    "    print('Hello World! ', i)\n",
    "    i += 1\n",
    "\n"
   ]
  },
  {
   "cell_type": "markdown",
   "metadata": {},
   "source": [
    "- 입렵한 횟수대로 반복하는 예제\n",
    "- 다만, 숫자를 감소시켜 제어\n",
    "\n",
    "Hello, world! 3 \\\n",
    "Hello, world! 2 \\\n",
    "Hello, world! 1"
   ]
  },
  {
   "cell_type": "code",
   "execution_count": 127,
   "metadata": {},
   "outputs": [
    {
     "name": "stdout",
     "output_type": "stream",
     "text": [
      "Hello, world! 3\n",
      "Hello, world! 2\n",
      "Hello, world! 1\n"
     ]
    }
   ],
   "source": [
    "count = int(input())\n",
    "\n",
    "while count > 0 : # 음수 전까지 돌리겠다.\n",
    "    print('Hello, world!', count)\n",
    "    count -= 1 "
   ]
  },
  {
   "cell_type": "markdown",
   "metadata": {},
   "source": [
    "## while문 실습 01\n",
    "\n",
    "[문제] while문을 사용하여 1이상 100이하의 짝수를 ‘\\t’를 구분자로 하여 출력해보세요.\n",
    "\n",
    "[실행 결과] \\\n",
    "2  4  6  8  10  12  14  16  18  20  … 98  100"
   ]
  },
  {
   "cell_type": "code",
   "execution_count": 129,
   "metadata": {},
   "outputs": [
    {
     "name": "stdout",
     "output_type": "stream",
     "text": [
      "2\t4\t6\t8\t10\t12\t14\t16\t18\t20\t22\t24\t26\t28\t30\t32\t34\t36\t38\t40\t42\t44\t46\t48\t50\t52\t54\t56\t58\t60\t62\t64\t66\t68\t70\t72\t74\t76\t78\t80\t82\t84\t86\t88\t90\t92\t94\t96\t98\t100\t"
     ]
    }
   ],
   "source": [
    "i = 1\n",
    "\n",
    "while i <= 50:\n",
    "    print(i*2, end='\\t')\n",
    "    i += 1\n",
    "\n"
   ]
  },
  {
   "cell_type": "markdown",
   "metadata": {},
   "source": [
    "## while문 실습 02\n",
    "\n",
    "[문제] 자연수를 입력받아 구구단을 출력하는 프로그램을 구현해보세요.\n",
    "- 아래의 실행 결과 참고하세요.\n",
    "\n",
    "[실행 결과] \\\n",
    "구구단을 알려드립니다. 숫자를 입력하세요: 9 \\\n",
    "9 * 1 = 9 \\\n",
    "9 * 2 = 18 \\\n",
    "9 * 3 = 27 \\\n",
    "… \\\n",
    "9 * 8 = 72 \\\n",
    "9 * 9 = 81"
   ]
  },
  {
   "cell_type": "code",
   "execution_count": 140,
   "metadata": {},
   "outputs": [
    {
     "name": "stdout",
     "output_type": "stream",
     "text": [
      "구구단을 알려드립니다. 숫자를 입력하세요: 9\n",
      "9 * 1 = 9\n",
      "9 * 2 = 18\n",
      "9 * 3 = 27\n",
      "9 * 4 = 36\n",
      "9 * 5 = 45\n",
      "9 * 6 = 54\n",
      "9 * 7 = 63\n",
      "9 * 8 = 72\n",
      "9 * 9 = 81\n"
     ]
    }
   ],
   "source": [
    "num = int(input())\n",
    "print(f'구구단을 알려드립니다. 숫자를 입력하세요: {num}')\n",
    "i = 1\n",
    "while i < 10:\n",
    "    print(f'{num} * {i} = {num * i}')\n",
    "    i += 1\n"
   ]
  },
  {
   "cell_type": "markdown",
   "metadata": {},
   "source": [
    "## while문 실습 03\n",
    "\n",
    "[문제] 학생의 수와 학생들의 성적을 입력 받아 성적 평균을 구하는 프로그램을 구현해보세요.\n",
    "\n",
    "[실행 결과]\n",
    "학생 수: 3 \\\n",
    "1번 학생의 점수: 77 \\\n",
    "2번 학생의 점수: 88 \\\n",
    "3번 학생의 점수: 99 \\\n",
    "평균: 88.0점"
   ]
  },
  {
   "cell_type": "code",
   "execution_count": 141,
   "metadata": {},
   "outputs": [
    {
     "name": "stdout",
     "output_type": "stream",
     "text": [
      "학생수: 3\n",
      "1번 학생의 점수: 77\n",
      "2번 학생의 점수: 88\n",
      "3번 학생의 점수: 99\n",
      "평균: 88.0\n"
     ]
    }
   ],
   "source": [
    "num = int(input('학생의 수는?: '))\n",
    "print(f'학생수: {num}')\n",
    "\n",
    "i = 1\n",
    "total_grade = 0\n",
    "\n",
    "while i <= num:\n",
    "    grade = int(input('학생의 점수는?: '))\n",
    "    print(f'{i}번 학생의 점수: {grade}')\n",
    "    total_grade += grade\n",
    "    i += 1\n",
    "\n",
    "avg = total_grade/num\n",
    "print(f'평균: {avg}')\n"
   ]
  },
  {
   "cell_type": "markdown",
   "metadata": {},
   "source": [
    "## while문 실습 04\n",
    "\n",
    "[문제] 학급의 수학 평균 점수를 구하는 프로그램을 구현해보세요. \n",
    "- A학급의 수학점수가 다음과 같을 때 while문 조건식에 len()함수를 사용하여 평균 점수를 구해보세요\n",
    "- class_a = (70, 60, 55, 75, 95, 90, 80, 80, 85, 100)\n",
    "\n",
    "[실행 결과] \\\n",
    "79.0"
   ]
  },
  {
   "cell_type": "code",
   "execution_count": 142,
   "metadata": {},
   "outputs": [
    {
     "name": "stdout",
     "output_type": "stream",
     "text": [
      "79.0\n"
     ]
    }
   ],
   "source": [
    "class_a = (70, 60, 55, 75, 95, 90, 80, 80, 85, 100)\n",
    "class_len = len(class_a)\n",
    "i = 1\n",
    "total = 0\n",
    "\n",
    "while i <= class_len:\n",
    "    grade = class_a[i -1]\n",
    "    total += grade\n",
    "    i += 1\n",
    "\n",
    "print(total/class_len)"
   ]
  },
  {
   "cell_type": "markdown",
   "metadata": {},
   "source": [
    "## while문, for문 비교"
   ]
  },
  {
   "cell_type": "code",
   "execution_count": 144,
   "metadata": {},
   "outputs": [],
   "source": [
    "scores = (97, 100, 77)"
   ]
  },
  {
   "cell_type": "code",
   "execution_count": 145,
   "metadata": {},
   "outputs": [
    {
     "name": "stdout",
     "output_type": "stream",
     "text": [
      "97\n",
      "100\n",
      "77\n",
      "--------------------\n",
      "97\n",
      "100\n",
      "77\n"
     ]
    }
   ],
   "source": [
    "# while문\n",
    "i = 0\n",
    "while i < len(scores):\n",
    "    print(scores[i])\n",
    "    i += 1\n",
    "\n",
    "print('-'*20)\n",
    "\n",
    "# for문\n",
    "for i in range(len(scores)):\n",
    "    print(scores[i])"
   ]
  },
  {
   "cell_type": "markdown",
   "metadata": {},
   "source": [
    "## 3.2 break"
   ]
  },
  {
   "cell_type": "code",
   "execution_count": 132,
   "metadata": {},
   "outputs": [
    {
     "name": "stdout",
     "output_type": "stream",
     "text": [
      "0 "
     ]
    }
   ],
   "source": [
    "for i in range(10000):\n",
    "    print(i, end=' ')\n",
    "    break # 해당 포문이 잘동작하는지 확인하기 위해 한번 돌리고 break 걸어 종료함 "
   ]
  },
  {
   "cell_type": "code",
   "execution_count": 135,
   "metadata": {},
   "outputs": [
    {
     "name": "stdout",
     "output_type": "stream",
     "text": [
      "0 1 2 3 4 5 6 7 8 9 10 "
     ]
    }
   ],
   "source": [
    "for i in range(10000):\n",
    "    print(i, end=' ')\n",
    "    if i == 10:\n",
    "        break"
   ]
  },
  {
   "cell_type": "markdown",
   "metadata": {},
   "source": [
    "## while문 실습 05\n",
    "\n",
    "[문제] 0부터 100까지 자연수의 총합을 구하는 프로그램을 구현해 보세요\n",
    "- while문과 break를 활용해서 작성해보세요\n",
    "\n",
    "[실행 결과] \\\n",
    "5050"
   ]
  },
  {
   "cell_type": "code",
   "execution_count": 150,
   "metadata": {},
   "outputs": [
    {
     "name": "stdout",
     "output_type": "stream",
     "text": [
      "5050\n"
     ]
    }
   ],
   "source": [
    "\n",
    "i = 100\n",
    "result = 0\n",
    "while i <= 100:\n",
    "    result += i\n",
    "    # print(i)\n",
    "    # print(result)\n",
    "    # print('-'*20)\n",
    "    if i <= 0:\n",
    "        break\n",
    "    i -= 1\n",
    "\n",
    "print(result)"
   ]
  },
  {
   "cell_type": "markdown",
   "metadata": {},
   "source": [
    "## 3.3 continue"
   ]
  },
  {
   "cell_type": "markdown",
   "metadata": {},
   "source": [
    "1. for문에서의 continue"
   ]
  },
  {
   "cell_type": "code",
   "execution_count": 136,
   "metadata": {},
   "outputs": [
    {
     "name": "stdout",
     "output_type": "stream",
     "text": [
      "1 3 5 7 9 11 13 15 17 19 21 23 25 27 29 31 33 35 37 39 41 43 45 47 49 51 53 55 57 59 61 63 65 67 69 71 73 75 77 79 81 83 85 87 89 91 93 95 97 99 "
     ]
    }
   ],
   "source": [
    "for i in range(100):\n",
    "    if i % 2 == 0: # 2로 나눌시 나머지가 0 인것은 짝수\n",
    "        continue # 짝수일시 continue 실행\n",
    "    print(i, end=' ') # 짝수 일시는 동작 안함 - 홀수 일시는 동작함"
   ]
  },
  {
   "cell_type": "markdown",
   "metadata": {},
   "source": [
    "2. while문에서의 continue"
   ]
  },
  {
   "cell_type": "code",
   "execution_count": 138,
   "metadata": {},
   "outputs": [
    {
     "name": "stdout",
     "output_type": "stream",
     "text": [
      "1 3 5 7 9 11 13 15 17 19 21 23 25 27 29 31 33 35 37 39 41 43 45 47 49 51 53 55 57 59 61 63 65 67 69 71 73 75 77 79 81 83 85 87 89 91 93 95 97 99 "
     ]
    }
   ],
   "source": [
    "i = 0\n",
    "\n",
    "while i < 100:\n",
    "    i += 1 # continue 에 걸리지 않도록 if 전에 위치\n",
    "    if i % 2 == 0:\n",
    "        continue\n",
    "    print(i, end=' ') # 짝수 일시는 동작 안함 - 홀수 일시는 동작함"
   ]
  },
  {
   "cell_type": "markdown",
   "metadata": {},
   "source": [
    "## while문 실습 06\n",
    "\n",
    "[문제] 두 자연수 n, m을 입력받고 n부터 m까지의 합을 구하는 프로그램을 작성하세요. \n",
    "- for, while 모두 작성해보기\n",
    "\n",
    "[실습 결과] \\\n",
    "시작하는 정수 입력: 1 \\\n",
    "끝나는 정수 입력: 10 \\\n",
    "1부터 10까지의 합은 55입니다.\n"
   ]
  },
  {
   "cell_type": "code",
   "execution_count": 154,
   "metadata": {},
   "outputs": [
    {
     "name": "stdout",
     "output_type": "stream",
     "text": [
      "시작하는 정수 입력: 1\n",
      "끝나는 정수 입력: 10\n",
      "1부터 10까지의 합은 55입니다.\n"
     ]
    }
   ],
   "source": [
    "# for 문\n",
    "n = int(input('시작정수: '))\n",
    "print(f'시작하는 정수 입력: {n}')\n",
    "\n",
    "m = int(input('끝정수: '))\n",
    "print(f'끝나는 정수 입력: {m}')\n",
    "\n",
    "result = 0\n",
    "\n",
    "for i in range(n, m + 1):\n",
    "    result += i\n",
    "\n",
    "print(f'{n}부터 {m}까지의 합은 {result}입니다.')\n",
    "\n",
    "\n"
   ]
  },
  {
   "cell_type": "code",
   "execution_count": 153,
   "metadata": {},
   "outputs": [
    {
     "name": "stdout",
     "output_type": "stream",
     "text": [
      "시작하는 정수 입력: 1\n",
      "끝나는 정수 입력: 10\n",
      "1부터 10까지의 합은 55입니다.\n"
     ]
    }
   ],
   "source": [
    "# while 문\n",
    "n = int(input('시작정수: '))\n",
    "print(f'시작하는 정수 입력: {n}')\n",
    "i = n\n",
    "\n",
    "m = int(input('끝정수: '))\n",
    "print(f'끝나는 정수 입력: {m}')\n",
    "\n",
    "result = 0\n",
    "\n",
    "while i <= m:\n",
    "    result += i\n",
    "    i += 1\n",
    "\n",
    "print(f'{n}부터 {m}까지의 합은 {result}입니다.')"
   ]
  }
 ],
 "metadata": {
  "kernelspec": {
   "display_name": "sesac",
   "language": "python",
   "name": "python3"
  },
  "language_info": {
   "codemirror_mode": {
    "name": "ipython",
    "version": 3
   },
   "file_extension": ".py",
   "mimetype": "text/x-python",
   "name": "python",
   "nbconvert_exporter": "python",
   "pygments_lexer": "ipython3",
   "version": "3.10.15"
  }
 },
 "nbformat": 4,
 "nbformat_minor": 2
}
