{
 "cells": [
  {
   "cell_type": "markdown",
   "metadata": {},
   "source": [
    "# 조건문 개요"
   ]
  },
  {
   "cell_type": "markdown",
   "metadata": {},
   "source": [
    "# 1. 조건문 작성 예제"
   ]
  },
  {
   "cell_type": "markdown",
   "metadata": {},
   "source": [
    "1. x에 정수를 받고 타입 확인해보기"
   ]
  },
  {
   "cell_type": "code",
   "execution_count": 1,
   "metadata": {},
   "outputs": [
    {
     "name": "stdout",
     "output_type": "stream",
     "text": [
      "<class 'int'>\n"
     ]
    }
   ],
   "source": [
    "x = int(input(10))\n",
    "print(type(x))"
   ]
  },
  {
   "cell_type": "markdown",
   "metadata": {},
   "source": [
    "2. is를 통해 좌, 우 동일한지 확인해보기 "
   ]
  },
  {
   "cell_type": "code",
   "execution_count": 3,
   "metadata": {},
   "outputs": [
    {
     "name": "stdout",
     "output_type": "stream",
     "text": [
      "True\n"
     ]
    }
   ],
   "source": [
    "print(type(x) is int)"
   ]
  },
  {
   "cell_type": "markdown",
   "metadata": {},
   "source": [
    "3. 최종적으로 x가 정수일때만 실행되는 코드 작성해보기"
   ]
  },
  {
   "cell_type": "code",
   "execution_count": 4,
   "metadata": {},
   "outputs": [
    {
     "name": "stdout",
     "output_type": "stream",
     "text": [
      "x는 정수입니다.\n",
      "if문 작성 완료\n"
     ]
    }
   ],
   "source": [
    "if type(x) is int:\n",
    "    print('x는 정수입니다.')\n",
    "\n",
    "print('if문 작성 완료')"
   ]
  },
  {
   "cell_type": "markdown",
   "metadata": {},
   "source": [
    "# 2. 논리연산자 활용"
   ]
  },
  {
   "cell_type": "code",
   "execution_count": 5,
   "metadata": {},
   "outputs": [
    {
     "name": "stdout",
     "output_type": "stream",
     "text": [
      "True\n",
      "True\n"
     ]
    }
   ],
   "source": [
    "a = 123\n",
    "b = 'abc'\n",
    "\n",
    "if (type(a) is int) and (type(b) is str): # 둘 다 True\n",
    "    print(type(a) is int)\n",
    "    print(type(b)is str)"
   ]
  },
  {
   "cell_type": "code",
   "execution_count": 6,
   "metadata": {},
   "outputs": [
    {
     "name": "stdout",
     "output_type": "stream",
     "text": [
      "조건문이 끝났습니다.\n"
     ]
    }
   ],
   "source": [
    "a = 123\n",
    "b = 'abc'\n",
    "\n",
    "if (type(a) is int) and (type(b) is int): # 둘 중 하나가 False -> False\n",
    "    print(type(a) is int)\n",
    "    print(type(b)is str)\n",
    "\n",
    "print('조건문이 끝났습니다.')"
   ]
  },
  {
   "cell_type": "markdown",
   "metadata": {},
   "source": [
    "# 3. if문과 elif문"
   ]
  },
  {
   "cell_type": "code",
   "execution_count": 7,
   "metadata": {},
   "outputs": [
    {
     "name": "stdout",
     "output_type": "stream",
     "text": [
      "30대 입니다.\n",
      "조건문이 끝났습니다.\n"
     ]
    }
   ],
   "source": [
    "# if문이 False일 경우\n",
    "\n",
    "age = 39\n",
    "\n",
    "if 20 <= age < 30:\n",
    "    print('20대 입니다.')\n",
    "elif 30 <= age < 40:\n",
    "    print('30대 입니다.')\n",
    "\n",
    "print('조건문이 끝났습니다.')"
   ]
  },
  {
   "cell_type": "code",
   "execution_count": 8,
   "metadata": {},
   "outputs": [
    {
     "name": "stdout",
     "output_type": "stream",
     "text": [
      "20대 입니다.\n",
      "조건문이 끝났습니다.\n"
     ]
    }
   ],
   "source": [
    "# if문이 True일 경우\n",
    "\n",
    "age = 26\n",
    "\n",
    "if 20 <= age < 30:\n",
    "    print('20대 입니다.')\n",
    "elif 30 <= age < 40:\n",
    "    print('30대 입니다.')\n",
    "\n",
    "print('조건문이 끝났습니다.')"
   ]
  },
  {
   "cell_type": "markdown",
   "metadata": {},
   "source": [
    "# 4. if문과 elif문 그리고 else문"
   ]
  },
  {
   "cell_type": "code",
   "execution_count": 9,
   "metadata": {},
   "outputs": [
    {
     "name": "stdout",
     "output_type": "stream",
     "text": [
      "40대 입니다.\n",
      "조건문이 끝났습니다.\n"
     ]
    }
   ],
   "source": [
    "age = 41\n",
    "\n",
    "if 20 <= age < 30:\n",
    "    print('20대 입니다.')\n",
    "elif 30 <= age < 40:\n",
    "    print('30대 입니다.')\n",
    "else:\n",
    "    print('40대 입니다.')\n",
    "\n",
    "print('조건문이 끝났습니다.')"
   ]
  },
  {
   "cell_type": "code",
   "execution_count": 3,
   "metadata": {},
   "outputs": [
    {
     "name": "stdout",
     "output_type": "stream",
     "text": [
      "F입니다.\n",
      "조건문이 끝났습니다.\n"
     ]
    }
   ],
   "source": [
    "score = 50\n",
    "\n",
    "if score >= 90:\n",
    "\tprint('A입니다.')\n",
    "elif score >= 80:\n",
    "\t print('B입니다.')\n",
    "elif score >= 70:\n",
    "\t print('C입니다.')  \n",
    "else:\n",
    "\tprint('F입니다.')\n",
    "print('조건문이 끝났습니다.')\n"
   ]
  },
  {
   "cell_type": "markdown",
   "metadata": {},
   "source": [
    "# 5. 실습 01\n",
    "[문제] 물의 온도에 따라 현재 상태를 출력하는 프로그램을 만들려고 함\n",
    "- 사용자로부터 물의 온도가 몇인지 입력 받고\n",
    "- 100 이상이면 ‘기체로 예상됩니다’를 출력\n",
    "- 100보다 작고 0이상이면, ‘액체로 예상됩니다.’를 출력\n",
    "- 0보다 작으면 ‘고체로 예상됩니다.’를 출력 \n"
   ]
  },
  {
   "cell_type": "code",
   "execution_count": 23,
   "metadata": {},
   "outputs": [
    {
     "name": "stdout",
     "output_type": "stream",
     "text": [
      "고체로 예상됩니다.\n"
     ]
    }
   ],
   "source": [
    "celsius = float(input('현재 물의 온도를 입력해주세요: '))\n",
    "\n",
    "if celsius >= 100:\n",
    "    print('기체로 예상됩니다.')\n",
    "elif 100 > celsius >= 0:\n",
    "    print('액체로 예상됩니다.')\n",
    "else:\n",
    "    print('고체로 예상됩니다.') "
   ]
  },
  {
   "cell_type": "markdown",
   "metadata": {},
   "source": [
    "# 6. 실습 02\n",
    "- 사용자로부터 아이디를 입력 받습니다.\n",
    "- 이 때 아이디가 ’admin’면 ‘최고 관리자, 모든 권한을 갖습니다.’를 출력하고 프로그램 종료.\n",
    "- 아이디가 ’admin’이 아니면, 회원 등급을 정수로 받습니다.\n",
    "- 만약 회원 레벨이 1~3 사이 값이면, ‘제한적인 권한을 갖습니다’를 출력하고 \n",
    "- 그렇지 않으면, ‘권한이 없습니다’를 출력 후 프로그램 종료\n"
   ]
  },
  {
   "cell_type": "code",
   "execution_count": 10,
   "metadata": {},
   "outputs": [
    {
     "name": "stdout",
     "output_type": "stream",
     "text": [
      "제한적인 권한을 갖습니다.\n"
     ]
    }
   ],
   "source": [
    "name = input('아이디를 입려하세요: ')\n",
    "\n",
    "if name == 'admin':\n",
    "    print('최고 관리자, 모든 권한을 갖습니다.')\n",
    "else:\n",
    "    grade = int(input('회원제 등급을 입력해주세요: '))\n",
    "\n",
    "    if 1 <= grade <= 3:\n",
    "        print('제한적인 권한을 갖습니다.')\n",
    "    else:\n",
    "        print('권한이 없습니다.')"
   ]
  },
  {
   "cell_type": "markdown",
   "metadata": {},
   "source": [
    "# 7. 실습 03\n",
    "[문제] 일반 시내버스 요금을 받는 프로그램을 만들려고 함\n",
    "- 사용자로부터 나이를 입력 받고 나이에 따른 일반 시내버스 요금을 출력하세요.\n",
    "    - 성인 (19세 이상)이면 1500원\n",
    "    - 청소년 (12~18세)이면 1100원\n",
    "    - 어린이(6~11세)면 800원\n",
    "    - 미취학 아동은 무료\n"
   ]
  },
  {
   "cell_type": "code",
   "execution_count": 24,
   "metadata": {},
   "outputs": [
    {
     "name": "stdout",
     "output_type": "stream",
     "text": [
      "무임승차입니다.\n"
     ]
    }
   ],
   "source": [
    "age = int(input('자신의 나이를 입력하세요: '))\n",
    "\n",
    "if age >= 19:\n",
    "    print('1500원')\n",
    "elif 18 >= age >= 12:\n",
    "    print('1100원')\n",
    "elif 11 >= age >= 6:\n",
    "    print('800원')\n",
    "else:\n",
    "    print('무임승차입니다.')"
   ]
  },
  {
   "cell_type": "markdown",
   "metadata": {},
   "source": [
    "# 8. pass"
   ]
  },
  {
   "cell_type": "code",
   "execution_count": 12,
   "metadata": {},
   "outputs": [
    {
     "name": "stdout",
     "output_type": "stream",
     "text": [
      "if문의 body입니다.\n",
      "조건문이 끝났습니다.\n"
     ]
    }
   ],
   "source": [
    "# 잘못된 예\n",
    "x = 20\n",
    "\n",
    "if x == 20:\n",
    "    print('if문의 body입니다.')\n",
    "    pass\n",
    "\n",
    "print('조건문이 끝났습니다.')"
   ]
  },
  {
   "cell_type": "code",
   "execution_count": 13,
   "metadata": {},
   "outputs": [
    {
     "name": "stdout",
     "output_type": "stream",
     "text": [
      "조건문이 끝났습니다.\n"
     ]
    }
   ],
   "source": [
    "# 올바른 예\n",
    "\n",
    "x = 20\n",
    "\n",
    "if x == 20:\n",
    "    pass\n",
    "\n",
    "print('조건문이 끝났습니다.')"
   ]
  },
  {
   "cell_type": "markdown",
   "metadata": {},
   "source": [
    "# 9. 중첩"
   ]
  },
  {
   "cell_type": "code",
   "execution_count": null,
   "metadata": {},
   "outputs": [
    {
     "name": "stdout",
     "output_type": "stream",
     "text": [
      "10살 이상입니다.\n",
      "age >= 10 구간입니다.\n",
      "조건문이 끝났습니다.\n"
     ]
    }
   ],
   "source": [
    "age = int(input('나이를 입력해주세요: '))\n",
    "\n",
    "# elif로 구현할 경우 중첩 if 구간 사이의 코드를 작성할 수 없음 \n",
    "if age >= 10:\n",
    "    print('10살 이상입니다.')\n",
    "    if age >= 20:\n",
    "        print('20살 이상입니다.')\n",
    "        if age >= 30:\n",
    "            print('30살 이상입니다.')\n",
    "        print('age >= 20 구간입니다.')\n",
    "    print('age >= 10 구간입니다.')\n",
    "\n",
    "print('조건문이 끝났습니다.')"
   ]
  },
  {
   "cell_type": "code",
   "execution_count": null,
   "metadata": {},
   "outputs": [],
   "source": [
    "# elif로 작성할 경우 중첩과 중첩 사이의 코드 작성이 불가능  \n",
    "\n",
    "age = 30\n",
    "\n",
    "if age >= 10:\n",
    "    print('10살 이상입니다.')\n",
    "elif age >= 20:\n",
    "    print('20살 이상입니다.')\n",
    "elif age >= 30:\n",
    "    print('30살 이상입니다.')\n",
    "print('20살 이상 구간입니다.')\n",
    "else:\n",
    "    print('test')"
   ]
  },
  {
   "cell_type": "markdown",
   "metadata": {},
   "source": [
    "# 10. 실습 04\n",
    "- 사용자로부터 자연수를 입력 받습니다. 그 숫자에서 50을 뺀 값을 출력하세요.\n",
    "- 단, 출력 값의 범위는 0 이상입니다.\n",
    "- 50을 뺀 결과가 음수가 될 경우, 0을 출력해야 합니다."
   ]
  },
  {
   "cell_type": "code",
   "execution_count": 4,
   "metadata": {},
   "outputs": [
    {
     "name": "stdout",
     "output_type": "stream",
     "text": [
      "x:  21\n",
      "0\n"
     ]
    }
   ],
   "source": [
    "x = int(input('자연수 하나 입력하세요: '))\n",
    "\n",
    "print('x: ', x)\n",
    "\n",
    "result = x - 50\n",
    "if result < 0:\n",
    "    result = 0\n",
    "\n",
    "print(result)"
   ]
  },
  {
   "cell_type": "code",
   "execution_count": 5,
   "metadata": {},
   "outputs": [
    {
     "name": "stdout",
     "output_type": "stream",
     "text": [
      "x:  70\n",
      "20\n"
     ]
    }
   ],
   "source": [
    "x = int(input('자연수 하나 입력하세요: '))\n",
    "\n",
    "print('x: ', x)\n",
    "\n",
    "result = x - 50\n",
    "if result < 0:\n",
    "    result = 0\n",
    "\n",
    "print(result)"
   ]
  },
  {
   "cell_type": "markdown",
   "metadata": {},
   "source": [
    "# 11. if문과 else문 "
   ]
  },
  {
   "cell_type": "code",
   "execution_count": 20,
   "metadata": {},
   "outputs": [
    {
     "name": "stdout",
     "output_type": "stream",
     "text": [
      "합격을 축하합니다.\n",
      "조건문이 끝났습니다.\n"
     ]
    }
   ],
   "source": [
    "score = 70\n",
    "\n",
    "# 60점 이상이면 합격\n",
    "if score >= 60:                 \n",
    "\tprint('합격을 축하합니다.')\n",
    "else:\n",
    "\tprint('아쉽게도 불합격 입니다.')\n",
    "print('조건문이 끝났습니다.')\n"
   ]
  },
  {
   "cell_type": "code",
   "execution_count": 21,
   "metadata": {},
   "outputs": [
    {
     "name": "stdout",
     "output_type": "stream",
     "text": [
      "아쉽게도 불합격 입니다.\n",
      "조건문이 끝났습니다.\n"
     ]
    }
   ],
   "source": [
    "score = 55\n",
    "\n",
    "# 60점 이상이면 합격\n",
    "if score >= 60:                 \n",
    "\tprint('합격을 축하합니다.')\n",
    "else:\n",
    "\tprint('아쉽게도 불합격 입니다.')\n",
    "print('조건문이 끝났습니다.')\n"
   ]
  },
  {
   "cell_type": "markdown",
   "metadata": {},
   "source": [
    "# 12. 실습 05\n",
    "- 사용자로 부터 자연수를 입력 받습니다.\n",
    "- 값이 짝수인지 홀수인지 화면에 출력합니다."
   ]
  },
  {
   "cell_type": "code",
   "execution_count": 22,
   "metadata": {},
   "outputs": [
    {
     "name": "stdout",
     "output_type": "stream",
     "text": [
      "홀수입니다.\n",
      "조건문이 끝났습니다.\n"
     ]
    }
   ],
   "source": [
    "number = int(input('자연수 하나 입력하세요: '))\n",
    "\n",
    "if (number % 2) == 0:\n",
    "    print('짝수입니다.')\n",
    "else:\n",
    "    print('홀수입니다.')\n",
    "\n",
    "print('조건문이 끝났습니다.')"
   ]
  },
  {
   "cell_type": "markdown",
   "metadata": {},
   "source": [
    "# 13. 실습 06\n",
    "- A사는 B사에서 C상품 ($10/개) 을 납품합니다. 발주 수량에 따라 수량할인을 고려하여 납품가가 달라집니다.\n",
    "- 1000개 미만은 수량할인이 적용되지 않습니다.\n",
    "- 1000개부터 1500개 까지 5% 할인, 1500개 초과 2000개까지 10% 할인, 2000개 초과부터는 20% 할인됩니다.\n",
    "- 발주 수량을 사용자로부터 입력 받고, 총 발주금액을 출력하는 프로그램을 작성해보세요.\n",
    "- 소수점은 할인의 일환으로 버립니다.\n"
   ]
  },
  {
   "cell_type": "code",
   "execution_count": null,
   "metadata": {},
   "outputs": [
    {
     "name": "stdout",
     "output_type": "stream",
     "text": [
      "2001개를 주문하셨습니다.\n",
      "적용 할인율은 20%입니다.\n",
      "총 발주 금액은 $16008입니다.\n"
     ]
    }
   ],
   "source": [
    "quantity = int(input('발주 수량을 입력하세요: '))\n",
    "print(f'{quantity}개를 주문하셨습니다.')\n",
    "\n",
    "price = 10\n",
    "rate = 0\n",
    "order_amount = 0\n",
    "\n",
    "if quantity > 2000:1\n",
    "    rate = 20\n",
    "elif 2000 >= quantity > 1500:\n",
    "    rate = 10\n",
    "elif 1500 >= quantity >= 1000:\n",
    "    rate = 5\n",
    "\n",
    "order_amount = int(price * quantity * ((100-rate) / 100))\n",
    "\n",
    "print(f'적용 할인율은 {rate}%입니다.')\n",
    "print(f'총 발주 금액은 ${order_amount}입니다.')"
   ]
  },
  {
   "cell_type": "code",
   "execution_count": 26,
   "metadata": {},
   "outputs": [
    {
     "name": "stdout",
     "output_type": "stream",
     "text": [
      "100개를 주문하셨습니다.\n",
      "적용 할인율은 0%입니다.\n",
      "총 발주 금액은 $1000입니다.\n"
     ]
    }
   ],
   "source": [
    "quantity = int(input('발주 수량을 입력하세요: '))\n",
    "print(f'{quantity}개를 주문하셨습니다.')\n",
    "\n",
    "price = 10\n",
    "rate = 0\n",
    "order_amount = 0\n",
    "\n",
    "if quantity > 2000:\n",
    "    rate = 20\n",
    "elif 2000 >= quantity > 1500:\n",
    "    rate = 10\n",
    "elif 1500 >= quantity >= 1000:\n",
    "    rate = 5\n",
    "\n",
    "order_amount = int(price * quantity * ((100-rate) / 100))\n",
    "\n",
    "print(f'적용 할인율은 {rate}%입니다.')\n",
    "print(f'총 발주 금액은 ${order_amount}입니다.')"
   ]
  },
  {
   "cell_type": "markdown",
   "metadata": {},
   "source": [
    "# 14. 실습 07\n",
    "[문제] 주민등록번호 뒷자리를 입력 받아 성별을 확인하는 프로그램을 작성해보기\n",
    "- 주민등록번호 뒷자리 7자리 중 맨 앞 번호가 1, 3인 경우는 남자이고, 2, 4인 경우는 여자를 의미\n",
    "- 자리수가 7자리가 아니면 ‘자리수를 잘못 입력했습니다.’를 출력\n",
    "- 맨 앞 번호가 1, 2, 3, 4가 아니면, ‘잘못된 입력입니다.’를 출력\n"
   ]
  },
  {
   "cell_type": "code",
   "execution_count": 3,
   "metadata": {},
   "outputs": [
    {
     "name": "stdout",
     "output_type": "stream",
     "text": [
      "주민번호 뒷자리를 입력하세요:  1234567\n",
      "남자\n"
     ]
    }
   ],
   "source": [
    "reg_num = input('주민번호 뒷자리를 입력하세요: ')\n",
    "print('주민번호 뒷자리를 입력하세요: ', reg_num)\n",
    "\n",
    "if len(reg_num) != 7:\n",
    "    print('자리수를 잘못 입력했습니다.')\n",
    "else: \n",
    "    fst_num = int(reg_num[0])\n",
    "    if fst_num in (1, 3):\n",
    "        print('남자')\n",
    "    elif fst_num in (2, 4):\n",
    "        print('여자')\n",
    "    else:\n",
    "        print('잘못된 입력입니다.')"
   ]
  },
  {
   "cell_type": "markdown",
   "metadata": {},
   "source": [
    "# 15. 실습 08\n",
    "[문제] 연도 값을 입력 받아 윤년인지 평년인지를 출력하는 프로그램 작성해보기\n",
    "- 연도가 4로 나누어 떨어지는 경우: 윤년\n",
    "- 그 밖의 해: 평년\n",
    "- 예외\n",
    "    - 100으로 나누어 떨어지되 400으로 나누어 떨어지지 않는 해: 평년"
   ]
  },
  {
   "cell_type": "code",
   "execution_count": 34,
   "metadata": {},
   "outputs": [
    {
     "name": "stdout",
     "output_type": "stream",
     "text": [
      "확인할 연도를 입력하세요:  2023\n",
      "평년입니다.\n"
     ]
    }
   ],
   "source": [
    "# 방법 1\n",
    "\n",
    "year = int(input('확인할 연도를 입력하세요: '))\n",
    "print('확인할 연도를 입력하세요: ', year)\n",
    "\n",
    "if (year%4) != 0:\n",
    "    print('평년입니다.')\n",
    "else:\n",
    "    if (year%400) == 0:\n",
    "        print('윤년입니다.')\n",
    "    elif (year%100) == 0:\n",
    "        print('평년입니다.')\n",
    "    else:\n",
    "        print('윤년입니다.')"
   ]
  },
  {
   "cell_type": "code",
   "execution_count": 35,
   "metadata": {},
   "outputs": [
    {
     "name": "stdout",
     "output_type": "stream",
     "text": [
      "확인할 연도를 입력하세요:  2000\n",
      "윤년입니다.\n"
     ]
    }
   ],
   "source": [
    "# 방법 2\n",
    "\n",
    "year = int(input('확인할 연도를 입력하세요: '))\n",
    "print('확인할 연도를 입력하세요: ', year)\n",
    "\n",
    "if year%4 == 0 and (year%100 != 0 or year%400 == 0): # 윤년: 4와 400으로 나눠 떨어져야하거나 / 4로 나눠떨어지되 100으로는 나눠떨어지지 않아야 함\n",
    "    print('윤년입니다.')\n",
    "else:\n",
    "    print('평년입니다.')"
   ]
  },
  {
   "cell_type": "code",
   "execution_count": null,
   "metadata": {},
   "outputs": [],
   "source": []
  }
 ],
 "metadata": {
  "kernelspec": {
   "display_name": "myVenv",
   "language": "python",
   "name": "python3"
  },
  "language_info": {
   "codemirror_mode": {
    "name": "ipython",
    "version": 3
   },
   "file_extension": ".py",
   "mimetype": "text/x-python",
   "name": "python",
   "nbconvert_exporter": "python",
   "pygments_lexer": "ipython3",
   "version": "3.10.14"
  }
 },
 "nbformat": 4,
 "nbformat_minor": 2
}
