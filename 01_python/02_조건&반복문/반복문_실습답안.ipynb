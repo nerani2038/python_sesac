{
 "cells": [
  {
   "cell_type": "markdown",
   "metadata": {},
   "source": [
    "## while문 실습 02\n",
    "\n",
    "[문제] 자연수를 입력받아 구구단을 출력하는 프로그램을 구현해보세요.\n",
    "- 아래의 실행 결과 참고하세요.\n",
    "\n",
    "[실행 결과] \\\n",
    "구구단을 알려드립니다. 숫자를 입력하세요: 9 \\\n",
    "9 * 1 = 9 \\\n",
    "9 * 2 = 18 \\\n",
    "9 * 3 = 27 \\\n",
    "… \\\n",
    "9 * 8 = 72 \\\n",
    "9 * 9 = 81"
   ]
  },
  {
   "cell_type": "code",
   "execution_count": 1,
   "metadata": {},
   "outputs": [
    {
     "name": "stdout",
     "output_type": "stream",
     "text": [
      "구구단을 알려드립니다. 숫자를 입력하세요:  9\n",
      "9 * 1 = 9\n",
      "9 * 2 = 18\n",
      "9 * 3 = 27\n",
      "9 * 4 = 36\n",
      "9 * 5 = 45\n",
      "9 * 6 = 54\n",
      "9 * 7 = 63\n",
      "9 * 8 = 72\n",
      "9 * 9 = 81\n"
     ]
    }
   ],
   "source": [
    "num = int(input('구구단을 알려드립니다. 숫자를 입력하세요: '))\n",
    "print('구구단을 알려드립니다. 숫자를 입력하세요: ', num)\n",
    "\n",
    "i = 1\n",
    "while i <= 9:\n",
    "    print(num, '*', i, '=', num*i)\n",
    "    i += 1"
   ]
  },
  {
   "cell_type": "markdown",
   "metadata": {},
   "source": [
    "## while문 실습 03\n",
    "\n",
    "[문제] 학생의 수와 학생들의 성적을 입력 받아 성적 평균을 구하는 프로그램을 구현해보세요.\n",
    "\n",
    "[실행 결과]\n",
    "학생 수: 3 \\\n",
    "1번 학생의 점수: 77 \\\n",
    "2번 학생의 점수: 88 \\\n",
    "3번 학생의 점수: 99 \\\n",
    "평균: 88.0점"
   ]
  },
  {
   "cell_type": "code",
   "execution_count": 3,
   "metadata": {},
   "outputs": [
    {
     "name": "stdout",
     "output_type": "stream",
     "text": [
      "학생 수:  3\n",
      "1번 학생의 점수: 77\n",
      "2번 학생의 점수: 88\n",
      "3번 학생의 점수: 99\n",
      "평균: 88.0점\n"
     ]
    }
   ],
   "source": [
    "total_score = 0\n",
    "student_num = int(input('학생 수: '))\n",
    "print('학생 수: ', student_num)\n",
    "\n",
    "i = 1\n",
    "while i <= student_num:\n",
    "    student_score = int(input(f'{i}번 학생의 점수: '))\n",
    "    total_score += student_score\n",
    "\n",
    "    print(f'{i}번 학생의 점수: {student_score}')\n",
    "    i += 1\n",
    "\n",
    "print(f'평균: {total_score/student_num}점')"
   ]
  },
  {
   "cell_type": "markdown",
   "metadata": {},
   "source": [
    "## while문 실습 04\n",
    "\n",
    "[문제] 학급의 수학 평균 점수를 구하는 프로그램을 구현해보세요. \n",
    "- A학급의 수학점수가 다음과 같을 때 while문 조건식에 len()함수를 사용하여 평균 점수를 구해보세요\n",
    "- class_a = (70, 60, 55, 75, 95, 90, 80, 80, 85, 100)\n",
    "\n",
    "[실행 결과] \\\n",
    "79.0"
   ]
  },
  {
   "cell_type": "code",
   "execution_count": 4,
   "metadata": {},
   "outputs": [
    {
     "name": "stdout",
     "output_type": "stream",
     "text": [
      "79.0\n"
     ]
    }
   ],
   "source": [
    "class_a = (70, 60, 55, 75, 95, 90, 80, 80, 85, 100)\n",
    "\n",
    "total = 0\n",
    "i = 0\n",
    "\n",
    "while i < len(class_a):\n",
    "    total += class_a[i]\n",
    "    i += 1\n",
    "\n",
    "average = total / len(class_a)\n",
    "\n",
    "print(average)"
   ]
  },
  {
   "cell_type": "markdown",
   "metadata": {},
   "source": [
    "## while문 실습 05\n",
    "\n",
    "[문제] 0부터 100까지 자연수의 총합을 구하는 프로그램을 구현해 보세요\n",
    "- while문과 break를 활용해서 작성해보세요\n",
    "\n",
    "[실행 결과] \\\n",
    "5050"
   ]
  },
  {
   "cell_type": "code",
   "execution_count": 5,
   "metadata": {},
   "outputs": [
    {
     "name": "stdout",
     "output_type": "stream",
     "text": [
      "5050\n"
     ]
    }
   ],
   "source": [
    "i = 0\n",
    "total = 0\n",
    "\n",
    "while True:\n",
    "    total += i \n",
    "    i = i + 1\n",
    "    if i > 100:\n",
    "        break \n",
    "\n",
    "print(total)"
   ]
  },
  {
   "cell_type": "markdown",
   "metadata": {},
   "source": [
    "## while문 실습 06\n",
    "\n",
    "[문제] 두 자연수 n, m을 입력받고 n부터 m까지의 합을 구하는 프로그램을 작성하세요. \n",
    "- for, while 모두 작성해보기\n",
    "\n",
    "[실습 결과] \\\n",
    "시작하는 정수 입력: 1 \\\n",
    "끝나는 정수 입력: 10 \\\n",
    "1부터 10까지의 합은 55입니다.\n"
   ]
  },
  {
   "cell_type": "code",
   "execution_count": 7,
   "metadata": {},
   "outputs": [
    {
     "name": "stdout",
     "output_type": "stream",
     "text": [
      "1부터 10까지의 합은 55입니다.\n"
     ]
    }
   ],
   "source": [
    "# for문 \n",
    "\n",
    "n = int(input('시작하는 숫자 입력: '))\n",
    "m = int(input('끝나는 숫자 입력: '))\n",
    "\n",
    "total = 0 \n",
    "\n",
    "for i in range(n, m + 1):\n",
    "    total += i \n",
    "\n",
    "print(f'{n}부터 {m}까지의 합은 {total}입니다.')"
   ]
  },
  {
   "cell_type": "code",
   "execution_count": 8,
   "metadata": {},
   "outputs": [
    {
     "name": "stdout",
     "output_type": "stream",
     "text": [
      "1부터 10까지의 합은 55입니다.\n"
     ]
    }
   ],
   "source": [
    "# while문\n",
    "\n",
    "n = int(input('시작하는 숫자 입력: '))\n",
    "m = int(input('끝나는 숫자 입력: '))\n",
    "\n",
    "i = n\n",
    "total = 0\n",
    "\n",
    "while i <= m:\n",
    "    total += i \n",
    "    i += 1\n",
    "\n",
    "print(f'{n}부터 {m}까지의 합은 {total}입니다.')"
   ]
  },
  {
   "cell_type": "code",
   "execution_count": null,
   "metadata": {},
   "outputs": [],
   "source": []
  }
 ],
 "metadata": {
  "kernelspec": {
   "display_name": "myVenv",
   "language": "python",
   "name": "python3"
  },
  "language_info": {
   "codemirror_mode": {
    "name": "ipython",
    "version": 3
   },
   "file_extension": ".py",
   "mimetype": "text/x-python",
   "name": "python",
   "nbconvert_exporter": "python",
   "pygments_lexer": "ipython3",
   "version": "3.10.14"
  }
 },
 "nbformat": 4,
 "nbformat_minor": 2
}
