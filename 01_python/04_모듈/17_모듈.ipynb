{
 "cells": [
  {
   "cell_type": "markdown",
   "metadata": {},
   "source": [
    "# 모듈"
   ]
  },
  {
   "cell_type": "markdown",
   "metadata": {},
   "source": [
    "# 1. 모듈 import"
   ]
  },
  {
   "cell_type": "code",
   "execution_count": 6,
   "metadata": {},
   "outputs": [
    {
     "name": "stdout",
     "output_type": "stream",
     "text": [
      "5\n",
      "-1\n"
     ]
    }
   ],
   "source": [
    "import calc\n",
    "\n",
    "print(calc.add(2, 3))\n",
    "print(calc.sub(2, 3))"
   ]
  },
  {
   "cell_type": "markdown",
   "metadata": {},
   "source": [
    "# 2. from, import "
   ]
  },
  {
   "cell_type": "code",
   "execution_count": 2,
   "metadata": {},
   "outputs": [
    {
     "name": "stdout",
     "output_type": "stream",
     "text": [
      "5\n",
      "-1\n"
     ]
    }
   ],
   "source": [
    "from calc import add, sub\n",
    "\n",
    "print(add(2,3))\n",
    "print(sub(2,3))"
   ]
  },
  {
   "cell_type": "code",
   "execution_count": 3,
   "metadata": {},
   "outputs": [
    {
     "name": "stdout",
     "output_type": "stream",
     "text": [
      "calculator\n"
     ]
    }
   ],
   "source": [
    "from calc import name\n",
    "\n",
    "print(name)"
   ]
  },
  {
   "cell_type": "markdown",
   "metadata": {},
   "source": [
    "# 3. __name__ 특수변수"
   ]
  },
  {
   "cell_type": "markdown",
   "metadata": {},
   "source": [
    "## 3.1 모듈 import 후 name 확인해보기"
   ]
  },
  {
   "cell_type": "code",
   "execution_count": 9,
   "metadata": {},
   "outputs": [
    {
     "name": "stdout",
     "output_type": "stream",
     "text": [
      "my_main\n",
      "__main__\n"
     ]
    }
   ],
   "source": [
    "import my_main\n",
    "\n",
    "print(my_main.__name__)\n",
    "print(__name__)"
   ]
  },
  {
   "cell_type": "code",
   "execution_count": 10,
   "metadata": {},
   "outputs": [
    {
     "name": "stdout",
     "output_type": "stream",
     "text": [
      "calc\n",
      "__main__\n"
     ]
    }
   ],
   "source": [
    "import calc\n",
    "\n",
    "print(calc.__name__)\n",
    "print(__name__)"
   ]
  },
  {
   "cell_type": "code",
   "execution_count": null,
   "metadata": {},
   "outputs": [],
   "source": [
    "import my_main # my_main 그 자체를 메모리에 저장시킨다는 것 # 커널 재시작 없이 동작시 이전 캐싱된 내용으로 동작함\n",
    "\n",
    "print(__name__) # main\n",
    "print(my_main.__name__) # my_name"
   ]
  },
  {
   "cell_type": "markdown",
   "metadata": {},
   "source": [
    "## 3.2 area.py로 _ _ name _ _ 실습\n",
    "- **python의 import는 동일한 모듈을 중복해서 로드하지 않음**\n",
    "- import area를 실행하면, python은 sys.modules라는 내부 캐시에 area모듈을 저장함\n",
    "- **두 번째 실행 시에는 캐시에 저장된 모듈을 재사용**하기 때문에, 모듈의 print()문 등의 코드가 다시 실행되지 않음\n",
    "- 동일한 모듈을 여러 번 읽고 실행하는 것은 성능에 영향을 미치기 때문 \n",
    "    - 여러 곳에서 동일한 모듈을 사용하면, 실행 중 모듈의 상태가 변경될 가능성이 있음 "
   ]
  },
  {
   "cell_type": "code",
   "execution_count": 2,
   "metadata": {},
   "outputs": [
    {
     "name": "stdout",
     "output_type": "stream",
     "text": [
      "현재 파일의 이름: __main__\n",
      "---- area import ----\n",
      "\n",
      "- area 파일의 내용 -\n",
      "28.26\n",
      "3.14\n",
      "---- area 파일 실행 끝 ----\n",
      "현재 파일 실행 됨\n"
     ]
    }
   ],
   "source": [
    "print(f'현재 파일의 이름: {__name__}')\n",
    "print('---- area import ----\\n')\n",
    "\n",
    "import area\n",
    "\n",
    "print('- area 파일의 내용 -')\n",
    "print(area.circle(3))\n",
    "print(area.PI)\n",
    "\n",
    "print('---- area 파일 실행 끝 ----')\n",
    "print('현재 파일 실행 됨')\n"
   ]
  },
  {
   "cell_type": "code",
   "execution_count": null,
   "metadata": {},
   "outputs": [],
   "source": []
  }
 ],
 "metadata": {
  "kernelspec": {
   "display_name": "sesac",
   "language": "python",
   "name": "python3"
  },
  "language_info": {
   "codemirror_mode": {
    "name": "ipython",
    "version": 3
   },
   "file_extension": ".py",
   "mimetype": "text/x-python",
   "name": "python",
   "nbconvert_exporter": "python",
   "pygments_lexer": "ipython3",
   "version": "3.10.15"
  }
 },
 "nbformat": 4,
 "nbformat_minor": 2
}
