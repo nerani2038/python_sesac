{
 "cells": [
  {
   "cell_type": "markdown",
   "metadata": {},
   "source": [
    "# 4. 생성자 함수 \n",
    "- 인스턴스를 만들 때 호출되는 특별한 메서드"
   ]
  },
  {
   "cell_type": "code",
   "execution_count": 1,
   "metadata": {},
   "outputs": [
    {
     "name": "stdout",
     "output_type": "stream",
     "text": [
      "안녕하세요\n"
     ]
    }
   ],
   "source": [
    "class Person:\n",
    "    def __init__(self): # 생성자 함수\n",
    "        self.hello = '안녕하세요'\n",
    "\n",
    "# 생성자 함수 통해 인스턴스 생성\n",
    "james = Person() # Person()함수로 인스턴스(객체) 생성 -> 이 때 생성자 함수가 호출 됨 \n",
    "print(james.hello)"
   ]
  },
  {
   "cell_type": "markdown",
   "metadata": {},
   "source": [
    "# 5. 인스턴스 속성\n",
    "- __init__ 메서드에서 만듦 \n",
    "- self에 마침표를 붙여 속성명을 붙이고 값을 할당\n",
    "- 클래스 바디에서도 속성에 접근할 때 self.속성과 같이 self에 마침표를 찍고 사용하면 됨 "
   ]
  },
  {
   "cell_type": "code",
   "execution_count": 2,
   "metadata": {},
   "outputs": [
    {
     "name": "stdout",
     "output_type": "stream",
     "text": [
      "안녕하세요\n"
     ]
    }
   ],
   "source": [
    "class Person:\n",
    "    def __init__(self): # 생성자 함수\n",
    "        self.hello = '안녕하세요'\n",
    "\n",
    "    def greeting(self):\n",
    "        print(self.hello) # 클래스 바디에서도 인스턴스 속성에 접근할 때 self.속성명을 통해 접근\n",
    "\n",
    "\n",
    "james = Person()\n",
    "james.greeting() "
   ]
  },
  {
   "cell_type": "markdown",
   "metadata": {},
   "source": [
    "# 6. Self\n",
    "- 메서드가 호출된 **현재 객체(인스턴스)**를 참조\n",
    "- 클래스 내부에서 객체의 속성이나 메서드에 접근할 때 사용됨\n",
    "- 반드시 첫 번째 매개변수로 사용하며, 관례적으로 self를 사용 \n"
   ]
  },
  {
   "cell_type": "code",
   "execution_count": 3,
   "metadata": {},
   "outputs": [
    {
     "name": "stdout",
     "output_type": "stream",
     "text": [
      "바둑이가 짖습니다!\n",
      "흰둥이가 짖습니다!\n"
     ]
    }
   ],
   "source": [
    "class Dog:\n",
    "    def __init__(self, name):\n",
    "        self.name = name # 인스턴스 속성 \n",
    "    \n",
    "    def bark(self):\n",
    "        print(f'{self.name}가 짖습니다!')\n",
    "\n",
    "\n",
    "# 객체 생성 \n",
    "dog1 = Dog('바둑이')\n",
    "dog2 = Dog('흰둥이')\n",
    "\n",
    "\n",
    "dog1.bark()\n",
    "dog2.bark()"
   ]
  },
  {
   "cell_type": "markdown",
   "metadata": {},
   "source": [
    "- self를 사용하지 않으면 name과 age는 일반 로컬 변수 취급 받음"
   ]
  },
  {
   "cell_type": "code",
   "execution_count": 4,
   "metadata": {},
   "outputs": [
    {
     "ename": "AttributeError",
     "evalue": "'Dog2' object has no attribute 'name'",
     "output_type": "error",
     "traceback": [
      "\u001b[0;31m---------------------------------------------------------------------------\u001b[0m",
      "\u001b[0;31mAttributeError\u001b[0m                            Traceback (most recent call last)",
      "Cell \u001b[0;32mIn[4], line 8\u001b[0m\n\u001b[1;32m      4\u001b[0m         age \u001b[38;5;241m=\u001b[39m age\n\u001b[1;32m      7\u001b[0m dog \u001b[38;5;241m=\u001b[39m Dog2(\u001b[38;5;124m'\u001b[39m\u001b[38;5;124m바둑이\u001b[39m\u001b[38;5;124m'\u001b[39m, \u001b[38;5;241m5\u001b[39m)\n\u001b[0;32m----> 8\u001b[0m \u001b[38;5;28mprint\u001b[39m(\u001b[43mdog\u001b[49m\u001b[38;5;241;43m.\u001b[39;49m\u001b[43mname\u001b[49m)\n",
      "\u001b[0;31mAttributeError\u001b[0m: 'Dog2' object has no attribute 'name'"
     ]
    }
   ],
   "source": [
    "class Dog2:\n",
    "    def __init__(self, name, age):\n",
    "        name = name # 로컬 변수 취급 됨 (__init__함수 내에서만 사용 가능)\n",
    "        age = age\n",
    "\n",
    "\n",
    "dog = Dog2('바둑이', 5)\n",
    "print(dog.name)"
   ]
  },
  {
   "cell_type": "markdown",
   "metadata": {},
   "source": [
    "# 7. slef와 속성"
   ]
  },
  {
   "cell_type": "code",
   "execution_count": 5,
   "metadata": {},
   "outputs": [
    {
     "name": "stdout",
     "output_type": "stream",
     "text": [
      "안녕하세요. 제 이름은 마리아입니다.\n",
      "이름:  마리아\n",
      "나이:  20\n",
      "주소:  서울시 서초구 반포동\n"
     ]
    }
   ],
   "source": [
    "class Person:\n",
    "    def __init__(self, name, age, address):\n",
    "        self.hello = '안녕하세요.'\n",
    "        self.name = name \n",
    "        self.age = age\n",
    "        self.address = address \n",
    "\n",
    "    def greeting(self):\n",
    "        print(f'{self.hello} 제 이름은 {self.name}입니다.')\n",
    "\n",
    "\n",
    "maria = Person('마리아', 20, '서울시 서초구 반포동')\n",
    "maria.greeting()\n",
    "\n",
    "print('이름: ', maria.name)\n",
    "print('나이: ', maria.age)\n",
    "print('주소: ', maria.address)"
   ]
  },
  {
   "cell_type": "code",
   "execution_count": null,
   "metadata": {},
   "outputs": [],
   "source": []
  }
 ],
 "metadata": {
  "kernelspec": {
   "display_name": "myVenv",
   "language": "python",
   "name": "python3"
  },
  "language_info": {
   "codemirror_mode": {
    "name": "ipython",
    "version": 3
   },
   "file_extension": ".py",
   "mimetype": "text/x-python",
   "name": "python",
   "nbconvert_exporter": "python",
   "pygments_lexer": "ipython3",
   "version": "3.10.14"
  }
 },
 "nbformat": 4,
 "nbformat_minor": 2
}
