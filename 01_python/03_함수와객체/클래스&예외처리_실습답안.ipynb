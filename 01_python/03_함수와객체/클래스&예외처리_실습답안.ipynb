{
 "cells": [
  {
   "cell_type": "markdown",
   "metadata": {},
   "source": [
    "# 클래스 실습 답안"
   ]
  },
  {
   "cell_type": "markdown",
   "metadata": {},
   "source": [
    "## 10. 클래스 실습 01\n",
    "- Person 클래스로 maria, james라는 인스턴스를 생성합니다 \n",
    "- maria와 james 두 사람의 나이, 이름, 주소를 받아와 객체에 저장하고 화면에 출력해보세요."
   ]
  },
  {
   "cell_type": "code",
   "execution_count": 2,
   "metadata": {},
   "outputs": [
    {
     "name": "stdout",
     "output_type": "stream",
     "text": [
      "첫 번째 이름: 마리아\n",
      "첫 번째 나이: 20\n",
      "첫 번째 주소: 서울시 강남구\n",
      "첫 번째 이름: 제임스\n",
      "첫 번째 나이: 21\n",
      "첫 번째 주소: 서울시 구로구\n"
     ]
    }
   ],
   "source": [
    "class Person:\n",
    "\n",
    "    def __init__(self, name, age, address):\n",
    "        self.name = name \n",
    "        self.age = age \n",
    "        self.address = address\n",
    "\n",
    "\n",
    "# 마리아\n",
    "name = input('이름은 무엇인가요?: ')\n",
    "age = input('나이는 무엇인가요?: ')\n",
    "address = input('주소는 무엇인가요?: ')\n",
    "maria = Person(name, age, address)\n",
    "\n",
    "# 제임스\n",
    "name = input('이름은 무엇인가요?: ')\n",
    "age = input('나이는 무엇인가요?: ')\n",
    "address = input('주소는 무엇인가요?: ')\n",
    "james = Person(name, age, address)\n",
    "\n",
    "\n",
    "# 마리아 정보 출력 \n",
    "print(f'첫 번째 이름: {maria.name}')\n",
    "print(f'첫 번째 나이: {maria.age}')\n",
    "print(f'첫 번째 주소: {maria.address}')\n",
    "\n",
    "# 제임스 정보 출력 \n",
    "print(f'첫 번째 이름: {james.name}')\n",
    "print(f'첫 번째 나이: {james.age}')\n",
    "print(f'첫 번째 주소: {james.address}')"
   ]
  },
  {
   "cell_type": "markdown",
   "metadata": {},
   "source": [
    "## 11. 클래스 실습 02"
   ]
  },
  {
   "cell_type": "code",
   "execution_count": 4,
   "metadata": {},
   "outputs": [
    {
     "name": "stdout",
     "output_type": "stream",
     "text": [
      "티버: 피해량 593.7\n"
     ]
    }
   ],
   "source": [
    "class Annie:\n",
    "    def __init__(self, health, mana, ability_power):\n",
    "        self.health = health\n",
    "        self.mana = mana\n",
    "        self.ability_power = ability_power\n",
    "\n",
    "    def tibbers(self):\n",
    "        print(f'티버: 피해량 {self.ability_power * 0.65 + 400}')\n",
    "\n",
    "\n",
    "health, mana, ability_power = map(float, input('체력, 마나, AP를 입려하세요.').split())\n",
    "x = Annie(health=health, mana=mana, ability_power=ability_power)\n",
    "x.tibbers()"
   ]
  },
  {
   "cell_type": "markdown",
   "metadata": {},
   "source": [
    "## 12. 클래스 실습 03"
   ]
  },
  {
   "cell_type": "code",
   "execution_count": 5,
   "metadata": {},
   "outputs": [],
   "source": [
    "class Car:\n",
    "\n",
    "    car_count = 0\n",
    "\n",
    "    def __init__(self, name, cc, year):\n",
    "        self.__name = name\n",
    "        self.__cc = cc\n",
    "        self.__year = year \n",
    "        Car.car_count += 1\n",
    "\n",
    "        # self.check = input('차 이름 확인: ')\n",
    "    \n",
    "    def name_check(self):\n",
    "        print(self.__name)\n",
    "\n",
    "    def name_change(self, name):\n",
    "        self.__name = name \n",
    "        print('수정한 차이름: ', self.__name)\n",
    "\n",
    "    def kind_check(self):\n",
    "        if self.__cc < 1000:\n",
    "            print('소형')\n",
    "        elif self.__cc <= 2000:\n",
    "            print('중형')\n",
    "        else:\n",
    "            print('대형')\n",
    "\n",
    "    @classmethod\n",
    "    def car_counting(cls):\n",
    "        print('등록된 차량 개수: ', cls.car_count)"
   ]
  },
  {
   "cell_type": "code",
   "execution_count": 6,
   "metadata": {},
   "outputs": [
    {
     "name": "stdout",
     "output_type": "stream",
     "text": [
      "* 차 이름 확인:\n",
      "aaa\n",
      "bbb\n",
      "\n",
      "* car1 차 이름 변경:\n",
      "수정한 차이름:  ccc\n",
      "ccc\n",
      "\n",
      "* 차종 확인:\n",
      "소형\n",
      "중형\n",
      "\n",
      "등록된 차량 개수:  2\n"
     ]
    }
   ],
   "source": [
    "# 객체 생성\n",
    "car1 = Car('aaa', 500, 1968)\n",
    "car2 = Car('bbb', 1500, 1986)\n",
    "\n",
    "# 인스턴스 메서드: 차이름 확인\n",
    "print('* 차 이름 확인:')\n",
    "car1.name_check()\n",
    "car2.name_check()\n",
    "\n",
    "# 차 이름 변경 \n",
    "print('\\n* car1 차 이름 변경:')\n",
    "car1.name_change('ccc')\n",
    "car1.name_check()\n",
    "\n",
    "# 차종 확인\n",
    "print('\\n* 차종 확인:')\n",
    "car1.kind_check()\n",
    "car2.kind_check()\n",
    "\n",
    "# 클래스 메서드 통해 등록된 차량 개수 확인\n",
    "print()\n",
    "Car.car_counting()"
   ]
  },
  {
   "cell_type": "markdown",
   "metadata": {},
   "source": [
    "## 14. 클래스 실습 04"
   ]
  },
  {
   "cell_type": "markdown",
   "metadata": {},
   "source": [
    "### 14.1 문제 1) Character 클래스를 만들어 주세요.\n",
    "- Character 클래스의 Health 속성에 200을 할당해주세요.\n",
    "- Character 클래스에 Move() 메서드를 추가하고 메서드 사용시 Health 가 -10 이 됩니다.\n",
    "- Character 클래스에 Rest() 메서드를 추가하고 메서드 사용시 Health 가 + 10 됩니다.\n",
    "- 현재 Health를 알수있는 checkHealth() 메서드를 추가해주세요\n",
    "\n",
    "\n"
   ]
  },
  {
   "cell_type": "code",
   "execution_count": 7,
   "metadata": {},
   "outputs": [],
   "source": [
    "class Character:\n",
    "\n",
    "    def __init__(self):\n",
    "        self.health = 200\n",
    "\n",
    "    def Move(self):\n",
    "        self.Health -= 10\n",
    "        print('운동', self.health)\n",
    "\n",
    "    def Rest(self):\n",
    "        self.health += 10\n",
    "        print('휴식', self.health)\n",
    "\n",
    "    def checkHealth(self):\n",
    "        print('현재 상태', self.health)"
   ]
  },
  {
   "cell_type": "markdown",
   "metadata": {},
   "source": [
    "### 14.2 문제2) Knight와 Healer 클래스를 만들어 주세요.\n",
    "- Knight 와 Healer 클래스는 Charcter 클래스를 상속합니다.\n",
    "- Knight 클래스는 Move() 사용시 Health 가 -5 더 소모\n",
    "- Knight 클래스는 Attack() 추가하고 실행시 공격합니다를 출력해주세요\n",
    "- Healer 클래스는 Mana속성을 추가해주세요 (생성시 100)\n",
    "- Healer 클래스는 heal(character) 메서드를 추가하고 메서드는 character 들을 매개변수로 받습니다.\n",
    "- Healer 클래스는 heal(character) 메소드 실행시 Mana가 -10되고 전달받은 character 객체의 rest() 메소드를 실행합니다.\n",
    "- Healer 클래스는 현재 마나속성을 확인할수있는 checkMana() 메서드를 추가해주세요\n"
   ]
  },
  {
   "cell_type": "code",
   "execution_count": 8,
   "metadata": {},
   "outputs": [],
   "source": [
    "# Knight 클래스\n",
    "class Knight(Character):\n",
    "    def __init__(self):\n",
    "        super().__init__()\n",
    "\n",
    "    def Move(self):\n",
    "        super().Move()\n",
    "        self.health -= 5\n",
    "\n",
    "    def Attack(self):\n",
    "        print('공격합니다.')"
   ]
  },
  {
   "cell_type": "code",
   "execution_count": 9,
   "metadata": {},
   "outputs": [],
   "source": [
    "# Healer 클래스 \n",
    "class Healer(Character):\n",
    "    def __init__(self):\n",
    "        super().__init__()\n",
    "        self.mana = 100\n",
    "\n",
    "    def Heal(self, character):\n",
    "        print('치료합니다.')\n",
    "        self.mana -= 10\n",
    "        character.Rest()\n",
    "\n",
    "    def CeckMana(self):\n",
    "        print('현재 남은 마나', self.mana)"
   ]
  },
  {
   "cell_type": "code",
   "execution_count": 10,
   "metadata": {},
   "outputs": [
    {
     "name": "stdout",
     "output_type": "stream",
     "text": [
      "현재 상태 200\n",
      "치료합니다.\n",
      "휴식 210\n",
      "현재 상태 210\n"
     ]
    }
   ],
   "source": [
    "knight = Knight()\n",
    "healer = Healer()\n",
    "\n",
    "knight.checkHealth()\n",
    "healer.Heal(knight)\n",
    "knight.checkHealth()"
   ]
  },
  {
   "cell_type": "markdown",
   "metadata": {},
   "source": [
    "# 예외처리"
   ]
  },
  {
   "cell_type": "markdown",
   "metadata": {},
   "source": [
    "## 7. 예외처리 실습 02\n",
    "- 사용자로 부터 1회 값을 입력  받습니다.\n",
    "- 이 때 정수 2개를 띄어쓰기로 구분하여 값을 받고, 이를 split() 메서드로 값을 나눈 뒤 \u000bmap() 함수를 활용하여 각각 int로 형변환 합니다.\n",
    "- 형변환한 두 값은 unpacking해서 x, y라는 변수에 차례로 담습니다. \n",
    "- 그리고 result라는 변수에 x / y의 연산 결과를 담습니다. \n",
    "- 이 때 예외처리는 아래와 같이 작성합니다. \n",
    "    - ValueError가 발생될 때는 ‘값을 잘못 입력하셨습니다.’를 출력\n",
    "    - ZeroDivisionError(0으로 나눈 경우)는 ‘0으로 나눌 수 없습니다.’를 출력\n",
    "    - Error가 발생되지 않은 경우 result의 값을 출력\n"
   ]
  },
  {
   "cell_type": "code",
   "execution_count": 13,
   "metadata": {},
   "outputs": [
    {
     "name": "stdout",
     "output_type": "stream",
     "text": [
      "값을 잘못 입력하셨습니다.\n",
      "not enough values to unpack (expected 2, got 1)\n"
     ]
    }
   ],
   "source": [
    "try:\n",
    "    x, y = map(int, input('숫자 두 개를 입력하세요: ').split())\n",
    "    result = x / y\n",
    "except ValueError as e:\n",
    "    print('값을 잘못 입력하셨습니다.')\n",
    "    print(e)\n",
    "except ZeroDivisionError as e:\n",
    "    print('0으로 나눌 수 없습니다.')\n",
    "    print(e)\n",
    "else:\n",
    "    print(result)"
   ]
  },
  {
   "cell_type": "code",
   "execution_count": null,
   "metadata": {},
   "outputs": [],
   "source": []
  }
 ],
 "metadata": {
  "kernelspec": {
   "display_name": "myVenv",
   "language": "python",
   "name": "python3"
  },
  "language_info": {
   "codemirror_mode": {
    "name": "ipython",
    "version": 3
   },
   "file_extension": ".py",
   "mimetype": "text/x-python",
   "name": "python",
   "nbconvert_exporter": "python",
   "pygments_lexer": "ipython3",
   "version": "3.10.14"
  }
 },
 "nbformat": 4,
 "nbformat_minor": 2
}
