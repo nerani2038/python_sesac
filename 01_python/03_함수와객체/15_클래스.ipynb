{
 "cells": [
  {
   "cell_type": "markdown",
   "metadata": {},
   "source": [
    "# 클래스 "
   ]
  },
  {
   "cell_type": "markdown",
   "metadata": {},
   "source": [
    "# 1. 인스턴스 (Instance)\n",
    "인스턴스와 객체\n",
    "- 클래스(Class)를 기반으로 생성된 구체적인 객체를 의미\n",
    "- 즉, 인스턴스 = 클래스이름()에서 만들어진 객체\n"
   ]
  },
  {
   "cell_type": "code",
   "execution_count": 4,
   "metadata": {},
   "outputs": [],
   "source": [
    "class Dog:\n",
    "    \n",
    "    def __init__(self, name, age):\n",
    "        self.dog_name = name # 객체가 파라미터를 활용할 수 있도록 속성 지정 파라미터 name 이 self.name1 에 할당된다는 것\n",
    "        self.dog_age = age # age 값에 접근할수 있도록 self.age 처리\n",
    "    "
   ]
  },
  {
   "cell_type": "code",
   "execution_count": null,
   "metadata": {},
   "outputs": [
    {
     "name": "stdout",
     "output_type": "stream",
     "text": [
      "Buddy\n",
      "3\n",
      "-------\n",
      "Max\n",
      "5\n"
     ]
    }
   ],
   "source": [
    "puppy1 = Dog('Buddy', 3)\n",
    "puppy2 = Dog('Max', 5)\n",
    "\n",
    "print(puppy1.dog_name) # 인스턴스(객체) 속성에 접근\n",
    "print(puppy1.dog_age)\n",
    "print('-------')\n",
    "print(puppy2.dog_name)\n",
    "print(puppy2.dog_age) # 인스턴스(객체) 속성에 접근"
   ]
  },
  {
   "cell_type": "markdown",
   "metadata": {},
   "source": [
    "# 2. 메서드 (Method)\n",
    "\n",
    "- 클래스 바디 안에 정의되는 함수 \n",
    "- 클래스의 인스턴스 속성으로 호출되면, 그 메서드는 첫 번째 인자로 인스턴스 객체를 받음\n",
    "- 첫 번째 인자를 설정 안 하면 에러 발생\n",
    "- 이 첫 번째 인자를 'self'라고 씀"
   ]
  },
  {
   "cell_type": "code",
   "execution_count": null,
   "metadata": {},
   "outputs": [
    {
     "name": "stdout",
     "output_type": "stream",
     "text": [
      "Buddy\n"
     ]
    }
   ],
   "source": [
    "class Dog:\n",
    "    \n",
    "    # init 메서드\n",
    "    def __init__(self, name, age): # self = puppy1\n",
    "        self.dog_name = name \n",
    "        self.dog_age = age \n",
    "\n",
    "\n",
    "puppy1 = Dog('Buddy', 3)\n",
    "print(puppy1.dog_name) \n"
   ]
  },
  {
   "cell_type": "code",
   "execution_count": 9,
   "metadata": {},
   "outputs": [
    {
     "name": "stdout",
     "output_type": "stream",
     "text": [
      "hi\n"
     ]
    }
   ],
   "source": [
    "class Person:\n",
    "    \n",
    "    def __init__(self):\n",
    "        self.hello = '안녕하세요' \n",
    "\n",
    "    # def greeting(): # 전달받는 파라미터가 없음 - 객체를 통해 greeting()에 접근할 수 없음\n",
    "    def greeting(self): # 전달받는 파라미터가 객체\n",
    "        print('hi')\n",
    "\n",
    "james = Person()\n",
    "james.greeting() # TypeError: Person.greeting() takes 0 positional arguments but 1 was given\n",
    "\n",
    "# 객체를 통해 매서드에 접근을 하기 위해서는 self 를 통해 접근\n"
   ]
  },
  {
   "cell_type": "markdown",
   "metadata": {},
   "source": [
    "# 3. 클래스 속성 (Attribute)\n",
    "- 모든 객체(인스턴스)가 공유하는 속성\n",
    "- 클래스 메소드에서 객체 없이 클래스명으로 접근 가능\n"
   ]
  },
  {
   "cell_type": "code",
   "execution_count": 11,
   "metadata": {},
   "outputs": [],
   "source": [
    "class Dog:\n",
    "\n",
    "    dog_count = 0 # 클래스 속성\n",
    "\n",
    "    def __init__(self, name):\n",
    "        self.dog_name = name # self.  <- 객체에서 접근가능\n",
    "        Dog.dog_count += 1 # 클래스명.클래스속성  으로 접근\n",
    "    \n"
   ]
  },
  {
   "cell_type": "code",
   "execution_count": 16,
   "metadata": {},
   "outputs": [
    {
     "name": "stdout",
     "output_type": "stream",
     "text": [
      "Buddy\n",
      "5\n"
     ]
    }
   ],
   "source": [
    "puppy1 = Dog('Buddy')\n",
    "print(puppy1.dog_name)\n",
    "print(puppy1.dog_count)"
   ]
  },
  {
   "cell_type": "code",
   "execution_count": 17,
   "metadata": {},
   "outputs": [
    {
     "name": "stdout",
     "output_type": "stream",
     "text": [
      "Max\n",
      "6\n"
     ]
    }
   ],
   "source": [
    "puppy2 = Dog('Max')\n",
    "print(puppy2.dog_name)\n",
    "print(puppy2.dog_count)"
   ]
  },
  {
   "cell_type": "markdown",
   "metadata": {},
   "source": [
    "# 4. 생성자 함수 \n",
    "- 인스턴스를 만들 때 호출되는 특별한 메서드"
   ]
  },
  {
   "cell_type": "code",
   "execution_count": null,
   "metadata": {},
   "outputs": [],
   "source": []
  },
  {
   "cell_type": "markdown",
   "metadata": {},
   "source": [
    "# 5. 인스턴스 속성\n",
    "- __init__ 메서드에서 만듦 \n",
    "- self에 마침표를 붙여 속성명을 붙이고 값을 할당\n",
    "- 클래스 바디에서도 속성에 접근할 때 self.속성과 같이 self에 마침표를 찍고 사용하면 됨 "
   ]
  },
  {
   "cell_type": "code",
   "execution_count": null,
   "metadata": {},
   "outputs": [],
   "source": []
  },
  {
   "cell_type": "markdown",
   "metadata": {},
   "source": [
    "# 6. Self\n",
    "- 메서드가 호출된 **현재 객체(인스턴스)**를 참조\n",
    "- 클래스 내부에서 객체의 속성이나 메서드에 접근할 때 사용됨\n",
    "- 반드시 첫 번째 매개변수로 사용하며, 관례적으로 self를 사용 \n"
   ]
  },
  {
   "cell_type": "code",
   "execution_count": null,
   "metadata": {},
   "outputs": [],
   "source": []
  },
  {
   "cell_type": "markdown",
   "metadata": {},
   "source": [
    "- self를 사용하지 않으면 name과 age는 일반 로컬 변수 취급 받음"
   ]
  },
  {
   "cell_type": "code",
   "execution_count": null,
   "metadata": {},
   "outputs": [],
   "source": []
  },
  {
   "cell_type": "markdown",
   "metadata": {},
   "source": [
    "# 7. slef와 속성"
   ]
  },
  {
   "cell_type": "code",
   "execution_count": null,
   "metadata": {},
   "outputs": [],
   "source": []
  },
  {
   "cell_type": "markdown",
   "metadata": {},
   "source": [
    "# 8. 비공개 속성 사용하기 "
   ]
  },
  {
   "cell_type": "code",
   "execution_count": null,
   "metadata": {},
   "outputs": [],
   "source": []
  },
  {
   "cell_type": "code",
   "execution_count": null,
   "metadata": {},
   "outputs": [],
   "source": []
  },
  {
   "cell_type": "markdown",
   "metadata": {},
   "source": [
    "# 9. 예제를 통한 클래스 복습"
   ]
  },
  {
   "cell_type": "markdown",
   "metadata": {},
   "source": [
    "## 9.1 클래스 생성 후 인스턴스화 해보기 "
   ]
  },
  {
   "cell_type": "code",
   "execution_count": null,
   "metadata": {},
   "outputs": [],
   "source": []
  },
  {
   "cell_type": "markdown",
   "metadata": {},
   "source": [
    "## 9.2 인스턴스에 접근해보기 "
   ]
  },
  {
   "cell_type": "code",
   "execution_count": null,
   "metadata": {},
   "outputs": [],
   "source": []
  },
  {
   "cell_type": "markdown",
   "metadata": {},
   "source": [
    "## 9.3 메소드 호출하기 "
   ]
  },
  {
   "cell_type": "code",
   "execution_count": null,
   "metadata": {},
   "outputs": [],
   "source": []
  },
  {
   "cell_type": "markdown",
   "metadata": {},
   "source": [
    "## 9.4 여러개의 객체 생성해보기"
   ]
  },
  {
   "cell_type": "code",
   "execution_count": null,
   "metadata": {},
   "outputs": [],
   "source": []
  },
  {
   "cell_type": "markdown",
   "metadata": {},
   "source": [
    "## 9.5 외부에서 속성에 접근하지 못하게 차단해보기"
   ]
  },
  {
   "cell_type": "code",
   "execution_count": null,
   "metadata": {},
   "outputs": [],
   "source": []
  },
  {
   "cell_type": "code",
   "execution_count": null,
   "metadata": {},
   "outputs": [],
   "source": []
  },
  {
   "cell_type": "markdown",
   "metadata": {},
   "source": [
    "## 9.6 클래스 속성"
   ]
  },
  {
   "cell_type": "code",
   "execution_count": null,
   "metadata": {},
   "outputs": [],
   "source": []
  },
  {
   "cell_type": "markdown",
   "metadata": {},
   "source": [
    "# 10. 클래스 실습 01\n",
    "- Person 클래스로 maria, james라는 인스턴스를 생성합니다 \n",
    "- maria와 james 두 사람의 나이, 이름, 주소를 받아와 객체에 저장하고 화면에 출력해보세요."
   ]
  },
  {
   "cell_type": "code",
   "execution_count": null,
   "metadata": {},
   "outputs": [],
   "source": []
  },
  {
   "cell_type": "markdown",
   "metadata": {},
   "source": [
    "# 11. 클래스 실습 02"
   ]
  },
  {
   "cell_type": "code",
   "execution_count": null,
   "metadata": {},
   "outputs": [],
   "source": []
  },
  {
   "cell_type": "markdown",
   "metadata": {},
   "source": [
    "# 11. 데코레이터"
   ]
  },
  {
   "cell_type": "markdown",
   "metadata": {},
   "source": [
    "## 11.1 데코레이터 정의와 적용"
   ]
  },
  {
   "cell_type": "markdown",
   "metadata": {},
   "source": [
    "1. 예제1"
   ]
  },
  {
   "cell_type": "code",
   "execution_count": null,
   "metadata": {},
   "outputs": [],
   "source": []
  },
  {
   "cell_type": "markdown",
   "metadata": {},
   "source": [
    "2. 예제 2"
   ]
  },
  {
   "cell_type": "code",
   "execution_count": null,
   "metadata": {},
   "outputs": [],
   "source": []
  },
  {
   "cell_type": "markdown",
   "metadata": {},
   "source": [
    "## 11.2 정적 메서드 (static method)\n",
    "- 정적 메서드는 클래스 속성에 접근하지 않음 "
   ]
  },
  {
   "cell_type": "code",
   "execution_count": null,
   "metadata": {},
   "outputs": [],
   "source": []
  },
  {
   "cell_type": "markdown",
   "metadata": {},
   "source": [
    "## 11.3 클래스 메서드 (class method)\n",
    "- 클래스 속성을 수정하거나 생성자를 정의할 때 사용"
   ]
  },
  {
   "cell_type": "code",
   "execution_count": null,
   "metadata": {},
   "outputs": [],
   "source": []
  },
  {
   "cell_type": "markdown",
   "metadata": {},
   "source": [
    "## 11.4 클래스 메서드와 정적 메서드 비교"
   ]
  },
  {
   "cell_type": "code",
   "execution_count": null,
   "metadata": {},
   "outputs": [],
   "source": []
  },
  {
   "cell_type": "markdown",
   "metadata": {},
   "source": [
    "# 12. 클래스 실습 03"
   ]
  },
  {
   "cell_type": "code",
   "execution_count": null,
   "metadata": {},
   "outputs": [],
   "source": []
  },
  {
   "cell_type": "code",
   "execution_count": null,
   "metadata": {},
   "outputs": [],
   "source": []
  },
  {
   "cell_type": "markdown",
   "metadata": {},
   "source": [
    "# 13. 상속"
   ]
  },
  {
   "cell_type": "markdown",
   "metadata": {},
   "source": [
    "## 13.1 상속 예제1"
   ]
  },
  {
   "cell_type": "code",
   "execution_count": null,
   "metadata": {},
   "outputs": [],
   "source": []
  },
  {
   "cell_type": "code",
   "execution_count": null,
   "metadata": {},
   "outputs": [],
   "source": []
  },
  {
   "cell_type": "markdown",
   "metadata": {},
   "source": [
    "## 13.2 상속 예제 2"
   ]
  },
  {
   "cell_type": "code",
   "execution_count": null,
   "metadata": {},
   "outputs": [],
   "source": []
  },
  {
   "cell_type": "code",
   "execution_count": null,
   "metadata": {},
   "outputs": [],
   "source": []
  },
  {
   "cell_type": "markdown",
   "metadata": {},
   "source": [
    "## 13.3 상속을 통한 정적 메소드, 클래스 메소드 비교"
   ]
  },
  {
   "cell_type": "code",
   "execution_count": null,
   "metadata": {},
   "outputs": [],
   "source": []
  },
  {
   "cell_type": "code",
   "execution_count": null,
   "metadata": {},
   "outputs": [],
   "source": []
  },
  {
   "cell_type": "code",
   "execution_count": null,
   "metadata": {},
   "outputs": [],
   "source": []
  },
  {
   "cell_type": "markdown",
   "metadata": {},
   "source": [
    "# 14. 클래스 실습 04"
   ]
  },
  {
   "cell_type": "markdown",
   "metadata": {},
   "source": [
    "## 14.1 문제 1) Character 클래스를 만들어 주세요.\n",
    "- Character 클래스의 Health 속성에 200을 할당해주세요.\n",
    "- Character 클래스에 Move() 메서드를 추가하고 메서드 사용시 Health 가 -10 이 됩니다.\n",
    "- Character 클래스에 Rest() 메서드를 추가하고 메서드 사용시 Health 가 + 10 됩니다.\n",
    "- 현재 Health를 알수있는 checkHealth() 메서드를 추가해주세요\n",
    "\n",
    "\n"
   ]
  },
  {
   "cell_type": "code",
   "execution_count": null,
   "metadata": {},
   "outputs": [],
   "source": []
  },
  {
   "cell_type": "markdown",
   "metadata": {},
   "source": [
    "## 14.2 문제2) Knight와 Healer 클래스를 만들어 주세요.\n",
    "- Knight 와 Healer 클래스는 Charcter 클래스를 상속합니다.\n",
    "- Knight 클래스는 Move() 사용시 Health 가 -5 더 소모\n",
    "- Knight 클래스는 Attack() 추가하고 실행시 공격합니다를 출력해주세요\n",
    "- Healer 클래스는 Mana속성을 추가해주세요 (생성시 100)\n",
    "- Healer 클래스는 heal(character) 메서드를 추가하고 메서드는 character 들을 매개변수로 받습니다.\n",
    "- Healer 클래스는 heal(character) 메소드 실행시 Mana가 -10되고 전달받은 character 객체의 rest() 메소드를 실행합니다.\n",
    "- Healer 클래스는 현재 마나속성을 확인할수있는 checkMana() 메서드를 추가해주세요\n"
   ]
  },
  {
   "cell_type": "code",
   "execution_count": null,
   "metadata": {},
   "outputs": [],
   "source": []
  },
  {
   "cell_type": "code",
   "execution_count": null,
   "metadata": {},
   "outputs": [],
   "source": []
  },
  {
   "cell_type": "code",
   "execution_count": null,
   "metadata": {},
   "outputs": [],
   "source": []
  },
  {
   "cell_type": "code",
   "execution_count": null,
   "metadata": {},
   "outputs": [],
   "source": []
  }
 ],
 "metadata": {
  "kernelspec": {
   "display_name": "sesac",
   "language": "python",
   "name": "python3"
  },
  "language_info": {
   "codemirror_mode": {
    "name": "ipython",
    "version": 3
   },
   "file_extension": ".py",
   "mimetype": "text/x-python",
   "name": "python",
   "nbconvert_exporter": "python",
   "pygments_lexer": "ipython3",
   "version": "3.10.15"
  }
 },
 "nbformat": 4,
 "nbformat_minor": 2
}
