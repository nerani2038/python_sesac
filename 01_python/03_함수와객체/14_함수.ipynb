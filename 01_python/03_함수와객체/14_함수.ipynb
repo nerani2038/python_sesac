{
 "cells": [
  {
   "cell_type": "markdown",
   "metadata": {},
   "source": [
    "# 함수와 객체"
   ]
  },
  {
   "cell_type": "markdown",
   "metadata": {},
   "source": [
    "# 1. 함수정의 1"
   ]
  },
  {
   "cell_type": "markdown",
   "metadata": {},
   "source": [
    "## 1.1 함수 정의해보기"
   ]
  },
  {
   "cell_type": "code",
   "execution_count": 1,
   "metadata": {},
   "outputs": [
    {
     "name": "stdout",
     "output_type": "stream",
     "text": [
      "\n",
      "    이건 내 함수야!\n",
      "    정수 a, b 를 입력받으면 a+b를 반환하는 함수이다.\n",
      "    \n",
      "101\n"
     ]
    }
   ],
   "source": [
    "def my_f(a, b):\n",
    "    '''\n",
    "    이건 내 함수야!\n",
    "    정수 a, b 를 입력받으면 a+b를 반환하는 함수이다.\n",
    "    '''\n",
    "\n",
    "    return a + b\n",
    "\n",
    "print(my_f.__doc__)\n",
    "print(my_f(1, 100))"
   ]
  },
  {
   "cell_type": "code",
   "execution_count": 4,
   "metadata": {},
   "outputs": [
    {
     "name": "stdout",
     "output_type": "stream",
     "text": [
      "None\n",
      "101\n"
     ]
    }
   ],
   "source": [
    "def my_f(a, b):\n",
    "    c = a + b\n",
    "    return c\n",
    "\n",
    "print(my_f.__doc__)\n",
    "print(my_f(1, 100))"
   ]
  },
  {
   "cell_type": "code",
   "execution_count": 5,
   "metadata": {},
   "outputs": [
    {
     "name": "stdout",
     "output_type": "stream",
     "text": [
      "\n",
      "    정수 a, b 를 입력받으면 a*b를 반환하는 함수이다.\n",
      "    \n",
      "12\n"
     ]
    }
   ],
   "source": [
    "def my_f(a, b):\n",
    "    '''\n",
    "    정수 a, b 를 입력받으면 a*b를 반환하는 함수이다.\n",
    "    '''\n",
    "\n",
    "    return a * b\n",
    "\n",
    "print(my_f.__doc__)\n",
    "print(my_f(3, 4))"
   ]
  },
  {
   "cell_type": "code",
   "execution_count": null,
   "metadata": {},
   "outputs": [
    {
     "name": "stdout",
     "output_type": "stream",
     "text": [
      "2000\n"
     ]
    }
   ],
   "source": [
    "x = my_f(4,5)\n",
    "\n",
    "print(x * 100) # return 값을 반환하기 때문에 해당값에 * 100 을 해준다."
   ]
  },
  {
   "cell_type": "markdown",
   "metadata": {},
   "source": [
    "## 1.2 함수정의 실습 01"
   ]
  },
  {
   "cell_type": "code",
   "execution_count": 38,
   "metadata": {},
   "outputs": [
    {
     "name": "stdout",
     "output_type": "stream",
     "text": [
      "number가 짝수면 '짝수', 홀수면 '홀수' 반환\n",
      "짝수\n",
      "홀수\n",
      "None\n"
     ]
    }
   ],
   "source": [
    "# 쌤 방법 1\n",
    "\n",
    "def odd_even(number):\n",
    "    \"\"\"number가 짝수면 '짝수', 홀수면 '홀수' 반환\"\"\"\n",
    "    \n",
    "    if type(number) is int and number > 0: # 객체를 비교하는 것이기 때문에 is 사용\n",
    "        if number % 2 == 0:\n",
    "            return '짝수'\n",
    "        else:\n",
    "            return '홀수'\n",
    "    else:\n",
    "        return  # return 을 비울시 아무것도 반환하지 않고 종료된다.\n",
    "\n",
    "    \n",
    "print(odd_even.__doc__)\n",
    "print(odd_even(10))\n",
    "print(odd_even(9))\n",
    "print(odd_even('가'))"
   ]
  },
  {
   "cell_type": "code",
   "execution_count": 53,
   "metadata": {},
   "outputs": [
    {
     "data": {
      "text/plain": [
       "\"\\n'짝수' * (number % 2 ==0):\\n    - '짝수' * True -> '짝수' * 1 -> '짝수'\\n    - '짝수' * False -> '짝수' * 0 -> ''(빈 문자열)\\n\\nor '홀수':\\n    - '짝수' * (number % 2 == 0)가 빈 문자열이면 '홀수'반환\\n    - or 연산자는 앞쪽 피연산자가 '참'으로 평가되면 그 값을 반환하고, '거짓'으로 평가되면 뒤쪽 피연산자를 반환 \\n    - 즉, 빈 문자열은 '거짓'으로 평가되고, '홀수'는 '참'으로 평가 됨 \\n즉, 조건에 따라 '짝수' 또는 '홀수'가 반환 됨\\n\""
      ]
     },
     "execution_count": 53,
     "metadata": {},
     "output_type": "execute_result"
    }
   ],
   "source": [
    "\"\"\"\n",
    "'짝수' * (number % 2 ==0):\n",
    "    - '짝수' * True -> '짝수' * 1 -> '짝수'\n",
    "    - '짝수' * False -> '짝수' * 0 -> ''(빈 문자열)\n",
    "\n",
    "or '홀수':\n",
    "    - '짝수' * (number % 2 == 0)가 빈 문자열이면 '홀수'반환\n",
    "    - or 연산자는 앞쪽 피연산자가 '참'으로 평가되면 그 값을 반환하고, '거짓'으로 평가되면 뒤쪽 피연산자를 반환 \n",
    "    - 즉, 빈 문자열은 '거짓'으로 평가되고, '홀수'는 '참'으로 평가 됨 \n",
    "즉, 조건에 따라 '짝수' 또는 '홀수'가 반환 됨\n",
    "\"\"\""
   ]
  },
  {
   "cell_type": "code",
   "execution_count": 36,
   "metadata": {},
   "outputs": [
    {
     "name": "stdout",
     "output_type": "stream",
     "text": [
      "\n",
      "    number 가 짝수면 '짝수', 홀수면 '홀수'반환\n",
      "    \n",
      "짝수\n",
      "홀수\n",
      "None\n"
     ]
    }
   ],
   "source": [
    "def odd_even(number):\n",
    "    \"\"\"\n",
    "    number 가 짝수면 '짝수', 홀수면 '홀수'반환\n",
    "    \"\"\"\n",
    "\n",
    "    if type(number) == int:\n",
    "        if (number % 2 == 0):\n",
    "            return '짝수'\n",
    "        else:\n",
    "            return '홀수'\n",
    "\n",
    "print(odd_even.__doc__)\n",
    "print(odd_even(10))\n",
    "print(odd_even(9))\n",
    "print(odd_even('가'))"
   ]
  },
  {
   "cell_type": "code",
   "execution_count": null,
   "metadata": {},
   "outputs": [],
   "source": [
    "# 쌤 방법 1\n",
    "\n",
    "def odd_even(number):\n",
    "    \"\"\"number가 짝수면 '짝수', 홀수면 '홀수' 반환\"\"\"\n",
    "\n",
    "    if type(number) is int and number > 0:\n",
    "        return '짝수' * (number % 2 == 0) or '홀수'\n",
    "        # 불린이 연산작용시 True == 1 / False == 0\n",
    "        # number % 2 == 0 이 True 일시 '짝수' * 1 로 or 에 의해 선 조건인 '짝수'가 return\n",
    "        # number % 2 == 0 이 False 일시 '짝수' * 0 로 '홀수'가 return\n",
    "    else:\n",
    "        return\n",
    "\n",
    "    \n",
    "print(odd_even.__doc__)\n",
    "print(odd_even(10))\n",
    "print(odd_even(9))\n",
    "print(odd_even('가'))\n"
   ]
  },
  {
   "cell_type": "code",
   "execution_count": null,
   "metadata": {},
   "outputs": [],
   "source": []
  },
  {
   "cell_type": "markdown",
   "metadata": {},
   "source": [
    "## 1.3 함수정의 실습 02"
   ]
  },
  {
   "cell_type": "code",
   "execution_count": 32,
   "metadata": {},
   "outputs": [
    {
     "data": {
      "text/plain": [
       "'윤년'"
      ]
     },
     "execution_count": 32,
     "metadata": {},
     "output_type": "execute_result"
    }
   ],
   "source": [
    "def check_leap_year(year):\n",
    "    if year % 4 == 0:\n",
    "        # 윤년\n",
    "        if year % 100 == 0 and year % 400 != 0:\n",
    "            # 평년\n",
    "            return '평년'\n",
    "        return '윤년'\n",
    "\n",
    "# check_leap_year(2004)\n",
    "# check_leap_year(1900)\n",
    "check_leap_year(2000)"
   ]
  },
  {
   "cell_type": "code",
   "execution_count": null,
   "metadata": {},
   "outputs": [],
   "source": []
  },
  {
   "cell_type": "markdown",
   "metadata": {},
   "source": [
    "## 1.4 인자와 반환 값 1"
   ]
  },
  {
   "cell_type": "markdown",
   "metadata": {},
   "source": [
    "1. 인자와 반환 값 모두 없는 경우"
   ]
  },
  {
   "cell_type": "code",
   "execution_count": null,
   "metadata": {},
   "outputs": [
    {
     "name": "stdout",
     "output_type": "stream",
     "text": [
      "hello\n",
      "None\n",
      "------\n",
      "hello\n"
     ]
    }
   ],
   "source": [
    "def my_f():\n",
    "    print('hello') # 그저 함수내부가 실행되는것\n",
    "    # 반환값은 없음\n",
    "\n",
    "print(my_f()) # 친절하게 해당함수가 None 이라는것을 보여줌\n",
    "print('------')\n",
    "my_f() # 반환값이 없으므로 아무것도 보이지 않음"
   ]
  },
  {
   "cell_type": "code",
   "execution_count": 43,
   "metadata": {},
   "outputs": [
    {
     "name": "stdout",
     "output_type": "stream",
     "text": [
      "None\n",
      "hello\n",
      "None\n",
      "-------\n",
      "hello\n"
     ]
    }
   ],
   "source": [
    "def my_function():\n",
    "    print('hello')\n",
    "\n",
    "print(my_function.__doc__)\n",
    "print(my_function())\n",
    "print('-------')\n",
    "my_function()"
   ]
  },
  {
   "cell_type": "code",
   "execution_count": 44,
   "metadata": {},
   "outputs": [
    {
     "name": "stdout",
     "output_type": "stream",
     "text": [
      "None\n",
      "None\n",
      "-------\n"
     ]
    }
   ],
   "source": [
    "def my_function():\n",
    "    c = 1+1\n",
    "\n",
    "print(my_function.__doc__)\n",
    "print(my_function())\n",
    "print('-------')\n",
    "my_function()"
   ]
  },
  {
   "cell_type": "markdown",
   "metadata": {},
   "source": [
    "2. 인자는 있되, 반환 값이 없는 경우"
   ]
  },
  {
   "cell_type": "code",
   "execution_count": 41,
   "metadata": {},
   "outputs": [
    {
     "name": "stdout",
     "output_type": "stream",
     "text": [
      "Hello, Amy\n",
      "None\n",
      "----\n",
      "Hello, Daisy\n"
     ]
    }
   ],
   "source": [
    "def my_f(name):\n",
    "    print(f'Hello, {name}')\n",
    "\n",
    "\n",
    "print(my_f('Amy'))\n",
    "print('----')\n",
    "my_f('Daisy')"
   ]
  },
  {
   "cell_type": "code",
   "execution_count": 45,
   "metadata": {},
   "outputs": [
    {
     "name": "stdout",
     "output_type": "stream",
     "text": [
      "None\n"
     ]
    }
   ],
   "source": [
    "a = [1,2,3]\n",
    "\n",
    "# print(a.append(4))\n",
    "\n",
    "b = a.append(4) # 반환값이 없는 경우\n",
    "\n",
    "print(b)"
   ]
  },
  {
   "cell_type": "code",
   "execution_count": null,
   "metadata": {},
   "outputs": [
    {
     "name": "stdout",
     "output_type": "stream",
     "text": [
      "hello, Daisy\n",
      "None\n",
      "-----\n"
     ]
    },
    {
     "ename": "TypeError",
     "evalue": "can only concatenate str (not \"int\") to str",
     "output_type": "error",
     "traceback": [
      "\u001b[0;31m---------------------------------------------------------------------------\u001b[0m",
      "\u001b[0;31mTypeError\u001b[0m                                 Traceback (most recent call last)",
      "Cell \u001b[0;32mIn[48], line 6\u001b[0m\n\u001b[1;32m      4\u001b[0m \u001b[38;5;28mprint\u001b[39m(my_function(\u001b[38;5;124m'\u001b[39m\u001b[38;5;124mDaisy\u001b[39m\u001b[38;5;124m'\u001b[39m))\n\u001b[1;32m      5\u001b[0m \u001b[38;5;28mprint\u001b[39m(\u001b[38;5;124m'\u001b[39m\u001b[38;5;124m-----\u001b[39m\u001b[38;5;124m'\u001b[39m)\n\u001b[0;32m----> 6\u001b[0m \u001b[43mmy_function\u001b[49m\u001b[43m(\u001b[49m\u001b[38;5;241;43m2\u001b[39;49m\u001b[43m)\u001b[49m\n",
      "Cell \u001b[0;32mIn[48], line 2\u001b[0m, in \u001b[0;36mmy_function\u001b[0;34m(name)\u001b[0m\n\u001b[1;32m      1\u001b[0m \u001b[38;5;28;01mdef\u001b[39;00m \u001b[38;5;21mmy_function\u001b[39m(name):\n\u001b[0;32m----> 2\u001b[0m     \u001b[38;5;28mprint\u001b[39m(\u001b[38;5;124;43m'\u001b[39;49m\u001b[38;5;124;43mhello, \u001b[39;49m\u001b[38;5;124;43m'\u001b[39;49m\u001b[43m \u001b[49m\u001b[38;5;241;43m+\u001b[39;49m\u001b[43m \u001b[49m\u001b[43mname\u001b[49m)\n",
      "\u001b[0;31mTypeError\u001b[0m: can only concatenate str (not \"int\") to str"
     ]
    }
   ],
   "source": [
    "def my_function(name):\n",
    "    print('hello, ' + name)\n",
    "\n",
    "print(my_function('Daisy'))\n",
    "print('-----')\n",
    "my_function(2) # TypeError: can only concatenate str (not \"int\") to str"
   ]
  },
  {
   "cell_type": "code",
   "execution_count": null,
   "metadata": {},
   "outputs": [],
   "source": []
  },
  {
   "cell_type": "markdown",
   "metadata": {},
   "source": [
    "## 1.5 인자와 반환 값 2"
   ]
  },
  {
   "cell_type": "markdown",
   "metadata": {},
   "source": [
    "1. 인자와 반환 값이 있는 경우"
   ]
  },
  {
   "cell_type": "code",
   "execution_count": 33,
   "metadata": {},
   "outputs": [
    {
     "name": "stdout",
     "output_type": "stream",
     "text": [
      "5\n"
     ]
    }
   ],
   "source": [
    "def my_f(a, b):\n",
    "    return a + b\n",
    "\n",
    "print(my_f(2, 3))"
   ]
  },
  {
   "cell_type": "code",
   "execution_count": 54,
   "metadata": {},
   "outputs": [
    {
     "name": "stdout",
     "output_type": "stream",
     "text": [
      "5\n",
      "23\n"
     ]
    }
   ],
   "source": [
    "def my_function(a, b):\n",
    "# def my_function(a: str, b: str): # 인자값의 타입을 선언\n",
    "    return a + b\n",
    "\n",
    "print(my_function(2, 3))\n",
    "print(my_function('2', '3'))\n",
    "\n",
    "# print(my_function('2', 3))\n",
    "#TypeError: can only concatenate str (not \"int\") to str\n",
    "\n",
    "# print(my_function())\n",
    "# TypeError: my_function() missing 2 required positional arguments: 'a' and 'b'"
   ]
  },
  {
   "cell_type": "markdown",
   "metadata": {},
   "source": [
    "2. 값을 여러 개 반환"
   ]
  },
  {
   "cell_type": "code",
   "execution_count": null,
   "metadata": {},
   "outputs": [
    {
     "name": "stdout",
     "output_type": "stream",
     "text": [
      "(5, -1)\n"
     ]
    }
   ],
   "source": [
    "def my_f(a, b):\n",
    "    return a + b, a - b\n",
    "\n",
    "print(my_f(2, 3)) # 결과값이 튜플로 반환"
   ]
  },
  {
   "cell_type": "code",
   "execution_count": 56,
   "metadata": {},
   "outputs": [
    {
     "name": "stdout",
     "output_type": "stream",
     "text": [
      "(5, -1)\n"
     ]
    }
   ],
   "source": [
    "def my_function(a, b): # 전달값이 두개라서가 아니라\n",
    "    return a+b, a-b # 반환값이 두개이기 때문에 튜틀인것\n",
    "\n",
    "print(my_function(2,3))"
   ]
  },
  {
   "cell_type": "code",
   "execution_count": 57,
   "metadata": {},
   "outputs": [
    {
     "name": "stdout",
     "output_type": "stream",
     "text": [
      "(10, 0)\n"
     ]
    }
   ],
   "source": [
    "def my_function(a):\n",
    "    return a+a, a-a\n",
    "\n",
    "print(my_function(5))"
   ]
  },
  {
   "cell_type": "markdown",
   "metadata": {},
   "source": [
    "# 2. 인자(파라미터)"
   ]
  },
  {
   "cell_type": "markdown",
   "metadata": {},
   "source": [
    "## 2.1 위치-키워드 인자 (positional-or-keyword parameters)"
   ]
  },
  {
   "cell_type": "markdown",
   "metadata": {},
   "source": [
    "1. 위치-키워드 인자를 사용한 함수 정의 및 호출법"
   ]
  },
  {
   "cell_type": "code",
   "execution_count": 64,
   "metadata": {},
   "outputs": [],
   "source": [
    "# 함수 정의부\n",
    "def greeting(name, age): # 위치, 키워드 둘다 사용가능\n",
    "    print(f'{name}, 안녕하세요. {age/365}일 되었습니다.')"
   ]
  },
  {
   "cell_type": "code",
   "execution_count": 66,
   "metadata": {},
   "outputs": [
    {
     "name": "stdout",
     "output_type": "stream",
     "text": [
      "hyeran, 안녕하세요. 0.08767123287671233일 되었습니다.\n",
      "---------\n",
      "hyeran, 안녕하세요. 0.08767123287671233일 되었습니다.\n",
      "None\n"
     ]
    }
   ],
   "source": [
    "# 함수 호출부\n",
    "greeting('hyeran', 32) # 위치\n",
    "print('---------')\n",
    "print(greeting('hyeran', 32))"
   ]
  },
  {
   "cell_type": "markdown",
   "metadata": {},
   "source": [
    "2. 위치 상관 없이 인수를 기입한 경우"
   ]
  },
  {
   "cell_type": "code",
   "execution_count": null,
   "metadata": {},
   "outputs": [
    {
     "ename": "TypeError",
     "evalue": "unsupported operand type(s) for /: 'str' and 'int'",
     "output_type": "error",
     "traceback": [
      "\u001b[0;31m---------------------------------------------------------------------------\u001b[0m",
      "\u001b[0;31mTypeError\u001b[0m                                 Traceback (most recent call last)",
      "Cell \u001b[0;32mIn[65], line 2\u001b[0m\n\u001b[1;32m      1\u001b[0m \u001b[38;5;66;03m# 함수 호출부\u001b[39;00m\n\u001b[0;32m----> 2\u001b[0m \u001b[43mgreeting\u001b[49m\u001b[43m(\u001b[49m\u001b[38;5;241;43m32\u001b[39;49m\u001b[43m,\u001b[49m\u001b[43m \u001b[49m\u001b[38;5;124;43m'\u001b[39;49m\u001b[38;5;124;43m파이썬\u001b[39;49m\u001b[38;5;124;43m'\u001b[39;49m\u001b[43m)\u001b[49m \u001b[38;5;66;03m# 위치상관없\u001b[39;00m\n\u001b[1;32m      3\u001b[0m \u001b[38;5;66;03m# 함수의 내부코드에 따라 위치에 주의해서 인자값을 넘겨줘야한다.\u001b[39;00m\n",
      "Cell \u001b[0;32mIn[64], line 3\u001b[0m, in \u001b[0;36mgreeting\u001b[0;34m(name, age)\u001b[0m\n\u001b[1;32m      2\u001b[0m \u001b[38;5;28;01mdef\u001b[39;00m \u001b[38;5;21mgreeting\u001b[39m(name, age): \u001b[38;5;66;03m# 위치, 키워드 둘다 사용가능\u001b[39;00m\n\u001b[0;32m----> 3\u001b[0m     \u001b[38;5;28mprint\u001b[39m(\u001b[38;5;124mf\u001b[39m\u001b[38;5;124m'\u001b[39m\u001b[38;5;132;01m{\u001b[39;00mname\u001b[38;5;132;01m}\u001b[39;00m\u001b[38;5;124m, 안녕하세요. \u001b[39m\u001b[38;5;132;01m{\u001b[39;00m\u001b[43mage\u001b[49m\u001b[38;5;241;43m/\u001b[39;49m\u001b[38;5;241;43m365\u001b[39;49m\u001b[38;5;132;01m}\u001b[39;00m\u001b[38;5;124m일 되었습니다.\u001b[39m\u001b[38;5;124m'\u001b[39m)\n",
      "\u001b[0;31mTypeError\u001b[0m: unsupported operand type(s) for /: 'str' and 'int'"
     ]
    }
   ],
   "source": [
    "# 함수 호출부\n",
    "greeting(32, '파이썬') # 위치\n",
    "# 함수의 내부코드에 따라 위치에 주의해서 인자값을 넘겨줘야한다."
   ]
  },
  {
   "cell_type": "markdown",
   "metadata": {},
   "source": [
    "3. 키워드 인수로 함수 호출\n",
    "    - 위치 상관 없어짐"
   ]
  },
  {
   "cell_type": "code",
   "execution_count": 67,
   "metadata": {},
   "outputs": [
    {
     "name": "stdout",
     "output_type": "stream",
     "text": [
      "파이썬, 안녕하세요. 0.08767123287671233일 되었습니다.\n"
     ]
    }
   ],
   "source": [
    "# 함수 호출부\n",
    "greeting(name='파이썬', age=32) # 키워드"
   ]
  },
  {
   "cell_type": "code",
   "execution_count": 68,
   "metadata": {},
   "outputs": [
    {
     "name": "stdout",
     "output_type": "stream",
     "text": [
      "파이썬, 안녕하세요. 0.08767123287671233일 되었습니다.\n"
     ]
    }
   ],
   "source": [
    "# 함수 호출부\n",
    "greeting(age=32, name='파이썬') # 키워드\n",
    "# 순서 상관없이 키워드와 매칭되어 값이 넘어감"
   ]
  },
  {
   "cell_type": "markdown",
   "metadata": {},
   "source": [
    "4. 기본 값이 없는 키워드-위치 인자일 경우\n",
    "- 인수를 받지 못하면 에러 발생"
   ]
  },
  {
   "cell_type": "code",
   "execution_count": null,
   "metadata": {},
   "outputs": [
    {
     "ename": "TypeError",
     "evalue": "greeting() missing 2 required positional arguments: 'name' and 'age'",
     "output_type": "error",
     "traceback": [
      "\u001b[0;31m---------------------------------------------------------------------------\u001b[0m",
      "\u001b[0;31mTypeError\u001b[0m                                 Traceback (most recent call last)",
      "Cell \u001b[0;32mIn[69], line 1\u001b[0m\n\u001b[0;32m----> 1\u001b[0m \u001b[43mgreeting\u001b[49m\u001b[43m(\u001b[49m\u001b[43m)\u001b[49m\n",
      "\u001b[0;31mTypeError\u001b[0m: greeting() missing 2 required positional arguments: 'name' and 'age'"
     ]
    }
   ],
   "source": [
    "greeting()\n",
    "# TypeError: greeting() missing 2 required positional arguments: 'name' and 'age'"
   ]
  },
  {
   "cell_type": "code",
   "execution_count": null,
   "metadata": {},
   "outputs": [
    {
     "ename": "TypeError",
     "evalue": "greeting() missing 1 required positional argument: 'age'",
     "output_type": "error",
     "traceback": [
      "\u001b[0;31m---------------------------------------------------------------------------\u001b[0m",
      "\u001b[0;31mTypeError\u001b[0m                                 Traceback (most recent call last)",
      "Cell \u001b[0;32mIn[70], line 1\u001b[0m\n\u001b[0;32m----> 1\u001b[0m \u001b[43mgreeting\u001b[49m\u001b[43m(\u001b[49m\u001b[38;5;124;43m'\u001b[39;49m\u001b[38;5;124;43m파이썬\u001b[39;49m\u001b[38;5;124;43m'\u001b[39;49m\u001b[43m)\u001b[49m\n",
      "\u001b[0;31mTypeError\u001b[0m: greeting() missing 1 required positional argument: 'age'"
     ]
    }
   ],
   "source": [
    "greeting('파이썬')\n",
    "# TypeError: greeting() missing 1 required positional argument: 'age'"
   ]
  },
  {
   "cell_type": "markdown",
   "metadata": {},
   "source": [
    "5. 기본값을 갖는 default parameter는 기본값을 갖지 않는 non-default parameter보다 뒤에 작성"
   ]
  },
  {
   "cell_type": "code",
   "execution_count": 71,
   "metadata": {},
   "outputs": [],
   "source": [
    "# 함수 정의부\n",
    "def greeting(name='default', age=11): # 위치, 키워드 둘다 사용가능\n",
    "    print(f'{name}, 안녕하세요. {age/365}일 되었습니다.')"
   ]
  },
  {
   "cell_type": "code",
   "execution_count": null,
   "metadata": {},
   "outputs": [
    {
     "name": "stdout",
     "output_type": "stream",
     "text": [
      "default, 안녕하세요. 0.030136986301369864일 되었습니다.\n"
     ]
    }
   ],
   "source": [
    "greeting()\n",
    "# 기본값이 있다면 인자값이 넘어가지 않아도 기본값으로 함수가 동작한다."
   ]
  },
  {
   "cell_type": "code",
   "execution_count": null,
   "metadata": {},
   "outputs": [
    {
     "name": "stdout",
     "output_type": "stream",
     "text": [
      "파이썬, 안녕하세요. 0.030136986301369864일 되었습니다.\n"
     ]
    }
   ],
   "source": [
    "greeting(name='파이썬') # 넘어간 인자값으로 동작"
   ]
  },
  {
   "cell_type": "code",
   "execution_count": null,
   "metadata": {},
   "outputs": [
    {
     "ename": "SyntaxError",
     "evalue": "non-default argument follows default argument (3023847935.py, line 2)",
     "output_type": "error",
     "traceback": [
      "\u001b[0;36m  Cell \u001b[0;32mIn[74], line 2\u001b[0;36m\u001b[0m\n\u001b[0;31m    def greeting(name='default', age): # 위치, 키워드 둘다 사용가능\u001b[0m\n\u001b[0m                                 ^\u001b[0m\n\u001b[0;31mSyntaxError\u001b[0m\u001b[0;31m:\u001b[0m non-default argument follows default argument\n"
     ]
    }
   ],
   "source": [
    "# 함수 정의부\n",
    "def greeting(name='default', age): # 위치, 키워드 둘다 사용가능\n",
    "    # SyntaxError: non-default argument follows default argument\n",
    "    print(f'{name}, 안녕하세요. {age/365}일 되었습니다.')"
   ]
  },
  {
   "cell_type": "code",
   "execution_count": 75,
   "metadata": {},
   "outputs": [],
   "source": [
    "# 함수 정의부\n",
    "def greeting(age, name='default'): # 위치, 키워드 둘다 사용가능\n",
    "    print(f'{name}, 안녕하세요. {age/365}일 되었습니다.')"
   ]
  },
  {
   "cell_type": "markdown",
   "metadata": {},
   "source": [
    "## 2.2 위치인수와 키워드 인수"
   ]
  },
  {
   "cell_type": "code",
   "execution_count": null,
   "metadata": {},
   "outputs": [],
   "source": [
    "# 함수 정의부\n",
    "def greeting(name, age): \n",
    "    print(f'{name}, 안녕하세요. {age/365}일 되었습니다.')"
   ]
  },
  {
   "cell_type": "code",
   "execution_count": null,
   "metadata": {},
   "outputs": [
    {
     "ename": "SyntaxError",
     "evalue": "positional argument follows keyword argument (145243845.py, line 1)",
     "output_type": "error",
     "traceback": [
      "\u001b[0;36m  Cell \u001b[0;32mIn[77], line 1\u001b[0;36m\u001b[0m\n\u001b[0;31m    greeting(name='test', 32)\u001b[0m\n\u001b[0m                            ^\u001b[0m\n\u001b[0;31mSyntaxError\u001b[0m\u001b[0;31m:\u001b[0m positional argument follows keyword argument\n"
     ]
    }
   ],
   "source": [
    "greeting(name='test', 32) # 키워드 인자 사용시 위치 인자를 먼저 써야 한다."
   ]
  },
  {
   "cell_type": "code",
   "execution_count": null,
   "metadata": {},
   "outputs": [
    {
     "ename": "TypeError",
     "evalue": "greeting() got multiple values for argument 'name'",
     "output_type": "error",
     "traceback": [
      "\u001b[0;31m---------------------------------------------------------------------------\u001b[0m",
      "\u001b[0;31mTypeError\u001b[0m                                 Traceback (most recent call last)",
      "Cell \u001b[0;32mIn[78], line 1\u001b[0m\n\u001b[0;32m----> 1\u001b[0m \u001b[43mgreeting\u001b[49m\u001b[43m(\u001b[49m\u001b[38;5;241;43m32\u001b[39;49m\u001b[43m,\u001b[49m\u001b[43m \u001b[49m\u001b[43mname\u001b[49m\u001b[38;5;241;43m=\u001b[39;49m\u001b[38;5;124;43m'\u001b[39;49m\u001b[38;5;124;43mtest\u001b[39;49m\u001b[38;5;124;43m'\u001b[39;49m\u001b[43m)\u001b[49m\n",
      "\u001b[0;31mTypeError\u001b[0m: greeting() got multiple values for argument 'name'"
     ]
    }
   ],
   "source": [
    "greeting(32, name='test') # 32를 name위치에 사용해서 에러발생"
   ]
  },
  {
   "cell_type": "code",
   "execution_count": null,
   "metadata": {},
   "outputs": [
    {
     "name": "stdout",
     "output_type": "stream",
     "text": [
      "test, 안녕하세요. 0.08767123287671233일 되었습니다.\n"
     ]
    }
   ],
   "source": [
    "greeting('test', age=32) # 위치는 지키되, 위치인수 다음에 키워드 인수 순으로 작성해야함"
   ]
  },
  {
   "cell_type": "markdown",
   "metadata": {},
   "source": [
    "## 2.3 위치 전용 인자 (positional-only parameters)"
   ]
  },
  {
   "cell_type": "markdown",
   "metadata": {},
   "source": [
    "1. 위치 전용 인자 선언 방법"
   ]
  },
  {
   "cell_type": "code",
   "execution_count": null,
   "metadata": {},
   "outputs": [],
   "source": [
    "# 요기요기   /\n",
    "def position_only(posonly, /): # /  위치전용\n",
    "    print(posonly)"
   ]
  },
  {
   "cell_type": "code",
   "execution_count": null,
   "metadata": {},
   "outputs": [
    {
     "name": "stdout",
     "output_type": "stream",
     "text": [
      "값만 입력해야합니다.\n",
      "None\n"
     ]
    }
   ],
   "source": [
    "print(position_only('값만 입력해야합니다.')) # 위치전용"
   ]
  },
  {
   "cell_type": "markdown",
   "metadata": {},
   "source": [
    "2. 위치 전용 인자에 키워드 인수를 전달하면 TypeError 오류 발생"
   ]
  },
  {
   "cell_type": "code",
   "execution_count": 91,
   "metadata": {},
   "outputs": [
    {
     "ename": "TypeError",
     "evalue": "position_only() got some positional-only arguments passed as keyword arguments: 'posonly'",
     "output_type": "error",
     "traceback": [
      "\u001b[0;31m---------------------------------------------------------------------------\u001b[0m",
      "\u001b[0;31mTypeError\u001b[0m                                 Traceback (most recent call last)",
      "Cell \u001b[0;32mIn[91], line 1\u001b[0m\n\u001b[0;32m----> 1\u001b[0m \u001b[43mposition_only\u001b[49m\u001b[43m(\u001b[49m\u001b[43mposonly\u001b[49m\u001b[38;5;241;43m=\u001b[39;49m\u001b[38;5;124;43m'\u001b[39;49m\u001b[38;5;124;43mtest\u001b[39;49m\u001b[38;5;124;43m'\u001b[39;49m\u001b[43m)\u001b[49m \u001b[38;5;66;03m# 키워드 안됨\u001b[39;00m\n",
      "\u001b[0;31mTypeError\u001b[0m: position_only() got some positional-only arguments passed as keyword arguments: 'posonly'"
     ]
    }
   ],
   "source": [
    "position_only(posonly='test') # 키워드 안됨"
   ]
  },
  {
   "cell_type": "code",
   "execution_count": null,
   "metadata": {},
   "outputs": [],
   "source": []
  },
  {
   "cell_type": "markdown",
   "metadata": {},
   "source": [
    "## 2.4 키워드 전용 인자 (keyword-only parameters)"
   ]
  },
  {
   "cell_type": "markdown",
   "metadata": {},
   "source": [
    "1. 키워드 전용 인자 통해 함수 선언 방법"
   ]
  },
  {
   "cell_type": "code",
   "execution_count": 92,
   "metadata": {},
   "outputs": [],
   "source": [
    "#  *  요기요기\n",
    "def key_only(*, keyonly):\n",
    "    print(keyonly)"
   ]
  },
  {
   "cell_type": "code",
   "execution_count": 93,
   "metadata": {},
   "outputs": [
    {
     "name": "stdout",
     "output_type": "stream",
     "text": [
      "키워드로만 입력해야 합니다.\n"
     ]
    }
   ],
   "source": [
    "key_only(keyonly='키워드로만 입력해야 합니다.')"
   ]
  },
  {
   "cell_type": "markdown",
   "metadata": {},
   "source": [
    "2. 키워드 전용 인자에 default값 적용"
   ]
  },
  {
   "cell_type": "code",
   "execution_count": 96,
   "metadata": {},
   "outputs": [],
   "source": [
    "def key_only(*, keyonly='test'):\n",
    "    print(keyonly)"
   ]
  },
  {
   "cell_type": "code",
   "execution_count": 98,
   "metadata": {},
   "outputs": [
    {
     "name": "stdout",
     "output_type": "stream",
     "text": [
      "test\n",
      "test\n",
      "None\n"
     ]
    }
   ],
   "source": [
    "key_only()\n",
    "print(key_only())"
   ]
  },
  {
   "cell_type": "code",
   "execution_count": 99,
   "metadata": {},
   "outputs": [
    {
     "name": "stdout",
     "output_type": "stream",
     "text": [
      "testtest\n"
     ]
    }
   ],
   "source": [
    "key_only(keyonly='testtest')"
   ]
  },
  {
   "cell_type": "markdown",
   "metadata": {},
   "source": [
    "3. 키워드 전용인자에 위치 인수 전달 시 TypeError 오류 발생"
   ]
  },
  {
   "cell_type": "code",
   "execution_count": 100,
   "metadata": {},
   "outputs": [
    {
     "ename": "TypeError",
     "evalue": "key_only() takes 0 positional arguments but 1 was given",
     "output_type": "error",
     "traceback": [
      "\u001b[0;31m---------------------------------------------------------------------------\u001b[0m",
      "\u001b[0;31mTypeError\u001b[0m                                 Traceback (most recent call last)",
      "Cell \u001b[0;32mIn[100], line 1\u001b[0m\n\u001b[0;32m----> 1\u001b[0m \u001b[43mkey_only\u001b[49m\u001b[43m(\u001b[49m\u001b[38;5;124;43m'\u001b[39;49m\u001b[38;5;124;43mtest\u001b[39;49m\u001b[38;5;124;43m'\u001b[39;49m\u001b[43m)\u001b[49m\n",
      "\u001b[0;31mTypeError\u001b[0m: key_only() takes 0 positional arguments but 1 was given"
     ]
    }
   ],
   "source": [
    "key_only('test')"
   ]
  },
  {
   "cell_type": "code",
   "execution_count": null,
   "metadata": {},
   "outputs": [],
   "source": []
  },
  {
   "cell_type": "markdown",
   "metadata": {},
   "source": [
    "## 2.5 가변-위치 인자 (var-positional parameters)"
   ]
  },
  {
   "cell_type": "markdown",
   "metadata": {},
   "source": [
    "1. 가변-위치 인자에 위치 인수 전달 "
   ]
  },
  {
   "cell_type": "code",
   "execution_count": null,
   "metadata": {},
   "outputs": [],
   "source": [
    "def var_positional(*args): # 가변위치인자는 *args 로 약속함\n",
    "    print(type(args))\n",
    "    return args"
   ]
  },
  {
   "cell_type": "code",
   "execution_count": null,
   "metadata": {},
   "outputs": [
    {
     "name": "stdout",
     "output_type": "stream",
     "text": [
      "<class 'tuple'>\n"
     ]
    },
    {
     "data": {
      "text/plain": [
       "(1, 2, 3)"
      ]
     },
     "execution_count": 102,
     "metadata": {},
     "output_type": "execute_result"
    }
   ],
   "source": [
    "var_positional(1,2,3) # 튜플로 패킹되어 전달되고 함수정의부가 한줄씩 실행됨"
   ]
  },
  {
   "cell_type": "code",
   "execution_count": null,
   "metadata": {},
   "outputs": [],
   "source": [
    "def var_positional(*args): # 가변위치인자는 *args 로 약속함\n",
    "    print(type(args)) # 튜플\n",
    "\n",
    "    test = [i for i in args] # 반복문이 한줄로 쓰임 - 결과값 for i in args - args의 인자값(튜플의)을 반복문을 돌면서 하나씩 리스트 안에 쌓아라.\n",
    "    print(test[0])\n",
    "\n",
    "    return test"
   ]
  },
  {
   "cell_type": "code",
   "execution_count": null,
   "metadata": {},
   "outputs": [
    {
     "name": "stdout",
     "output_type": "stream",
     "text": [
      "[2, 4, 6]\n"
     ]
    }
   ],
   "source": [
    "args = (1,2,3)\n",
    "\n",
    "test = [i for i in args] # list comprehension\n",
    "# test = [i * 2 for i in args] # 이런식으로 i의 값을 사용해서 리스트로 담아줄수가 있음\n",
    "print(test)"
   ]
  },
  {
   "cell_type": "code",
   "execution_count": 110,
   "metadata": {},
   "outputs": [
    {
     "data": {
      "text/plain": [
       "[1, 2, 3]"
      ]
     },
     "execution_count": 110,
     "metadata": {},
     "output_type": "execute_result"
    }
   ],
   "source": [
    "test = list(args) # unpacking\n",
    "test"
   ]
  },
  {
   "cell_type": "code",
   "execution_count": null,
   "metadata": {},
   "outputs": [],
   "source": []
  },
  {
   "cell_type": "code",
   "execution_count": null,
   "metadata": {},
   "outputs": [],
   "source": [
    "def var_positional(*args):\n",
    "    print(type(args))\n",
    "\n",
    "    test = [i for i in args]\n",
    "    print(test[0])\n",
    "\n",
    "    return test"
   ]
  },
  {
   "cell_type": "code",
   "execution_count": 114,
   "metadata": {},
   "outputs": [
    {
     "name": "stdout",
     "output_type": "stream",
     "text": [
      "<class 'tuple'>\n",
      "1\n"
     ]
    },
    {
     "data": {
      "text/plain": [
       "[1, 2, 3]"
      ]
     },
     "execution_count": 114,
     "metadata": {},
     "output_type": "execute_result"
    }
   ],
   "source": [
    "var_positional(1,2,3)"
   ]
  },
  {
   "cell_type": "markdown",
   "metadata": {},
   "source": [
    "2. 가변-위치 인자에 인수 전달 생략해보기"
   ]
  },
  {
   "cell_type": "code",
   "execution_count": 116,
   "metadata": {},
   "outputs": [],
   "source": [
    "def var_positional(*args):\n",
    "    print(type(args))\n",
    "    return args"
   ]
  },
  {
   "cell_type": "code",
   "execution_count": 117,
   "metadata": {},
   "outputs": [
    {
     "name": "stdout",
     "output_type": "stream",
     "text": [
      "<class 'tuple'>\n"
     ]
    },
    {
     "data": {
      "text/plain": [
       "()"
      ]
     },
     "execution_count": 117,
     "metadata": {},
     "output_type": "execute_result"
    }
   ],
   "source": [
    "var_positional()"
   ]
  },
  {
   "cell_type": "code",
   "execution_count": null,
   "metadata": {},
   "outputs": [],
   "source": []
  },
  {
   "cell_type": "code",
   "execution_count": null,
   "metadata": {},
   "outputs": [],
   "source": []
  },
  {
   "cell_type": "markdown",
   "metadata": {},
   "source": [
    "## 2.6 가변-키워드 인자 (var-keyword parameters)"
   ]
  },
  {
   "cell_type": "markdown",
   "metadata": {},
   "source": [
    "1. 가변-키워드 인자에 키워드 인수 전달 "
   ]
  },
  {
   "cell_type": "code",
   "execution_count": null,
   "metadata": {},
   "outputs": [],
   "source": [
    "def var_keyword(**kargs):\n",
    "    print(type(kargs)) # 딕셔너리\n",
    "    return kargs"
   ]
  },
  {
   "cell_type": "code",
   "execution_count": 119,
   "metadata": {},
   "outputs": [
    {
     "name": "stdout",
     "output_type": "stream",
     "text": [
      "<class 'dict'>\n"
     ]
    },
    {
     "data": {
      "text/plain": [
       "{'key': 'value1', 'key2': 'value2'}"
      ]
     },
     "execution_count": 119,
     "metadata": {},
     "output_type": "execute_result"
    }
   ],
   "source": [
    "var_keyword(key='value1', key2='value2')"
   ]
  },
  {
   "cell_type": "code",
   "execution_count": null,
   "metadata": {},
   "outputs": [],
   "source": [
    "def var_keyword(**kargs):\n",
    "    print(type(kargs)) # 딕셔너리\n",
    "\n",
    "    test = kargs['key1'] # 딕셔너리에서 키를 통해 밸류에 접근하여 할당\n",
    "    print(test*3)\n",
    "\n",
    "    return kargs"
   ]
  },
  {
   "cell_type": "code",
   "execution_count": 122,
   "metadata": {},
   "outputs": [
    {
     "name": "stdout",
     "output_type": "stream",
     "text": [
      "<class 'dict'>\n",
      "value1value1value1\n"
     ]
    },
    {
     "data": {
      "text/plain": [
       "{'key1': 'value1', 'key2': 'value2'}"
      ]
     },
     "execution_count": 122,
     "metadata": {},
     "output_type": "execute_result"
    }
   ],
   "source": [
    "var_keyword(key1='value1', key2='value2')"
   ]
  },
  {
   "cell_type": "markdown",
   "metadata": {},
   "source": [
    "2. 전달할 키워드 인수 생략"
   ]
  },
  {
   "cell_type": "code",
   "execution_count": 123,
   "metadata": {},
   "outputs": [],
   "source": [
    "def var_keyword(**kargs):\n",
    "    print(type(kargs)) # 딕셔너리\n",
    "\n",
    "    return kargs"
   ]
  },
  {
   "cell_type": "code",
   "execution_count": 124,
   "metadata": {},
   "outputs": [
    {
     "name": "stdout",
     "output_type": "stream",
     "text": [
      "<class 'dict'>\n"
     ]
    },
    {
     "data": {
      "text/plain": [
       "{}"
      ]
     },
     "execution_count": 124,
     "metadata": {},
     "output_type": "execute_result"
    }
   ],
   "source": [
    "var_keyword()"
   ]
  },
  {
   "cell_type": "markdown",
   "metadata": {},
   "source": [
    "## 2.7 인자(파라미터) 실습 01"
   ]
  },
  {
   "cell_type": "code",
   "execution_count": null,
   "metadata": {},
   "outputs": [],
   "source": []
  },
  {
   "cell_type": "code",
   "execution_count": null,
   "metadata": {},
   "outputs": [],
   "source": []
  },
  {
   "cell_type": "markdown",
   "metadata": {},
   "source": [
    "# 3. 변수의 범위"
   ]
  },
  {
   "cell_type": "markdown",
   "metadata": {},
   "source": [
    "## 3.1 전역 변수 (global variable)"
   ]
  },
  {
   "cell_type": "code",
   "execution_count": 125,
   "metadata": {},
   "outputs": [
    {
     "name": "stdout",
     "output_type": "stream",
     "text": [
      "global_test:  This is global world\n",
      "global_test in global scope => This is global world\n"
     ]
    }
   ],
   "source": [
    "global_test = 'This is global world'# 전역변수\n",
    "\n",
    "print('global_test: ', global_test)\n",
    "\n",
    "def local_world():\n",
    "    print(f'global_test in global scope =>', global_test)\n",
    "\n",
    "\n",
    "local_world()"
   ]
  },
  {
   "cell_type": "markdown",
   "metadata": {},
   "source": [
    "## 3.2 지역 변수 (local variable)"
   ]
  },
  {
   "cell_type": "code",
   "execution_count": 135,
   "metadata": {},
   "outputs": [
    {
     "name": "stdout",
     "output_type": "stream",
     "text": [
      "test2\n",
      "None\n"
     ]
    }
   ],
   "source": [
    "global_test = 'test'\n",
    "\n",
    "def local_world(world):\n",
    "    my_local = 'This is my local world' # 함수 내 변수 - 지역변수\n",
    "    # print(global_test) # 전역변수 접근가능 but 수정불가능\n",
    "    global_test = 'test2' # UnboundLocalError: local variable 'global_test' referenced before assignment\n",
    "    print(global_test)\n",
    "\n",
    "# print(my_local) # NameError: name 'my_local' is not defined\n",
    "# local_world('test')\n",
    "# print(global_test)\n",
    "print(local_world('global'))"
   ]
  },
  {
   "cell_type": "markdown",
   "metadata": {},
   "source": [
    "## 3.3 지역범위에서 전역 변수 할당하기\n",
    "전역변수와 지역변수의 변수명을 동일시하고 할당된 값은 다르게한 뒤 변수를 출력했을 때 둘 중 어떤 변수가 호출되는지 확인해보자 "
   ]
  },
  {
   "cell_type": "code",
   "execution_count": null,
   "metadata": {},
   "outputs": [
    {
     "name": "stdout",
     "output_type": "stream",
     "text": [
      "test\n"
     ]
    }
   ],
   "source": [
    "global_test = 'test'\n",
    "\n",
    "def local_world(world):\n",
    "    my_local = 'This is my local world' # 함수 내 변수 - 지역변수\n",
    "    global_test = 'test2' # UnboundLocalError: local variable 'global_test' referenced before assignment\n",
    "\n",
    "print(global_test)"
   ]
  },
  {
   "cell_type": "markdown",
   "metadata": {},
   "source": [
    "global 키워드를 활용하여 지역 범위에서 전역변수를 사용하겠다고 설정"
   ]
  },
  {
   "cell_type": "code",
   "execution_count": 141,
   "metadata": {},
   "outputs": [
    {
     "name": "stdout",
     "output_type": "stream",
     "text": [
      "test\n"
     ]
    }
   ],
   "source": [
    "global_test = 'test' # 전역변수\n",
    "\n",
    "def local_world():\n",
    "    global global_test # 예약어, 키워드 # global_test 전역변수를 지역에서 확용좀 할께\n",
    "    global_test = 'test2' # 지역변수\n",
    "\n",
    "# 전역범위\n",
    "print(global_test) # test2"
   ]
  },
  {
   "cell_type": "code",
   "execution_count": 142,
   "metadata": {},
   "outputs": [
    {
     "name": "stdout",
     "output_type": "stream",
     "text": [
      "test2\n"
     ]
    }
   ],
   "source": [
    "global_test = 'test' # 전역변수\n",
    "\n",
    "def local_world():\n",
    "    # my_local = 'This is my local world' # 함수 내 변수 - 지역변수\n",
    "    global global_test # 예약어, 키워드 # global_test 전역변수를 지역에서 확용좀 할께\n",
    "    global_test = 'test2' # 지역변수\n",
    "\n",
    "# 전역범위\n",
    "local_world()\n",
    "print(global_test) # test2"
   ]
  },
  {
   "cell_type": "markdown",
   "metadata": {},
   "source": [
    "# 4. 중첩 함수"
   ]
  },
  {
   "cell_type": "markdown",
   "metadata": {},
   "source": [
    "## 4.1 중첩 함수 만들어보기"
   ]
  },
  {
   "cell_type": "code",
   "execution_count": null,
   "metadata": {},
   "outputs": [
    {
     "name": "stdout",
     "output_type": "stream",
     "text": [
      "This is level 1\n"
     ]
    }
   ],
   "source": [
    "my_global = 'global'\n",
    "\n",
    "def level_1():\n",
    "    message = \"This is level 1\" # 지역변수\n",
    "    \n",
    "    # 중첩함수\n",
    "    def level_2():\n",
    "        print(message)\n",
    "    level_2() # 호출해야만 함수 사용가능\n",
    "\n",
    "    print(my_global) # 전역 변수 접근 가능 but 수정은 불가능\n",
    "\n",
    "level_1()"
   ]
  },
  {
   "cell_type": "markdown",
   "metadata": {},
   "source": [
    "## 4.2 안쪽 함수에서 바깥쪽 함수의 변수 변경해보기"
   ]
  },
  {
   "cell_type": "code",
   "execution_count": null,
   "metadata": {},
   "outputs": [
    {
     "name": "stdout",
     "output_type": "stream",
     "text": [
      "Level 2 is better than level 1\n"
     ]
    }
   ],
   "source": [
    "def level_1(): ## 2\n",
    "    message = \"This is level 1\" # 지역변수 ## 3\n",
    "    \n",
    "    # 중첩함수\n",
    "    def level_2(): ## 5\n",
    "        nonlocal message # 바깥함수의 message 를 사용하겠다. ## 6\n",
    "        message = 'Level 2 is better than level 1' ## 7\n",
    "        print(message) ## 8\n",
    "    level_2() # 호출해야만 함수 사용가능 ## 4\n",
    "\n",
    "level_1() ## 1"
   ]
  },
  {
   "cell_type": "markdown",
   "metadata": {},
   "source": [
    "## 4.3 nonlocal 주의점\n",
    "1. 중첩된 함수마다 같은 이름의 변수가 있다면 nonlocal 키워드는 *제일 가까운 바깥 변수 매칭*\n"
   ]
  },
  {
   "cell_type": "code",
   "execution_count": 148,
   "metadata": {},
   "outputs": [
    {
     "name": "stdout",
     "output_type": "stream",
     "text": [
      "Level 2 is better than level 1\n"
     ]
    }
   ],
   "source": [
    "def level_1():\n",
    "    message = 'This is level 1'\n",
    "\n",
    "    def level_2():\n",
    "        message = 'Level 2 is better than level 1'\n",
    "\n",
    "        def level_2_1():\n",
    "            message = 'Level 2-1 message'\n",
    "\n",
    "        def level_3():\n",
    "            nonlocal message\n",
    "            print(message)\n",
    "        level_3()\n",
    "    \n",
    "    level_2()\n",
    "\n",
    "level_1()"
   ]
  },
  {
   "cell_type": "markdown",
   "metadata": {},
   "source": [
    "2. 파이썬 자체에서 정의한 이름 공간을 내장 영역(built-in scope)이라고 함\n",
    "- 함수에서 변수를 호출하면 *지역 영역 -> 전역 영역 -> 내장 영역* 순으로 해당하는 변수를 확인\n",
    "- 즉, 아래의 예시처럼 전역 영역에서 len을 재정의하면 내장 len함수가 가려짐 \n",
    "- 하지만, del로 전역 len을 삭제하면 내장 여역에 있는 len이 다시 사용됨\n"
   ]
  },
  {
   "cell_type": "code",
   "execution_count": null,
   "metadata": {},
   "outputs": [
    {
     "name": "stdout",
     "output_type": "stream",
     "text": [
      "100\n",
      "5\n"
     ]
    }
   ],
   "source": [
    "len = 100 # 전역영역에서 len 이름 정의\n",
    "print(len) # 출력: 전역 len 사용\n",
    "\n",
    "del len # 전역 len 제거\n",
    "print(len('Hello')) # 출력: 내장 len 사용\n",
    "print(len)"
   ]
  },
  {
   "cell_type": "markdown",
   "metadata": {},
   "source": [
    "# 5. 람다 (lmbda)"
   ]
  },
  {
   "cell_type": "markdown",
   "metadata": {},
   "source": [
    "## 5.1 람다 생생해보기 "
   ]
  },
  {
   "cell_type": "code",
   "execution_count": null,
   "metadata": {},
   "outputs": [
    {
     "data": {
      "text/plain": [
       "20"
      ]
     },
     "execution_count": 151,
     "metadata": {},
     "output_type": "execute_result"
    }
   ],
   "source": [
    "(lambda x : x + 10)(10) # 재활용이 안됨 즉시 생성해서 1회용으로 사용후 버림"
   ]
  },
  {
   "cell_type": "markdown",
   "metadata": {},
   "source": [
    "## 5.2 람다 표현식을 변수를 통해 호출하기 "
   ]
  },
  {
   "cell_type": "code",
   "execution_count": 155,
   "metadata": {},
   "outputs": [
    {
     "data": {
      "text/plain": [
       "12"
      ]
     },
     "execution_count": 155,
     "metadata": {},
     "output_type": "execute_result"
    }
   ],
   "source": [
    "test = lambda x : x * 2\n",
    "\n",
    "test(6)"
   ]
  },
  {
   "cell_type": "markdown",
   "metadata": {},
   "source": [
    "## 5.3 람다 표현식에 새로운 변수 생성 불가능"
   ]
  },
  {
   "cell_type": "code",
   "execution_count": 156,
   "metadata": {},
   "outputs": [
    {
     "ename": "NameError",
     "evalue": "name 'y' is not defined",
     "output_type": "error",
     "traceback": [
      "\u001b[0;31m---------------------------------------------------------------------------\u001b[0m",
      "\u001b[0;31mNameError\u001b[0m                                 Traceback (most recent call last)",
      "Cell \u001b[0;32mIn[156], line 1\u001b[0m\n\u001b[0;32m----> 1\u001b[0m \u001b[43m(\u001b[49m\u001b[38;5;28;43;01mlambda\u001b[39;49;00m\u001b[43m \u001b[49m\u001b[43mx\u001b[49m\u001b[43m \u001b[49m\u001b[43m:\u001b[49m\u001b[43m \u001b[49m\u001b[43mx\u001b[49m\u001b[43m \u001b[49m\u001b[38;5;241;43m+\u001b[39;49m\u001b[43m \u001b[49m\u001b[43my\u001b[49m\u001b[43m)\u001b[49m\u001b[43m(\u001b[49m\u001b[38;5;241;43m10\u001b[39;49m\u001b[43m)\u001b[49m\n",
      "Cell \u001b[0;32mIn[156], line 1\u001b[0m, in \u001b[0;36m<lambda>\u001b[0;34m(x)\u001b[0m\n\u001b[0;32m----> 1\u001b[0m (\u001b[38;5;28;01mlambda\u001b[39;00m x : x \u001b[38;5;241m+\u001b[39m \u001b[43my\u001b[49m)(\u001b[38;5;241m10\u001b[39m)\n",
      "\u001b[0;31mNameError\u001b[0m: name 'y' is not defined"
     ]
    }
   ],
   "source": [
    "(lambda x : x + y)(10)"
   ]
  },
  {
   "cell_type": "code",
   "execution_count": null,
   "metadata": {},
   "outputs": [],
   "source": []
  }
 ],
 "metadata": {
  "kernelspec": {
   "display_name": "sesac",
   "language": "python",
   "name": "python3"
  },
  "language_info": {
   "codemirror_mode": {
    "name": "ipython",
    "version": 3
   },
   "file_extension": ".py",
   "mimetype": "text/x-python",
   "name": "python",
   "nbconvert_exporter": "python",
   "pygments_lexer": "ipython3",
   "version": "3.10.15"
  }
 },
 "nbformat": 4,
 "nbformat_minor": 2
}
