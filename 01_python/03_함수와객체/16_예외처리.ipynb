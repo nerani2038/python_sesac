{
 "cells": [
  {
   "cell_type": "markdown",
   "metadata": {},
   "source": [
    "# 예외처리"
   ]
  },
  {
   "cell_type": "markdown",
   "metadata": {},
   "source": [
    "# 1. 기본 예외처리 구문"
   ]
  },
  {
   "cell_type": "code",
   "execution_count": 4,
   "metadata": {},
   "outputs": [
    {
     "ename": "ZeroDivisionError",
     "evalue": "division by zero",
     "output_type": "error",
     "traceback": [
      "\u001b[0;31m---------------------------------------------------------------------------\u001b[0m",
      "\u001b[0;31mZeroDivisionError\u001b[0m                         Traceback (most recent call last)",
      "Cell \u001b[0;32mIn[4], line 1\u001b[0m\n\u001b[0;32m----> 1\u001b[0m \u001b[38;5;28mprint\u001b[39m(\u001b[38;5;241;43m10\u001b[39;49m\u001b[38;5;241;43m/\u001b[39;49m\u001b[38;5;241;43m0\u001b[39;49m)\n\u001b[1;32m      2\u001b[0m \u001b[38;5;28mprint\u001b[39m(\u001b[38;5;124m'\u001b[39m\u001b[38;5;124m프로그램 중단됨\u001b[39m\u001b[38;5;124m'\u001b[39m)\n",
      "\u001b[0;31mZeroDivisionError\u001b[0m: division by zero"
     ]
    }
   ],
   "source": [
    "print(10/0)\n",
    "print('프로그램 중단됨')"
   ]
  },
  {
   "cell_type": "code",
   "execution_count": null,
   "metadata": {},
   "outputs": [
    {
     "name": "stdout",
     "output_type": "stream",
     "text": [
      "예외 오류 발생\n",
      "test\n"
     ]
    }
   ],
   "source": [
    "try:\n",
    "    print(10/0) # 오류발생\n",
    "except: # 오류발생시에도 진행, 모든 오류에 대응\n",
    "    print('예외 오류 발생') # 오류발생시 출력\n",
    "\n",
    "\n",
    "print('test') # 오류가 발생해도 이후 코드들이 진행됨"
   ]
  },
  {
   "cell_type": "markdown",
   "metadata": {},
   "source": [
    "# 2. 특정 예외만 처리할 경우 \n",
    "- except 에러마다 분기하기 "
   ]
  },
  {
   "cell_type": "markdown",
   "metadata": {},
   "source": [
    "## 2.1 예제 1"
   ]
  },
  {
   "cell_type": "code",
   "execution_count": null,
   "metadata": {},
   "outputs": [
    {
     "name": "stdout",
     "output_type": "stream",
     "text": [
      "유효한 숫자를 입력하세요.\n"
     ]
    }
   ],
   "source": [
    "try:\n",
    "    x = int(input('숫자입력!'))\n",
    "    print(10/x)\n",
    "except ZeroDivisionError: # 보통 디버깅을 위해 사용됨\n",
    "    print('0으로 나눌 수 없습니다.')\n",
    "except ValueError:\n",
    "    print('유효한 숫자를 입력하세요.')\n"
   ]
  },
  {
   "cell_type": "markdown",
   "metadata": {},
   "source": [
    "## 2.2 예제 2"
   ]
  },
  {
   "cell_type": "code",
   "execution_count": 12,
   "metadata": {},
   "outputs": [
    {
     "name": "stdout",
     "output_type": "stream",
     "text": [
      "인덱스 에러 발생\n"
     ]
    }
   ],
   "source": [
    "x = range(4) # 0,1,2,3\n",
    "\n",
    "try:\n",
    "    for i in range(1, 8):\n",
    "        y = 10 / x[i] # IndexError\n",
    "except ZeroDivisionError: \n",
    "    print('0으로 나눌 수 없습니다.')\n",
    "except IndexError:\n",
    "    print('인덱스 에러 발생')\n",
    "\n"
   ]
  },
  {
   "cell_type": "code",
   "execution_count": null,
   "metadata": {},
   "outputs": [],
   "source": []
  },
  {
   "cell_type": "markdown",
   "metadata": {},
   "source": [
    "# 3. as 키워드 활용"
   ]
  },
  {
   "cell_type": "code",
   "execution_count": 13,
   "metadata": {},
   "outputs": [
    {
     "name": "stdout",
     "output_type": "stream",
     "text": [
      "0으로 나눌 수 없습니다.: division by zero\n",
      "예외처리가 끝났습니다.\n"
     ]
    }
   ],
   "source": [
    "try:\n",
    "    x = int(input('숫자입력!'))\n",
    "    print(10/x)\n",
    "except ZeroDivisionError as e:\n",
    "    print(f'0으로 나눌 수 없습니다.: {e}')\n",
    "except ValueError as v:\n",
    "    print(f'유효한 숫자를 입력하세요.: {v}')\n",
    "\n",
    "print('예외처리가 끝났습니다.')\n"
   ]
  },
  {
   "cell_type": "code",
   "execution_count": null,
   "metadata": {},
   "outputs": [
    {
     "name": "stdout",
     "output_type": "stream",
     "text": [
      "인덱스 에러 발생\n",
      "range object index out of range\n"
     ]
    }
   ],
   "source": [
    "x = range(1,4) # 1,2,3\n",
    "\n",
    "try:\n",
    "    for i in range(4): # 0,1,2,3\n",
    "        y = 10 / x[i]\n",
    "except ZeroDivisionError as e:\n",
    "    print('0으로 나눌 수 없습니다.')\n",
    "    print(e)\n",
    "except IndexError as e: # 키워드는 동일하게 e 로 사용할 수 있다. \n",
    "    print('인덱스 에러 발생')\n",
    "    print(e)"
   ]
  },
  {
   "cell_type": "markdown",
   "metadata": {},
   "source": [
    "# 4. else와 finally"
   ]
  },
  {
   "cell_type": "markdown",
   "metadata": {},
   "source": [
    "1. 예제1 "
   ]
  },
  {
   "cell_type": "code",
   "execution_count": 17,
   "metadata": {},
   "outputs": [
    {
     "name": "stdout",
     "output_type": "stream",
     "text": [
      "5.0\n",
      "성공적 실행!\n",
      "프로그램 종료.\n"
     ]
    }
   ],
   "source": [
    "try:\n",
    "    x = int(input('숫자 입력!'))\n",
    "    print(10/x)\n",
    "except ZeroDivisionError as e:\n",
    "    print(e)\n",
    "else:\n",
    "    print('성공적 실행!')\n",
    "finally:\n",
    "    print('프로그램 종료.')"
   ]
  },
  {
   "cell_type": "markdown",
   "metadata": {},
   "source": [
    "2. 예제 2"
   ]
  },
  {
   "cell_type": "code",
   "execution_count": 19,
   "metadata": {},
   "outputs": [
    {
     "name": "stdout",
     "output_type": "stream",
     "text": [
      "에러 없이 실행됐수\n",
      "2.5\n"
     ]
    }
   ],
   "source": [
    "x = range(1,5) # 1,2,3,4\n",
    "\n",
    "try:\n",
    "    for i in range(4): # 0,1,2,3\n",
    "        y = 10 / x[i]\n",
    "except ZeroDivisionError as e:\n",
    "    print('0으로 나눌 수 없습니다.')\n",
    "    print(e)\n",
    "except IndexError as e: # 키워드는 동일하게 e 로 사용할 수 있다. \n",
    "    print('인덱스 에러 발생')\n",
    "    print(e)\n",
    "else:\n",
    "    print('에러 없이 실행됐수')\n",
    "\n",
    "print(y)"
   ]
  },
  {
   "cell_type": "markdown",
   "metadata": {},
   "source": [
    "# 5. Exception을 활용한 모든 예외 잡기 "
   ]
  },
  {
   "cell_type": "code",
   "execution_count": 20,
   "metadata": {},
   "outputs": [
    {
     "name": "stdout",
     "output_type": "stream",
     "text": [
      "division by zero\n"
     ]
    }
   ],
   "source": [
    "try:\n",
    "    x = int(input())\n",
    "    print(10/x)\n",
    "except Exception as e:\n",
    "    print(e)"
   ]
  },
  {
   "cell_type": "markdown",
   "metadata": {},
   "source": [
    "# 6. 예외처리 실습 01\n",
    "[문제] 사용자로 부터 숫자 2개를 입력받아 split() 메서드를 활용하여 x, y 변수로 unpacking  합니다.\n",
    "- 만약 사용자가 잘못된 값을 입력하더라도 프로그램이 중단되지 않고 ‘값을 잘못 입력하셨습니다.’ 라는 메시지를 출력할 수 있게 예외처리 부분을 추가해서 완성해보세요.\n"
   ]
  },
  {
   "cell_type": "code",
   "execution_count": 26,
   "metadata": {},
   "outputs": [
    {
     "name": "stdout",
     "output_type": "stream",
     "text": [
      "hi hi\n"
     ]
    }
   ],
   "source": [
    "num = input('숫자: ')\n",
    "\n",
    "try:\n",
    "    x, y = num.split()\n",
    "    print(x, y)\n",
    "except Exception as e:\n",
    "    print(f'값을 잘못 입력하셨습니다.: {e}')\n",
    "    "
   ]
  },
  {
   "cell_type": "code",
   "execution_count": 33,
   "metadata": {},
   "outputs": [],
   "source": [
    "try:\n",
    "    x, y = input('숫자 두 개를 입력하세요: ').split()\n",
    "except:\n",
    "    print('값을 잘못 입력했습니다.')"
   ]
  },
  {
   "cell_type": "code",
   "execution_count": 34,
   "metadata": {},
   "outputs": [
    {
     "name": "stdout",
     "output_type": "stream",
     "text": [
      "h\n",
      "u\n"
     ]
    }
   ],
   "source": [
    "print(x)\n",
    "print(y)"
   ]
  },
  {
   "cell_type": "markdown",
   "metadata": {},
   "source": [
    "# 7. 예외처리 실습 02\n",
    "- 사용자로 부터 1회 값을 입력  받습니다.\n",
    "- 이 때 정수 2개를 띄어쓰기로 구분하여 값을 받고, 이를 split() 메서드로 값을 나눈 뒤 \u000bmap() 함수를 활용하여 각각 int로 형변환 합니다.\n",
    "- 형변환한 두 값은 unpacking해서 x, y라는 변수에 차례로 담습니다. \n",
    "- 그리고 result라는 변수에 x / y의 연산 결과를 담습니다. \n",
    "- 이 때 예외처리는 아래와 같이 작성합니다. \n",
    "    - ValueError가 발생될 때는 ‘값을 잘못 입력하셨습니다.’를 출력\n",
    "    - ZeroDivisionError(0으로 나눈 경우)는 ‘0으로 나눌 수 없습니다.’를 출력\n",
    "    - Error가 발생되지 않은 경우 result의 값을 출력\n"
   ]
  },
  {
   "cell_type": "code",
   "execution_count": null,
   "metadata": {},
   "outputs": [],
   "source": []
  },
  {
   "cell_type": "code",
   "execution_count": null,
   "metadata": {},
   "outputs": [],
   "source": []
  }
 ],
 "metadata": {
  "kernelspec": {
   "display_name": "sesac",
   "language": "python",
   "name": "python3"
  },
  "language_info": {
   "codemirror_mode": {
    "name": "ipython",
    "version": 3
   },
   "file_extension": ".py",
   "mimetype": "text/x-python",
   "name": "python",
   "nbconvert_exporter": "python",
   "pygments_lexer": "ipython3",
   "version": "3.10.15"
  }
 },
 "nbformat": 4,
 "nbformat_minor": 2
}
