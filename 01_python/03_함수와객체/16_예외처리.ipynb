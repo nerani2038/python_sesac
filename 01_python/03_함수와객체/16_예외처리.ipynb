{
 "cells": [
  {
   "cell_type": "markdown",
   "metadata": {},
   "source": [
    "# 예외처리"
   ]
  },
  {
   "cell_type": "markdown",
   "metadata": {},
   "source": [
    "# 1. 기본 예외처리 구문"
   ]
  },
  {
   "cell_type": "code",
   "execution_count": null,
   "metadata": {},
   "outputs": [],
   "source": []
  },
  {
   "cell_type": "markdown",
   "metadata": {},
   "source": [
    "# 2. 특정 예외만 처리할 경우 \n",
    "- except 에러마다 분기하기 "
   ]
  },
  {
   "cell_type": "markdown",
   "metadata": {},
   "source": [
    "## 2.1 예제 1"
   ]
  },
  {
   "cell_type": "code",
   "execution_count": null,
   "metadata": {},
   "outputs": [],
   "source": []
  },
  {
   "cell_type": "markdown",
   "metadata": {},
   "source": [
    "## 2.2 예제 2"
   ]
  },
  {
   "cell_type": "code",
   "execution_count": null,
   "metadata": {},
   "outputs": [],
   "source": []
  },
  {
   "cell_type": "code",
   "execution_count": null,
   "metadata": {},
   "outputs": [],
   "source": []
  },
  {
   "cell_type": "markdown",
   "metadata": {},
   "source": [
    "# 3. as 키워드 활용"
   ]
  },
  {
   "cell_type": "code",
   "execution_count": null,
   "metadata": {},
   "outputs": [],
   "source": []
  },
  {
   "cell_type": "code",
   "execution_count": null,
   "metadata": {},
   "outputs": [],
   "source": []
  },
  {
   "cell_type": "markdown",
   "metadata": {},
   "source": [
    "# 4. else와 finally"
   ]
  },
  {
   "cell_type": "markdown",
   "metadata": {},
   "source": [
    "1. 예제1 "
   ]
  },
  {
   "cell_type": "code",
   "execution_count": null,
   "metadata": {},
   "outputs": [],
   "source": []
  },
  {
   "cell_type": "markdown",
   "metadata": {},
   "source": [
    "2. 예제 2"
   ]
  },
  {
   "cell_type": "code",
   "execution_count": null,
   "metadata": {},
   "outputs": [],
   "source": []
  },
  {
   "cell_type": "markdown",
   "metadata": {},
   "source": [
    "# 5. Exception을 활용한 모든 예외 잡기 "
   ]
  },
  {
   "cell_type": "code",
   "execution_count": null,
   "metadata": {},
   "outputs": [],
   "source": []
  },
  {
   "cell_type": "markdown",
   "metadata": {},
   "source": [
    "# 6. 예외처리 실습 01\n",
    "[문제] 사용자로 부터 숫자 2개를 입력받아 split() 메서드를 활용하여 x, y 변수로 unpacking  합니다.\n",
    "- 만약 사용자가 잘못된 값을 입력하더라도 프로그램이 중단되지 않고 ‘값을 잘못 입력하셨습니다.’ 라는 메시지를 출력할 수 있게 예외처리 부분을 추가해서 완성해보세요.\n"
   ]
  },
  {
   "cell_type": "code",
   "execution_count": null,
   "metadata": {},
   "outputs": [],
   "source": []
  },
  {
   "cell_type": "code",
   "execution_count": null,
   "metadata": {},
   "outputs": [],
   "source": []
  },
  {
   "cell_type": "markdown",
   "metadata": {},
   "source": [
    "# 7. 예외처리 실습 02\n",
    "- 사용자로 부터 1회 값을 입력  받습니다.\n",
    "- 이 때 정수 2개를 띄어쓰기로 구분하여 값을 받고, 이를 split() 메서드로 값을 나눈 뒤 \u000bmap() 함수를 활용하여 각각 int로 형변환 합니다.\n",
    "- 형변환한 두 값은 unpacking해서 x, y라는 변수에 차례로 담습니다. \n",
    "- 그리고 result라는 변수에 x / y의 연산 결과를 담습니다. \n",
    "- 이 때 예외처리는 아래와 같이 작성합니다. \n",
    "    - ValueError가 발생될 때는 ‘값을 잘못 입력하셨습니다.’를 출력\n",
    "    - ZeroDivisionError(0으로 나눈 경우)는 ‘0으로 나눌 수 없습니다.’를 출력\n",
    "    - Error가 발생되지 않은 경우 result의 값을 출력\n"
   ]
  },
  {
   "cell_type": "code",
   "execution_count": null,
   "metadata": {},
   "outputs": [],
   "source": []
  },
  {
   "cell_type": "code",
   "execution_count": null,
   "metadata": {},
   "outputs": [],
   "source": []
  }
 ],
 "metadata": {
  "kernelspec": {
   "display_name": "myVenv",
   "language": "python",
   "name": "python3"
  },
  "language_info": {
   "codemirror_mode": {
    "name": "ipython",
    "version": 3
   },
   "file_extension": ".py",
   "mimetype": "text/x-python",
   "name": "python",
   "nbconvert_exporter": "python",
   "pygments_lexer": "ipython3",
   "version": "3.10.14"
  }
 },
 "nbformat": 4,
 "nbformat_minor": 2
}
