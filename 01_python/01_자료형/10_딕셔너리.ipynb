{
 "cells": [
  {
   "cell_type": "markdown",
   "metadata": {},
   "source": [
    "# 딕셔너리 (Dictionary)"
   ]
  },
  {
   "cell_type": "markdown",
   "metadata": {},
   "source": [
    "# 1 딕셔너리 생성"
   ]
  },
  {
   "cell_type": "markdown",
   "metadata": {},
   "source": [
    "## 1.1 딕셔너리 생성 실습"
   ]
  },
  {
   "cell_type": "code",
   "execution_count": 2,
   "metadata": {},
   "outputs": [
    {
     "name": "stdout",
     "output_type": "stream",
     "text": [
      "{'name': 'Tom', 'mat': 80, 'eng': 70}\n",
      "{'name': 'Tom', 'mat': 80, 'eng': 70}\n"
     ]
    }
   ],
   "source": [
    "score = {'name': 'Tom', 'mat': 80, 'eng': 70}\n",
    "score2 = dict(name='Tom', mat=80, eng=70)\n",
    "\n",
    "print(score)\n",
    "print(score2)"
   ]
  },
  {
   "cell_type": "code",
   "execution_count": 4,
   "metadata": {},
   "outputs": [
    {
     "name": "stdout",
     "output_type": "stream",
     "text": [
      "Tom\n",
      "Tom\n"
     ]
    }
   ],
   "source": [
    "print(score['name'])\n",
    "print(score2['name'])"
   ]
  },
  {
   "cell_type": "code",
   "execution_count": 5,
   "metadata": {},
   "outputs": [
    {
     "name": "stdout",
     "output_type": "stream",
     "text": [
      "<class 'dict'>\n",
      "<class 'dict'>\n"
     ]
    }
   ],
   "source": [
    "print(type(score))\n",
    "print(type(score2))"
   ]
  },
  {
   "cell_type": "code",
   "execution_count": null,
   "metadata": {},
   "outputs": [],
   "source": []
  },
  {
   "cell_type": "markdown",
   "metadata": {},
   "source": [
    "## 1.2 딕셔너리 특징 "
   ]
  },
  {
   "cell_type": "markdown",
   "metadata": {},
   "source": [
    "key값으로 활용할 수 있는 자료형 확인"
   ]
  },
  {
   "cell_type": "code",
   "execution_count": 7,
   "metadata": {},
   "outputs": [
    {
     "data": {
      "text/plain": [
       "{'name': 'Amy'}"
      ]
     },
     "execution_count": 7,
     "metadata": {},
     "output_type": "execute_result"
    }
   ],
   "source": [
    "# 고유한 key 값\n",
    "people = {'name': 'Tom', 'name': 'Amy'}\n",
    "\n",
    "people # 중복시 가장 최근의 값만 들어감"
   ]
  },
  {
   "cell_type": "code",
   "execution_count": null,
   "metadata": {},
   "outputs": [
    {
     "name": "stdout",
     "output_type": "stream",
     "text": [
      "{'key': 'value', 1: 'value4', 1.1: 'value3', ('key', 1, 1.1, True): 'value5'}\n",
      "[<class 'str'>, <class 'int'>, <class 'float'>, <class 'tuple'>]\n"
     ]
    }
   ],
   "source": [
    "# 다양한 자료값\n",
    "dic_var = {\n",
    "    'key': 'value',\n",
    "    1: 'value2',\n",
    "    1.1: 'value3',\n",
    "    True: 'value4',\n",
    "    ('key', 1, 1.1, True): 'value5'\n",
    "}\n",
    "\n",
    "print(dic_var) # {'key': 'value', 1: 'value4', 1.1: 'value3', ('key', 1, 1.1, True): 'value5'}\n",
    "# 1: 'value2' 와 True: 'value4'  에서 key 값인 1, True 를 파이썬에선 동일하다고 판단하여 중복처리되어 후의 True: 'value4' 가 남았는데 그게 1: 'value4' 처럼 처리된것\n",
    "print(list(map(type, dic_var.keys()))) # [<class 'str'>, <class 'int'>, <class 'float'>, <class 'tuple'>]"
   ]
  },
  {
   "cell_type": "markdown",
   "metadata": {},
   "source": [
    "value 값으로 활용할 수 있는 자료형 확인 (모든 자료형)"
   ]
  },
  {
   "cell_type": "code",
   "execution_count": 10,
   "metadata": {},
   "outputs": [
    {
     "name": "stdout",
     "output_type": "stream",
     "text": [
      "[<class 'str'>, <class 'int'>, <class 'float'>, <class 'bool'>, <class 'tuple'>, <class 'list'>, <class 'dict'>, <class 'dict'>]\n",
      "{'key': 'value', 2: 3, 1.1: 1.1, True: False, ('key', 1, 1.1, True): ('key', 1, 1.1, True), 'list': [1, '가', 1.1, True, (1, '나')], 'dict': {'key': 'value'}, 'set': {'key': 'value'}}\n"
     ]
    }
   ],
   "source": [
    "dic_var = {\n",
    "    'key': 'value',\n",
    "    2: 3,\n",
    "    1.1: 1.1,\n",
    "    True: False,\n",
    "    ('key', 1, 1.1, True): ('key', 1, 1.1, True),\n",
    "    'list': [1, '가', 1.1, True, (1, '나')] ,\n",
    "    'dict': {'key': 'value', 'key': 'value'},\n",
    "    'set': {'key': 'value'}\n",
    "}\n",
    "\n",
    "print(list(map(type, dic_var.values())))\n",
    "print(dic_var)"
   ]
  },
  {
   "cell_type": "markdown",
   "metadata": {},
   "source": [
    "# 2 키(key)통해 딕셔너리 값(value)에 접근 및 변경"
   ]
  },
  {
   "cell_type": "code",
   "execution_count": 15,
   "metadata": {},
   "outputs": [],
   "source": [
    "score = {'name': 'Tom', 'mat': 80, 'eng': 90}"
   ]
  },
  {
   "cell_type": "code",
   "execution_count": 13,
   "metadata": {},
   "outputs": [
    {
     "data": {
      "text/plain": [
       "'Tom'"
      ]
     },
     "execution_count": 13,
     "metadata": {},
     "output_type": "execute_result"
    }
   ],
   "source": [
    "score['name']"
   ]
  },
  {
   "cell_type": "code",
   "execution_count": 14,
   "metadata": {},
   "outputs": [
    {
     "name": "stdout",
     "output_type": "stream",
     "text": [
      "{'name': 'Tom', 'mat': 80, 'eng': '70'}\n",
      "{'name': 'Amy', 'mat': 50, 'eng': 90}\n"
     ]
    }
   ],
   "source": [
    "print(score)\n",
    "score.update({'name': 'Amy', 'mat': 50, 'eng': 90})\n",
    "print(score)"
   ]
  },
  {
   "cell_type": "code",
   "execution_count": 16,
   "metadata": {},
   "outputs": [
    {
     "name": "stdout",
     "output_type": "stream",
     "text": [
      "{'name': 'Tom', 'mat': 80, 'eng': 90}\n",
      "{'name': 'Amy', 'mat': 50, 'eng': 90}\n"
     ]
    }
   ],
   "source": [
    "print(score)\n",
    "score['name'] = 'Amy'\n",
    "score['mat'] = 50\n",
    "score['eng'] = 90\n",
    "print(score)"
   ]
  },
  {
   "cell_type": "markdown",
   "metadata": {},
   "source": [
    "# 3 딕셔너리 기능 1"
   ]
  },
  {
   "cell_type": "markdown",
   "metadata": {},
   "source": [
    "## 3.1 key가 있는지 확인: in"
   ]
  },
  {
   "cell_type": "code",
   "execution_count": 17,
   "metadata": {},
   "outputs": [
    {
     "name": "stdout",
     "output_type": "stream",
     "text": [
      "True\n"
     ]
    }
   ],
   "source": [
    "print('mat' in score)"
   ]
  },
  {
   "cell_type": "code",
   "execution_count": 18,
   "metadata": {},
   "outputs": [
    {
     "name": "stdout",
     "output_type": "stream",
     "text": [
      "False\n"
     ]
    }
   ],
   "source": [
    "print('sci' in score)\n"
   ]
  },
  {
   "cell_type": "code",
   "execution_count": 19,
   "metadata": {},
   "outputs": [
    {
     "name": "stdout",
     "output_type": "stream",
     "text": [
      "True\n"
     ]
    }
   ],
   "source": [
    "print('name' in score)"
   ]
  },
  {
   "cell_type": "markdown",
   "metadata": {},
   "source": [
    "## 3.2 key개수 구하기: len(dict)"
   ]
  },
  {
   "cell_type": "code",
   "execution_count": 22,
   "metadata": {},
   "outputs": [
    {
     "name": "stdout",
     "output_type": "stream",
     "text": [
      "{'name': 'Amy', 'mat': 50, 'eng': 90}\n",
      "3\n",
      "5\n"
     ]
    }
   ],
   "source": [
    "print(score)\n",
    "print(len(score))\n",
    "\n",
    "test = {'test': [1,2,3,4,5]}\n",
    "print(len(test['test']))"
   ]
  },
  {
   "cell_type": "markdown",
   "metadata": {},
   "source": [
    "## 3.3 key-value쌍 추가하기: .setdefault(key, value)"
   ]
  },
  {
   "cell_type": "code",
   "execution_count": null,
   "metadata": {},
   "outputs": [
    {
     "name": "stdout",
     "output_type": "stream",
     "text": [
      "20\n",
      "<class 'int'>\n"
     ]
    }
   ],
   "source": [
    "score = {'name': 'Tom', 'mat': 80, 'eng': 90}\n",
    "test = score.setdefault('age', 20) # 중복실행시 key 가 중복되므로 이전값은 사라지고 추가된 값이 들어간것\n",
    "print(test) # value\n",
    "print(type(test)) # value"
   ]
  },
  {
   "cell_type": "code",
   "execution_count": null,
   "metadata": {},
   "outputs": [
    {
     "data": {
      "text/plain": [
       "{'name': 'Tom', 'mat': 80, 'eng': 90, 'age': 20}"
      ]
     },
     "execution_count": 26,
     "metadata": {},
     "output_type": "execute_result"
    }
   ],
   "source": [
    "score "
   ]
  },
  {
   "cell_type": "markdown",
   "metadata": {},
   "source": [
    "## 3.4 key-value 수정하기: .update({key: value})"
   ]
  },
  {
   "cell_type": "code",
   "execution_count": 28,
   "metadata": {},
   "outputs": [
    {
     "name": "stdout",
     "output_type": "stream",
     "text": [
      "{'name': 'Tom', 'mat': 80, 'eng': 90, 'age': 20}\n"
     ]
    }
   ],
   "source": [
    "print(score)\n",
    "\n",
    "score.update({'mat': 10})\n"
   ]
  },
  {
   "cell_type": "code",
   "execution_count": 30,
   "metadata": {},
   "outputs": [
    {
     "data": {
      "text/plain": [
       "{'name': 'Tom', 'mat': 10, 'eng': 90, 'age': 20}"
      ]
     },
     "execution_count": 30,
     "metadata": {},
     "output_type": "execute_result"
    }
   ],
   "source": [
    "score"
   ]
  },
  {
   "cell_type": "code",
   "execution_count": null,
   "metadata": {},
   "outputs": [
    {
     "data": {
      "text/plain": [
       "{'name': 'Tom', 'mat': 10, 'eng': 90, 'age': 20, 'math2': 80}"
      ]
     },
     "execution_count": 33,
     "metadata": {},
     "output_type": "execute_result"
    }
   ],
   "source": [
    "# 수정및 추가\n",
    "score.update({'math2': 80})\n",
    "score"
   ]
  },
  {
   "cell_type": "code",
   "execution_count": null,
   "metadata": {},
   "outputs": [
    {
     "data": {
      "text/plain": [
       "{'name': 'Tom', 'mat': 10, 'eng': 90, 'age': 20, 'math2': 80, 'math3': 50}"
      ]
     },
     "execution_count": 34,
     "metadata": {},
     "output_type": "execute_result"
    }
   ],
   "source": [
    "# 추가\n",
    "score['math3'] = 50\n",
    "score"
   ]
  },
  {
   "cell_type": "markdown",
   "metadata": {},
   "source": [
    "# 4 딕셔너리 기능 2"
   ]
  },
  {
   "cell_type": "markdown",
   "metadata": {},
   "source": [
    "## 4.1 key로 항목 삭제 후 삭제된 value 반환: pop(key)"
   ]
  },
  {
   "cell_type": "code",
   "execution_count": 38,
   "metadata": {},
   "outputs": [],
   "source": [
    "score = {'name': 'Tom', 'mat': 80, 'eng': 90}"
   ]
  },
  {
   "cell_type": "code",
   "execution_count": 39,
   "metadata": {},
   "outputs": [
    {
     "data": {
      "text/plain": [
       "'Tom'"
      ]
     },
     "execution_count": 39,
     "metadata": {},
     "output_type": "execute_result"
    }
   ],
   "source": [
    "score.pop('name')"
   ]
  },
  {
   "cell_type": "code",
   "execution_count": null,
   "metadata": {},
   "outputs": [],
   "source": [
    "score"
   ]
  },
  {
   "cell_type": "code",
   "execution_count": 40,
   "metadata": {},
   "outputs": [
    {
     "data": {
      "text/plain": [
       "0"
      ]
     },
     "execution_count": 40,
     "metadata": {},
     "output_type": "execute_result"
    }
   ],
   "source": [
    "score.pop('age', 0)"
   ]
  },
  {
   "cell_type": "code",
   "execution_count": 41,
   "metadata": {},
   "outputs": [
    {
     "data": {
      "text/plain": [
       "{'mat': 80, 'eng': 90}"
      ]
     },
     "execution_count": 41,
     "metadata": {},
     "output_type": "execute_result"
    }
   ],
   "source": [
    "score"
   ]
  },
  {
   "cell_type": "markdown",
   "metadata": {},
   "source": [
    "## 4.2 모든 값 삭제: .clear()"
   ]
  },
  {
   "cell_type": "markdown",
   "metadata": {},
   "source": [
    "## 4.3 모든 key, value 가져오기: .keys(), values()"
   ]
  },
  {
   "cell_type": "code",
   "execution_count": 42,
   "metadata": {},
   "outputs": [
    {
     "name": "stdout",
     "output_type": "stream",
     "text": [
      "{'mat': 80, 'eng': 90}\n",
      "{}\n"
     ]
    }
   ],
   "source": [
    "print(score)\n",
    "score.clear()\n",
    "print(score)"
   ]
  },
  {
   "cell_type": "code",
   "execution_count": 43,
   "metadata": {},
   "outputs": [
    {
     "data": {
      "text/plain": [
       "dict_keys(['name', 'mat', 'eng'])"
      ]
     },
     "execution_count": 43,
     "metadata": {},
     "output_type": "execute_result"
    }
   ],
   "source": [
    "score = {'name': 'Tom', 'mat': 80, 'eng': 90}\n",
    "score.keys()"
   ]
  },
  {
   "cell_type": "code",
   "execution_count": 44,
   "metadata": {},
   "outputs": [
    {
     "data": {
      "text/plain": [
       "dict_values(['Tom', 80, 90])"
      ]
     },
     "execution_count": 44,
     "metadata": {},
     "output_type": "execute_result"
    }
   ],
   "source": [
    "score = {'name': 'Tom', 'mat': 80, 'eng': 90}\n",
    "score.values()"
   ]
  },
  {
   "cell_type": "markdown",
   "metadata": {},
   "source": [
    "# 5 딕셔너리 할당과 복사"
   ]
  },
  {
   "cell_type": "markdown",
   "metadata": {},
   "source": [
    "## 5.1 딕셔너리 복사"
   ]
  },
  {
   "cell_type": "markdown",
   "metadata": {},
   "source": [
    "1. 복사"
   ]
  },
  {
   "cell_type": "code",
   "execution_count": 54,
   "metadata": {},
   "outputs": [
    {
     "name": "stdout",
     "output_type": "stream",
     "text": [
      "{'a': 0, 'b': 1}\n",
      "{'a': 0, 'b': 1}\n",
      "--------------------\n",
      "4587645440\n",
      "4587643136\n"
     ]
    }
   ],
   "source": [
    "# .copy()\n",
    "a = {'a': 0, 'b': 1}\n",
    "b = a.copy()\n",
    "\n",
    "print(a)\n",
    "print(b)\n",
    "\n",
    "print('-' * 20)\n",
    "\n",
    "print(id(a))\n",
    "print(id(b))"
   ]
  },
  {
   "cell_type": "code",
   "execution_count": null,
   "metadata": {},
   "outputs": [],
   "source": []
  },
  {
   "cell_type": "markdown",
   "metadata": {},
   "source": [
    "2. 값 변경"
   ]
  },
  {
   "cell_type": "code",
   "execution_count": 55,
   "metadata": {},
   "outputs": [
    {
     "name": "stdout",
     "output_type": "stream",
     "text": [
      "{'a': 0, 'b': 1}\n",
      "{'a': 100, 'b': 1}\n"
     ]
    }
   ],
   "source": [
    "a = {'a': 0, 'b': 1}\n",
    "b = a.copy()\n",
    "\n",
    "b['a'] = 100\n",
    "\n",
    "print(a)\n",
    "print(b)\n"
   ]
  },
  {
   "cell_type": "code",
   "execution_count": null,
   "metadata": {},
   "outputs": [],
   "source": []
  },
  {
   "cell_type": "markdown",
   "metadata": {},
   "source": [
    "## 5.2 중첩 딕셔너리 복사"
   ]
  },
  {
   "cell_type": "markdown",
   "metadata": {},
   "source": [
    "1. 복사"
   ]
  },
  {
   "cell_type": "code",
   "execution_count": 56,
   "metadata": {},
   "outputs": [
    {
     "name": "stdout",
     "output_type": "stream",
     "text": [
      "{'a': {'c': 0, 'd': 0}, 'b': 1}\n",
      "{'a': {'c': 0, 'd': 0}, 'b': 1}\n",
      "--------------------\n",
      "4583830720\n",
      "4588434304\n"
     ]
    }
   ],
   "source": [
    "import copy\n",
    "\n",
    "a = {'a': {'c': 0, 'd': 0}, 'b': 1}\n",
    "b = copy.deepcopy(a)\n",
    "\n",
    "print(a)\n",
    "print(b)\n",
    "\n",
    "print('-' * 20)\n",
    "\n",
    "print(id(a))\n",
    "print(id(b))\n",
    "\n"
   ]
  },
  {
   "cell_type": "markdown",
   "metadata": {},
   "source": [
    "2. 값 변경"
   ]
  },
  {
   "cell_type": "code",
   "execution_count": null,
   "metadata": {},
   "outputs": [],
   "source": []
  },
  {
   "cell_type": "code",
   "execution_count": null,
   "metadata": {},
   "outputs": [],
   "source": []
  },
  {
   "cell_type": "markdown",
   "metadata": {},
   "source": [
    "# 6 dict() 함수와 시퀀스 객체로 딕셔너리 생성하기 (zip()내장함수)"
   ]
  },
  {
   "cell_type": "markdown",
   "metadata": {},
   "source": [
    "## 6.1 키와 값 한 쌍을 갖는 시퀀스 객체를 요소로 갖는 시퀀스 객체를 생성하여 딕셔너리 자료형으로 만들 수 있음\n"
   ]
  },
  {
   "cell_type": "code",
   "execution_count": null,
   "metadata": {},
   "outputs": [
    {
     "name": "stdout",
     "output_type": "stream",
     "text": [
      "{'test': 1}\n",
      "{'key1': 'value2', 'key2': 'value2'}\n"
     ]
    }
   ],
   "source": [
    "my_dict1 = dict([('test', 1)])\n",
    "my_dict2 = dict([('key1', 'value2'), ('key2', 'value2')]) # 여러개의 요소를 담고 싶으면 list!\n",
    "\n",
    "print(my_dict1)\n",
    "print(my_dict2)"
   ]
  },
  {
   "cell_type": "markdown",
   "metadata": {},
   "source": [
    "## 6.2 zip() 내장함수 통해 딕셔너리 생성해보기"
   ]
  },
  {
   "cell_type": "code",
   "execution_count": null,
   "metadata": {},
   "outputs": [
    {
     "data": {
      "text/plain": [
       "<zip at 0x111780240>"
      ]
     },
     "execution_count": 46,
     "metadata": {},
     "output_type": "execute_result"
    }
   ],
   "source": [
    "zip(['key1', 'key2'], ['value1', 'value2'])"
   ]
  },
  {
   "cell_type": "code",
   "execution_count": null,
   "metadata": {},
   "outputs": [
    {
     "data": {
      "text/plain": [
       "[('key1', 'value1'), ('key2', 'value2')]"
      ]
     },
     "execution_count": 47,
     "metadata": {},
     "output_type": "execute_result"
    }
   ],
   "source": [
    "list(zip(['key1', 'key2'], ['value1', 'value2'])) # 리스트 안에 튜플 인자가 두개 생긴것 # 시각적으로 확인하기 위함"
   ]
  },
  {
   "cell_type": "code",
   "execution_count": null,
   "metadata": {},
   "outputs": [],
   "source": [
    "my_dict1 = dict(zip(['key1', 'key2'], ['value1', 'value2'])) # zip 또한 iterable 이기때문에 가능 (반복가능한 객체)\n",
    "\n",
    "my_dict2 = dict([('key1', 'value2'), ('key2', 'value2')]) # 왜 여기에는 [] 로 묶었나? dict 는 iterable 객체(list, tuple)로 받아들여야 함\n",
    "\n",
    "# unpacking 되어 묶이는 것\n",
    "# zip(['key1', 'key2'], ['value1', 'value2'] == [('key1', 'value2'), ('key2', 'value2')]"
   ]
  },
  {
   "cell_type": "code",
   "execution_count": 52,
   "metadata": {},
   "outputs": [
    {
     "name": "stdout",
     "output_type": "stream",
     "text": [
      "{'key1': 'value1', 'key2': 'value2'}\n",
      "{'key1': 'value2', 'key2': 'value2'}\n"
     ]
    }
   ],
   "source": [
    "print(my_dict1)\n",
    "print(my_dict2)"
   ]
  },
  {
   "cell_type": "markdown",
   "metadata": {},
   "source": [
    "## 6.3 응용해보기"
   ]
  },
  {
   "cell_type": "code",
   "execution_count": null,
   "metadata": {},
   "outputs": [
    {
     "data": {
      "text/plain": [
       "{1: 'apple', 2: 'banana', 3: 'cherry'}"
      ]
     },
     "execution_count": 57,
     "metadata": {},
     "output_type": "execute_result"
    }
   ],
   "source": [
    "keys = [1,2,3]\n",
    "values = ['apple', 'banana', 'cherry']\n",
    "\n",
    "# zip([key], [value])\n",
    "# zip([1,2,3], ['apple', 'banana', 'cherry'])\n",
    "\n",
    "# zip(keys, values)\n",
    "dict(zip(keys, values)) # 딕셔너리 화"
   ]
  },
  {
   "cell_type": "markdown",
   "metadata": {},
   "source": [
    "# 딕셔너리 실습 01\n",
    "[문제] 이름, 나이, 연락처를 받아 딕셔너리를 생성하여 출력해주세요. \n",
    "\n",
    "[실행] \\\n",
    "이름을 입력해주세요: 홍길동 \\\n",
    "나이를 입력해주세요: 27 \\\n",
    "연락처 입력해주세요: 010-1234-6789 \n",
    "\n",
    "[결과] \\\n",
    "{‘이름’: ’홍길동’, ‘나이’: ’27’, ‘연락처’: ‘010-6768-7574’}\n"
   ]
  },
  {
   "cell_type": "code",
   "execution_count": null,
   "metadata": {},
   "outputs": [],
   "source": []
  },
  {
   "cell_type": "markdown",
   "metadata": {},
   "source": [
    "# 딕셔너리 실습 02\n",
    "\n",
    "[문제] \\\n",
    "두 사람의 이름, 나이, 연락처를 받아 두 개의 딕셔너리를 생성 후 리스트에 담아주세요.\n",
    "\n",
    "[실행] \\\n",
    "이름을 입력해주세요: 홍길동 \\\n",
    "나이를 입력해주세요: 27 \\\n",
    "연락처 입력해주세요: 010-1234-6789 \\\n",
    "이름을 입력해주세요: 이몽룡 \\\n",
    "나이를 입력해주세요: 30 \\\n",
    "연락처 입력해주세요: 010-1122-3344\n",
    "\n",
    "[결과] \\\n",
    "[{‘이름’: ’홍길동’, ‘나이’: ’27’, ‘연락처’: ‘010-6768-7574’}, {‘이름’: ’이몽룡’, ‘나이’: 30’, ‘연락처’: ‘010-1122-3344’}]\n"
   ]
  },
  {
   "cell_type": "code",
   "execution_count": null,
   "metadata": {},
   "outputs": [],
   "source": []
  },
  {
   "cell_type": "code",
   "execution_count": null,
   "metadata": {},
   "outputs": [],
   "source": []
  },
  {
   "cell_type": "markdown",
   "metadata": {},
   "source": [
    "# 딕셔너리 실습 03\n",
    "[문제]\n",
    "input() 함수를 통해 원하는 과일 이름을 입력하면 가격이 출력되는 프로그램을 구현해봅시다.\n",
    "- 과일 이름(str)을 key로 만들고 가격(int)을 value로 해서 딕셔너리 자료형을 만듭니다. \n",
    "- 사과는 1000원, 바나나는 700원, 오렌지는 1500원, 파인애플은 2000원\n",
    "\n",
    "[실행 결과] \\\n",
    "과일 이름을 입력하세요: 사과 \\\n",
    "사과의 가격은 1000원입니다.\n"
   ]
  },
  {
   "cell_type": "code",
   "execution_count": null,
   "metadata": {},
   "outputs": [],
   "source": []
  },
  {
   "cell_type": "markdown",
   "metadata": {},
   "source": [
    "# 딕셔너리 실습 04\n",
    "\n",
    "[문제]\n",
    "- input() 함수를 통해 이름 값 여럿을 입력 받습니다.\n",
    "- 입력 받고 난 후에 이름 순서와 개수를 동일하게 몸무게 값을 입력 받습니다.\n",
    "- 이름(str)을 키(key)로, 몸무게(float)를 값(value)으로 하는 딕셔너리 자료형을 만들고 그 결과를 출력해보세요\n",
    "\n",
    "[실행 결과]\n",
    "- 이름을 기입해주세요: 뽀로로 루피 크롱 스누피\n",
    "- 몸무게를 입려해주세요: 20.4 16.2 22.3 5.2\n",
    "\n"
   ]
  },
  {
   "cell_type": "code",
   "execution_count": null,
   "metadata": {},
   "outputs": [],
   "source": []
  }
 ],
 "metadata": {
  "kernelspec": {
   "display_name": "sesac",
   "language": "python",
   "name": "python3"
  },
  "language_info": {
   "codemirror_mode": {
    "name": "ipython",
    "version": 3
   },
   "file_extension": ".py",
   "mimetype": "text/x-python",
   "name": "python",
   "nbconvert_exporter": "python",
   "pygments_lexer": "ipython3",
   "version": "3.10.15"
  }
 },
 "nbformat": 4,
 "nbformat_minor": 2
}
