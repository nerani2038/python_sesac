{
 "cells": [
  {
   "cell_type": "markdown",
   "metadata": {},
   "source": [
    "# 문자형"
   ]
  },
  {
   "cell_type": "markdown",
   "metadata": {},
   "source": [
    "# 1. 문자열 생성 "
   ]
  },
  {
   "cell_type": "markdown",
   "metadata": {},
   "source": [
    "## 1.1 작은 따옴표와 큰 따옴표를 통한 문자열 생성 방식"
   ]
  },
  {
   "cell_type": "code",
   "execution_count": 1,
   "metadata": {},
   "outputs": [
    {
     "name": "stdout",
     "output_type": "stream",
     "text": [
      "Hello, World!\n",
      "Hello, World!\n"
     ]
    }
   ],
   "source": [
    "a = 'Hello, World!'\n",
    "b = \"Hello, World!\"\n",
    "\n",
    "print(a, b, sep='\\n')"
   ]
  },
  {
   "cell_type": "code",
   "execution_count": 3,
   "metadata": {},
   "outputs": [
    {
     "data": {
      "text/plain": [
       "'Hello, World!'"
      ]
     },
     "execution_count": 3,
     "metadata": {},
     "output_type": "execute_result"
    }
   ],
   "source": [
    "a # 값 그자체를 보여줌 "
   ]
  },
  {
   "cell_type": "code",
   "execution_count": 4,
   "metadata": {},
   "outputs": [
    {
     "name": "stdout",
     "output_type": "stream",
     "text": [
      "4424870192\n",
      "4424863344\n"
     ]
    }
   ],
   "source": [
    "print(id(a))\n",
    "print(id(b))"
   ]
  },
  {
   "cell_type": "markdown",
   "metadata": {},
   "source": [
    "## 1.2 작은 따옴표와 큰 따옴표 혼용"
   ]
  },
  {
   "cell_type": "code",
   "execution_count": 13,
   "metadata": {},
   "outputs": [
    {
     "name": "stdout",
     "output_type": "stream",
     "text": [
      "Hello, \"This is my world!\"\n",
      "Hello 'This is my world!'\n"
     ]
    }
   ],
   "source": [
    "print('Hello, \"This is my world!\"')\n",
    "print(\"Hello 'This is my world!'\")\n"
   ]
  },
  {
   "cell_type": "code",
   "execution_count": 11,
   "metadata": {},
   "outputs": [
    {
     "ename": "SyntaxError",
     "evalue": "invalid syntax. Perhaps you forgot a comma? (1486424590.py, line 1)",
     "output_type": "error",
     "traceback": [
      "\u001b[0;36m  Cell \u001b[0;32mIn[11], line 1\u001b[0;36m\u001b[0m\n\u001b[0;31m    print(\"Hello \"This is my world!\"\")\u001b[0m\n\u001b[0m          ^\u001b[0m\n\u001b[0;31mSyntaxError\u001b[0m\u001b[0;31m:\u001b[0m invalid syntax. Perhaps you forgot a comma?\n"
     ]
    }
   ],
   "source": [
    "print(\"Hello \"This is my world!\"\")"
   ]
  },
  {
   "cell_type": "markdown",
   "metadata": {},
   "source": [
    "## 1.3 이스케이프 문자 역슬래시 활용 "
   ]
  },
  {
   "cell_type": "code",
   "execution_count": null,
   "metadata": {},
   "outputs": [
    {
     "name": "stdout",
     "output_type": "stream",
     "text": [
      "Hello, 'This is my world!'\n",
      "Hello, \"This is my world!\"\n"
     ]
    }
   ],
   "source": [
    "print('Hello, \\'This is my world!\\'')\n",
    "print(\"Hello, \\\"This is my world!\\\"\")\n"
   ]
  },
  {
   "cell_type": "markdown",
   "metadata": {},
   "source": [
    "## 1.4 줄바꿈"
   ]
  },
  {
   "cell_type": "code",
   "execution_count": null,
   "metadata": {},
   "outputs": [
    {
     "name": "stdout",
     "output_type": "stream",
     "text": [
      "Hello, :\n",
      "\"This is my world!\"\n",
      "Hello, :\n",
      "'This is my world!'\n",
      "\n",
      "\n",
      "This is my example:\n",
      "Hello, World!\n",
      "This is my example:\n",
      "Hello, World!\n",
      "\n",
      "\n",
      "This is my example:\n",
      "Hello, World!\n",
      "\n",
      "This is my example:\n",
      "Hello, World!\n"
     ]
    }
   ],
   "source": [
    "print('Hello, :\\n\"This is my world!\"')\n",
    "print(\"Hello, :\\n'This is my world!'\")\n",
    "print('\\n')\n",
    "\n",
    "a = 'This is my example:\\nHello, World!'\n",
    "b = \"This is my example:\\nHello, World!\"\n",
    "\n",
    "print(a)\n",
    "print(b)\n",
    "print('\\n')\n",
    "print(a, b, sep='\\n\\n')\n"
   ]
  },
  {
   "cell_type": "code",
   "execution_count": 25,
   "metadata": {},
   "outputs": [
    {
     "data": {
      "text/plain": [
       "'This is my example:\\nHello, World!'"
      ]
     },
     "execution_count": 25,
     "metadata": {},
     "output_type": "execute_result"
    }
   ],
   "source": [
    "a"
   ]
  },
  {
   "cell_type": "code",
   "execution_count": 28,
   "metadata": {},
   "outputs": [
    {
     "name": "stdout",
     "output_type": "stream",
     "text": [
      "c:\n",
      "ame\n",
      "\n",
      "c:\\name\n",
      "\n",
      "c:\\name\n"
     ]
    }
   ],
   "source": [
    "a = 'c:\\name'\n",
    "# print(a)\n",
    "\n",
    "b = r'c:\\name'\n",
    "# print(b)\n",
    "\n",
    "c = 'c:\\\\name'\n",
    "# print(c)\n",
    "\n",
    "print(a, b, c, sep='\\n\\n')"
   ]
  },
  {
   "cell_type": "markdown",
   "metadata": {},
   "source": [
    "## 1.5 삼중 따옴표를 통한 줄바꿈"
   ]
  },
  {
   "cell_type": "code",
   "execution_count": 29,
   "metadata": {},
   "outputs": [
    {
     "name": "stdout",
     "output_type": "stream",
     "text": [
      "This is my example:\n",
      "Hellow World!\n",
      "\n",
      "This is my example:\n",
      "Hellow, World!\n"
     ]
    }
   ],
   "source": [
    "a = '''This is my example:\n",
    "Hellow World!'''\n",
    "\n",
    "\n",
    "b = \"\"\"This is my example:\n",
    "Hellow, World!\"\"\"\n",
    "\n",
    "print(a, b, sep='\\n\\n')"
   ]
  },
  {
   "cell_type": "code",
   "execution_count": 31,
   "metadata": {},
   "outputs": [
    {
     "name": "stdout",
     "output_type": "stream",
     "text": [
      "\n",
      "This is my example:\n",
      "Hellow World!\n",
      "\n",
      "\n",
      "This is my example:\n",
      "Hellow, World!\n"
     ]
    }
   ],
   "source": [
    "c = '''\n",
    "This is my example:\n",
    "Hellow World!\n",
    "'''\n",
    "\n",
    "\n",
    "d= \"\"\"This is my example:\n",
    "Hellow, World!\"\"\"\n",
    "\n",
    "print(c, d, sep='\\n\\n')"
   ]
  },
  {
   "cell_type": "code",
   "execution_count": 32,
   "metadata": {},
   "outputs": [
    {
     "name": "stdout",
     "output_type": "stream",
     "text": [
      "This is my example:\n",
      "Hellow World!\n",
      "\n",
      "This is my example:\n",
      "Hellow, World!\n"
     ]
    }
   ],
   "source": [
    "e = '''\\\n",
    "This is my example:\n",
    "Hellow World!\\\n",
    "'''\n",
    "\n",
    "\n",
    "f = \"\"\"This is my example:\n",
    "Hellow, World!\"\"\"\n",
    "\n",
    "print(e, f, sep='\\n\\n')"
   ]
  },
  {
   "cell_type": "code",
   "execution_count": null,
   "metadata": {},
   "outputs": [],
   "source": []
  },
  {
   "cell_type": "markdown",
   "metadata": {},
   "source": [
    "# 실습 01\n",
    "[문제] 아래 문장을 리터럴로 만든 후 출력(print)하세요.\n",
    "- 주어진 문장: “안녕?”이라는 그 인사를 듣고 나는 ‘누구지?’라고 생각 했다.\n",
    "- 결과: “안녕?”이라는 그 인사를 듣고 나는 ‘누구지?’라고 생각 했다."
   ]
  },
  {
   "cell_type": "code",
   "execution_count": null,
   "metadata": {},
   "outputs": [
    {
     "name": "stdout",
     "output_type": "stream",
     "text": [
      "“안녕?”이라는 그 인사를 듣고 나는 ‘누구지?’라고 생각 했다.\n",
      "“안녕?”이라는 그 인사를 듣고 나는 ‘누구지?’라고 생각 했다.\n"
     ]
    }
   ],
   "source": [
    "x = \"“안녕?”이라는 그 인사를 듣고 나는 ‘누구지?’라고 생각 했다.\"\n",
    "y = '“안녕?”이라는 그 인사를 듣고 나는 ‘누구지?’라고 생각 했다.'\n",
    "\n",
    "print(x)\n",
    "print(y)"
   ]
  },
  {
   "cell_type": "code",
   "execution_count": 39,
   "metadata": {},
   "outputs": [
    {
     "name": "stdout",
     "output_type": "stream",
     "text": [
      "\"안녕?\"이라는 그 인사를 듣고 나는 ‘누구지?’라고 생각 했다.\n",
      "\"안녕?\"이라는 그 인사를 듣고 나는 '누구지?'라고 생각 했다.\n"
     ]
    }
   ],
   "source": [
    "# 방법 1\n",
    "print(\"\\\"안녕?\\\"이라는 그 인사를 듣고 나는 ‘누구지?’라고 생각 했다.\")\n",
    "print('\"안녕?\"이라는 그 인사를 듣고 나는 \\'누구지?\\'라고 생각 했다.')"
   ]
  },
  {
   "cell_type": "markdown",
   "metadata": {},
   "source": [
    "# 2. 문자열 연산"
   ]
  },
  {
   "cell_type": "markdown",
   "metadata": {},
   "source": [
    "## 2.1 덧셈"
   ]
  },
  {
   "cell_type": "code",
   "execution_count": 42,
   "metadata": {},
   "outputs": [
    {
     "name": "stdout",
     "output_type": "stream",
     "text": [
      "HelloHello\n"
     ]
    },
    {
     "data": {
      "text/plain": [
       "'HelloHello'"
      ]
     },
     "execution_count": 42,
     "metadata": {},
     "output_type": "execute_result"
    }
   ],
   "source": [
    "a = 'Hello' + 'Hello'\n",
    "print(a)\n",
    "a"
   ]
  },
  {
   "cell_type": "markdown",
   "metadata": {},
   "source": [
    "## 2.2 곱셈"
   ]
  },
  {
   "cell_type": "code",
   "execution_count": 44,
   "metadata": {},
   "outputs": [
    {
     "name": "stdout",
     "output_type": "stream",
     "text": [
      "HelloHelloHello\n"
     ]
    },
    {
     "data": {
      "text/plain": [
       "'HelloHelloHello'"
      ]
     },
     "execution_count": 44,
     "metadata": {},
     "output_type": "execute_result"
    }
   ],
   "source": [
    "a = 'Hello'\n",
    "print(a * 3)\n",
    "a * 3"
   ]
  },
  {
   "cell_type": "code",
   "execution_count": 45,
   "metadata": {},
   "outputs": [
    {
     "name": "stdout",
     "output_type": "stream",
     "text": [
      "HelloHelloHelloHelloHelloHelloHelloHelloHelloHello\n"
     ]
    },
    {
     "data": {
      "text/plain": [
       "'HelloHelloHelloHelloHelloHelloHelloHelloHelloHello'"
      ]
     },
     "execution_count": 45,
     "metadata": {},
     "output_type": "execute_result"
    }
   ],
   "source": [
    "b = 'Hello' * 10\n",
    "print(b)\n",
    "b"
   ]
  },
  {
   "cell_type": "code",
   "execution_count": 49,
   "metadata": {},
   "outputs": [
    {
     "name": "stdout",
     "output_type": "stream",
     "text": [
      "안녕하세요? 저는 전혜란입니다.\n",
      "안녕하세요?저는 전혜란입니다.\n",
      "안녕하세요?\n",
      "저는 전혜란입니다.\n"
     ]
    }
   ],
   "source": [
    "a = '안녕하세요?'\n",
    "b = '저는 전혜란입니다.'\n",
    "\n",
    "print(a, b)\n",
    "print(a, b, sep='')\n",
    "print(a, b, sep='\\n')"
   ]
  },
  {
   "cell_type": "code",
   "execution_count": 52,
   "metadata": {},
   "outputs": [
    {
     "name": "stdout",
     "output_type": "stream",
     "text": [
      "\n",
      "<class 'str'>\n"
     ]
    },
    {
     "data": {
      "text/plain": [
       "''"
      ]
     },
     "execution_count": 52,
     "metadata": {},
     "output_type": "execute_result"
    }
   ],
   "source": [
    "c = ''\n",
    "print(c)\n",
    "print(type(c))\n",
    "c"
   ]
  },
  {
   "cell_type": "code",
   "execution_count": null,
   "metadata": {},
   "outputs": [
    {
     "name": "stdout",
     "output_type": "stream",
     "text": [
      "1.  문자열을 더해보았습니다.\n",
      "2.문자열을 더해보았습니다.\n",
      "3. 문자열을 더해보았습니다.\n",
      "문자열을 더해보았습니다.\n",
      "4. 문자열을 더해보았습니다.\n",
      "문자열을 더해보았습니다.\n"
     ]
    }
   ],
   "source": [
    "d = '문자열을 더해보았습니다.'\n",
    "\n",
    "print('1.', c, d) # sep=' ' 디폴트 때문에 출력시 공백이 들어간다. - 두개의 객체를 받은것\n",
    "print('2.', c, d, sep='') # 디폴트값을 수정하여서 출력\n",
    "print('3.', c + d) # c 와 d 문자열을 합해서 출력한것\n",
    "print(c + d) # c 와 d 문자열을 합해서 출력한것 - 하나의 문자열만 출력한것이기때문에 sep=' ' 이 적용되지 않는것 - 한개의 객체만 받은것\n",
    "print('4. ',c + d, sep='') # c 와 d 문자열을 합해서 출력한것\n",
    "\n",
    "e = c + d\n",
    "print(e)"
   ]
  },
  {
   "cell_type": "markdown",
   "metadata": {},
   "source": [
    "# 실습 02\n",
    "\n",
    "[문제] 다음의 글에서 '너무'를 총 100회 출력되도록 하세요.\n",
    "- 출력 결과: \n",
    "    너무너무너무너무너무너무너무너무너무너무너무너무너무너무너무너무너무너무너무너무너무너무너무너무너무\n",
    "    너무너무너무너무너무너무너무너무너무너무너무너무너무너무너무너무너무너무너무너무너무너무너무너무너무\n",
    "    너무너무너무너무너무너무너무너무너무너무너무너무너무너무너무너무너무너무너무너무너무너무너무너무너무\n",
    "    너무너무너무너무너무너무너무너무너무너무너무너무너무너무너무너무너무너무너무너무너무너무너무너무너무\n",
    "    파이썬 공부가 즐겁습니다."
   ]
  },
  {
   "cell_type": "code",
   "execution_count": null,
   "metadata": {},
   "outputs": [
    {
     "name": "stdout",
     "output_type": "stream",
     "text": [
      "너무너무너무너무너무너무너무너무너무너무너무너무너무너무너무너무너무너무너무너무너무너무너무너무너무너무너무너무너무너무너무너무너무너무너무너무너무너무너무너무너무너무너무너무너무너무너무너무너무너무너무너무너무너무너무너무너무너무너무너무너무너무너무너무너무너무너무너무너무너무너무너무너무너무너무너무너무너무너무너무너무너무너무너무너무너무너무너무너무너무너무너무너무너무너무너무너무너무너무너무 파이썬 공부가 즐겁습니다.\n"
     ]
    }
   ],
   "source": [
    "x = '너무' * 100\n",
    "y = '파이썬 공부가 즐겁습니다.'\n",
    "print(x, y) # sep=' ' 기본값이 적용됨"
   ]
  },
  {
   "cell_type": "code",
   "execution_count": 69,
   "metadata": {},
   "outputs": [
    {
     "name": "stdout",
     "output_type": "stream",
     "text": [
      "너무너무너무너무너무너무너무너무너무너무너무너무너무너무너무너무너무너무너무너무너무너무너무너무너무너무너무너무너무너무너무너무너무너무너무너무너무너무너무너무너무너무너무너무너무너무너무너무너무너무너무너무너무너무너무너무너무너무너무너무너무너무너무너무너무너무너무너무너무너무너무너무너무너무너무너무너무너무너무너무너무너무너무너무너무너무너무너무너무너무너무너무너무너무너무너무너무너무너무너무 파이썬 공부가 즐겁습니다.\n"
     ]
    }
   ],
   "source": [
    "answer = '너무' * 100 + ' 파이썬 공부가 즐겁습니다.' # 하나의 변수, 하나의 문자열로 만든것\n",
    "\n",
    "print(answer)"
   ]
  },
  {
   "cell_type": "code",
   "execution_count": 70,
   "metadata": {},
   "outputs": [
    {
     "data": {
      "text/plain": [
       "215"
      ]
     },
     "execution_count": 70,
     "metadata": {},
     "output_type": "execute_result"
    }
   ],
   "source": [
    "len(answer)"
   ]
  },
  {
   "cell_type": "code",
   "execution_count": null,
   "metadata": {},
   "outputs": [
    {
     "name": "stdout",
     "output_type": "stream",
     "text": [
      "너무너무너무너무너무너무너무너무너무너무너무너무너무너무너무너무너무너무너무너무너무너무너무너무너무너무너무너무너무너무너무너무너무너무너무너무너무너무너무너무너무너무너무너무너무너무너무너무너무너무너무너무너무너무너무너무너무너무너무너무너무너무너무너무너무너무너무너무너무너무너무너무너무너무너무너무너무너무너무너무너무너무너무너무너무너무너무너무너무너무너무너무너무너무너무너무너무너무너무너무파이썬!\n",
      "너무너무너무너무너무너무너무너무너무너무너무너무너무너무너무너무너무너무너무너무너무너무너무너무너무너무너무너무너무너무너무너무너무너무너무너무너무너무너무너무너무너무너무너무너무너무너무너무너무너무너무너무너무너무너무너무너무너무너무너무너무너무너무너무너무너무너무너무너무너무너무너무너무너무너무너무너무너무너무너무너무너무너무너무너무너무너무너무너무너무너무너무너무너무너무너무너무너무너무너무 파이썬!\n"
     ]
    }
   ],
   "source": [
    "a = '너무'\n",
    "print(a*100 + '파이썬!') # 1객의 객체 입력 -...너무너무파이썬!\n",
    "print(a*100, '파이썬!') # 2객의 객체 입력 -...너무너무 파이썬!"
   ]
  },
  {
   "cell_type": "markdown",
   "metadata": {},
   "source": [
    "# 3. 문자열 함수"
   ]
  },
  {
   "cell_type": "markdown",
   "metadata": {},
   "source": [
    "## 3.1 len()"
   ]
  },
  {
   "cell_type": "code",
   "execution_count": 68,
   "metadata": {},
   "outputs": [
    {
     "data": {
      "text/plain": [
       "12"
      ]
     },
     "execution_count": 68,
     "metadata": {},
     "output_type": "execute_result"
    }
   ],
   "source": [
    "word = 'apple banana'\n",
    "len(word)\n",
    "# len('apple banana')"
   ]
  },
  {
   "cell_type": "code",
   "execution_count": null,
   "metadata": {},
   "outputs": [
    {
     "data": {
      "text/plain": [
       "4"
      ]
     },
     "execution_count": 71,
     "metadata": {},
     "output_type": "execute_result"
    }
   ],
   "source": [
    "len(word) # word 의 외부에서 len 이 선언된 것 - 외부함수 사용법\n",
    "word.count('a') # word 라는 클래스안의 count(str()의 내부함수) 함수를 사용 - 내부함수 사용법\n"
   ]
  },
  {
   "cell_type": "markdown",
   "metadata": {},
   "source": [
    "## 3.2 replace()"
   ]
  },
  {
   "cell_type": "code",
   "execution_count": 73,
   "metadata": {},
   "outputs": [
    {
     "name": "stdout",
     "output_type": "stream",
     "text": [
      "8pple b8n8n8\n"
     ]
    }
   ],
   "source": [
    "word = 'apple banana'\n",
    "print(word.replace('a', '8'))"
   ]
  },
  {
   "cell_type": "code",
   "execution_count": 74,
   "metadata": {},
   "outputs": [
    {
     "name": "stdout",
     "output_type": "stream",
     "text": [
      "2pple b2n2n2\n"
     ]
    }
   ],
   "source": [
    "word = 'apple banana'\n",
    "new_word = word.replace('a', '2')\n",
    "\n",
    "print(new_word)\n"
   ]
  },
  {
   "cell_type": "code",
   "execution_count": 78,
   "metadata": {},
   "outputs": [
    {
     "name": "stdout",
     "output_type": "stream",
     "text": [
      "2pple b25252\n"
     ]
    }
   ],
   "source": [
    "new_word2 = new_word.replace('n', '5')\n",
    "print(new_word2)"
   ]
  },
  {
   "cell_type": "code",
   "execution_count": 80,
   "metadata": {},
   "outputs": [
    {
     "name": "stdout",
     "output_type": "stream",
     "text": [
      "2ppleb25252\n"
     ]
    }
   ],
   "source": [
    "new_word3 = new_word2.replace(' ', '')\n",
    "print(new_word3)"
   ]
  },
  {
   "cell_type": "code",
   "execution_count": 92,
   "metadata": {},
   "outputs": [
    {
     "name": "stdout",
     "output_type": "stream",
     "text": [
      "x = 100\n",
      "x = 100\n",
      "x = a\n"
     ]
    }
   ],
   "source": [
    "x = input('x의 값: ')\n",
    "# y = input('y의 값: ')\n",
    "# z = input('z의 값: ')\n",
    "\n",
    "# test_word = 'x = a, y = b, z = c'\n",
    "test_word = 'x = a'\n",
    "test_word2 = test_word.replace('a', x)\n",
    "print(test_word2)\n",
    "# test_word.replace('b', y)\n",
    "# print(test_word)\n",
    "# test_word.replace('c', z)\n",
    "# print(test_word)\n",
    "\n",
    "# print(test_word)\n",
    "\n",
    "print(test_word.replace('a', x)) # 결과값만 보여주는것 test_word 에 반영이 된것은 아님\n",
    "print(test_word) # 그래서 결국에 test_word 가 변형되지는 않았음\n"
   ]
  },
  {
   "cell_type": "markdown",
   "metadata": {},
   "source": [
    "## 3.3 upper(), lower()"
   ]
  },
  {
   "cell_type": "code",
   "execution_count": 101,
   "metadata": {},
   "outputs": [
    {
     "name": "stdout",
     "output_type": "stream",
     "text": [
      "APPLE BANANA\n"
     ]
    }
   ],
   "source": [
    "word = 'apple banana'\n",
    "print(word.upper())"
   ]
  },
  {
   "cell_type": "code",
   "execution_count": null,
   "metadata": {},
   "outputs": [
    {
     "name": "stdout",
     "output_type": "stream",
     "text": [
      "apple banana\n"
     ]
    }
   ],
   "source": [
    "print(word) # 실행한 순서에 따라 초기화값이 달라진다. "
   ]
  },
  {
   "cell_type": "code",
   "execution_count": 103,
   "metadata": {},
   "outputs": [
    {
     "name": "stdout",
     "output_type": "stream",
     "text": [
      "APPLE BANANA\n"
     ]
    }
   ],
   "source": [
    "word = word.upper()\n",
    "print(word)"
   ]
  },
  {
   "cell_type": "code",
   "execution_count": 105,
   "metadata": {},
   "outputs": [
    {
     "name": "stdout",
     "output_type": "stream",
     "text": [
      "apple banana\n"
     ]
    }
   ],
   "source": [
    "word = 'APPLE BANANA'\n",
    "print(word.lower())"
   ]
  },
  {
   "cell_type": "code",
   "execution_count": 110,
   "metadata": {},
   "outputs": [
    {
     "data": {
      "text/plain": [
       "'apple banana'"
      ]
     },
     "execution_count": 110,
     "metadata": {},
     "output_type": "execute_result"
    }
   ],
   "source": [
    "word"
   ]
  },
  {
   "cell_type": "code",
   "execution_count": 109,
   "metadata": {},
   "outputs": [
    {
     "name": "stdout",
     "output_type": "stream",
     "text": [
      "apple banana\n"
     ]
    }
   ],
   "source": [
    "word = word.lower()\n",
    "print(word)"
   ]
  },
  {
   "cell_type": "markdown",
   "metadata": {},
   "source": [
    "# 4. 문자열 인덱싱"
   ]
  },
  {
   "cell_type": "code",
   "execution_count": 115,
   "metadata": {},
   "outputs": [
    {
     "name": "stdout",
     "output_type": "stream",
     "text": [
      "p\n"
     ]
    }
   ],
   "source": [
    "word = 'python'\n",
    "# word[0]\n",
    "word_p = word[0]\n",
    "print(word_p)"
   ]
  },
  {
   "cell_type": "code",
   "execution_count": 118,
   "metadata": {},
   "outputs": [
    {
     "name": "stdout",
     "output_type": "stream",
     "text": [
      "n\n",
      "n\n"
     ]
    }
   ],
   "source": [
    "print(word[5])\n",
    "print(word[-1])"
   ]
  },
  {
   "cell_type": "code",
   "execution_count": null,
   "metadata": {},
   "outputs": [
    {
     "data": {
      "text/plain": [
       "6"
      ]
     },
     "execution_count": 120,
     "metadata": {},
     "output_type": "execute_result"
    }
   ],
   "source": [
    "word = 'python'\n",
    "len(word)\n",
    "# word[len - 1]"
   ]
  },
  {
   "cell_type": "code",
   "execution_count": 128,
   "metadata": {},
   "outputs": [
    {
     "ename": "TypeError",
     "evalue": "'str' object does not support item assignment",
     "output_type": "error",
     "traceback": [
      "\u001b[0;31m---------------------------------------------------------------------------\u001b[0m",
      "\u001b[0;31mTypeError\u001b[0m                                 Traceback (most recent call last)",
      "Cell \u001b[0;32mIn[128], line 3\u001b[0m\n\u001b[1;32m      1\u001b[0m word \u001b[38;5;241m=\u001b[39m \u001b[38;5;124m'\u001b[39m\u001b[38;5;124mpython\u001b[39m\u001b[38;5;124m'\u001b[39m\n\u001b[0;32m----> 3\u001b[0m \u001b[43mword\u001b[49m\u001b[43m[\u001b[49m\u001b[38;5;241;43m1\u001b[39;49m\u001b[43m]\u001b[49m \u001b[38;5;241m=\u001b[39m \u001b[38;5;124m'\u001b[39m\u001b[38;5;124mY\u001b[39m\u001b[38;5;124m'\u001b[39m\n",
      "\u001b[0;31mTypeError\u001b[0m: 'str' object does not support item assignment"
     ]
    }
   ],
   "source": [
    "word = 'python'\n",
    "\n",
    "word[1] = 'Y'\n"
   ]
  },
  {
   "cell_type": "code",
   "execution_count": null,
   "metadata": {},
   "outputs": [
    {
     "name": "stdout",
     "output_type": "stream",
     "text": [
      "pYthon\n"
     ]
    }
   ],
   "source": [
    "word = \"python\"\n",
    "# 1번째 인덱스를 'Y'로 수정\n",
    "# word[:1]는 첫 번째 문자만 가져오고, 'Y'를 삽입하며, word[2:]는 두 번째 문자 이후의 나머지 부분을 그대로 가져옵니다.\n",
    "word = word[:1] + 'Y' + word[2:]\n",
    "print(word)  # 출력: pYthon\n"
   ]
  },
  {
   "cell_type": "code",
   "execution_count": null,
   "metadata": {},
   "outputs": [
    {
     "name": "stdout",
     "output_type": "stream",
     "text": [
      "<class 'str'>\n",
      "<class 'str'>\n"
     ]
    }
   ],
   "source": [
    "word = 'python'\n",
    "word2 = word\n",
    "\n",
    "print(type(word))\n",
    "print(type(word2))"
   ]
  },
  {
   "cell_type": "markdown",
   "metadata": {},
   "source": [
    "# 실습 03\n",
    "[문제] \n",
    "- sentence 라는 명칭의 변수를 선언하고 '중요한 것은 꺾이지 않는 마음'의 문자열 리터럴을 할당하세요\n",
    "- 그리고 인덱싱을 활용하여 '꺾'을 출력해보세요."
   ]
  },
  {
   "cell_type": "code",
   "execution_count": 2,
   "metadata": {},
   "outputs": [
    {
     "name": "stdout",
     "output_type": "stream",
     "text": [
      "16\n",
      "꺾\n",
      "중꺾마\n"
     ]
    }
   ],
   "source": [
    "sentence = '중요한 것은 꺾이지 않는 마음'\n",
    "print(len(sentence))\n",
    "print(sentence[7])\n",
    "sentence_중꺾마 = sentence[0] + sentence[7] + sentence[-2]\n",
    "print(sentence_중꺾마)"
   ]
  },
  {
   "cell_type": "code",
   "execution_count": null,
   "metadata": {},
   "outputs": [
    {
     "data": {
      "text/plain": [
       "7"
      ]
     },
     "execution_count": 3,
     "metadata": {},
     "output_type": "execute_result"
    }
   ],
   "source": [
    "# 내장함수 활용\n",
    "sentence.index('꺾') # 해당문자의 인덱스 번호를 알려줌"
   ]
  },
  {
   "cell_type": "code",
   "execution_count": null,
   "metadata": {},
   "outputs": [
    {
     "data": {
      "text/plain": [
       "1"
      ]
     },
     "execution_count": 4,
     "metadata": {},
     "output_type": "execute_result"
    }
   ],
   "source": [
    "word = 'apple'\n",
    "word.index('p') # 중복된 문자일시 가장 처음의 인덱스 번호를 반환"
   ]
  },
  {
   "cell_type": "markdown",
   "metadata": {},
   "source": [
    "# 5. 문자열 슬라이싱"
   ]
  },
  {
   "cell_type": "code",
   "execution_count": 8,
   "metadata": {},
   "outputs": [
    {
     "data": {
      "text/plain": [
       "'abc'"
      ]
     },
     "execution_count": 8,
     "metadata": {},
     "output_type": "execute_result"
    }
   ],
   "source": [
    "test = 'abc'\n",
    "# 0, 1, 2 까지 인덱스 번호가 있음\n",
    "# test[3] #IndexError: string index out of range\n",
    "test[0:42] # 범위를 초과시에도 전체를 추가"
   ]
  },
  {
   "cell_type": "code",
   "execution_count": 9,
   "metadata": {},
   "outputs": [
    {
     "data": {
      "text/plain": [
       "'음마 는않 지이꺾 은것 한요중'"
      ]
     },
     "execution_count": 9,
     "metadata": {},
     "output_type": "execute_result"
    }
   ],
   "source": [
    "sentence = '중요한 것은 꺾이지 않는 마음'\n",
    "sentence[42::-1]"
   ]
  },
  {
   "cell_type": "code",
   "execution_count": null,
   "metadata": {},
   "outputs": [],
   "source": []
  },
  {
   "cell_type": "markdown",
   "metadata": {},
   "source": [
    "# 실습 04\n",
    "[문제1]\n",
    "- sentence라는 명칭의 변수를 선언하고 ‘중요한 것은 꺾이지 않는 마음’의 문자열 리터럴을 할당하세요.\n",
    "- 그리고 슬라이싱을 활용하여 '**꺾이지 않는 마음**'을 출력해보세요.\n"
   ]
  },
  {
   "cell_type": "code",
   "execution_count": null,
   "metadata": {},
   "outputs": [
    {
     "name": "stdout",
     "output_type": "stream",
     "text": [
      "꺾이지 않는 마음\n"
     ]
    }
   ],
   "source": [
    "sentence = '중요한 것은 꺾이지 않는 마음'\n",
    "꺾_index = sentence.index('꺾')\n",
    "sentence_len = len(sentence)\n",
    "# slicing = sentence[꺾_index:sentence_len:] # 방법 1\n",
    "slicing = sentence[꺾_index::] # 방법 2\n",
    "print(slicing)"
   ]
  },
  {
   "cell_type": "code",
   "execution_count": 17,
   "metadata": {},
   "outputs": [
    {
     "data": {
      "text/plain": [
       "'꺾이지 않는 마음'"
      ]
     },
     "execution_count": 17,
     "metadata": {},
     "output_type": "execute_result"
    }
   ],
   "source": [
    "sentence = '중요한 것은 꺾이지 않는 마음'\n",
    "sentence[7:]"
   ]
  },
  {
   "cell_type": "markdown",
   "metadata": {},
   "source": [
    "[문제2]\n",
    "- sentence라는 명칭의 변수를 선언하고 ‘중요한 것은 꺾이지 않는 마음’의 문자열 리터럴을 할당하세요.\n",
    "- 그리고 슬라이싱을 활용하여 '**한요중**'을 출력해보세요."
   ]
  },
  {
   "cell_type": "code",
   "execution_count": 15,
   "metadata": {},
   "outputs": [
    {
     "name": "stdout",
     "output_type": "stream",
     "text": [
      "한요중\n"
     ]
    }
   ],
   "source": [
    "sentence = '중요한 것은 꺾이지 않는 마음'\n",
    "한_index = sentence.index('한')\n",
    "slicing = sentence[한_index::-1]\n",
    "print(slicing)\n"
   ]
  },
  {
   "cell_type": "code",
   "execution_count": null,
   "metadata": {},
   "outputs": [
    {
     "data": {
      "text/plain": [
       "''"
      ]
     },
     "execution_count": 19,
     "metadata": {},
     "output_type": "execute_result"
    }
   ],
   "source": [
    "sentence = '중요한 것은 꺾이지 않는 마음'\n",
    "sentence[2::-1]\n",
    "# sentence[2:-1:-1] = '' # 오류가 나는게 아니라 '' 이 나옴 "
   ]
  },
  {
   "cell_type": "markdown",
   "metadata": {},
   "source": [
    "# 6. 서식지정자"
   ]
  },
  {
   "cell_type": "markdown",
   "metadata": {},
   "source": [
    "## 6.1 %s 포매팅"
   ]
  },
  {
   "cell_type": "markdown",
   "metadata": {},
   "source": [
    "1. 기본 사용 법"
   ]
  },
  {
   "cell_type": "code",
   "execution_count": null,
   "metadata": {},
   "outputs": [
    {
     "name": "stdout",
     "output_type": "stream",
     "text": [
      "I am tom!\n",
      "I am tom!\n",
      "I am sam!\n",
      "I am sam!\n",
      "I am sam!\n"
     ]
    }
   ],
   "source": [
    "# \"문자열 %s문자열\"% \"추가문자\"\n",
    "# '문자열 %s문자열'% '추가문자'\n",
    "\n",
    "\n",
    "# %s 사용안함 - 서식지정자를 사용하지 않은 경우\n",
    "name = 'tom'\n",
    "print('I am ' + name + '!')\n",
    "\n",
    "# %s 사용 - 서식지정자를 사용한 경우\n",
    "name2 = 'tom'\n",
    "print('I am %s!'% name2)\n",
    "\n",
    "# %s 사용 - 서식지정자를 사용한 경우 : 날짜를 매번 바꿔서 출려해야 할때 주로 사용된다\n",
    "print('I am %s!'% 'sam')\n",
    "print('I am %s!'%'sam')\n",
    "print('I am %s!' %'sam')"
   ]
  },
  {
   "cell_type": "code",
   "execution_count": 23,
   "metadata": {},
   "outputs": [
    {
     "name": "stdout",
     "output_type": "stream",
     "text": [
      "I am hyeran\n"
     ]
    }
   ],
   "source": [
    "name = input()\n",
    "\n",
    "print('I am %s'%name)"
   ]
  },
  {
   "cell_type": "markdown",
   "metadata": {},
   "source": [
    "2. 응용1: 공백 추가"
   ]
  },
  {
   "cell_type": "code",
   "execution_count": 27,
   "metadata": {},
   "outputs": [
    {
     "name": "stdout",
     "output_type": "stream",
     "text": [
      "I am        tom\n",
      "I am tom       !\n"
     ]
    }
   ],
   "source": [
    "# %(정수)s: 공백 추가\n",
    "# 양의 정수: 왼쪽으로 숫자만큼 공백 추가\n",
    "# 음의 정수: 오른쪽으로 숫자만큼 공백 추가\n",
    "\n",
    "name = 'tom'\n",
    "\n",
    "# 왼쪽 공백추가\n",
    "print('I am %10s' %name)\n",
    "\n",
    "# 오른쪽 공백추가\n",
    "print('I am %-10s!' %name)"
   ]
  },
  {
   "cell_type": "code",
   "execution_count": null,
   "metadata": {},
   "outputs": [],
   "source": []
  },
  {
   "cell_type": "markdown",
   "metadata": {},
   "source": [
    "3. 여러개의 문자 추가"
   ]
  },
  {
   "cell_type": "code",
   "execution_count": null,
   "metadata": {},
   "outputs": [
    {
     "name": "stdout",
     "output_type": "stream",
     "text": [
      "I like an apple and a banana\n"
     ]
    }
   ],
   "source": [
    "# '문자열 %s 문자열 %s 문자열' %(대체문자1, 대체문자2)\n",
    "# 다중 대체는 시퀀스 형태를 띄어야함\n",
    "# 순서대로 넣어야 함\n",
    "\n",
    "s1 = 'an apple'\n",
    "s2 = 'a banana'\n",
    "\n",
    "# print('I like an apple and a banana')\n",
    "print('I like %s and %s' %(s1, s2))"
   ]
  },
  {
   "cell_type": "markdown",
   "metadata": {},
   "source": [
    "## 6.2 %d 포매팅 "
   ]
  },
  {
   "cell_type": "code",
   "execution_count": null,
   "metadata": {},
   "outputs": [
    {
     "name": "stdout",
     "output_type": "stream",
     "text": [
      "Number 99 is my favorite number\n"
     ]
    }
   ],
   "source": [
    "# 정수 포매팅\n",
    "# '문자열 %d 문자열' %대체정수\n",
    "\n",
    "# num = 4\n",
    "num = int(input())\n",
    "print('Number %d is my favorite number' %num)"
   ]
  },
  {
   "cell_type": "code",
   "execution_count": 32,
   "metadata": {},
   "outputs": [
    {
     "name": "stdout",
     "output_type": "stream",
     "text": [
      "<class 'str'>\n"
     ]
    }
   ],
   "source": [
    "test = 'Number %d is my fav number'%num\n",
    "print(type(test))"
   ]
  },
  {
   "cell_type": "code",
   "execution_count": 33,
   "metadata": {},
   "outputs": [
    {
     "name": "stdout",
     "output_type": "stream",
     "text": [
      "These are my fav numbers: 3, 100, 999\n"
     ]
    }
   ],
   "source": [
    "num1 = 3\n",
    "num2 = 100\n",
    "num3 = 999\n",
    "\n",
    "print('These are my fav numbers: %d, %d, %d' %(num1, num2, num3))"
   ]
  },
  {
   "cell_type": "markdown",
   "metadata": {},
   "source": [
    "## 6.3 %f 포매팅 "
   ]
  },
  {
   "cell_type": "markdown",
   "metadata": {},
   "source": [
    "1. 기본 사용 방식"
   ]
  },
  {
   "cell_type": "code",
   "execution_count": 36,
   "metadata": {},
   "outputs": [
    {
     "name": "stdout",
     "output_type": "stream",
     "text": [
      "Number 3.140000 is my favorite number\n"
     ]
    }
   ],
   "source": [
    "# 실수 포매팅\n",
    "# '문자열 %f 문자열' %대체실수\n",
    "\n",
    "# num = 3.14\n",
    "num = float(input())\n",
    "print('Number %f is my favorite number' %num) # float 은 기본적으로 6자리이므로 채워서 나옴"
   ]
  },
  {
   "cell_type": "markdown",
   "metadata": {},
   "source": [
    "2. 응용1: 지정한 소수점 이하 자리까지 출력"
   ]
  },
  {
   "cell_type": "code",
   "execution_count": null,
   "metadata": {},
   "outputs": [],
   "source": [
    "num = 3.14\n",
    "\n",
    "print('Number %2f is my favorite number' %num) # $2f 시 소수점 두자리 수만큼 나옴"
   ]
  },
  {
   "cell_type": "markdown",
   "metadata": {},
   "source": [
    "3. 응용2: 너비만큼 0으로 채우기"
   ]
  },
  {
   "cell_type": "code",
   "execution_count": 37,
   "metadata": {},
   "outputs": [
    {
     "name": "stdout",
     "output_type": "stream",
     "text": [
      "with 00003.230000: 000000003.23\n"
     ]
    }
   ],
   "source": [
    "# %(0)(채울너비수).(소수점이하출력수)f: 남는 너비 만큼 0으로 채우기\n",
    "\n",
    "num = 3.23\n",
    "\n",
    "print('with %012f: %012.2f' %(num, num)) # 0으로 총열두자리를 패우겠다. / 소수점이하 두번째자리까지채우고 0으로 총 12자리를 채우겠다."
   ]
  },
  {
   "cell_type": "markdown",
   "metadata": {},
   "source": [
    "# 7. format 함수"
   ]
  },
  {
   "cell_type": "markdown",
   "metadata": {},
   "source": [
    "1. 기본 사용 방식"
   ]
  },
  {
   "cell_type": "code",
   "execution_count": 48,
   "metadata": {},
   "outputs": [
    {
     "name": "stdout",
     "output_type": "stream",
     "text": [
      "I like an apple and a banana\n",
      "I like a banana and an apple\n",
      "I like a banana and an apple\n",
      "I like a banana and an apple\n"
     ]
    }
   ],
   "source": [
    "# \"문자열 {변1의 인덱스}, {변2의 인덱스} 문자열\".format(변1, 변2)\n",
    "# str 클래스의 내부함수인 format 을 사용하겠다는 것\n",
    "\n",
    "\n",
    "print('I like {0} and {1}'.format('an apple', 'a banana'))\n",
    "print('I like {1} and {0}'.format('an apple', 'a banana'))\n",
    "print('I like {0} and {1}'.format('a banana', 'an apple'))\n",
    "print('I like {} and {}'.format('a banana', 'an apple')) # 순서대로 들어감\n",
    "\n",
    "# print('I like {-1} and {-2}'.format('a banana', 'an apple')) # KeyError: '-1'"
   ]
  },
  {
   "cell_type": "markdown",
   "metadata": {},
   "source": [
    "2. 변수 활용"
   ]
  },
  {
   "cell_type": "code",
   "execution_count": 50,
   "metadata": {},
   "outputs": [
    {
     "name": "stdout",
     "output_type": "stream",
     "text": [
      "I like an apple and a banana\n",
      "I like a banana and an apple\n",
      "I like a banana and an apple\n",
      "I like an apple and a banana\n"
     ]
    }
   ],
   "source": [
    "fruit1, fruit2 = 'an apple', 'a banana'\n",
    "print('I like {0} and {1}'.format(fruit1, fruit2))\n",
    "print('I like {1} and {0}'.format(fruit1, fruit2))\n",
    "print('I like {0} and {1}'.format(fruit2, fruit1))\n",
    "print('I like {} and {}'.format(fruit1, fruit2))\n",
    "\n",
    "# print('I like {1} and {2}'.format(fruit1, fruit2)) # 없는 인덱스일경우 오류남\n",
    "# print('I like {-1} and {-2}'.format(fruit1, fruit2)) # KeyError: '-1'\n"
   ]
  },
  {
   "cell_type": "code",
   "execution_count": 52,
   "metadata": {},
   "outputs": [
    {
     "name": "stdout",
     "output_type": "stream",
     "text": [
      "test1:  Number 4, 5, 6\n",
      "test2:  Number 4, 4, 5\n",
      "test3:  Number 6, 5, 4\n"
     ]
    }
   ],
   "source": [
    "test1 = 'Number {0}, {1}, {2}'.format(4, 5, 6)\n",
    "test2 = 'Number {0}, {0}, {1}'.format(4, 5, 6)\n",
    "test3 = 'Number {2}, {1}, {0}'.format(4, 5, 6)\n",
    "\n",
    "print('test1: ', test1)\n",
    "print('test2: ', test2)\n",
    "print('test3: ', test3)"
   ]
  },
  {
   "cell_type": "markdown",
   "metadata": {},
   "source": [
    "# 8. f-string"
   ]
  },
  {
   "cell_type": "code",
   "execution_count": 55,
   "metadata": {},
   "outputs": [
    {
     "name": "stdout",
     "output_type": "stream",
     "text": [
      "My name is Hyeran and I'm 32 years old\n"
     ]
    }
   ],
   "source": [
    "# f\"문자열{변수명}문자열\"\n",
    "# 문자열 가장 앞에 f\n",
    "\n",
    "name = 'Hyeran'\n",
    "age = 32\n",
    "height = 165.5\n",
    "\n",
    "print(f'My name is {name} and I\\'m {age} years old')\n"
   ]
  },
  {
   "cell_type": "code",
   "execution_count": 57,
   "metadata": {},
   "outputs": [
    {
     "name": "stdout",
     "output_type": "stream",
     "text": [
      "5 + 2 - 1 = 6\n"
     ]
    }
   ],
   "source": [
    "num1 = 5\n",
    "num2 = 2\n",
    "\n",
    "# num1 + num2 = value\n",
    "\n",
    "print(f'{num1} + {num2} - 1 = {num1 + num2 - 1}')"
   ]
  },
  {
   "cell_type": "markdown",
   "metadata": {},
   "source": [
    "# 실습 05"
   ]
  },
  {
   "cell_type": "markdown",
   "metadata": {},
   "source": [
    "## 05-1 \n",
    "\n",
    "[문제] 문자를 입력 받아 공백을 모두 제거하고 출력하세요\n",
    "\n",
    "[실행 결과] \\\n",
    "아무 문자나 입력해주세요 : 안녕하세요 반갑습니다. \\\n",
    "안녕하세요반갑습니다."
   ]
  },
  {
   "cell_type": "code",
   "execution_count": 60,
   "metadata": {},
   "outputs": [
    {
     "name": "stdout",
     "output_type": "stream",
     "text": [
      "안녕하세요반갑습니다.\n"
     ]
    }
   ],
   "source": [
    "cus_input = input('아무 문자나 입력해주세요: ')\n",
    "print(cus_input.replace(' ', ''))\n"
   ]
  },
  {
   "cell_type": "markdown",
   "metadata": {},
   "source": [
    "## 05-2 \n",
    "\n",
    "[문제] 이름과 점수 3개를 입력받아 아래와 같이 출력하세요\n",
    "\n",
    "\n",
    "[실행 결과] \\\n",
    "이름을 입력해주세요: 홍길동 \\\n",
    "첫 번째 점수를 입력해주세요: 80 \\\n",
    "두 번째 점수를 입력해주세요: 70 \\\n",
    "세 번째 점수를 입력해주세요: 60 \\\n",
    "저의 이름은 홍길동이고 총점은 210 입니다.\n"
   ]
  },
  {
   "cell_type": "code",
   "execution_count": null,
   "metadata": {},
   "outputs": [
    {
     "name": "stdout",
     "output_type": "stream",
     "text": [
      "저의 이름은 홍길동이고 총점은 210\n"
     ]
    }
   ],
   "source": [
    "name_input = input('이름을 입력해주세요: ')\n",
    "first_input = int(input('첫 번째 점수를 입력해주세요: '))\n",
    "second_input = int(input('두 번째 점수를 입력해주세요: '))\n",
    "third_input = int(input('세 번째 점수를 입력해주세요: '))\n",
    "\n",
    "print(f'저의 이름은 {name_input}이고 총점은 {first_input + second_input + third_input} 입니다.')"
   ]
  }
 ],
 "metadata": {
  "kernelspec": {
   "display_name": "sesac",
   "language": "python",
   "name": "python3"
  },
  "language_info": {
   "codemirror_mode": {
    "name": "ipython",
    "version": 3
   },
   "file_extension": ".py",
   "mimetype": "text/x-python",
   "name": "python",
   "nbconvert_exporter": "python",
   "pygments_lexer": "ipython3",
   "version": "3.10.15"
  }
 },
 "nbformat": 4,
 "nbformat_minor": 2
}
