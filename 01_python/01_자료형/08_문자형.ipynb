{
 "cells": [
  {
   "cell_type": "markdown",
   "metadata": {},
   "source": [
    "# 문자형"
   ]
  },
  {
   "cell_type": "markdown",
   "metadata": {},
   "source": [
    "# 1. 문자열 생성 "
   ]
  },
  {
   "cell_type": "markdown",
   "metadata": {},
   "source": [
    "## 1.1 작은 따옴표와 큰 따옴표를 통한 문자열 생성 방식"
   ]
  },
  {
   "cell_type": "code",
   "execution_count": 1,
   "metadata": {},
   "outputs": [
    {
     "name": "stdout",
     "output_type": "stream",
     "text": [
      "Hello, World!\n",
      "Hello, World!\n"
     ]
    }
   ],
   "source": [
    "a = 'Hello, World!'\n",
    "b = \"Hello, World!\"\n",
    "\n",
    "print(a, b, sep='\\n')"
   ]
  },
  {
   "cell_type": "code",
   "execution_count": 3,
   "metadata": {},
   "outputs": [
    {
     "data": {
      "text/plain": [
       "'Hello, World!'"
      ]
     },
     "execution_count": 3,
     "metadata": {},
     "output_type": "execute_result"
    }
   ],
   "source": [
    "a # 값 그자체를 보여줌 "
   ]
  },
  {
   "cell_type": "code",
   "execution_count": 4,
   "metadata": {},
   "outputs": [
    {
     "name": "stdout",
     "output_type": "stream",
     "text": [
      "4424870192\n",
      "4424863344\n"
     ]
    }
   ],
   "source": [
    "print(id(a))\n",
    "print(id(b))"
   ]
  },
  {
   "cell_type": "markdown",
   "metadata": {},
   "source": [
    "## 1.2 작은 따옴표와 큰 따옴표 혼용"
   ]
  },
  {
   "cell_type": "code",
   "execution_count": 13,
   "metadata": {},
   "outputs": [
    {
     "name": "stdout",
     "output_type": "stream",
     "text": [
      "Hello, \"This is my world!\"\n",
      "Hello 'This is my world!'\n"
     ]
    }
   ],
   "source": [
    "print('Hello, \"This is my world!\"')\n",
    "print(\"Hello 'This is my world!'\")\n"
   ]
  },
  {
   "cell_type": "code",
   "execution_count": 11,
   "metadata": {},
   "outputs": [
    {
     "ename": "SyntaxError",
     "evalue": "invalid syntax. Perhaps you forgot a comma? (1486424590.py, line 1)",
     "output_type": "error",
     "traceback": [
      "\u001b[0;36m  Cell \u001b[0;32mIn[11], line 1\u001b[0;36m\u001b[0m\n\u001b[0;31m    print(\"Hello \"This is my world!\"\")\u001b[0m\n\u001b[0m          ^\u001b[0m\n\u001b[0;31mSyntaxError\u001b[0m\u001b[0;31m:\u001b[0m invalid syntax. Perhaps you forgot a comma?\n"
     ]
    }
   ],
   "source": [
    "print(\"Hello \"This is my world!\"\")"
   ]
  },
  {
   "cell_type": "markdown",
   "metadata": {},
   "source": [
    "## 1.3 이스케이프 문자 역슬래시 활용 "
   ]
  },
  {
   "cell_type": "code",
   "execution_count": null,
   "metadata": {},
   "outputs": [
    {
     "name": "stdout",
     "output_type": "stream",
     "text": [
      "Hello, 'This is my world!'\n",
      "Hello, \"This is my world!\"\n"
     ]
    }
   ],
   "source": [
    "print('Hello, \\'This is my world!\\'')\n",
    "print(\"Hello, \\\"This is my world!\\\"\")\n"
   ]
  },
  {
   "cell_type": "markdown",
   "metadata": {},
   "source": [
    "## 1.4 줄바꿈"
   ]
  },
  {
   "cell_type": "code",
   "execution_count": null,
   "metadata": {},
   "outputs": [
    {
     "name": "stdout",
     "output_type": "stream",
     "text": [
      "Hello, :\n",
      "\"This is my world!\"\n",
      "Hello, :\n",
      "'This is my world!'\n",
      "\n",
      "\n",
      "This is my example:\n",
      "Hello, World!\n",
      "This is my example:\n",
      "Hello, World!\n",
      "\n",
      "\n",
      "This is my example:\n",
      "Hello, World!\n",
      "\n",
      "This is my example:\n",
      "Hello, World!\n"
     ]
    }
   ],
   "source": [
    "print('Hello, :\\n\"This is my world!\"')\n",
    "print(\"Hello, :\\n'This is my world!'\")\n",
    "print('\\n')\n",
    "\n",
    "a = 'This is my example:\\nHello, World!'\n",
    "b = \"This is my example:\\nHello, World!\"\n",
    "\n",
    "print(a)\n",
    "print(b)\n",
    "print('\\n')\n",
    "print(a, b, sep='\\n\\n')\n"
   ]
  },
  {
   "cell_type": "code",
   "execution_count": 25,
   "metadata": {},
   "outputs": [
    {
     "data": {
      "text/plain": [
       "'This is my example:\\nHello, World!'"
      ]
     },
     "execution_count": 25,
     "metadata": {},
     "output_type": "execute_result"
    }
   ],
   "source": [
    "a"
   ]
  },
  {
   "cell_type": "code",
   "execution_count": 28,
   "metadata": {},
   "outputs": [
    {
     "name": "stdout",
     "output_type": "stream",
     "text": [
      "c:\n",
      "ame\n",
      "\n",
      "c:\\name\n",
      "\n",
      "c:\\name\n"
     ]
    }
   ],
   "source": [
    "a = 'c:\\name'\n",
    "# print(a)\n",
    "\n",
    "b = r'c:\\name'\n",
    "# print(b)\n",
    "\n",
    "c = 'c:\\\\name'\n",
    "# print(c)\n",
    "\n",
    "print(a, b, c, sep='\\n\\n')"
   ]
  },
  {
   "cell_type": "markdown",
   "metadata": {},
   "source": [
    "## 1.5 삼중 따옴표를 통한 줄바꿈"
   ]
  },
  {
   "cell_type": "code",
   "execution_count": 29,
   "metadata": {},
   "outputs": [
    {
     "name": "stdout",
     "output_type": "stream",
     "text": [
      "This is my example:\n",
      "Hellow World!\n",
      "\n",
      "This is my example:\n",
      "Hellow, World!\n"
     ]
    }
   ],
   "source": [
    "a = '''This is my example:\n",
    "Hellow World!'''\n",
    "\n",
    "\n",
    "b = \"\"\"This is my example:\n",
    "Hellow, World!\"\"\"\n",
    "\n",
    "print(a, b, sep='\\n\\n')"
   ]
  },
  {
   "cell_type": "code",
   "execution_count": 31,
   "metadata": {},
   "outputs": [
    {
     "name": "stdout",
     "output_type": "stream",
     "text": [
      "\n",
      "This is my example:\n",
      "Hellow World!\n",
      "\n",
      "\n",
      "This is my example:\n",
      "Hellow, World!\n"
     ]
    }
   ],
   "source": [
    "c = '''\n",
    "This is my example:\n",
    "Hellow World!\n",
    "'''\n",
    "\n",
    "\n",
    "d= \"\"\"This is my example:\n",
    "Hellow, World!\"\"\"\n",
    "\n",
    "print(c, d, sep='\\n\\n')"
   ]
  },
  {
   "cell_type": "code",
   "execution_count": 32,
   "metadata": {},
   "outputs": [
    {
     "name": "stdout",
     "output_type": "stream",
     "text": [
      "This is my example:\n",
      "Hellow World!\n",
      "\n",
      "This is my example:\n",
      "Hellow, World!\n"
     ]
    }
   ],
   "source": [
    "e = '''\\\n",
    "This is my example:\n",
    "Hellow World!\\\n",
    "'''\n",
    "\n",
    "\n",
    "f = \"\"\"This is my example:\n",
    "Hellow, World!\"\"\"\n",
    "\n",
    "print(e, f, sep='\\n\\n')"
   ]
  },
  {
   "cell_type": "code",
   "execution_count": null,
   "metadata": {},
   "outputs": [],
   "source": []
  },
  {
   "cell_type": "markdown",
   "metadata": {},
   "source": [
    "# 실습 01\n",
    "[문제] 아래 문장을 리터럴로 만든 후 출력(print)하세요.\n",
    "- 주어진 문장: “안녕?”이라는 그 인사를 듣고 나는 ‘누구지?’라고 생각 했다.\n",
    "- 결과: “안녕?”이라는 그 인사를 듣고 나는 ‘누구지?’라고 생각 했다."
   ]
  },
  {
   "cell_type": "code",
   "execution_count": null,
   "metadata": {},
   "outputs": [
    {
     "name": "stdout",
     "output_type": "stream",
     "text": [
      "“안녕?”이라는 그 인사를 듣고 나는 ‘누구지?’라고 생각 했다.\n",
      "“안녕?”이라는 그 인사를 듣고 나는 ‘누구지?’라고 생각 했다.\n"
     ]
    }
   ],
   "source": [
    "x = \"“안녕?”이라는 그 인사를 듣고 나는 ‘누구지?’라고 생각 했다.\"\n",
    "y = '“안녕?”이라는 그 인사를 듣고 나는 ‘누구지?’라고 생각 했다.'\n",
    "\n",
    "print(x)\n",
    "print(y)"
   ]
  },
  {
   "cell_type": "code",
   "execution_count": 39,
   "metadata": {},
   "outputs": [
    {
     "name": "stdout",
     "output_type": "stream",
     "text": [
      "\"안녕?\"이라는 그 인사를 듣고 나는 ‘누구지?’라고 생각 했다.\n",
      "\"안녕?\"이라는 그 인사를 듣고 나는 '누구지?'라고 생각 했다.\n"
     ]
    }
   ],
   "source": [
    "# 방법 1\n",
    "print(\"\\\"안녕?\\\"이라는 그 인사를 듣고 나는 ‘누구지?’라고 생각 했다.\")\n",
    "print('\"안녕?\"이라는 그 인사를 듣고 나는 \\'누구지?\\'라고 생각 했다.')"
   ]
  },
  {
   "cell_type": "markdown",
   "metadata": {},
   "source": [
    "# 2. 문자열 연산"
   ]
  },
  {
   "cell_type": "markdown",
   "metadata": {},
   "source": [
    "## 2.1 덧셈"
   ]
  },
  {
   "cell_type": "code",
   "execution_count": 42,
   "metadata": {},
   "outputs": [
    {
     "name": "stdout",
     "output_type": "stream",
     "text": [
      "HelloHello\n"
     ]
    },
    {
     "data": {
      "text/plain": [
       "'HelloHello'"
      ]
     },
     "execution_count": 42,
     "metadata": {},
     "output_type": "execute_result"
    }
   ],
   "source": [
    "a = 'Hello' + 'Hello'\n",
    "print(a)\n",
    "a"
   ]
  },
  {
   "cell_type": "markdown",
   "metadata": {},
   "source": [
    "## 2.2 곱셈"
   ]
  },
  {
   "cell_type": "code",
   "execution_count": 44,
   "metadata": {},
   "outputs": [
    {
     "name": "stdout",
     "output_type": "stream",
     "text": [
      "HelloHelloHello\n"
     ]
    },
    {
     "data": {
      "text/plain": [
       "'HelloHelloHello'"
      ]
     },
     "execution_count": 44,
     "metadata": {},
     "output_type": "execute_result"
    }
   ],
   "source": [
    "a = 'Hello'\n",
    "print(a * 3)\n",
    "a * 3"
   ]
  },
  {
   "cell_type": "code",
   "execution_count": 45,
   "metadata": {},
   "outputs": [
    {
     "name": "stdout",
     "output_type": "stream",
     "text": [
      "HelloHelloHelloHelloHelloHelloHelloHelloHelloHello\n"
     ]
    },
    {
     "data": {
      "text/plain": [
       "'HelloHelloHelloHelloHelloHelloHelloHelloHelloHello'"
      ]
     },
     "execution_count": 45,
     "metadata": {},
     "output_type": "execute_result"
    }
   ],
   "source": [
    "b = 'Hello' * 10\n",
    "print(b)\n",
    "b"
   ]
  },
  {
   "cell_type": "code",
   "execution_count": 49,
   "metadata": {},
   "outputs": [
    {
     "name": "stdout",
     "output_type": "stream",
     "text": [
      "안녕하세요? 저는 전혜란입니다.\n",
      "안녕하세요?저는 전혜란입니다.\n",
      "안녕하세요?\n",
      "저는 전혜란입니다.\n"
     ]
    }
   ],
   "source": [
    "a = '안녕하세요?'\n",
    "b = '저는 전혜란입니다.'\n",
    "\n",
    "print(a, b)\n",
    "print(a, b, sep='')\n",
    "print(a, b, sep='\\n')"
   ]
  },
  {
   "cell_type": "code",
   "execution_count": 52,
   "metadata": {},
   "outputs": [
    {
     "name": "stdout",
     "output_type": "stream",
     "text": [
      "\n",
      "<class 'str'>\n"
     ]
    },
    {
     "data": {
      "text/plain": [
       "''"
      ]
     },
     "execution_count": 52,
     "metadata": {},
     "output_type": "execute_result"
    }
   ],
   "source": [
    "c = ''\n",
    "print(c)\n",
    "print(type(c))\n",
    "c"
   ]
  },
  {
   "cell_type": "code",
   "execution_count": null,
   "metadata": {},
   "outputs": [
    {
     "name": "stdout",
     "output_type": "stream",
     "text": [
      "1.  문자열을 더해보았습니다.\n",
      "2.문자열을 더해보았습니다.\n",
      "3. 문자열을 더해보았습니다.\n",
      "문자열을 더해보았습니다.\n",
      "4. 문자열을 더해보았습니다.\n",
      "문자열을 더해보았습니다.\n"
     ]
    }
   ],
   "source": [
    "d = '문자열을 더해보았습니다.'\n",
    "\n",
    "print('1.', c, d) # sep=' ' 디폴트 때문에 출력시 공백이 들어간다. - 두개의 객체를 받은것\n",
    "print('2.', c, d, sep='') # 디폴트값을 수정하여서 출력\n",
    "print('3.', c + d) # c 와 d 문자열을 합해서 출력한것\n",
    "print(c + d) # c 와 d 문자열을 합해서 출력한것 - 하나의 문자열만 출력한것이기때문에 sep=' ' 이 적용되지 않는것 - 한개의 객체만 받은것\n",
    "print('4. ',c + d, sep='') # c 와 d 문자열을 합해서 출력한것\n",
    "\n",
    "e = c + d\n",
    "print(e)"
   ]
  },
  {
   "cell_type": "markdown",
   "metadata": {},
   "source": [
    "# 실습 02\n",
    "\n",
    "[문제] 다음의 글에서 '너무'를 총 100회 출력되도록 하세요.\n",
    "- 출력 결과: \n",
    "    너무너무너무너무너무너무너무너무너무너무너무너무너무너무너무너무너무너무너무너무너무너무너무너무너무\n",
    "    너무너무너무너무너무너무너무너무너무너무너무너무너무너무너무너무너무너무너무너무너무너무너무너무너무\n",
    "    너무너무너무너무너무너무너무너무너무너무너무너무너무너무너무너무너무너무너무너무너무너무너무너무너무\n",
    "    너무너무너무너무너무너무너무너무너무너무너무너무너무너무너무너무너무너무너무너무너무너무너무너무너무\n",
    "    파이썬 공부가 즐겁습니다."
   ]
  },
  {
   "cell_type": "code",
   "execution_count": null,
   "metadata": {},
   "outputs": [
    {
     "name": "stdout",
     "output_type": "stream",
     "text": [
      "너무너무너무너무너무너무너무너무너무너무너무너무너무너무너무너무너무너무너무너무너무너무너무너무너무너무너무너무너무너무너무너무너무너무너무너무너무너무너무너무너무너무너무너무너무너무너무너무너무너무너무너무너무너무너무너무너무너무너무너무너무너무너무너무너무너무너무너무너무너무너무너무너무너무너무너무너무너무너무너무너무너무너무너무너무너무너무너무너무너무너무너무너무너무너무너무너무너무너무너무 파이썬 공부가 즐겁습니다.\n"
     ]
    }
   ],
   "source": [
    "x = '너무' * 100\n",
    "y = '파이썬 공부가 즐겁습니다.'\n",
    "print(x, y) # sep=' ' 기본값이 적용됨"
   ]
  },
  {
   "cell_type": "code",
   "execution_count": 69,
   "metadata": {},
   "outputs": [
    {
     "name": "stdout",
     "output_type": "stream",
     "text": [
      "너무너무너무너무너무너무너무너무너무너무너무너무너무너무너무너무너무너무너무너무너무너무너무너무너무너무너무너무너무너무너무너무너무너무너무너무너무너무너무너무너무너무너무너무너무너무너무너무너무너무너무너무너무너무너무너무너무너무너무너무너무너무너무너무너무너무너무너무너무너무너무너무너무너무너무너무너무너무너무너무너무너무너무너무너무너무너무너무너무너무너무너무너무너무너무너무너무너무너무너무 파이썬 공부가 즐겁습니다.\n"
     ]
    }
   ],
   "source": [
    "answer = '너무' * 100 + ' 파이썬 공부가 즐겁습니다.' # 하나의 변수, 하나의 문자열로 만든것\n",
    "\n",
    "print(answer)"
   ]
  },
  {
   "cell_type": "code",
   "execution_count": 70,
   "metadata": {},
   "outputs": [
    {
     "data": {
      "text/plain": [
       "215"
      ]
     },
     "execution_count": 70,
     "metadata": {},
     "output_type": "execute_result"
    }
   ],
   "source": [
    "len(answer)"
   ]
  },
  {
   "cell_type": "code",
   "execution_count": null,
   "metadata": {},
   "outputs": [
    {
     "name": "stdout",
     "output_type": "stream",
     "text": [
      "너무너무너무너무너무너무너무너무너무너무너무너무너무너무너무너무너무너무너무너무너무너무너무너무너무너무너무너무너무너무너무너무너무너무너무너무너무너무너무너무너무너무너무너무너무너무너무너무너무너무너무너무너무너무너무너무너무너무너무너무너무너무너무너무너무너무너무너무너무너무너무너무너무너무너무너무너무너무너무너무너무너무너무너무너무너무너무너무너무너무너무너무너무너무너무너무너무너무너무너무파이썬!\n",
      "너무너무너무너무너무너무너무너무너무너무너무너무너무너무너무너무너무너무너무너무너무너무너무너무너무너무너무너무너무너무너무너무너무너무너무너무너무너무너무너무너무너무너무너무너무너무너무너무너무너무너무너무너무너무너무너무너무너무너무너무너무너무너무너무너무너무너무너무너무너무너무너무너무너무너무너무너무너무너무너무너무너무너무너무너무너무너무너무너무너무너무너무너무너무너무너무너무너무너무너무 파이썬!\n"
     ]
    }
   ],
   "source": [
    "a = '너무'\n",
    "print(a*100 + '파이썬!') # 1객의 객체 입력 -...너무너무파이썬!\n",
    "print(a*100, '파이썬!') # 2객의 객체 입력 -...너무너무 파이썬!"
   ]
  },
  {
   "cell_type": "markdown",
   "metadata": {},
   "source": [
    "# 3. 문자열 함수"
   ]
  },
  {
   "cell_type": "markdown",
   "metadata": {},
   "source": [
    "## 3.1 len()"
   ]
  },
  {
   "cell_type": "code",
   "execution_count": 68,
   "metadata": {},
   "outputs": [
    {
     "data": {
      "text/plain": [
       "12"
      ]
     },
     "execution_count": 68,
     "metadata": {},
     "output_type": "execute_result"
    }
   ],
   "source": [
    "word = 'apple banana'\n",
    "len(word)\n",
    "# len('apple banana')"
   ]
  },
  {
   "cell_type": "code",
   "execution_count": null,
   "metadata": {},
   "outputs": [
    {
     "data": {
      "text/plain": [
       "4"
      ]
     },
     "execution_count": 71,
     "metadata": {},
     "output_type": "execute_result"
    }
   ],
   "source": [
    "len(word) # word 의 외부에서 len 이 선언된 것 - 외부함수 사용법\n",
    "word.count('a') # word 라는 클래스안의 count(str()의 내부함수) 함수를 사용 - 내부함수 사용법\n"
   ]
  },
  {
   "cell_type": "markdown",
   "metadata": {},
   "source": [
    "## 3.2 replace()"
   ]
  },
  {
   "cell_type": "code",
   "execution_count": 73,
   "metadata": {},
   "outputs": [
    {
     "name": "stdout",
     "output_type": "stream",
     "text": [
      "8pple b8n8n8\n"
     ]
    }
   ],
   "source": [
    "word = 'apple banana'\n",
    "print(word.replace('a', '8'))"
   ]
  },
  {
   "cell_type": "code",
   "execution_count": 74,
   "metadata": {},
   "outputs": [
    {
     "name": "stdout",
     "output_type": "stream",
     "text": [
      "2pple b2n2n2\n"
     ]
    }
   ],
   "source": [
    "word = 'apple banana'\n",
    "new_word = word.replace('a', '2')\n",
    "\n",
    "print(new_word)\n"
   ]
  },
  {
   "cell_type": "code",
   "execution_count": 78,
   "metadata": {},
   "outputs": [
    {
     "name": "stdout",
     "output_type": "stream",
     "text": [
      "2pple b25252\n"
     ]
    }
   ],
   "source": [
    "new_word2 = new_word.replace('n', '5')\n",
    "print(new_word2)"
   ]
  },
  {
   "cell_type": "code",
   "execution_count": 80,
   "metadata": {},
   "outputs": [
    {
     "name": "stdout",
     "output_type": "stream",
     "text": [
      "2ppleb25252\n"
     ]
    }
   ],
   "source": [
    "new_word3 = new_word2.replace(' ', '')\n",
    "print(new_word3)"
   ]
  },
  {
   "cell_type": "code",
   "execution_count": 92,
   "metadata": {},
   "outputs": [
    {
     "name": "stdout",
     "output_type": "stream",
     "text": [
      "x = 100\n",
      "x = 100\n",
      "x = a\n"
     ]
    }
   ],
   "source": [
    "x = input('x의 값: ')\n",
    "# y = input('y의 값: ')\n",
    "# z = input('z의 값: ')\n",
    "\n",
    "# test_word = 'x = a, y = b, z = c'\n",
    "test_word = 'x = a'\n",
    "test_word2 = test_word.replace('a', x)\n",
    "print(test_word2)\n",
    "# test_word.replace('b', y)\n",
    "# print(test_word)\n",
    "# test_word.replace('c', z)\n",
    "# print(test_word)\n",
    "\n",
    "# print(test_word)\n",
    "\n",
    "print(test_word.replace('a', x)) # 결과값만 보여주는것 test_word 에 반영이 된것은 아님\n",
    "print(test_word) # 그래서 결국에 test_word 가 변형되지는 않았음\n"
   ]
  },
  {
   "cell_type": "markdown",
   "metadata": {},
   "source": [
    "## 3.3 upper(), lower()"
   ]
  },
  {
   "cell_type": "code",
   "execution_count": 101,
   "metadata": {},
   "outputs": [
    {
     "name": "stdout",
     "output_type": "stream",
     "text": [
      "APPLE BANANA\n"
     ]
    }
   ],
   "source": [
    "word = 'apple banana'\n",
    "print(word.upper())"
   ]
  },
  {
   "cell_type": "code",
   "execution_count": null,
   "metadata": {},
   "outputs": [
    {
     "name": "stdout",
     "output_type": "stream",
     "text": [
      "apple banana\n"
     ]
    }
   ],
   "source": [
    "print(word) # 실행한 순서에 따라 초기화값이 달라진다. "
   ]
  },
  {
   "cell_type": "code",
   "execution_count": 103,
   "metadata": {},
   "outputs": [
    {
     "name": "stdout",
     "output_type": "stream",
     "text": [
      "APPLE BANANA\n"
     ]
    }
   ],
   "source": [
    "word = word.upper()\n",
    "print(word)"
   ]
  },
  {
   "cell_type": "code",
   "execution_count": 105,
   "metadata": {},
   "outputs": [
    {
     "name": "stdout",
     "output_type": "stream",
     "text": [
      "apple banana\n"
     ]
    }
   ],
   "source": [
    "word = 'APPLE BANANA'\n",
    "print(word.lower())"
   ]
  },
  {
   "cell_type": "code",
   "execution_count": 110,
   "metadata": {},
   "outputs": [
    {
     "data": {
      "text/plain": [
       "'apple banana'"
      ]
     },
     "execution_count": 110,
     "metadata": {},
     "output_type": "execute_result"
    }
   ],
   "source": [
    "word"
   ]
  },
  {
   "cell_type": "code",
   "execution_count": 109,
   "metadata": {},
   "outputs": [
    {
     "name": "stdout",
     "output_type": "stream",
     "text": [
      "apple banana\n"
     ]
    }
   ],
   "source": [
    "word = word.lower()\n",
    "print(word)"
   ]
  },
  {
   "cell_type": "markdown",
   "metadata": {},
   "source": [
    "# 4. 문자열 인덱싱"
   ]
  },
  {
   "cell_type": "code",
   "execution_count": 115,
   "metadata": {},
   "outputs": [
    {
     "name": "stdout",
     "output_type": "stream",
     "text": [
      "p\n"
     ]
    }
   ],
   "source": [
    "word = 'python'\n",
    "# word[0]\n",
    "word_p = word[0]\n",
    "print(word_p)"
   ]
  },
  {
   "cell_type": "code",
   "execution_count": 118,
   "metadata": {},
   "outputs": [
    {
     "name": "stdout",
     "output_type": "stream",
     "text": [
      "n\n",
      "n\n"
     ]
    }
   ],
   "source": [
    "print(word[5])\n",
    "print(word[-1])"
   ]
  },
  {
   "cell_type": "code",
   "execution_count": null,
   "metadata": {},
   "outputs": [
    {
     "data": {
      "text/plain": [
       "6"
      ]
     },
     "execution_count": 120,
     "metadata": {},
     "output_type": "execute_result"
    }
   ],
   "source": [
    "word = 'python'\n",
    "len(word)\n",
    "# word[len - 1]"
   ]
  },
  {
   "cell_type": "code",
   "execution_count": 125,
   "metadata": {},
   "outputs": [
    {
     "ename": "TypeError",
     "evalue": "'str' object does not support item assignment",
     "output_type": "error",
     "traceback": [
      "\u001b[0;31m---------------------------------------------------------------------------\u001b[0m",
      "\u001b[0;31mTypeError\u001b[0m                                 Traceback (most recent call last)",
      "Cell \u001b[0;32mIn[125], line 1\u001b[0m\n\u001b[0;32m----> 1\u001b[0m \u001b[43mword\u001b[49m\u001b[43m[\u001b[49m\u001b[38;5;241;43m1\u001b[39;49m\u001b[43m]\u001b[49m \u001b[38;5;241m=\u001b[39m \u001b[38;5;124m'\u001b[39m\u001b[38;5;124mY\u001b[39m\u001b[38;5;124m'\u001b[39m\n",
      "\u001b[0;31mTypeError\u001b[0m: 'str' object does not support item assignment"
     ]
    }
   ],
   "source": [
    "\n",
    "word[1] = 'Y'\n"
   ]
  },
  {
   "cell_type": "code",
   "execution_count": null,
   "metadata": {},
   "outputs": [
    {
     "name": "stdout",
     "output_type": "stream",
     "text": [
      "<class 'str'>\n",
      "<class 'str'>\n"
     ]
    }
   ],
   "source": [
    "word = 'python'\n",
    "word2 = word\n",
    "\n",
    "print(type(word))\n",
    "print(type(word2))"
   ]
  },
  {
   "cell_type": "markdown",
   "metadata": {},
   "source": [
    "# 실습 03\n",
    "[문제] \n",
    "- sentence 라는 명칭의 변수를 선언하고 '중요한 것은 꺾이지 않는 마음'의 문자열 리터럴을 할당하세요\n",
    "- 그리고 인덱싱을 활용하여 '꺽'을 출력해보세요."
   ]
  },
  {
   "cell_type": "code",
   "execution_count": 123,
   "metadata": {},
   "outputs": [
    {
     "name": "stdout",
     "output_type": "stream",
     "text": [
      "16\n",
      "꺾\n",
      "중꺾마\n"
     ]
    }
   ],
   "source": [
    "sentence = '중요한 것은 꺾이지 않는 마음'\n",
    "print(len(sentence))\n",
    "print(sentence[7])\n",
    "sentence_중꺾마 = sentence[0] + sentence[7] + sentence[-2]\n",
    "print(sentence_중꺾마)"
   ]
  },
  {
   "cell_type": "code",
   "execution_count": null,
   "metadata": {},
   "outputs": [],
   "source": []
  },
  {
   "cell_type": "markdown",
   "metadata": {},
   "source": [
    "# 5. 문자열 슬라이싱"
   ]
  },
  {
   "cell_type": "code",
   "execution_count": null,
   "metadata": {},
   "outputs": [],
   "source": []
  },
  {
   "cell_type": "code",
   "execution_count": null,
   "metadata": {},
   "outputs": [],
   "source": []
  },
  {
   "cell_type": "markdown",
   "metadata": {},
   "source": [
    "# 실습 04\n",
    "[문제1]\n",
    "- sentence라는 명칭의 변수를 선언하고 ‘중요한 것은 꺾이지 않는 마음’의 문자열 리터럴을 할당하세요.\n",
    "- 그리고 슬라이싱을 활용하여 '**꺾이지 않는 마음**'을 출력해보세요.\n"
   ]
  },
  {
   "cell_type": "code",
   "execution_count": null,
   "metadata": {},
   "outputs": [],
   "source": []
  },
  {
   "cell_type": "markdown",
   "metadata": {},
   "source": [
    "[문제2]\n",
    "- sentence라는 명칭의 변수를 선언하고 ‘중요한 것은 꺾이지 않는 마음’의 문자열 리터럴을 할당하세요.\n",
    "- 그리고 슬라이싱을 활용하여 '**한요중**'을 출력해보세요."
   ]
  },
  {
   "cell_type": "code",
   "execution_count": null,
   "metadata": {},
   "outputs": [],
   "source": []
  },
  {
   "cell_type": "markdown",
   "metadata": {},
   "source": [
    "# 6. 서식지정자"
   ]
  },
  {
   "cell_type": "markdown",
   "metadata": {},
   "source": [
    "## 6.1 %s 포매팅"
   ]
  },
  {
   "cell_type": "markdown",
   "metadata": {},
   "source": [
    "1. 기본 사용 법"
   ]
  },
  {
   "cell_type": "code",
   "execution_count": null,
   "metadata": {},
   "outputs": [],
   "source": []
  },
  {
   "cell_type": "code",
   "execution_count": null,
   "metadata": {},
   "outputs": [],
   "source": []
  },
  {
   "cell_type": "markdown",
   "metadata": {},
   "source": [
    "2. 응용1: 공백 추가"
   ]
  },
  {
   "cell_type": "code",
   "execution_count": null,
   "metadata": {},
   "outputs": [],
   "source": []
  },
  {
   "cell_type": "code",
   "execution_count": null,
   "metadata": {},
   "outputs": [],
   "source": []
  },
  {
   "cell_type": "markdown",
   "metadata": {},
   "source": [
    "3. 여러개의 문자 추가"
   ]
  },
  {
   "cell_type": "code",
   "execution_count": null,
   "metadata": {},
   "outputs": [],
   "source": []
  },
  {
   "cell_type": "markdown",
   "metadata": {},
   "source": [
    "## 6.2 %d 포매팅 "
   ]
  },
  {
   "cell_type": "code",
   "execution_count": null,
   "metadata": {},
   "outputs": [],
   "source": []
  },
  {
   "cell_type": "markdown",
   "metadata": {},
   "source": [
    "## 6.3 %f 포매팅 "
   ]
  },
  {
   "cell_type": "markdown",
   "metadata": {},
   "source": [
    "1. 기본 사용 방식"
   ]
  },
  {
   "cell_type": "code",
   "execution_count": null,
   "metadata": {},
   "outputs": [],
   "source": []
  },
  {
   "cell_type": "markdown",
   "metadata": {},
   "source": [
    "2. 응용1: 지정한 소수점 이하 자리까지 출력"
   ]
  },
  {
   "cell_type": "code",
   "execution_count": null,
   "metadata": {},
   "outputs": [],
   "source": []
  },
  {
   "cell_type": "markdown",
   "metadata": {},
   "source": [
    "3. 응용2: 너비만큼 0으로 채우기"
   ]
  },
  {
   "cell_type": "code",
   "execution_count": null,
   "metadata": {},
   "outputs": [],
   "source": []
  },
  {
   "cell_type": "markdown",
   "metadata": {},
   "source": [
    "# 7. format 함수"
   ]
  },
  {
   "cell_type": "markdown",
   "metadata": {},
   "source": [
    "1. 기본 사용 방식"
   ]
  },
  {
   "cell_type": "code",
   "execution_count": null,
   "metadata": {},
   "outputs": [],
   "source": []
  },
  {
   "cell_type": "code",
   "execution_count": null,
   "metadata": {},
   "outputs": [],
   "source": []
  },
  {
   "cell_type": "markdown",
   "metadata": {},
   "source": [
    "2. 변수 활용"
   ]
  },
  {
   "cell_type": "code",
   "execution_count": null,
   "metadata": {},
   "outputs": [],
   "source": []
  },
  {
   "cell_type": "markdown",
   "metadata": {},
   "source": [
    "# 8. f-string"
   ]
  },
  {
   "cell_type": "code",
   "execution_count": null,
   "metadata": {},
   "outputs": [],
   "source": []
  },
  {
   "cell_type": "markdown",
   "metadata": {},
   "source": [
    "# 실습 05"
   ]
  },
  {
   "cell_type": "markdown",
   "metadata": {},
   "source": [
    "## 05-1 \n",
    "\n",
    "[문제] 문자를 입력 받아 공백을 모두 제거하고 출력하세요\n",
    "\n",
    "[실행 결과] \\\n",
    "아무 문자나 입력해주세요 : 안녕하세요 반갑습니다. \\\n",
    "안녕하세요반갑습니다."
   ]
  },
  {
   "cell_type": "code",
   "execution_count": null,
   "metadata": {},
   "outputs": [],
   "source": []
  },
  {
   "cell_type": "markdown",
   "metadata": {},
   "source": [
    "## 05-2 \n",
    "\n",
    "[문제] 이름과 점수 3개를 입력받아 아래와 같이 출력하세요\n",
    "\n",
    "\n",
    "[실행 결과] \\\n",
    "이름을 입력해주세요: 홍길동 \\\n",
    "첫 번째 점수를 입력해주세요: 80 \\\n",
    "두 번째 점수를 입력해주세요: 70 \\\n",
    "세 번째 점수를 입력해주세요: 60 \\\n",
    "저의 이름은 홍길동이고 총점은 210 입니다.\n"
   ]
  },
  {
   "cell_type": "code",
   "execution_count": null,
   "metadata": {},
   "outputs": [],
   "source": []
  }
 ],
 "metadata": {
  "kernelspec": {
   "display_name": "sesac",
   "language": "python",
   "name": "python3"
  },
  "language_info": {
   "codemirror_mode": {
    "name": "ipython",
    "version": 3
   },
   "file_extension": ".py",
   "mimetype": "text/x-python",
   "name": "python",
   "nbconvert_exporter": "python",
   "pygments_lexer": "ipython3",
   "version": "3.10.15"
  }
 },
 "nbformat": 4,
 "nbformat_minor": 2
}
