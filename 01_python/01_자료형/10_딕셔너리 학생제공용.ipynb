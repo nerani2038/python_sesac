{
 "cells": [
  {
   "cell_type": "markdown",
   "metadata": {},
   "source": [
    "# 딕셔너리 (Dictionary)"
   ]
  },
  {
   "cell_type": "markdown",
   "metadata": {},
   "source": [
    "# 1 딕셔너리 생성"
   ]
  },
  {
   "cell_type": "markdown",
   "metadata": {},
   "source": [
    "## 1.1 딕셔너리 생성 실습"
   ]
  },
  {
   "cell_type": "code",
   "execution_count": 6,
   "metadata": {},
   "outputs": [
    {
     "name": "stdout",
     "output_type": "stream",
     "text": [
      "{'name': 'Tom', 'math': 80, 'english': 70}\n",
      "{'name': 'Tom', 'math': 80, 'english': 70}\n"
     ]
    }
   ],
   "source": [
    "score = {'name': 'Tom', 'math': 80, 'english': 70}\n",
    "score2 = dict(name='Tom', math=80, english=70)\n",
    "\n",
    "print(score)\n",
    "print(score2)"
   ]
  },
  {
   "cell_type": "code",
   "execution_count": 5,
   "metadata": {},
   "outputs": [
    {
     "name": "stdout",
     "output_type": "stream",
     "text": [
      "Tom\n",
      "Tom\n"
     ]
    }
   ],
   "source": [
    "print(score['name'])\n",
    "print(score2['name'])"
   ]
  },
  {
   "cell_type": "code",
   "execution_count": 7,
   "metadata": {},
   "outputs": [
    {
     "name": "stdout",
     "output_type": "stream",
     "text": [
      "<class 'dict'>\n",
      "<class 'dict'>\n"
     ]
    }
   ],
   "source": [
    "print(type(score))\n",
    "print(type(score2))"
   ]
  },
  {
   "cell_type": "markdown",
   "metadata": {},
   "source": [
    "## 1.2 딕셔너리 특징 "
   ]
  },
  {
   "cell_type": "markdown",
   "metadata": {},
   "source": [
    "key값으로 활용할 수 있는 자료형 확인"
   ]
  },
  {
   "cell_type": "code",
   "execution_count": 2,
   "metadata": {},
   "outputs": [
    {
     "name": "stdout",
     "output_type": "stream",
     "text": [
      "{'name': 'Amy'}\n"
     ]
    }
   ],
   "source": [
    "# 고유한 key값 \n",
    "people = {'name': 'Tom', 'name': 'Amy'}\n",
    "\n",
    "print(people) # 가장 마지막에 추가한 키값 쌍이 반환됨 "
   ]
  },
  {
   "cell_type": "code",
   "execution_count": 4,
   "metadata": {},
   "outputs": [
    {
     "name": "stdout",
     "output_type": "stream",
     "text": [
      "[<class 'str'>, <class 'int'>, <class 'float'>, <class 'tuple'>]\n",
      "{'key': 'value', 1: 'value4', 1.1: 'value3', ('key', 1, 1.1, True): 'value5'}\n"
     ]
    }
   ],
   "source": [
    "dic_var = {'key': 'value',\n",
    "           1: 'value2',\n",
    "           1.1: 'value3',\n",
    "           True: 'value4',\n",
    "           ('key', 1, 1.1, True): 'value5'\n",
    "}\n",
    "\n",
    "print(list(map(type, dic_var.keys())))\n",
    "print(dic_var)"
   ]
  },
  {
   "cell_type": "markdown",
   "metadata": {},
   "source": [
    "value 값으로 활용할 수 있는 자료형 확인 (모든 자료형)"
   ]
  },
  {
   "cell_type": "code",
   "execution_count": 10,
   "metadata": {},
   "outputs": [
    {
     "name": "stdout",
     "output_type": "stream",
     "text": [
      "[<class 'str'>, <class 'int'>, <class 'float'>, <class 'bool'>, <class 'tuple'>, <class 'list'>, <class 'dict'>, <class 'set'>]\n",
      "{'key': 'value', 2: 3, 1.1: 1.1, True: False, ('key', 1, 1.1, True): ('key', 1, 1.1, True), 'list': [1, '가', 1.1, True, (1, '나')], 'dict': {'key': 'value', 'key2': 'value2'}, 'set': {'value', 'key'}}\n"
     ]
    }
   ],
   "source": [
    "dic_var = {'key': 'value',\n",
    "           2: 3,\n",
    "           1.1: 1.1,\n",
    "           True: False,\n",
    "           ('key', 1, 1.1, True): ('key', 1, 1.1, True),\n",
    "           'list': [1, '가', 1.1, True, (1, '나')],\n",
    "           'dict': {'key': 'value', 'key2': 'value2'},\n",
    "           'set': {'key', 'value'}\n",
    "           }\n",
    "\n",
    "print(list(map(type, dic_var.values())))\n",
    "print(dic_var)"
   ]
  },
  {
   "cell_type": "markdown",
   "metadata": {},
   "source": [
    "# 2 키(key)통해 딕셔너리 값(value)에 접근 및 변경"
   ]
  },
  {
   "cell_type": "code",
   "execution_count": 11,
   "metadata": {},
   "outputs": [],
   "source": [
    "score = {'name': 'Tom', 'math': 80, 'english': 70}"
   ]
  },
  {
   "cell_type": "code",
   "execution_count": 12,
   "metadata": {},
   "outputs": [
    {
     "name": "stdout",
     "output_type": "stream",
     "text": [
      "80\n"
     ]
    }
   ],
   "source": [
    "# 값에 접근 \n",
    "print(score['math'])"
   ]
  },
  {
   "cell_type": "code",
   "execution_count": 13,
   "metadata": {},
   "outputs": [
    {
     "name": "stdout",
     "output_type": "stream",
     "text": [
      "Tom\n",
      "{'name': 'michale', 'math': 80, 'english': 70}\n",
      "michale\n"
     ]
    }
   ],
   "source": [
    "# 원래 name 값 확인\n",
    "print(score['name']) \n",
    "\n",
    "# value값 변경\n",
    "score['name'] = 'michale'\n",
    "\n",
    "# 변경된 결과 확인\n",
    "print(score)\n",
    "print(score['name'])"
   ]
  },
  {
   "cell_type": "markdown",
   "metadata": {},
   "source": [
    "# 3 딕셔너리 기능 1"
   ]
  },
  {
   "cell_type": "markdown",
   "metadata": {},
   "source": [
    "## 3.1 key가 있는지 확인: in"
   ]
  },
  {
   "cell_type": "code",
   "execution_count": 5,
   "metadata": {},
   "outputs": [],
   "source": [
    "score = {'name': 'Tom', 'math': 80, 'english': 70}"
   ]
  },
  {
   "cell_type": "code",
   "execution_count": 8,
   "metadata": {},
   "outputs": [
    {
     "name": "stdout",
     "output_type": "stream",
     "text": [
      "True\n"
     ]
    },
    {
     "data": {
      "text/plain": [
       "True"
      ]
     },
     "execution_count": 8,
     "metadata": {},
     "output_type": "execute_result"
    }
   ],
   "source": [
    "print('math' in score)\n",
    "'math' in score"
   ]
  },
  {
   "cell_type": "code",
   "execution_count": 10,
   "metadata": {},
   "outputs": [
    {
     "name": "stdout",
     "output_type": "stream",
     "text": [
      "False\n"
     ]
    },
    {
     "data": {
      "text/plain": [
       "False"
      ]
     },
     "execution_count": 10,
     "metadata": {},
     "output_type": "execute_result"
    }
   ],
   "source": [
    "print('age' in score)\n",
    "'age' in score"
   ]
  },
  {
   "cell_type": "markdown",
   "metadata": {},
   "source": [
    "## 3.2 key개수 구하기: len(dict)"
   ]
  },
  {
   "cell_type": "code",
   "execution_count": 11,
   "metadata": {},
   "outputs": [
    {
     "name": "stdout",
     "output_type": "stream",
     "text": [
      "3\n"
     ]
    }
   ],
   "source": [
    "print(len(score))"
   ]
  },
  {
   "cell_type": "markdown",
   "metadata": {},
   "source": [
    "## 3.3 key-value쌍 추가하기: .setdefault(key, value)"
   ]
  },
  {
   "cell_type": "code",
   "execution_count": 12,
   "metadata": {},
   "outputs": [
    {
     "data": {
      "text/plain": [
       "20"
      ]
     },
     "execution_count": 12,
     "metadata": {},
     "output_type": "execute_result"
    }
   ],
   "source": [
    "score.setdefault('age', 20)"
   ]
  },
  {
   "cell_type": "code",
   "execution_count": 13,
   "metadata": {},
   "outputs": [
    {
     "name": "stdout",
     "output_type": "stream",
     "text": [
      "{'name': 'Tom', 'math': 80, 'english': 70, 'age': 20}\n"
     ]
    }
   ],
   "source": [
    "print(score)"
   ]
  },
  {
   "cell_type": "markdown",
   "metadata": {},
   "source": [
    "## 3.4 key-value 수정하기: .update({key: value})"
   ]
  },
  {
   "cell_type": "code",
   "execution_count": 14,
   "metadata": {},
   "outputs": [
    {
     "name": "stdout",
     "output_type": "stream",
     "text": [
      "{'name': 'Tom', 'math': 90, 'english': 70, 'age': 20}\n",
      "90\n"
     ]
    }
   ],
   "source": [
    "score.update({'math': 90})\n",
    "\n",
    "print(score)\n",
    "print(score['math'])"
   ]
  },
  {
   "cell_type": "markdown",
   "metadata": {},
   "source": [
    "# 4 딕셔너리 기능 2"
   ]
  },
  {
   "cell_type": "markdown",
   "metadata": {},
   "source": [
    "## 4.1 key로 항목 삭제 후 삭제된 value 반환: pop(key)"
   ]
  },
  {
   "cell_type": "code",
   "execution_count": 33,
   "metadata": {},
   "outputs": [],
   "source": [
    "score = {'name': 'Tom', 'math': 80, 'english': 70}"
   ]
  },
  {
   "cell_type": "code",
   "execution_count": 34,
   "metadata": {},
   "outputs": [
    {
     "name": "stdout",
     "output_type": "stream",
     "text": [
      "Tom\n"
     ]
    }
   ],
   "source": [
    "# name에 해당하는 value 삭제 후 삭제된 value 반환\n",
    "\n",
    "print(score.pop('name'))"
   ]
  },
  {
   "cell_type": "code",
   "execution_count": 35,
   "metadata": {},
   "outputs": [
    {
     "name": "stdout",
     "output_type": "stream",
     "text": [
      "{'math': 80, 'english': 70}\n"
     ]
    }
   ],
   "source": [
    "print(score)"
   ]
  },
  {
   "cell_type": "code",
   "execution_count": 36,
   "metadata": {},
   "outputs": [
    {
     "name": "stdout",
     "output_type": "stream",
     "text": [
      "0\n"
     ]
    }
   ],
   "source": [
    "# 해당하는 value가 없으면 0 반환\n",
    "\n",
    "print(score.pop('age', 0))"
   ]
  },
  {
   "cell_type": "markdown",
   "metadata": {},
   "source": [
    "## 4.2 모든 값 삭제: .clear()"
   ]
  },
  {
   "cell_type": "code",
   "execution_count": 40,
   "metadata": {},
   "outputs": [
    {
     "name": "stdout",
     "output_type": "stream",
     "text": [
      "{}\n"
     ]
    }
   ],
   "source": [
    "score.clear()\n",
    "print(score)"
   ]
  },
  {
   "cell_type": "markdown",
   "metadata": {},
   "source": [
    "## 4.3 모든 key, value 가져오기: .keys(), values()"
   ]
  },
  {
   "cell_type": "code",
   "execution_count": 41,
   "metadata": {},
   "outputs": [],
   "source": [
    "score = {'name': 'Tom', 'math': 80, 'english': 70}"
   ]
  },
  {
   "cell_type": "code",
   "execution_count": 2,
   "metadata": {},
   "outputs": [
    {
     "ename": "NameError",
     "evalue": "name 'score' is not defined",
     "output_type": "error",
     "traceback": [
      "\u001b[0;31m---------------------------------------------------------------------------\u001b[0m",
      "\u001b[0;31mNameError\u001b[0m                                 Traceback (most recent call last)",
      "Cell \u001b[0;32mIn[2], line 1\u001b[0m\n\u001b[0;32m----> 1\u001b[0m \u001b[38;5;28mprint\u001b[39m(\u001b[38;5;28mlist\u001b[39m(\u001b[43mscore\u001b[49m\u001b[38;5;241m.\u001b[39mkeys()))\n",
      "\u001b[0;31mNameError\u001b[0m: name 'score' is not defined"
     ]
    }
   ],
   "source": [
    "print(list(score.keys()))"
   ]
  },
  {
   "cell_type": "code",
   "execution_count": 48,
   "metadata": {},
   "outputs": [
    {
     "name": "stdout",
     "output_type": "stream",
     "text": [
      "dict_values(['Tom', 80, 70])\n"
     ]
    }
   ],
   "source": [
    "print(score.values())"
   ]
  },
  {
   "cell_type": "markdown",
   "metadata": {},
   "source": [
    "# 5 딕셔너리 할당과 복사"
   ]
  },
  {
   "cell_type": "markdown",
   "metadata": {},
   "source": [
    "## 5.1 딕셔너리 복사"
   ]
  },
  {
   "cell_type": "markdown",
   "metadata": {},
   "source": [
    "1. 복사"
   ]
  },
  {
   "cell_type": "code",
   "execution_count": 2,
   "metadata": {},
   "outputs": [],
   "source": [
    "a = {'a':0, 'b':1}\n",
    "b = a.copy()"
   ]
  },
  {
   "cell_type": "code",
   "execution_count": 3,
   "metadata": {},
   "outputs": [
    {
     "name": "stdout",
     "output_type": "stream",
     "text": [
      "{'a': 0, 'b': 1}\n",
      "{'a': 0, 'b': 1}\n",
      "4437202560\n",
      "4437080128\n"
     ]
    }
   ],
   "source": [
    "print(a)\n",
    "print(b)\n",
    "print(id(a))\n",
    "print(id(b))"
   ]
  },
  {
   "cell_type": "code",
   "execution_count": 4,
   "metadata": {},
   "outputs": [
    {
     "name": "stdout",
     "output_type": "stream",
     "text": [
      "4379607248\n",
      "4379607248\n"
     ]
    }
   ],
   "source": [
    "print(id(a['a']))\n",
    "print(id(b['a']))"
   ]
  },
  {
   "cell_type": "markdown",
   "metadata": {},
   "source": [
    "2. 값 변경"
   ]
  },
  {
   "cell_type": "code",
   "execution_count": 6,
   "metadata": {},
   "outputs": [
    {
     "name": "stdout",
     "output_type": "stream",
     "text": [
      "2\n",
      "3\n"
     ]
    }
   ],
   "source": [
    "# 변경할 값 확인\n",
    "print(a['a'])\n",
    "print(b['a'])"
   ]
  },
  {
   "cell_type": "code",
   "execution_count": 7,
   "metadata": {},
   "outputs": [
    {
     "name": "stdout",
     "output_type": "stream",
     "text": [
      "{'a': 2, 'b': 1}\n",
      "{'a': 3, 'b': 1}\n",
      "2\n",
      "3\n"
     ]
    }
   ],
   "source": [
    "a['a'] = 2\n",
    "b['a'] = 3\n",
    "\n",
    "print(a)\n",
    "print(b)\n",
    "print(a['a'])\n",
    "print(b['a'])"
   ]
  },
  {
   "cell_type": "markdown",
   "metadata": {},
   "source": [
    "## 5.2 중첩 딕셔너리 복사"
   ]
  },
  {
   "cell_type": "markdown",
   "metadata": {},
   "source": [
    "1. 복사"
   ]
  },
  {
   "cell_type": "code",
   "execution_count": null,
   "metadata": {},
   "outputs": [
    {
     "name": "stdout",
     "output_type": "stream",
     "text": [
      "{'a': {'c': 0, 'd': 0}, 'b': 1}\n",
      "{'a': {'c': 0, 'd': 0}, 'b': 1}\n",
      "4432666624\n",
      "4432664512\n",
      "\n",
      "4437551104\n",
      "4432669248\n"
     ]
    }
   ],
   "source": [
    "import copy\n",
    "\n",
    "a = {'a': {'c': 0, 'd': 0}, 'b': 1}\n",
    "b = copy.deepcopy(a)\n",
    "\n",
    "print(a)\n",
    "print(b)\n",
    "print(id(a))\n",
    "print(id(b))\n",
    "\n",
    "print()\n",
    "print(id(a['a']))\n",
    "print(id(b['a']))"
   ]
  },
  {
   "cell_type": "code",
   "execution_count": null,
   "metadata": {},
   "outputs": [
    {
     "name": "stdout",
     "output_type": "stream",
     "text": [
      "{'a': {'c': 0, 'd': 0}, 'b': 1}\n",
      "{'a': {'c': 0, 'd': 0}, 'b': 1}\n",
      "4432670400\n",
      "4437422784\n",
      "\n",
      "4437416960\n",
      "4437416960\n"
     ]
    }
   ],
   "source": [
    "# 단순히 copy 함수를 사용했을 경우 \n",
    "\n",
    "a_ = {'a': {'c': 0, 'd': 0}, 'b': 1}\n",
    "b_ = a_.copy()\n",
    "\n",
    "print(a_)\n",
    "print(b_)\n",
    "print(id(a_))\n",
    "print(id(b_))\n",
    "\n",
    "print()\n",
    "print(id(a_['a'])) # 중첩 dict는 메모리 주소가 동일함 \n",
    "print(id(b_['a']))"
   ]
  },
  {
   "cell_type": "markdown",
   "metadata": {},
   "source": [
    "2. 값 변경"
   ]
  },
  {
   "cell_type": "code",
   "execution_count": null,
   "metadata": {},
   "outputs": [
    {
     "name": "stdout",
     "output_type": "stream",
     "text": [
      "{'c': 0, 'd': 0}\n",
      "0\n"
     ]
    }
   ],
   "source": [
    "# 변경할 값 확인\n",
    "\n",
    "print(a['a'])\n",
    "print(a['a']['c'])\n",
    "print(b['a'])\n",
    "print(b['a']['c'])"
   ]
  },
  {
   "cell_type": "code",
   "execution_count": null,
   "metadata": {},
   "outputs": [
    {
     "name": "stdout",
     "output_type": "stream",
     "text": [
      "a:  {'a': {'c': 2, 'd': 0}, 'b': 1}\n",
      "b:  {'a': {'c': 3, 'd': 0}, 'b': 1}\n"
     ]
    }
   ],
   "source": [
    "# 값 변경\n",
    "\n",
    "a['a']['c'] = 2\n",
    "b['a']['c'] = 3\n",
    "\n",
    "print('a: ', a)\n",
    "print('b: ', b)"
   ]
  },
  {
   "cell_type": "markdown",
   "metadata": {},
   "source": [
    "# 6 dict() 함수와 시퀀스 객체로 딕셔너리 생성하기 (zip()내장함수)"
   ]
  },
  {
   "cell_type": "markdown",
   "metadata": {},
   "source": [
    "## 6.1 키와 값 한 쌍을 갖는 시퀀스 객체를 요소로 갖는 시퀀스 객체를 생성하여 딕셔너리 자료형으로 만들 수 있음\n"
   ]
  },
  {
   "cell_type": "code",
   "execution_count": 21,
   "metadata": {},
   "outputs": [
    {
     "name": "stdout",
     "output_type": "stream",
     "text": [
      "{'test': 1}\n",
      "{'key1': 'value1', 'key2': 'value2'}\n"
     ]
    }
   ],
   "source": [
    "# 키와 값 한 쌍을 갖는 시퀀스 객체 : ('key', 'value')\n",
    "# 위의 객체를 요소로 갖는 시퀀스 객체: [('key', 'value'), ('key2', 'value2')]\n",
    "# 위의 list 객체(시퀀스 객체)를 dict 함수의 인수로 전달 \n",
    "\n",
    "my_dict1 = dict([('test', 1)])\n",
    "my_dict2 = dict([('key1', 'value1'), ('key2', 'value2')])\n",
    "\n",
    "print(my_dict1)\n",
    "print(my_dict2)"
   ]
  },
  {
   "cell_type": "markdown",
   "metadata": {},
   "source": [
    "## 6.2 zip() 내장함수 통해 딕셔너리 생성해보기"
   ]
  },
  {
   "cell_type": "code",
   "execution_count": 18,
   "metadata": {},
   "outputs": [
    {
     "name": "stdout",
     "output_type": "stream",
     "text": [
      "<zip object at 0x10618d740>\n"
     ]
    },
    {
     "data": {
      "text/plain": [
       "[('key1', 'value1'), ('key2', 'value2')]"
      ]
     },
     "execution_count": 18,
     "metadata": {},
     "output_type": "execute_result"
    }
   ],
   "source": [
    "print(zip(['key1', 'key2'], ['value1', 'value2'])) # zip()객체(시퀀스)로 반환됨 \n",
    "list(zip(['key1', 'key2'], ['value1', 'value2'])) # list객체의 인수로 전달해줌으로써 각 요소들을 확인할 수 있음 (단순 확인용)"
   ]
  },
  {
   "cell_type": "code",
   "execution_count": 21,
   "metadata": {},
   "outputs": [
    {
     "data": {
      "text/plain": [
       "{'key1': 'value1', 'key2': 'value2'}"
      ]
     },
     "execution_count": 21,
     "metadata": {},
     "output_type": "execute_result"
    }
   ],
   "source": [
    "dict(zip(['key1', 'key2'], ['value1', 'value2'])) # 위에서 만든 zip()객체(시퀀스 객체)를 딕셔너리 함수의 인수로 전달 "
   ]
  },
  {
   "cell_type": "markdown",
   "metadata": {},
   "source": [
    "## 6.3 응용해보기"
   ]
  },
  {
   "cell_type": "code",
   "execution_count": 22,
   "metadata": {},
   "outputs": [
    {
     "name": "stdout",
     "output_type": "stream",
     "text": [
      "{1: 'apple', 2: 'banana', 3: 'kiwi'}\n"
     ]
    }
   ],
   "source": [
    "keys = [1, 2, 3]\n",
    "values = ['apple', 'banana', 'kiwi']\n",
    "\n",
    "fruits = dict(zip(keys, values))\n",
    "print(fruits)"
   ]
  },
  {
   "cell_type": "markdown",
   "metadata": {},
   "source": [
    "# 딕셔너리 실습 01\n",
    "[문제] 이름, 나이, 연락처를 받아 딕셔너리를 생성하여 출력해주세요. \n",
    "\n",
    "[실행] \\\n",
    "이름을 입력해주세요: 홍길동 \\\n",
    "나이를 입력해주세요: 27 \\\n",
    "연락처 입력해주세요: 010-1234-6789 \n",
    "\n",
    "[결과] \\\n",
    "{‘이름’: ’홍길동’, ‘나이’: ’27’, ‘연락처’: ‘010-6768-7574’}\n"
   ]
  },
  {
   "cell_type": "code",
   "execution_count": 71,
   "metadata": {},
   "outputs": [
    {
     "name": "stdout",
     "output_type": "stream",
     "text": [
      "{'이름': '홍길동', '나이': '27', '연락처': '010-1234-6789'}\n",
      "{'이름': '홍길동', '나이': '27', '연락처': '010-1234-6789'}\n"
     ]
    }
   ],
   "source": [
    "name = input()\n",
    "age = input()\n",
    "p_num = input()\n",
    "\n",
    "result1 = {'이름': name, '나이': age, '연락처': p_num}\n",
    "result2 = dict(이름=name, 나이=age, 연락처=p_num)\n",
    "\n",
    "print(result1)\n",
    "print(result2)"
   ]
  },
  {
   "cell_type": "markdown",
   "metadata": {},
   "source": [
    "# 딕셔너리 실습 02\n",
    "\n",
    "[문제] \\\n",
    "두 사람의 이름, 나이, 연락처를 받아 두 개의 딕셔너리를 생성 후 리스트에 담아주세요.\n",
    "\n",
    "[실행] \\\n",
    "이름을 입력해주세요: 홍길동 \\\n",
    "나이를 입력해주세요: 27 \\\n",
    "연락처 입력해주세요: 010-1234-6789 \\\n",
    "이름을 입력해주세요: 이몽룡 \\\n",
    "나이를 입력해주세요: 30 \\\n",
    "연락처 입력해주세요: 010-1122-3344\n",
    "\n",
    "[결과] \\\n",
    "[{‘이름’: ’홍길동’, ‘나이’: ’27’, ‘연락처’: ‘010-6768-7574’}, {‘이름’: ’이몽룡’, ‘나이’: 30’, ‘연락처’: ‘010-1122-3344’}]\n"
   ]
  },
  {
   "cell_type": "code",
   "execution_count": 72,
   "metadata": {},
   "outputs": [
    {
     "name": "stdout",
     "output_type": "stream",
     "text": [
      "[{'이름': '홍길동', '나이': '27', '연락처': '010-1234-6789'}, {'이름': '이몽룡', '나이': '30', '연락처': '010-1122-3344'}]\n"
     ]
    }
   ],
   "source": [
    "# 방법1 \n",
    "name = input()\n",
    "age = input()\n",
    "p_num = input()\n",
    "name2 = input()\n",
    "age2 = input()\n",
    "p_num2 = input()\n",
    "\n",
    "my_dict1 = {'이름': name, '나이': age, '연락처': p_num}\n",
    "my_dict2 = {'이름': name2, '나이': age2, '연락처': p_num2}\n",
    "\n",
    "result = [my_dict1, my_dict2]\n",
    "print(result)"
   ]
  },
  {
   "cell_type": "code",
   "execution_count": 74,
   "metadata": {},
   "outputs": [
    {
     "name": "stdout",
     "output_type": "stream",
     "text": [
      "[{'이름': '홍길동', '나이': '27', '연락처': '010-1234-6789'}, {'이름': '이몽룡', '나이': '30', '연락처': '010-1122-3344'}]\n"
     ]
    }
   ],
   "source": [
    "# 방법2\n",
    "\n",
    "result2 = []\n",
    "result2.extend([my_dict1, my_dict2])\n",
    "print(result2)"
   ]
  },
  {
   "cell_type": "markdown",
   "metadata": {},
   "source": [
    "## 실습02-append 활용"
   ]
  },
  {
   "cell_type": "code",
   "execution_count": null,
   "metadata": {},
   "outputs": [],
   "source": [
    "# 방법 1\n",
    "test = []"
   ]
  },
  {
   "cell_type": "code",
   "execution_count": null,
   "metadata": {},
   "outputs": [],
   "source": [
    "test.append(result1)\n",
    "print(test) "
   ]
  },
  {
   "cell_type": "code",
   "execution_count": null,
   "metadata": {},
   "outputs": [],
   "source": [
    "test.append(result2)\n",
    "print(test) "
   ]
  },
  {
   "cell_type": "code",
   "execution_count": null,
   "metadata": {},
   "outputs": [],
   "source": [
    "# 방법 2\n",
    "test = []\n",
    "test.append([result1, result2])\n",
    "print(test) "
   ]
  },
  {
   "cell_type": "markdown",
   "metadata": {},
   "source": [
    "# 딕셔너리 실습 03\n",
    "[문제]\n",
    "input() 함수를 통해 원하는 과일 이름을 입력하면 가격이 출력되는 프로그램을 구현해봅시다.\n",
    "- 과일 이름(str)을 key로 만들고 가격(int)을 value로 해서 딕셔너리 자료형을 만듭니다. \n",
    "- 사과는 1000원, 바나나는 700원, 오렌지는 1500원, 파인애플은 2000원\n",
    "\n",
    "[실행 결과] \\\n",
    "과일 이름을 입력하세요: 사과 \\\n",
    "사과의 가격은 1000원입니다.\n"
   ]
  },
  {
   "cell_type": "code",
   "execution_count": null,
   "metadata": {},
   "outputs": [],
   "source": [
    "dict_fruits = {'사과': 1000, '바나나': 700, '오렌지': 1500, '파인애플': 2000}\n",
    "\n",
    "input_fruit = input('과일 이름을 입력하세요: ')\n",
    "\n",
    "print(f'{input_fruit}의 가격은 {dict_fruits[input_fruit]}원입니다.')"
   ]
  },
  {
   "cell_type": "markdown",
   "metadata": {},
   "source": [
    "# 딕셔너리 실습 04\n",
    "\n",
    "[문제]\n",
    "- input() 함수를 통해 이름 값 여럿을 입력 받습니다.\n",
    "- 입력 받고 난 후에 이름 순서와 개수를 동일하게 몸무게 값을 입력 받습니다.\n",
    "- 이름(str)을 키(key)로, 몸무게(float)를 값(value)으로 하는 딕셔너리 자료형을 만들고 그 결과를 출력해보세요\n",
    "\n",
    "[실행 결과]\n",
    "- 이름을 기입해주세요: 뽀로로 루피 크롱 스누피\n",
    "- 몸무게를 입려해주세요: 20.4 16.2 22.3 5.2\n",
    "\n"
   ]
  },
  {
   "cell_type": "code",
   "execution_count": 27,
   "metadata": {},
   "outputs": [
    {
     "name": "stdout",
     "output_type": "stream",
     "text": [
      "['뽀로로', '루피', '크롱', '스누피']\n",
      "<map object at 0x10673d840>\n",
      "{'뽀로로': 20.4, '루피': 16.2, '크롱': 22.3, '스누피': 5.2}\n"
     ]
    }
   ],
   "source": [
    "names = input('이름을 기입해주세요: ').split()\n",
    "weights = map(float, input('몸무게를 입력해주세요: ').split())\n",
    "\n",
    "print(names)\n",
    "print(weights)\n",
    "\n",
    "dict_info = dict(zip(names, weights))\n",
    "print(dict_info)"
   ]
  }
 ],
 "metadata": {
  "kernelspec": {
   "display_name": "myVenv",
   "language": "python",
   "name": "python3"
  },
  "language_info": {
   "codemirror_mode": {
    "name": "ipython",
    "version": 3
   },
   "file_extension": ".py",
   "mimetype": "text/x-python",
   "name": "python",
   "nbconvert_exporter": "python",
   "pygments_lexer": "ipython3",
   "version": "3.10.14"
  }
 },
 "nbformat": 4,
 "nbformat_minor": 2
}
