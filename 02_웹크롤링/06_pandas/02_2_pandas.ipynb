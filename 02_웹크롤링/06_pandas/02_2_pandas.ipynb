{
 "cells": [
  {
   "cell_type": "markdown",
   "metadata": {},
   "source": [
    "# pandas"
   ]
  },
  {
   "cell_type": "markdown",
   "metadata": {},
   "source": [
    "# 3. 데이터 입출력 "
   ]
  },
  {
   "cell_type": "markdown",
   "metadata": {},
   "source": [
    "## 3.1 파일로 출력\n",
    "\n",
    "- 데이터를 csv 파일로 출력할 땐 to_csv()메서드 활용 \n",
    "- 첫 인자로는 파일 경로를 입력 \n",
    "    - 아래에서 만들 DataFrame의 index는 의미 없는 값이므로 출력할 때 고려하지 않음 \n",
    "    - to_csv()의 기본값 인자는 index의 default=True이니 index=False로 설정해야함 "
   ]
  },
  {
   "cell_type": "code",
   "execution_count": null,
   "metadata": {},
   "outputs": [],
   "source": []
  },
  {
   "cell_type": "code",
   "execution_count": null,
   "metadata": {},
   "outputs": [],
   "source": []
  },
  {
   "cell_type": "code",
   "execution_count": null,
   "metadata": {},
   "outputs": [],
   "source": []
  },
  {
   "cell_type": "code",
   "execution_count": null,
   "metadata": {},
   "outputs": [],
   "source": []
  },
  {
   "cell_type": "markdown",
   "metadata": {},
   "source": [
    "## 3.2 csv파일에서 데이터 불러오기 \n",
    "- pandas.read_csv()메서드 활용 \n",
    "- 첫 번째 인수로 '파일 이름.확장자' 문자열 삽입"
   ]
  },
  {
   "cell_type": "markdown",
   "metadata": {},
   "source": [
    "1. 1번 파일 불러오기"
   ]
  },
  {
   "cell_type": "code",
   "execution_count": null,
   "metadata": {},
   "outputs": [],
   "source": []
  },
  {
   "cell_type": "markdown",
   "metadata": {},
   "source": [
    "2. index=True 로 저장한 파일 불러와보기\n",
    "- index=True에서 index가 첫 번재 열로 csv 파일에 저장되어버림 -> 다시 불러올 때 unnamed 칼럼명이 붙으면서 첫 번째 열로 읽혀짐"
   ]
  },
  {
   "cell_type": "code",
   "execution_count": null,
   "metadata": {},
   "outputs": [],
   "source": []
  },
  {
   "cell_type": "code",
   "execution_count": null,
   "metadata": {},
   "outputs": [],
   "source": []
  },
  {
   "cell_type": "markdown",
   "metadata": {},
   "source": [
    "3. column 지정하지 않은 sample3.csv 불러와보기 "
   ]
  },
  {
   "cell_type": "code",
   "execution_count": null,
   "metadata": {},
   "outputs": [],
   "source": []
  },
  {
   "cell_type": "code",
   "execution_count": null,
   "metadata": {},
   "outputs": [],
   "source": []
  },
  {
   "cell_type": "markdown",
   "metadata": {},
   "source": [
    "## 3.3 pokemon.csv 파일 읽어오기 "
   ]
  },
  {
   "cell_type": "code",
   "execution_count": null,
   "metadata": {},
   "outputs": [],
   "source": []
  },
  {
   "cell_type": "markdown",
   "metadata": {},
   "source": [
    "- 행 건너뛰기: 파일 중 건너 뛰어야 할 상단 행이 있으면 skiprows 인수 사용\n",
    "- 리스트나 range 통해 인수 전달 "
   ]
  },
  {
   "cell_type": "code",
   "execution_count": null,
   "metadata": {},
   "outputs": [],
   "source": []
  },
  {
   "cell_type": "markdown",
   "metadata": {},
   "source": [
    "- 데이터로 불러올 자료 안 특정한 값을 NaN으로 취급하고 싶으면 \n",
    "- na_values 인수에 NaN 값으로 취급할 값을 넣어줌"
   ]
  },
  {
   "cell_type": "code",
   "execution_count": null,
   "metadata": {},
   "outputs": [],
   "source": []
  },
  {
   "cell_type": "markdown",
   "metadata": {},
   "source": [
    "- na_rep 키워드 인수 사용해서 NaN 표시값 바꾸기 \n",
    "- NaN 값을 '누락'으로 변경해서 저장해보기"
   ]
  },
  {
   "cell_type": "code",
   "execution_count": null,
   "metadata": {},
   "outputs": [],
   "source": []
  },
  {
   "cell_type": "markdown",
   "metadata": {},
   "source": [
    "- 경로가 아닌 url을 인수로 전달하면 해당 파일을 판다스가 직접 다운로드 해옴 "
   ]
  },
  {
   "cell_type": "code",
   "execution_count": null,
   "metadata": {},
   "outputs": [],
   "source": []
  },
  {
   "cell_type": "markdown",
   "metadata": {},
   "source": [
    "## 3.4 head() / tail()\n",
    "\n",
    "- 앞이나 뒤의 특정 개수만 보고싶을 경우 사용 \n",
    "- 메서드 인수로 출력할 행의 개수를 입력하면 됨 "
   ]
  },
  {
   "cell_type": "code",
   "execution_count": null,
   "metadata": {},
   "outputs": [],
   "source": []
  },
  {
   "cell_type": "code",
   "execution_count": null,
   "metadata": {},
   "outputs": [],
   "source": []
  },
  {
   "cell_type": "markdown",
   "metadata": {},
   "source": [
    "## 3.5 nunique()\n",
    "- 고유한 값의 개수를 계산할 때 사용 \n",
    "- DF객체는 nunique()메서드에 대해 각 칼럼마다 갖는 고유할 값을 Series로 반환"
   ]
  },
  {
   "cell_type": "code",
   "execution_count": null,
   "metadata": {},
   "outputs": [],
   "source": []
  },
  {
   "cell_type": "markdown",
   "metadata": {},
   "source": [
    "## 3.6 count()\n",
    "\n",
    "- 칼럼마다의 데이터 개수 계산\n",
    "- NaN인 값에 대해서는 개수 포함 안 함 \n",
    "- 칼럼마다 개수를 보여줘야 해서 Series로 반환 \n",
    "- DF 객체를 인수로 해서 len()함수를 사용하면 -> row index의 전체 크기를 알려줌 (즉, 행 개수 반환)\n",
    "    - nan값과 관계없이 전체를 세기 때문에 단 하나의 정수 값을 반환 "
   ]
  },
  {
   "cell_type": "code",
   "execution_count": null,
   "metadata": {},
   "outputs": [],
   "source": []
  },
  {
   "cell_type": "code",
   "execution_count": null,
   "metadata": {},
   "outputs": [],
   "source": []
  },
  {
   "cell_type": "markdown",
   "metadata": {},
   "source": [
    "## 3.7 value_counts()\n",
    "\n",
    "- 고유값 개수 카운팅 \n",
    "- 다양한 옵션 설정 가능\n",
    "    - ascending=True : 오름차순 정렬\n",
    "    - dropna = True : Na값을 집계에 포함시킴 \n",
    "    - normalize=True : 비율 계산"
   ]
  },
  {
   "cell_type": "code",
   "execution_count": null,
   "metadata": {},
   "outputs": [],
   "source": []
  },
  {
   "cell_type": "code",
   "execution_count": null,
   "metadata": {},
   "outputs": [],
   "source": []
  },
  {
   "cell_type": "code",
   "execution_count": null,
   "metadata": {},
   "outputs": [],
   "source": []
  },
  {
   "cell_type": "markdown",
   "metadata": {},
   "source": [
    "## 3.8 dtypes()\n",
    "\n",
    "- titanic의 각 컬럼에 대해 dtype을 조회 가능 \n",
    "- object type은 주로 문자열 혹은 문자열+숫자의 혼합일 때 주로 나타남\n"
   ]
  },
  {
   "cell_type": "code",
   "execution_count": null,
   "metadata": {},
   "outputs": [],
   "source": []
  },
  {
   "cell_type": "markdown",
   "metadata": {},
   "source": [
    "## 3.9 describe()\n",
    "\n",
    "- 수치 값을 갖는 DataFrame의 각 컬럼에 대해 count, mean, std, min, 25%, median(50%), 75%, max에 대한 모든 통계를 구해줌\n"
   ]
  },
  {
   "cell_type": "code",
   "execution_count": null,
   "metadata": {},
   "outputs": [],
   "source": []
  },
  {
   "cell_type": "markdown",
   "metadata": {},
   "source": [
    "# 4. 결측치 다루기 \n",
    "\n",
    "- series때 다뤘던 것과 마찬가지로 동일한 메소드를 사용할 수 있음\n",
    "- 특히 .isnull().sum()과 같은 결측치 확인 명령어는 알아두면 유용\n"
   ]
  },
  {
   "cell_type": "code",
   "execution_count": null,
   "metadata": {},
   "outputs": [],
   "source": []
  },
  {
   "cell_type": "code",
   "execution_count": null,
   "metadata": {},
   "outputs": [],
   "source": []
  },
  {
   "cell_type": "markdown",
   "metadata": {},
   "source": [
    "## 4.1 isnull() / notnull()"
   ]
  },
  {
   "cell_type": "code",
   "execution_count": null,
   "metadata": {},
   "outputs": [],
   "source": []
  },
  {
   "cell_type": "code",
   "execution_count": null,
   "metadata": {},
   "outputs": [],
   "source": []
  },
  {
   "cell_type": "code",
   "execution_count": null,
   "metadata": {},
   "outputs": [],
   "source": []
  },
  {
   "cell_type": "code",
   "execution_count": null,
   "metadata": {},
   "outputs": [],
   "source": []
  },
  {
   "cell_type": "markdown",
   "metadata": {},
   "source": [
    "## 4.2 dropna() / fillna()\n",
    "\n",
    "- dropna() : 결측치가 존재하는 행을 제외\n",
    "- fillna('값') : 결측치를 원하는 값으로 채울 수 있음 "
   ]
  },
  {
   "cell_type": "code",
   "execution_count": null,
   "metadata": {},
   "outputs": [],
   "source": []
  },
  {
   "cell_type": "code",
   "execution_count": null,
   "metadata": {},
   "outputs": [],
   "source": []
  },
  {
   "cell_type": "code",
   "execution_count": null,
   "metadata": {},
   "outputs": [],
   "source": []
  },
  {
   "cell_type": "code",
   "execution_count": null,
   "metadata": {},
   "outputs": [],
   "source": []
  },
  {
   "cell_type": "markdown",
   "metadata": {},
   "source": [
    "# 5. 차원 확인\n",
    "\n",
    "- ndim과 shape 속성 사용\n",
    "    - ndim은 DataFrame은 2차원 형태를 가지는 경우가 많기  numpy에서 더 자주 사용하게 된다.\n",
    "- ndim은 차원의 수를 반환하고 shape은 데이터의 형태를 반환\n"
   ]
  },
  {
   "cell_type": "code",
   "execution_count": null,
   "metadata": {},
   "outputs": [],
   "source": []
  },
  {
   "cell_type": "code",
   "execution_count": null,
   "metadata": {},
   "outputs": [],
   "source": []
  },
  {
   "cell_type": "code",
   "execution_count": null,
   "metadata": {},
   "outputs": [],
   "source": []
  },
  {
   "cell_type": "markdown",
   "metadata": {},
   "source": [
    "# 6. 실습 01\n",
    "\n",
    "## 01-1\n",
    "- 데이터를 다운받아서 파일을 읽어오고 다음과 같은 문제에 답하세요.\n",
    "- nba 데이터의 차원의 수, 모양, 컬럼 인덱스, 로우 인덱스를 각각 구해보세요.\n"
   ]
  },
  {
   "cell_type": "code",
   "execution_count": null,
   "metadata": {},
   "outputs": [],
   "source": []
  },
  {
   "cell_type": "markdown",
   "metadata": {},
   "source": [
    "1. 차원의 수 "
   ]
  },
  {
   "cell_type": "code",
   "execution_count": null,
   "metadata": {},
   "outputs": [],
   "source": []
  },
  {
   "cell_type": "markdown",
   "metadata": {},
   "source": [
    "2. 모양"
   ]
  },
  {
   "cell_type": "code",
   "execution_count": null,
   "metadata": {},
   "outputs": [],
   "source": []
  },
  {
   "cell_type": "markdown",
   "metadata": {},
   "source": [
    "3. 칼럼 인덱스"
   ]
  },
  {
   "cell_type": "code",
   "execution_count": null,
   "metadata": {},
   "outputs": [],
   "source": []
  },
  {
   "cell_type": "markdown",
   "metadata": {},
   "source": [
    "4. 로우 인덱스"
   ]
  },
  {
   "cell_type": "code",
   "execution_count": null,
   "metadata": {},
   "outputs": [],
   "source": []
  },
  {
   "cell_type": "markdown",
   "metadata": {},
   "source": [
    "## 01-2\n",
    "\n",
    "- nba 데이터에 결측치를 갖는 컬럼이 존재하는지 확인해 봅시다. \n",
    "- 그리고 존재한다면 몇개의 데이터나 결측치 값을 갖는지 확인해보세요.\n",
    "- 또한 각 컬럼별 결측치를 제외한 데이터의 수를 확인해보세요.\n",
    "\n"
   ]
  },
  {
   "cell_type": "code",
   "execution_count": null,
   "metadata": {},
   "outputs": [],
   "source": []
  },
  {
   "cell_type": "code",
   "execution_count": null,
   "metadata": {},
   "outputs": [],
   "source": []
  },
  {
   "cell_type": "markdown",
   "metadata": {},
   "source": [
    "## 01-3\n",
    "\n",
    "- nba 데이터에 각 컬럼마다 고유한 값을 몇개씩 갖는지 조회해보세요. \n",
    "- Salary 컬럼의 평균, 최대 최소 등 다양한 통계량을 확인해보세요.\n"
   ]
  },
  {
   "cell_type": "code",
   "execution_count": null,
   "metadata": {},
   "outputs": [],
   "source": []
  },
  {
   "cell_type": "code",
   "execution_count": null,
   "metadata": {},
   "outputs": [],
   "source": []
  },
  {
   "cell_type": "markdown",
   "metadata": {},
   "source": [
    "# 7. 고급 인덱싱 \n",
    "\n",
    "- Pandas는 NumPy 배열과 같이 콤마(,)를 사용한 (row 인덱스, column 인덱스) 형식의 2차원 인덱싱을 지원하기 위해 \\\n",
    "다음과 같은 특별한 인덱서(indexer) 속성도 제공한다.\n",
    "    - loc : label 값 기반의 2차원 인덱싱\n",
    "    - iloc : 순서를 나타내는 정수 기반의 2차원 인덱싱\n"
   ]
  },
  {
   "cell_type": "code",
   "execution_count": null,
   "metadata": {},
   "outputs": [],
   "source": []
  },
  {
   "cell_type": "markdown",
   "metadata": {},
   "source": [
    "## 7.1 loc\n",
    "\n",
    "- location의 약자 \n",
    "- label-based-indeixing\n",
    "    - 행과 열을 라벨을 사용하여 선택할 때 사용 \n",
    "- df.loc[row인덱스]\n",
    "- df.loc[row인덱스, column인덱스]"
   ]
  },
  {
   "cell_type": "code",
   "execution_count": null,
   "metadata": {},
   "outputs": [],
   "source": []
  },
  {
   "cell_type": "code",
   "execution_count": null,
   "metadata": {},
   "outputs": [],
   "source": []
  },
  {
   "cell_type": "code",
   "execution_count": null,
   "metadata": {},
   "outputs": [],
   "source": []
  },
  {
   "cell_type": "code",
   "execution_count": null,
   "metadata": {},
   "outputs": [],
   "source": []
  },
  {
   "cell_type": "code",
   "execution_count": null,
   "metadata": {},
   "outputs": [],
   "source": []
  },
  {
   "cell_type": "code",
   "execution_count": null,
   "metadata": {},
   "outputs": [],
   "source": []
  },
  {
   "cell_type": "code",
   "execution_count": null,
   "metadata": {},
   "outputs": [],
   "source": []
  },
  {
   "cell_type": "code",
   "execution_count": null,
   "metadata": {},
   "outputs": [],
   "source": []
  },
  {
   "cell_type": "markdown",
   "metadata": {},
   "source": [
    "## 7.2 iloc\n",
    "\n",
    "- integer-location-based-indexing의 약자 \n",
    "- 정수 기반 위치 인덱싱\n",
    "- 행과 열을 정수 기반 위치를 사용해 인덱싱 및 슬라이싱 할 때 사용 \n"
   ]
  },
  {
   "cell_type": "code",
   "execution_count": null,
   "metadata": {},
   "outputs": [],
   "source": []
  },
  {
   "cell_type": "code",
   "execution_count": null,
   "metadata": {},
   "outputs": [],
   "source": []
  },
  {
   "cell_type": "code",
   "execution_count": null,
   "metadata": {},
   "outputs": [],
   "source": []
  },
  {
   "cell_type": "code",
   "execution_count": null,
   "metadata": {},
   "outputs": [],
   "source": []
  },
  {
   "cell_type": "code",
   "execution_count": null,
   "metadata": {},
   "outputs": [],
   "source": []
  },
  {
   "cell_type": "code",
   "execution_count": null,
   "metadata": {},
   "outputs": [],
   "source": []
  },
  {
   "cell_type": "markdown",
   "metadata": {},
   "source": [
    "## 7.3 조건 필터링 "
   ]
  },
  {
   "cell_type": "code",
   "execution_count": null,
   "metadata": {},
   "outputs": [],
   "source": []
  },
  {
   "cell_type": "code",
   "execution_count": null,
   "metadata": {},
   "outputs": [],
   "source": []
  },
  {
   "cell_type": "code",
   "execution_count": null,
   "metadata": {},
   "outputs": [],
   "source": []
  },
  {
   "cell_type": "code",
   "execution_count": null,
   "metadata": {},
   "outputs": [],
   "source": []
  },
  {
   "cell_type": "code",
   "execution_count": null,
   "metadata": {},
   "outputs": [],
   "source": []
  },
  {
   "cell_type": "code",
   "execution_count": null,
   "metadata": {},
   "outputs": [],
   "source": []
  },
  {
   "cell_type": "markdown",
   "metadata": {},
   "source": [
    "# 8. 실습 02 \n",
    "\n",
    "- 타이타닉호 승객의 평균 나이를 구하세요. 29.6\n",
    "- 타이타닉호 승객중 여성 승객의 평균 나이를 구하세요. 28.7\n",
    "- 타이타닉호 승객중 1등실(class==\"First\") 선실의 여성 승객의 평균 나이를 구하세요. 34.3\n",
    "    - 평균은 df['칼럼명'].mean()을 통해 구할 수 있음 \n"
   ]
  },
  {
   "cell_type": "code",
   "execution_count": null,
   "metadata": {},
   "outputs": [],
   "source": []
  },
  {
   "cell_type": "code",
   "execution_count": null,
   "metadata": {},
   "outputs": [],
   "source": []
  },
  {
   "cell_type": "code",
   "execution_count": null,
   "metadata": {},
   "outputs": [],
   "source": []
  },
  {
   "cell_type": "code",
   "execution_count": null,
   "metadata": {},
   "outputs": [],
   "source": []
  }
 ],
 "metadata": {
  "kernelspec": {
   "display_name": "myVenv",
   "language": "python",
   "name": "python3"
  },
  "language_info": {
   "codemirror_mode": {
    "name": "ipython",
    "version": 3
   },
   "file_extension": ".py",
   "mimetype": "text/x-python",
   "name": "python",
   "nbconvert_exporter": "python",
   "pygments_lexer": "ipython3",
   "version": "3.10.14"
  }
 },
 "nbformat": 4,
 "nbformat_minor": 2
}
