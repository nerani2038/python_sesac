{
 "cells": [
  {
   "cell_type": "markdown",
   "metadata": {},
   "source": [
    "## 4.4 슬라이싱 실습 01\n",
    "\n",
    "[문제] 주어진 행렬에 대하여 각 문제를 해결해보세요.\n",
    "- 값 7 인덱싱\n",
    "- 값 14 인덱싱\n",
    "- 배열 [6, 7] 슬라이싱\n",
    "- 배열 [7, 12] 슬라이싱\n",
    "- 배열 [[3, 4], [8, 9]]\n"
   ]
  },
  {
   "cell_type": "code",
   "execution_count": 4,
   "metadata": {},
   "outputs": [],
   "source": [
    "import numpy as np\n",
    "\n",
    "m = np.array([[0, 1, 2, 3, 4],\n",
    "              [5, 6, 7, 8, 9],\n",
    "              [10, 11, 12, 13, 14]])"
   ]
  },
  {
   "cell_type": "code",
   "execution_count": 5,
   "metadata": {},
   "outputs": [
    {
     "name": "stdout",
     "output_type": "stream",
     "text": [
      "7\n",
      "14\n",
      "[6 7]\n",
      "[ 7 12]\n",
      "[[3 4]\n",
      " [8 9]]\n"
     ]
    }
   ],
   "source": [
    "# 1. 7 인덱싱 \n",
    "print(m[1, 2])\n",
    "\n",
    "# 2. 14 인덱싱\n",
    "print(m[2, -1])\n",
    "\n",
    "# 3. [6, 7] 슬라이싱\n",
    "print(m[1, 1:3])\n",
    "\n",
    "# 4. [7, 12] 슬라이싱\n",
    "print(m[1:, 2])\n",
    "\n",
    "# 5. [[3, 4], [8, 9]] 슬라이싱 \n",
    "print(m[:2, -2:])"
   ]
  },
  {
   "cell_type": "markdown",
   "metadata": {},
   "source": [
    "## 4.5 슬라이싱 실습 02\n",
    "\n",
    "[문제] 주어진 행렬에 대하여 각 문제를 해결해보세요.\n",
    "\\\n",
    "\\\n",
    "array([[[  1,   2,   3], \\\n",
    "        [  4,   5,   6], \\\n",
    "        [  7,   8,   9]], \\\n",
    " \\\n",
    "       [[ 10,  20,  30], \\\n",
    "        [ 40,  50,  60], \\\n",
    "        [ 70,  80,  90]], \\\n",
    "\\\n",
    "       [[100, 200, 300], \\\n",
    "        [400, 500, 600], \\\n",
    "        [700, 800, 900]]])\n",
    "        "
   ]
  },
  {
   "cell_type": "markdown",
   "metadata": {},
   "source": [
    "## 실습 02 배열 생성"
   ]
  },
  {
   "cell_type": "code",
   "execution_count": 6,
   "metadata": {},
   "outputs": [
    {
     "data": {
      "text/plain": [
       "array([[[  1,   2,   3],\n",
       "        [  4,   5,   6],\n",
       "        [  7,   8,   9]],\n",
       "\n",
       "       [[ 10,  20,  30],\n",
       "        [ 40,  50,  60],\n",
       "        [ 70,  80,  90]],\n",
       "\n",
       "       [[100, 200, 300],\n",
       "        [400, 500, 600],\n",
       "        [700, 800, 900]]])"
      ]
     },
     "execution_count": 6,
     "metadata": {},
     "output_type": "execute_result"
    }
   ],
   "source": [
    "# 방법 1\n",
    "import numpy as np\n",
    "\n",
    "# 배열 생성\n",
    "a = np.array([\n",
    "    [[1, 2, 3], [4, 5, 6], [7, 8, 9]],\n",
    "    [[10, 20, 30], [40, 50, 60], [70, 80, 90]],\n",
    "    [[100, 200, 300], [400, 500, 600], [700, 800, 900]]\n",
    "])\n",
    "\n",
    "a"
   ]
  },
  {
   "cell_type": "code",
   "execution_count": 7,
   "metadata": {},
   "outputs": [
    {
     "name": "stdout",
     "output_type": "stream",
     "text": [
      "[[1 2 3]\n",
      " [2 3 4]\n",
      " [3 4 5]]\n",
      "\n",
      "[[10 20 30]\n",
      " [20 30 40]\n",
      " [30 40 50]]\n",
      "\n",
      "[[100 200 300]\n",
      " [200 300 400]\n",
      " [300 400 500]]\n",
      "\n"
     ]
    },
    {
     "data": {
      "text/plain": [
       "array([[[  1,   2,   3],\n",
       "        [  2,   3,   4],\n",
       "        [  3,   4,   5]],\n",
       "\n",
       "       [[ 10,  20,  30],\n",
       "        [ 20,  30,  40],\n",
       "        [ 30,  40,  50]],\n",
       "\n",
       "       [[100, 200, 300],\n",
       "        [200, 300, 400],\n",
       "        [300, 400, 500]]])"
      ]
     },
     "execution_count": 7,
     "metadata": {},
     "output_type": "execute_result"
    }
   ],
   "source": [
    "# 방법 2\n",
    "test = np.array([[i + j for i in range(1,4)] for j in range(3)])\n",
    "print(test)\n",
    "print()\n",
    "test2 = test*10\n",
    "print(test2)\n",
    "print()\n",
    "test3 = test*100\n",
    "print(test3)\n",
    "print()\n",
    "a = np.array([test, test2, test3])\n",
    "a"
   ]
  },
  {
   "cell_type": "code",
   "execution_count": 8,
   "metadata": {},
   "outputs": [
    {
     "name": "stdout",
     "output_type": "stream",
     "text": [
      "(3, 3, 3)\n",
      "int64\n"
     ]
    }
   ],
   "source": [
    "print(a.shape)\n",
    "print(a.dtype)"
   ]
  },
  {
   "cell_type": "code",
   "execution_count": 9,
   "metadata": {},
   "outputs": [
    {
     "name": "stdout",
     "output_type": "stream",
     "text": [
      "[[[  1   2   3]\n",
      "  [  4   5   6]\n",
      "  [  7   8   9]]\n",
      "\n",
      " [[ 10  20  30]\n",
      "  [ 40  50  60]\n",
      "  [ 70  80  90]]\n",
      "\n",
      " [[100 200 300]\n",
      "  [400 500 600]\n",
      "  [700 800 900]]]\n"
     ]
    }
   ],
   "source": [
    "# 방법 3\n",
    "import numpy as np\n",
    "\n",
    "# arange로 배열 생성\n",
    "a = np.arange(1, 10).reshape(3,3) * np.array([1, 10, 100]).reshape(3, 1, 1)\n",
    "\n",
    "print(a)"
   ]
  },
  {
   "cell_type": "markdown",
   "metadata": {},
   "source": [
    "## 02-1\n",
    "\n",
    "[문제 1] 아래와 같은 배열을 출력하세요\n",
    "\\\n",
    "\\\n",
    "array([[2, 5, 8], \\\n",
    "    [20, 50, 80], \\\n",
    "    [200, 500, 800]])\n"
   ]
  },
  {
   "cell_type": "code",
   "execution_count": 10,
   "metadata": {},
   "outputs": [
    {
     "name": "stdout",
     "output_type": "stream",
     "text": [
      "[[  2   5   8]\n",
      " [ 20  50  80]\n",
      " [200 500 800]]\n"
     ]
    }
   ],
   "source": [
    "result = a[:, :, 1]\n",
    "print(result)"
   ]
  },
  {
   "cell_type": "markdown",
   "metadata": {},
   "source": [
    "## 02-2\n",
    "\n",
    "[문제 2] 아래와 같은 배열을 출력하세요\n",
    "\\\n",
    "\\\n",
    "array([[1, 3], \\\n",
    "    [100, 300]])\n"
   ]
  },
  {
   "cell_type": "code",
   "execution_count": 11,
   "metadata": {},
   "outputs": [
    {
     "data": {
      "text/plain": [
       "array([[  1,   3],\n",
       "       [100, 300]])"
      ]
     },
     "execution_count": 11,
     "metadata": {},
     "output_type": "execute_result"
    }
   ],
   "source": [
    "result = a[::2, 0, ::2]\n",
    "result"
   ]
  },
  {
   "cell_type": "markdown",
   "metadata": {},
   "source": [
    "## 02-3\n",
    "\n",
    "[문제 2] 아래와 같은 배열을 출력하세요\n",
    "\\\n",
    "\\\n",
    "array([[[3, 2, 1], \\\n",
    "    [9, 8, 7]], \\\n",
    "\\\n",
    "    [[30, 20, 10], \\\n",
    "    [90, 80, 70]]])\n"
   ]
  },
  {
   "cell_type": "code",
   "execution_count": 12,
   "metadata": {},
   "outputs": [
    {
     "data": {
      "text/plain": [
       "array([[[ 3,  2,  1],\n",
       "        [ 9,  8,  7]],\n",
       "\n",
       "       [[30, 20, 10],\n",
       "        [90, 80, 70]]])"
      ]
     },
     "execution_count": 12,
     "metadata": {},
     "output_type": "execute_result"
    }
   ],
   "source": [
    "result = a[:2:, ::2, ::-1]\n",
    "result"
   ]
  },
  {
   "cell_type": "markdown",
   "metadata": {},
   "source": [
    "# 배열생성2 실습 01\n",
    "\n",
    "[문제] 빈 문자열을 갖는 shape이 (3, 3, 3) ndarray를 만들어 봅시다.\n",
    "- 단, dtype은 ‘U10’으로 합니다.\n"
   ]
  },
  {
   "cell_type": "code",
   "execution_count": 13,
   "metadata": {},
   "outputs": [
    {
     "data": {
      "text/plain": [
       "array([[['', '', ''],\n",
       "        ['', '', ''],\n",
       "        ['', '', '']],\n",
       "\n",
       "       [['', '', ''],\n",
       "        ['', '', ''],\n",
       "        ['', '', '']],\n",
       "\n",
       "       [['', '', ''],\n",
       "        ['', '', ''],\n",
       "        ['', '', '']]], dtype='<U10')"
      ]
     },
     "execution_count": 13,
     "metadata": {},
     "output_type": "execute_result"
    }
   ],
   "source": [
    "reuslt = np.zeros((3, 3, 3), dtype='<U10')\n",
    "reuslt"
   ]
  },
  {
   "cell_type": "markdown",
   "metadata": {},
   "source": [
    "# 배열생성2 실습 02\n",
    "[문제] zeros/ones 함수를 사용해서 배열을 만들고 아래와 같은 배열을 만들어 보세요\n",
    "\\\n",
    "\\\n",
    "array([[1., 1., 1., 1., 1., 1., 1., 1., 1., 1.], \\\n",
    "       [1., 0., 0., 0., 0., 0., 0., 0., 0., 1.], \\\n",
    "       [1., 0., 0., 0., 0., 0., 0., 0., 0., 1.], \\\n",
    "       [1., 0., 0., 0., 0., 0., 0., 0., 0., 1.], \\\n",
    "       [1., 0., 0., 0., 0., 0., 0., 0., 0., 1.], \\\n",
    "       [1., 0., 0., 0., 0., 0., 0., 0., 0., 1.], \\\n",
    "       [1., 0., 0., 0., 0., 0., 0., 0., 0., 1.], \\\n",
    "       [1., 0., 0., 0., 0., 0., 0., 0., 0., 1.], \\\n",
    "       [1., 0., 0., 0., 0., 0., 0., 0., 0., 1.], \\\n",
    "       [1., 1., 1., 1., 1., 1., 1., 1., 1., 1.]])"
   ]
  },
  {
   "cell_type": "code",
   "execution_count": 14,
   "metadata": {},
   "outputs": [
    {
     "data": {
      "text/plain": [
       "array([[1., 1., 1., 1., 1., 1., 1., 1., 1., 1.],\n",
       "       [1., 0., 0., 0., 0., 0., 0., 0., 0., 1.],\n",
       "       [1., 0., 0., 0., 0., 0., 0., 0., 0., 1.],\n",
       "       [1., 0., 0., 0., 0., 0., 0., 0., 0., 1.],\n",
       "       [1., 0., 0., 0., 0., 0., 0., 0., 0., 1.],\n",
       "       [1., 0., 0., 0., 0., 0., 0., 0., 0., 1.],\n",
       "       [1., 0., 0., 0., 0., 0., 0., 0., 0., 1.],\n",
       "       [1., 0., 0., 0., 0., 0., 0., 0., 0., 1.],\n",
       "       [1., 0., 0., 0., 0., 0., 0., 0., 0., 1.],\n",
       "       [1., 1., 1., 1., 1., 1., 1., 1., 1., 1.]])"
      ]
     },
     "execution_count": 14,
     "metadata": {},
     "output_type": "execute_result"
    }
   ],
   "source": [
    "my_ones = np.ones((10, 10))\n",
    "my_ones[1:9, 1:9] = my_ones[1:9, 1:9] * 0 # 10번째 인덱스가 9니깐 8번인덱스까지 0.이 나오게 해야함\n",
    "my_ones"
   ]
  },
  {
   "cell_type": "code",
   "execution_count": 15,
   "metadata": {},
   "outputs": [
    {
     "data": {
      "text/plain": [
       "(10, 10)"
      ]
     },
     "execution_count": 15,
     "metadata": {},
     "output_type": "execute_result"
    }
   ],
   "source": [
    "my_ones.shape"
   ]
  },
  {
   "cell_type": "markdown",
   "metadata": {},
   "source": [
    "# 배열생성2 실습 03\n",
    "[문제] zeros/ones 함수를 사용해서 배열을 만들고 아래와 같은 배열을 만들어 보세요\n"
   ]
  },
  {
   "cell_type": "code",
   "execution_count": 16,
   "metadata": {},
   "outputs": [
    {
     "data": {
      "text/plain": [
       "array([[1., 0., 1., 0., 1., 0., 1., 0., 1., 0.],\n",
       "       [0., 1., 0., 1., 0., 1., 0., 1., 0., 1.],\n",
       "       [1., 0., 1., 0., 1., 0., 1., 0., 1., 0.],\n",
       "       [0., 1., 0., 1., 0., 1., 0., 1., 0., 1.],\n",
       "       [1., 0., 1., 0., 1., 0., 1., 0., 1., 0.],\n",
       "       [0., 1., 0., 1., 0., 1., 0., 1., 0., 1.],\n",
       "       [1., 0., 1., 0., 1., 0., 1., 0., 1., 0.],\n",
       "       [0., 1., 0., 1., 0., 1., 0., 1., 0., 1.],\n",
       "       [1., 0., 1., 0., 1., 0., 1., 0., 1., 0.],\n",
       "       [0., 1., 0., 1., 0., 1., 0., 1., 0., 1.]])"
      ]
     },
     "execution_count": 16,
     "metadata": {},
     "output_type": "execute_result"
    }
   ],
   "source": [
    "my_ones = np.ones((10, 10))\n",
    "my_ones[0::2, 1::2] = my_ones[0::2, 1::2] * 0 # 10번째 인덱스가 9니깐 8번인덱스까지 0.이 나오게 해야함\n",
    "my_ones[1::2, 0::2] = my_ones[1::2, 0::2] * 0\n",
    "my_ones"
   ]
  },
  {
   "cell_type": "code",
   "execution_count": null,
   "metadata": {},
   "outputs": [],
   "source": []
  }
 ],
 "metadata": {
  "kernelspec": {
   "display_name": "myVenv",
   "language": "python",
   "name": "python3"
  },
  "language_info": {
   "codemirror_mode": {
    "name": "ipython",
    "version": 3
   },
   "file_extension": ".py",
   "mimetype": "text/x-python",
   "name": "python",
   "nbconvert_exporter": "python",
   "pygments_lexer": "ipython3",
   "version": "3.10.14"
  }
 },
 "nbformat": 4,
 "nbformat_minor": 2
}
