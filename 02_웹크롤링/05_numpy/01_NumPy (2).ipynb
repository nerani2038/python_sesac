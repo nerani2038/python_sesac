{
 "cells": [
  {
   "cell_type": "code",
   "execution_count": null,
   "metadata": {},
   "outputs": [],
   "source": [
    "# ! pip install numpy "
   ]
  },
  {
   "cell_type": "code",
   "execution_count": 4,
   "metadata": {},
   "outputs": [],
   "source": [
    "import numpy as np"
   ]
  },
  {
   "cell_type": "markdown",
   "metadata": {},
   "source": [
    "# NumPy"
   ]
  },
  {
   "cell_type": "markdown",
   "metadata": {},
   "source": [
    "# 1. 넘파이 개요"
   ]
  },
  {
   "cell_type": "markdown",
   "metadata": {},
   "source": [
    "## 1.1 넘파이 배열 생성해보기 "
   ]
  },
  {
   "cell_type": "code",
   "execution_count": null,
   "metadata": {},
   "outputs": [
    {
     "name": "stdout",
     "output_type": "stream",
     "text": [
      "<class 'numpy.ndarray'>\n",
      "(3, 3)\n"
     ]
    },
    {
     "data": {
      "text/plain": [
       "array([[1., 0., 0.],\n",
       "       [0., 1., 0.],\n",
       "       [0., 0., 1.]])"
      ]
     },
     "execution_count": 188,
     "metadata": {},
     "output_type": "execute_result"
    }
   ],
   "source": [
    "# eye 메서드로 넘파이 행렬 생성해보기 1\n",
    "arr = np.eye(3) # 단위 행렬 생성 코드 (단위 행렬: 대각선 요소가 1이고 나머지가 0인 행렬)\n",
    "\n",
    "print(type(arr))\n",
    "print(arr.shape) # (3, 3)\n",
    "arr"
   ]
  },
  {
   "cell_type": "code",
   "execution_count": 189,
   "metadata": {},
   "outputs": [
    {
     "name": "stdout",
     "output_type": "stream",
     "text": [
      "<class 'numpy.ndarray'>\n",
      "(3, 5)\n"
     ]
    },
    {
     "data": {
      "text/plain": [
       "array([[1., 0., 0., 0., 0.],\n",
       "       [0., 1., 0., 0., 0.],\n",
       "       [0., 0., 1., 0., 0.]])"
      ]
     },
     "execution_count": 189,
     "metadata": {},
     "output_type": "execute_result"
    }
   ],
   "source": [
    "# # eye 메서드로 넘파이 행렬 생성해보기 2\n",
    "arr = np.eye(3, 5) # 단위 행렬 생성 코드 (단위 행렬: 대각선 요소가 1이고 나머지가 0인 행렬)\n",
    "\n",
    "print(type(arr))\n",
    "print(arr.shape) # (3, 3)\n",
    "arr"
   ]
  },
  {
   "cell_type": "code",
   "execution_count": null,
   "metadata": {},
   "outputs": [
    {
     "name": "stdout",
     "output_type": "stream",
     "text": [
      "<class 'numpy.ndarray'>\n"
     ]
    },
    {
     "data": {
      "text/plain": [
       "numpy.ndarray"
      ]
     },
     "execution_count": 186,
     "metadata": {},
     "output_type": "execute_result"
    }
   ],
   "source": [
    "# array 메서드로 1차원 배열 생성\n",
    "ar = np.array([0, 1, 2, 3, 4, 5, 6, 7, 8, 9, 10])\n",
    "\n",
    "# 타입 확인 \n",
    "print(type(ar))\n",
    "type(ar)"
   ]
  },
  {
   "cell_type": "code",
   "execution_count": null,
   "metadata": {},
   "outputs": [
    {
     "name": "stdout",
     "output_type": "stream",
     "text": [
      "int64\n"
     ]
    }
   ],
   "source": [
    "# ar의 데이터 타입 확인 \n",
    "print(ar.dtype) # int64 (정수가 64비트(8바이트)로 표현됨, 즉 64는 각 요소가 차지하는 비트수를 나타냄)"
   ]
  },
  {
   "cell_type": "markdown",
   "metadata": {},
   "source": [
    "## 1.2 행렬 합 연산 비교 "
   ]
  },
  {
   "cell_type": "code",
   "execution_count": 190,
   "metadata": {},
   "outputs": [
    {
     "name": "stdout",
     "output_type": "stream",
     "text": [
      "[[6, 8], [10, 12]]\n"
     ]
    }
   ],
   "source": [
    "# list 계산 \n",
    "matrix_1 = [[1, 2], [3, 4]]\n",
    "matrix_2 = [[5, 6], [7, 8]]\n",
    "\n",
    "matrix_result = []\n",
    "\n",
    "for i in range(len(matrix_1)):\n",
    "    tmp = []\n",
    "    for j in range(len(matrix_2)):\n",
    "        tmp.append(matrix_1[i][j] + matrix_2[i][j])\n",
    "    \n",
    "    matrix_result.append(tmp)\n",
    "\n",
    "print(matrix_result)"
   ]
  },
  {
   "cell_type": "code",
   "execution_count": 191,
   "metadata": {},
   "outputs": [
    {
     "name": "stdout",
     "output_type": "stream",
     "text": [
      "[[ 6  8]\n",
      " [10 12]]\n"
     ]
    }
   ],
   "source": [
    "# numpy 계산 \n",
    "matrix_result = np.array(matrix_1) + np.array(matrix_2)\n",
    "print(matrix_result)"
   ]
  },
  {
   "cell_type": "markdown",
   "metadata": {},
   "source": [
    "# 2. 배열생성 1"
   ]
  },
  {
   "cell_type": "markdown",
   "metadata": {},
   "source": [
    "## 2.1 배열 생성 "
   ]
  },
  {
   "cell_type": "code",
   "execution_count": 3,
   "metadata": {},
   "outputs": [
    {
     "data": {
      "text/plain": [
       "array([ 0,  1,  2,  3,  4,  5,  6,  7,  8,  9, 10])"
      ]
     },
     "execution_count": 3,
     "metadata": {},
     "output_type": "execute_result"
    }
   ],
   "source": [
    "# list로 넘파이 배열 생성하기 \n",
    "import numpy as np\n",
    "\n",
    "arr = np.array([0, 1, 2, 3, 4, 5, 6, 7, 8, 9, 10]) # 시퀀스 자료형으로 ndarray 객체 반환 \n",
    "arr"
   ]
  },
  {
   "cell_type": "markdown",
   "metadata": {},
   "source": [
    "## 2.2 배열 모양 확인"
   ]
  },
  {
   "cell_type": "code",
   "execution_count": 6,
   "metadata": {},
   "outputs": [
    {
     "data": {
      "text/plain": [
       "(11,)"
      ]
     },
     "execution_count": 6,
     "metadata": {},
     "output_type": "execute_result"
    }
   ],
   "source": [
    "arr.shape"
   ]
  },
  {
   "cell_type": "markdown",
   "metadata": {},
   "source": [
    "## 2.3 type 확인 "
   ]
  },
  {
   "cell_type": "code",
   "execution_count": null,
   "metadata": {},
   "outputs": [
    {
     "name": "stdout",
     "output_type": "stream",
     "text": [
      "<class 'numpy.ndarray'>\n"
     ]
    }
   ],
   "source": [
    "print(type(arr))"
   ]
  },
  {
   "cell_type": "markdown",
   "metadata": {},
   "source": [
    "## 2.4 모든 요소가 같은 자료형"
   ]
  },
  {
   "cell_type": "code",
   "execution_count": 16,
   "metadata": {},
   "outputs": [
    {
     "name": "stdout",
     "output_type": "stream",
     "text": [
      "float64\n"
     ]
    },
    {
     "data": {
      "text/plain": [
       "array([ 0.1,  5. ,  4. , 12. ,  0.5])"
      ]
     },
     "execution_count": 16,
     "metadata": {},
     "output_type": "execute_result"
    }
   ],
   "source": [
    "arr_float = np.array([0.1, 5, 4, 12, 0.5])\n",
    "\n",
    "print(arr_float.dtype)\n",
    "arr_float # 전부 실수화 됨"
   ]
  },
  {
   "cell_type": "code",
   "execution_count": 15,
   "metadata": {},
   "outputs": [
    {
     "name": "stdout",
     "output_type": "stream",
     "text": [
      "int64\n"
     ]
    },
    {
     "data": {
      "text/plain": [
       "array([1, 2, 3, 4])"
      ]
     },
     "execution_count": 15,
     "metadata": {},
     "output_type": "execute_result"
    }
   ],
   "source": [
    "arr_int = np.array([1, 2, 3, 4])\n",
    "print(arr_int.dtype)\n",
    "arr_int"
   ]
  },
  {
   "cell_type": "markdown",
   "metadata": {},
   "source": [
    "## 2.5 무한대 표현과 정의할 수 없는 숫자 표현 \n",
    "\n",
    "- 무한대 표현: np.inf (infinity)\n",
    "- 정의할 수 없는 숫자: np.nan (not a number)\n",
    "- 1을 0으로 나누려고 하거나 0에 대한 로그 값을 계산하면 무한대인 np.inf가 나옴\n",
    "- 0을 0으로 나누려고 시도하면 np.nan이 나옴\n"
   ]
  },
  {
   "cell_type": "code",
   "execution_count": 17,
   "metadata": {},
   "outputs": [
    {
     "name": "stderr",
     "output_type": "stream",
     "text": [
      "/var/folders/np/0f8tqn_j13l5c_yx0hg3k67r0000gn/T/ipykernel_73619/877491688.py:1: RuntimeWarning: divide by zero encountered in divide\n",
      "  np.array([0, 1, -1, 0]) / np.array([1, 0, 0, 0])\n",
      "/var/folders/np/0f8tqn_j13l5c_yx0hg3k67r0000gn/T/ipykernel_73619/877491688.py:1: RuntimeWarning: invalid value encountered in divide\n",
      "  np.array([0, 1, -1, 0]) / np.array([1, 0, 0, 0])\n"
     ]
    },
    {
     "data": {
      "text/plain": [
       "array([  0.,  inf, -inf,  nan])"
      ]
     },
     "execution_count": 17,
     "metadata": {},
     "output_type": "execute_result"
    }
   ],
   "source": [
    "np.array([0, 1, -1, 0]) / np.array([1, 0, 0, 0]) "
   ]
  },
  {
   "cell_type": "markdown",
   "metadata": {},
   "source": [
    "## 2.6 2차원 배열 생성"
   ]
  },
  {
   "cell_type": "code",
   "execution_count": 19,
   "metadata": {},
   "outputs": [
    {
     "name": "stdout",
     "output_type": "stream",
     "text": [
      "2\n",
      "3\n",
      "(2, 3)\n"
     ]
    },
    {
     "data": {
      "text/plain": [
       "array([[0, 1, 2],\n",
       "       [3, 4, 5]])"
      ]
     },
     "execution_count": 19,
     "metadata": {},
     "output_type": "execute_result"
    }
   ],
   "source": [
    "arr = np.array([[0, 1, 2], [3, 4, 5]])\n",
    "\n",
    "print(len(arr)) # 행 개수 구하는 법\n",
    "print(len(arr[0])) # 열 개수 구하는 법 \n",
    "print(arr.shape)\n",
    "arr"
   ]
  },
  {
   "cell_type": "markdown",
   "metadata": {},
   "source": [
    "## 2.7 3차원 배열 생성"
   ]
  },
  {
   "cell_type": "code",
   "execution_count": 23,
   "metadata": {},
   "outputs": [],
   "source": [
    "arr = np.array([[[1, 2, 3, 4],\n",
    "\t\t[5, 6, 7, 8],\n",
    "\t\t[9, 10, 11, 12]],\n",
    "\t    [[11, 12, 13, 14],\n",
    "\t\t[15, 16, 17, 18],\n",
    "\t\t[19, 20, 21, 22]]])"
   ]
  },
  {
   "cell_type": "code",
   "execution_count": 24,
   "metadata": {},
   "outputs": [
    {
     "data": {
      "text/plain": [
       "array([[[ 1,  2,  3,  4],\n",
       "        [ 5,  6,  7,  8],\n",
       "        [ 9, 10, 11, 12]],\n",
       "\n",
       "       [[11, 12, 13, 14],\n",
       "        [15, 16, 17, 18],\n",
       "        [19, 20, 21, 22]]])"
      ]
     },
     "execution_count": 24,
     "metadata": {},
     "output_type": "execute_result"
    }
   ],
   "source": [
    "arr"
   ]
  },
  {
   "cell_type": "code",
   "execution_count": 26,
   "metadata": {},
   "outputs": [
    {
     "name": "stdout",
     "output_type": "stream",
     "text": [
      "(2, 3, 4)\n"
     ]
    },
    {
     "data": {
      "text/plain": [
       "(2, 3, 4)"
      ]
     },
     "execution_count": 26,
     "metadata": {},
     "output_type": "execute_result"
    }
   ],
   "source": [
    "# 깊이, 행, 열 개수 구하기 \n",
    "print(arr.shape)\n",
    "len(arr), len(arr[0]), len(arr[0][0])"
   ]
  },
  {
   "cell_type": "markdown",
   "metadata": {},
   "source": [
    "## 2.8 배열의 차원과 크기 알아내기 "
   ]
  },
  {
   "cell_type": "code",
   "execution_count": 27,
   "metadata": {},
   "outputs": [
    {
     "name": "stdout",
     "output_type": "stream",
     "text": [
      "1\n",
      "(3,)\n"
     ]
    }
   ],
   "source": [
    "arr_1d = np.array([1, 2, 3])\n",
    "\n",
    "print(arr_1d.ndim)\n",
    "print(arr_1d.shape)"
   ]
  },
  {
   "cell_type": "code",
   "execution_count": 28,
   "metadata": {},
   "outputs": [
    {
     "name": "stdout",
     "output_type": "stream",
     "text": [
      "2\n",
      "(2, 3)\n"
     ]
    }
   ],
   "source": [
    "arr_2d = np.array([[0, 1, 2], [3, 4, 5]])\n",
    "\n",
    "print(arr_2d.ndim)\n",
    "print(arr_2d.shape)"
   ]
  },
  {
   "cell_type": "markdown",
   "metadata": {},
   "source": [
    "## 2.9 배열생성 실습 01\n",
    "\n",
    "[문제] 넘파이를 사용하여 다음과 같은 행렬을 만들어 보세요\n",
    "\n",
    "[실행 결과] \n",
    "```\n",
    "array([[10, 20, 30, 40],\n",
    "    [50, 60, 70, 80]])\n",
    "```"
   ]
  },
  {
   "cell_type": "code",
   "execution_count": 33,
   "metadata": {},
   "outputs": [
    {
     "data": {
      "text/plain": [
       "array([[10, 20, 30, 40],\n",
       "       [50, 60, 70, 80]])"
      ]
     },
     "execution_count": 33,
     "metadata": {},
     "output_type": "execute_result"
    }
   ],
   "source": [
    "import numpy as np\n",
    "\n",
    "np.array([[_ for _ in range(10, 41, 10)],\n",
    "          [_ for _ in range(50, 81, 10)]])"
   ]
  },
  {
   "cell_type": "markdown",
   "metadata": {},
   "source": [
    "## 2.10 배열생성 실습 02\n",
    "\n",
    "[문제]\n",
    "- 1~18의 값을 가지는 shape이 (3, 2, 3) ndarray를 만들어 봅시다.\n",
    "- 단, 자료형은 실수로 합니다. \n",
    "\n",
    "[실행 결과]\n",
    "```\n",
    "array([[[1., 2., 3.],\n",
    "    [4., 5., 6.,]],\n",
    "    [[7., 8., 9.,],\n",
    "        [10., 11., 12.]],\n",
    "    [[13., 14., 15.],\n",
    "        [16., 17., 18.]]])\n",
    "```"
   ]
  },
  {
   "cell_type": "code",
   "execution_count": 34,
   "metadata": {},
   "outputs": [
    {
     "name": "stdout",
     "output_type": "stream",
     "text": [
      "[[[1.0, 2.0, 3.0], [4.0, 5.0, 6.0]], [[7.0, 8.0, 9.0], [10.0, 11.0, 12.0]], [[13.0, 14.0, 15.0], [16.0, 17.0, 18.0]]]\n",
      "[[[ 1.  2.  3.]\n",
      "  [ 4.  5.  6.]]\n",
      "\n",
      " [[ 7.  8.  9.]\n",
      "  [10. 11. 12.]]\n",
      "\n",
      " [[13. 14. 15.]\n",
      "  [16. 17. 18.]]]\n",
      "\n",
      "(3, 2, 3)\n"
     ]
    }
   ],
   "source": [
    "data = []\n",
    "\n",
    "for i in range(3):\n",
    "    group = []\n",
    "    for j in range(2):\n",
    "        row = []\n",
    "        for k in range(3):\n",
    "            value = float(k + j*3  + i*6 + 1)\n",
    "            row.append(value)\n",
    "        group.append(row)\n",
    "    data.append(group)\n",
    "print(data)\n",
    "\n",
    "result = np.array(data)\n",
    "print(result)\n",
    "print()\n",
    "print(result.shape)"
   ]
  },
  {
   "cell_type": "markdown",
   "metadata": {},
   "source": [
    "# 3. 벡터화 연산 "
   ]
  },
  {
   "cell_type": "markdown",
   "metadata": {},
   "source": [
    "## 3.1 벡터화 연산"
   ]
  },
  {
   "cell_type": "code",
   "execution_count": null,
   "metadata": {},
   "outputs": [
    {
     "name": "stdout",
     "output_type": "stream",
     "text": [
      "[0, 2, 4, 6, 8, 10, 12, 14, 16, 18]\n"
     ]
    }
   ],
   "source": [
    "# 리스트의 각 요소에 2를 곱해야 하는 경우 \n",
    "data = [0, 1, 2, 3, 4, 5, 6, 7, 8, 9]\n",
    "\n",
    "# for문을 통해서 계산 \n",
    "answer = [2*d for d in data]\n",
    "\n",
    "print(answer)"
   ]
  },
  {
   "cell_type": "code",
   "execution_count": null,
   "metadata": {},
   "outputs": [
    {
     "name": "stdout",
     "output_type": "stream",
     "text": [
      "[ 0  2  4  6  8 10 12 14 16 18]\n"
     ]
    }
   ],
   "source": [
    "# 넘파이 배열의 각 요소에 2를 곱해야하는 경우 \n",
    "data = [0, 1, 2, 3, 4, 5, 6, 7, 8, 9]\n",
    "\n",
    "x = np.array(data)\n",
    "\n",
    "print(x*2)"
   ]
  },
  {
   "cell_type": "code",
   "execution_count": null,
   "metadata": {},
   "outputs": [
    {
     "name": "stdout",
     "output_type": "stream",
     "text": [
      "[12 24 36]\n",
      "[False  True False]\n"
     ]
    }
   ],
   "source": [
    "# 벡터화 연산은 비교연산과 논리연산을 포함한 모든 종류의 수학 연산에 대해 적용됨 \n",
    "a = np.array([1, 2, 3])\n",
    "b = np.array([10, 20, 30])\n",
    "\n",
    "print(2 * a + b)\n",
    "print(a == 2)"
   ]
  },
  {
   "cell_type": "markdown",
   "metadata": {},
   "source": [
    "## 3.2 벡터화 연산 실습 01\n",
    "\n",
    "[문제] \\\n",
    "array([[1, 2, 3], [4, 5, 6]])과 array([[7, 8, 9], [10, 11, 12]])를 만들고 이 두 넘파이 배열을 활용하여\u000b아래의 계산 결과를 구해보세요.\n"
   ]
  },
  {
   "cell_type": "code",
   "execution_count": 1,
   "metadata": {},
   "outputs": [
    {
     "name": "stdout",
     "output_type": "stream",
     "text": [
      "[[ 8 10 12]\n",
      " [14 16 18]]\n"
     ]
    }
   ],
   "source": [
    "import numpy as np \n",
    "\n",
    "a = np.array([[1, 2, 3], [4, 5, 6]])\n",
    "b = np.array([[7, 8, 9], [10, 11, 12]])\n",
    "\n",
    "a + b"
   ]
  },
  {
   "cell_type": "code",
   "execution_count": 2,
   "metadata": {},
   "outputs": [
    {
     "data": {
      "text/plain": [
       "array([[ 8, 10, 12],\n",
       "       [14, 16, 18]])"
      ]
     },
     "execution_count": 2,
     "metadata": {},
     "output_type": "execute_result"
    }
   ],
   "source": [
    "a+b"
   ]
  },
  {
   "cell_type": "markdown",
   "metadata": {},
   "source": [
    "## 3.3 벡터화 연산 실습 02\n",
    "\n",
    "[문제]  \n",
    "- 1부터 9까지 정수 값을 갖는 1차원 ndarray를 생성하세요.\n",
    "- 그리고 그 ndarray를 활용항 3부터 27까지의 3배수를 갖는 ndarray를 출력해보세요.\n"
   ]
  },
  {
   "cell_type": "code",
   "execution_count": 9,
   "metadata": {},
   "outputs": [
    {
     "name": "stdout",
     "output_type": "stream",
     "text": [
      "[1 2 3 4 5 6 7 8 9]\n",
      "[1 2 3 4 5 6 7 8 9]\n"
     ]
    },
    {
     "data": {
      "text/plain": [
       "array([ 3,  6,  9, 12, 15, 18, 21, 24, 27])"
      ]
     },
     "execution_count": 9,
     "metadata": {},
     "output_type": "execute_result"
    }
   ],
   "source": [
    "import numpy as np\n",
    "\n",
    "a = np.array([1, 2, 3, 4, 5, 6, 7, 8, 9])\n",
    "a_1 = np.array([_ for _ in range(1,10)])\n",
    "\n",
    "print(a, a_1, sep='\\n')\n",
    "a * 3"
   ]
  },
  {
   "cell_type": "markdown",
   "metadata": {},
   "source": [
    "# 4. 배열의 인덱싱과 슬라이싱 "
   ]
  },
  {
   "cell_type": "code",
   "execution_count": 10,
   "metadata": {},
   "outputs": [],
   "source": [
    "import numpy as np"
   ]
  },
  {
   "cell_type": "markdown",
   "metadata": {},
   "source": [
    "## 4.1 print와 display 차이 살펴보기"
   ]
  },
  {
   "cell_type": "code",
   "execution_count": 13,
   "metadata": {},
   "outputs": [
    {
     "name": "stdout",
     "output_type": "stream",
     "text": [
      "[[[ 1  2  3]\n",
      "  [ 4  5  6]\n",
      "  [ 7  8  9]]\n",
      "\n",
      " [[10 20 30]\n",
      "  [40 50 60]\n",
      "  [70 80 90]]]\n",
      "[[[ 1  2  3]\n",
      "  [ 4  5  6]\n",
      "  [ 7  8  9]]\n",
      "\n",
      " [[10 20 30]\n",
      "  [40 50 60]\n",
      "  [70 80 90]]]\n"
     ]
    },
    {
     "data": {
      "text/plain": [
       "array([[[ 1,  2,  3],\n",
       "        [ 4,  5,  6],\n",
       "        [ 7,  8,  9]],\n",
       "\n",
       "       [[10, 20, 30],\n",
       "        [40, 50, 60],\n",
       "        [70, 80, 90]]])"
      ]
     },
     "metadata": {},
     "output_type": "display_data"
    },
    {
     "data": {
      "text/plain": [
       "array([[[ 1,  2,  3],\n",
       "        [ 4,  5,  6],\n",
       "        [ 7,  8,  9]],\n",
       "\n",
       "       [[10, 20, 30],\n",
       "        [40, 50, 60],\n",
       "        [70, 80, 90]]])"
      ]
     },
     "metadata": {},
     "output_type": "display_data"
    }
   ],
   "source": [
    "a = np.array([[[1, 2, 3], [4, 5, 6], [7, 8, 9]],\n",
    "              [[10, 20, 30], [40, 50, 60], [70, 80, 90]]])\n",
    "\n",
    "b = np.array([[[1, 2, 3], [4, 5, 6], [7, 8, 9]],\n",
    "              [[10, 20, 30], [40, 50, 60], [70, 80, 90]]])\n",
    "\n",
    "print(a, b, sep='\\n')\n",
    "display(a, b)"
   ]
  },
  {
   "cell_type": "code",
   "execution_count": 15,
   "metadata": {},
   "outputs": [
    {
     "data": {
      "text/plain": [
       "'안녕\\n하세요'"
      ]
     },
     "metadata": {},
     "output_type": "display_data"
    },
    {
     "name": "stdout",
     "output_type": "stream",
     "text": [
      "안녕\n",
      "하세요\n"
     ]
    }
   ],
   "source": [
    "display('안녕\\n하세요')\n",
    "print('안녕\\n하세요')"
   ]
  },
  {
   "cell_type": "code",
   "execution_count": 19,
   "metadata": {},
   "outputs": [
    {
     "name": "stdout",
     "output_type": "stream",
     "text": [
      "      Name  Age         City\n",
      "0    Alice   25     New York\n",
      "1      Bob   30  Los Angeles\n",
      "2  Charlie   35      Chicago\n",
      "3    Diana   28      Houston\n"
     ]
    },
    {
     "data": {
      "text/html": [
       "<div>\n",
       "<style scoped>\n",
       "    .dataframe tbody tr th:only-of-type {\n",
       "        vertical-align: middle;\n",
       "    }\n",
       "\n",
       "    .dataframe tbody tr th {\n",
       "        vertical-align: top;\n",
       "    }\n",
       "\n",
       "    .dataframe thead th {\n",
       "        text-align: right;\n",
       "    }\n",
       "</style>\n",
       "<table border=\"1\" class=\"dataframe\">\n",
       "  <thead>\n",
       "    <tr style=\"text-align: right;\">\n",
       "      <th></th>\n",
       "      <th>Name</th>\n",
       "      <th>Age</th>\n",
       "      <th>City</th>\n",
       "    </tr>\n",
       "  </thead>\n",
       "  <tbody>\n",
       "    <tr>\n",
       "      <th>0</th>\n",
       "      <td>Alice</td>\n",
       "      <td>25</td>\n",
       "      <td>New York</td>\n",
       "    </tr>\n",
       "    <tr>\n",
       "      <th>1</th>\n",
       "      <td>Bob</td>\n",
       "      <td>30</td>\n",
       "      <td>Los Angeles</td>\n",
       "    </tr>\n",
       "    <tr>\n",
       "      <th>2</th>\n",
       "      <td>Charlie</td>\n",
       "      <td>35</td>\n",
       "      <td>Chicago</td>\n",
       "    </tr>\n",
       "    <tr>\n",
       "      <th>3</th>\n",
       "      <td>Diana</td>\n",
       "      <td>28</td>\n",
       "      <td>Houston</td>\n",
       "    </tr>\n",
       "  </tbody>\n",
       "</table>\n",
       "</div>"
      ],
      "text/plain": [
       "      Name  Age         City\n",
       "0    Alice   25     New York\n",
       "1      Bob   30  Los Angeles\n",
       "2  Charlie   35      Chicago\n",
       "3    Diana   28      Houston"
      ]
     },
     "metadata": {},
     "output_type": "display_data"
    },
    {
     "name": "stdout",
     "output_type": "stream",
     "text": [
      "      Name  Age         City\n",
      "0    Alice   25     New York\n",
      "1      Bob   30  Los Angeles\n",
      "2  Charlie   35      Chicago\n",
      "3    Diana   28      Houston\n"
     ]
    }
   ],
   "source": [
    "import pandas as pd\n",
    "\n",
    "# 간단한 DataFrame 생성\n",
    "data = {\n",
    "    'Name': ['Alice', 'Bob', 'Charlie', 'Diana'],\n",
    "    'Age': [25, 30, 35, 28],\n",
    "    'City': ['New York', 'Los Angeles', 'Chicago', 'Houston']\n",
    "}\n",
    "\n",
    "df = pd.DataFrame(data)\n",
    "\n",
    "# DataFrame 출력\n",
    "print(df)\n",
    "df\n",
    "display(df)\n",
    "# df"
   ]
  },
  {
   "cell_type": "markdown",
   "metadata": {},
   "source": [
    "## 4.2 배열의 인덱싱"
   ]
  },
  {
   "cell_type": "markdown",
   "metadata": {},
   "source": [
    "### 4.2.1 1차원 배열 인덱싱"
   ]
  },
  {
   "cell_type": "code",
   "execution_count": 30,
   "metadata": {},
   "outputs": [
    {
     "name": "stdout",
     "output_type": "stream",
     "text": [
      "2\n",
      "<class 'numpy.int64'>\n"
     ]
    },
    {
     "data": {
      "text/plain": [
       "np.int64(2)"
      ]
     },
     "execution_count": 30,
     "metadata": {},
     "output_type": "execute_result"
    }
   ],
   "source": [
    "# 1차원 배열 인덱싱 \n",
    "\n",
    "a = np.array([0, 1, 2, 3, 4])\n",
    "\n",
    "print(a[2])\n",
    "print(type(a[2])) # 고속 연산을 위해 넘파이만의 고유 자료형을 가짐 \n",
    "a[2]"
   ]
  },
  {
   "cell_type": "code",
   "execution_count": 31,
   "metadata": {},
   "outputs": [
    {
     "name": "stdout",
     "output_type": "stream",
     "text": [
      "4\n"
     ]
    },
    {
     "data": {
      "text/plain": [
       "np.int64(4)"
      ]
     },
     "execution_count": 31,
     "metadata": {},
     "output_type": "execute_result"
    }
   ],
   "source": [
    "print(a[-1])\n",
    "a[-1]"
   ]
  },
  {
   "cell_type": "markdown",
   "metadata": {},
   "source": [
    "### 4.2.2 다차원 배열 인덱싱"
   ]
  },
  {
   "cell_type": "markdown",
   "metadata": {},
   "source": [
    "1. 2차원 배열"
   ]
  },
  {
   "cell_type": "code",
   "execution_count": 32,
   "metadata": {},
   "outputs": [
    {
     "name": "stdout",
     "output_type": "stream",
     "text": [
      "6\n",
      "6\n"
     ]
    },
    {
     "data": {
      "text/plain": [
       "np.int64(6)"
      ]
     },
     "execution_count": 32,
     "metadata": {},
     "output_type": "execute_result"
    }
   ],
   "source": [
    "a = np.array([[1, 2, 3], [4, 5, 6]])\n",
    "\n",
    "print(a[1, 2]) # 두 번째 행, 세 번째 열 (넘파이 인덱싱 방식)\n",
    "print(a[1][2]) # 파이썬 인덱싱 방식 (직관적이지만, 대규모 배열에서는 성능이 다소 느릴 수도 있음)\n",
    "a[1, 2]"
   ]
  },
  {
   "cell_type": "code",
   "execution_count": 33,
   "metadata": {},
   "outputs": [
    {
     "name": "stdout",
     "output_type": "stream",
     "text": [
      "2\n",
      "2\n"
     ]
    },
    {
     "data": {
      "text/plain": [
       "np.int64(2)"
      ]
     },
     "execution_count": 33,
     "metadata": {},
     "output_type": "execute_result"
    }
   ],
   "source": [
    "print(a[0, 1]) # 첫 번째 행, 두 번째 열\n",
    "print(a[0][1])\n",
    "a[0, 1]"
   ]
  },
  {
   "cell_type": "code",
   "execution_count": 34,
   "metadata": {},
   "outputs": [
    {
     "name": "stdout",
     "output_type": "stream",
     "text": [
      "6\n",
      "6\n"
     ]
    },
    {
     "data": {
      "text/plain": [
       "np.int64(6)"
      ]
     },
     "execution_count": 34,
     "metadata": {},
     "output_type": "execute_result"
    }
   ],
   "source": [
    "print(a[-1, -1]) # 마지막 행, 마지막 열\n",
    "print(a[-1][-1])\n",
    "a[-1, -1]"
   ]
  },
  {
   "cell_type": "markdown",
   "metadata": {},
   "source": [
    "2. 3차원 배열"
   ]
  },
  {
   "cell_type": "code",
   "execution_count": 40,
   "metadata": {},
   "outputs": [],
   "source": [
    "a = np.array([[[1, 2, 3], [4, 5, 6], [7, 8, 9]], \n",
    "\t[[10, 20, 30], [40, 50, 60], [70, 80, 90]]])"
   ]
  },
  {
   "cell_type": "code",
   "execution_count": 41,
   "metadata": {},
   "outputs": [
    {
     "name": "stdout",
     "output_type": "stream",
     "text": [
      "[7 8 9]\n",
      "[7 8 9]\n",
      "<class 'numpy.ndarray'>\n"
     ]
    },
    {
     "data": {
      "text/plain": [
       "array([7, 8, 9])"
      ]
     },
     "execution_count": 41,
     "metadata": {},
     "output_type": "execute_result"
    }
   ],
   "source": [
    "print(a[0, 2]) # 첫 번째 행의 마지막 열\n",
    "print(a[0][2])\n",
    "print(type(a[0, 2])) # 객체 타입: numpy.ndarray\n",
    "a[0, 2]"
   ]
  },
  {
   "cell_type": "code",
   "execution_count": 42,
   "metadata": {},
   "outputs": [
    {
     "name": "stdout",
     "output_type": "stream",
     "text": [
      "7\n",
      "7\n"
     ]
    },
    {
     "data": {
      "text/plain": [
       "np.int64(7)"
      ]
     },
     "execution_count": 42,
     "metadata": {},
     "output_type": "execute_result"
    }
   ],
   "source": [
    "print(a[0, 2, 0]) # 첫 번재 행의 마지막열의 첫 번째 열\n",
    "print(a[0][2][0])\n",
    "a[0, 2, 0]"
   ]
  },
  {
   "cell_type": "code",
   "execution_count": 43,
   "metadata": {},
   "outputs": [
    {
     "name": "stdout",
     "output_type": "stream",
     "text": [
      "[70 80 90]\n",
      "[70 80 90]\n"
     ]
    },
    {
     "data": {
      "text/plain": [
       "array([70, 80, 90])"
      ]
     },
     "execution_count": 43,
     "metadata": {},
     "output_type": "execute_result"
    }
   ],
   "source": [
    "print(a[1, 2]) # 두 번째 행의 세 번째 열 \n",
    "print(a[1][2])\n",
    "a[1, 2]"
   ]
  },
  {
   "cell_type": "code",
   "execution_count": 45,
   "metadata": {},
   "outputs": [
    {
     "name": "stdout",
     "output_type": "stream",
     "text": [
      "90\n",
      "90\n"
     ]
    },
    {
     "data": {
      "text/plain": [
       "np.int64(90)"
      ]
     },
     "execution_count": 45,
     "metadata": {},
     "output_type": "execute_result"
    }
   ],
   "source": [
    "print(a[1, 2, 2]) # 두 번째 행의 세 번째 열의 세 번째 열\n",
    "print(a[1][2][2])\n",
    "a[1][2][2]"
   ]
  },
  {
   "cell_type": "markdown",
   "metadata": {},
   "source": [
    "## 4.3 배열 슬라이싱"
   ]
  },
  {
   "cell_type": "markdown",
   "metadata": {},
   "source": [
    "1. 2차원 배열 슬라이싱"
   ]
  },
  {
   "cell_type": "code",
   "execution_count": 57,
   "metadata": {},
   "outputs": [
    {
     "data": {
      "text/plain": [
       "array([[0, 1, 2],\n",
       "       [3, 4, 5]])"
      ]
     },
     "metadata": {},
     "output_type": "display_data"
    }
   ],
   "source": [
    "# 2차원 배열 생성\n",
    "\n",
    "a = np.array([[0, 1, 2], [3, 4, 5]])\n",
    "display(a)"
   ]
  },
  {
   "cell_type": "code",
   "execution_count": 58,
   "metadata": {},
   "outputs": [
    {
     "name": "stdout",
     "output_type": "stream",
     "text": [
      "[0 1 2]\n",
      "<class 'numpy.ndarray'>\n"
     ]
    },
    {
     "data": {
      "text/plain": [
       "array([0, 1, 2])"
      ]
     },
     "execution_count": 58,
     "metadata": {},
     "output_type": "execute_result"
    }
   ],
   "source": [
    "print(a[0, :]) # 첫 번째 행, 전체 열 \n",
    "print(type(a[0, :])) # 슬라이싱 결과도 ndarray\n",
    "a[0, :] "
   ]
  },
  {
   "cell_type": "code",
   "execution_count": 60,
   "metadata": {},
   "outputs": [
    {
     "name": "stdout",
     "output_type": "stream",
     "text": [
      "[2 5]\n"
     ]
    },
    {
     "data": {
      "text/plain": [
       "array([2, 5])"
      ]
     },
     "execution_count": 60,
     "metadata": {},
     "output_type": "execute_result"
    }
   ],
   "source": [
    "print(a[:, -1]) # a[0][1], a[1]a[1] ->  두 번째 열 전체\n",
    "a[:, -1] "
   ]
  },
  {
   "cell_type": "code",
   "execution_count": 61,
   "metadata": {},
   "outputs": [
    {
     "name": "stdout",
     "output_type": "stream",
     "text": [
      "[4 5]\n"
     ]
    },
    {
     "data": {
      "text/plain": [
       "array([4, 5])"
      ]
     },
     "execution_count": 61,
     "metadata": {},
     "output_type": "execute_result"
    }
   ],
   "source": [
    "print(a[1, 1:]) # a[1][1], a[1][2]\n",
    "a[1, 1:] # 두 번째 행의 두 번째 열 부터 끝 열까지"
   ]
  },
  {
   "cell_type": "markdown",
   "metadata": {},
   "source": [
    "2. 3차원 배열 슬라이싱"
   ]
  },
  {
   "cell_type": "code",
   "execution_count": 62,
   "metadata": {},
   "outputs": [
    {
     "name": "stdout",
     "output_type": "stream",
     "text": [
      "(2, 3, 3)\n"
     ]
    }
   ],
   "source": [
    "a = np.array([[[1, 2, 3], [4, 5, 6], [7, 8, 9]], \n",
    "\t[[10, 20, 30], [40, 50, 60], [70, 80, 90]]])\n",
    "\n",
    "print(a.shape)"
   ]
  },
  {
   "cell_type": "code",
   "execution_count": 63,
   "metadata": {},
   "outputs": [
    {
     "data": {
      "text/plain": [
       "array([[ 7,  8,  9],\n",
       "       [70, 80, 90]])"
      ]
     },
     "execution_count": 63,
     "metadata": {},
     "output_type": "execute_result"
    }
   ],
   "source": [
    "a[0:, 2]\n",
    "\n",
    "# a[0][2]\n",
    "# a[1][2]"
   ]
  },
  {
   "cell_type": "code",
   "execution_count": 55,
   "metadata": {},
   "outputs": [
    {
     "data": {
      "text/plain": [
       "array([[[ 4,  5,  6],\n",
       "        [ 7,  8,  9]],\n",
       "\n",
       "       [[40, 50, 60],\n",
       "        [70, 80, 90]]])"
      ]
     },
     "execution_count": 55,
     "metadata": {},
     "output_type": "execute_result"
    }
   ],
   "source": [
    "a[0:, 1:]\n",
    "\n",
    "# a[0][1]\n",
    "# a[0][2]\n",
    "# a[1][1]\n",
    "# a[1][2]"
   ]
  },
  {
   "cell_type": "markdown",
   "metadata": {},
   "source": [
    "3. 증감을 표현하는 슬라이싱"
   ]
  },
  {
   "cell_type": "code",
   "execution_count": 65,
   "metadata": {},
   "outputs": [],
   "source": [
    "a = np.array([[[1, 2, 3], [4, 5, 6], [7, 8, 9]], \n",
    "\t[[10, 20, 30], [40, 50, 60], [70, 80, 90]]])"
   ]
  },
  {
   "cell_type": "code",
   "execution_count": 66,
   "metadata": {},
   "outputs": [
    {
     "data": {
      "text/plain": [
       "array([[[ 1,  2,  3],\n",
       "        [ 7,  8,  9]],\n",
       "\n",
       "       [[10, 20, 30],\n",
       "        [70, 80, 90]]])"
      ]
     },
     "execution_count": 66,
     "metadata": {},
     "output_type": "execute_result"
    }
   ],
   "source": [
    "a[0:, ::2] "
   ]
  },
  {
   "cell_type": "markdown",
   "metadata": {},
   "source": [
    "## 4.4 슬라이싱 실습 01\n",
    "\n",
    "[문제] 주어진 행렬에 대하여 각 문제를 해결해보세요.\n",
    "- 값 7 인덱싱\n",
    "- 값 14 인덱싱\n",
    "- 배열 [6, 7] 슬라이싱\n",
    "- 배열 [7, 12] 슬라이싱\n",
    "- 배열 [[3, 4], [8, 9]]\n"
   ]
  },
  {
   "cell_type": "code",
   "execution_count": 69,
   "metadata": {},
   "outputs": [],
   "source": [
    "m = np.array([[0, 1, 2, 3, 4],\n",
    "              [5, 6, 7, 8, 9],\n",
    "              [10, 11, 12, 13, 14]])"
   ]
  },
  {
   "cell_type": "code",
   "execution_count": 77,
   "metadata": {},
   "outputs": [
    {
     "name": "stdout",
     "output_type": "stream",
     "text": [
      "7\n",
      "14\n",
      "[6 7]\n",
      "[ 7 12]\n",
      "[[3 4]\n",
      " [8 9]]\n"
     ]
    }
   ],
   "source": [
    "# 1. 7 인덱싱 \n",
    "print(m[1, 2])\n",
    "\n",
    "# 2. 14 인덱싱\n",
    "print(m[2, -1])\n",
    "\n",
    "# 3. [6, 7] 슬라이싱\n",
    "print(m[1, 1:3])\n",
    "\n",
    "# 4. [7, 12] 슬라이싱\n",
    "print(m[1:, 2])\n",
    "\n",
    "# 5. [[3, 4], [8, 9]] 슬라이싱 \n",
    "print(m[:2, -2:])"
   ]
  },
  {
   "cell_type": "markdown",
   "metadata": {},
   "source": [
    "## 4.5 슬라이싱 실습 02\n",
    "\n",
    "[문제] 주어진 행렬에 대하여 각 문제를 해결해보세요.\n",
    "\\\n",
    "\\\n",
    "array([[[  1,   2,   3], \\\n",
    "        [  4,   5,   6], \\\n",
    "        [  7,   8,   9]], \\\n",
    " \\\n",
    "       [[ 10,  20,  30], \\\n",
    "        [ 40,  50,  60], \\\n",
    "        [ 70,  80,  90]], \\\n",
    "\\\n",
    "       [[100, 200, 300], \\\n",
    "        [400, 500, 600], \\\n",
    "        [700, 800, 900]]])\n",
    "        "
   ]
  },
  {
   "cell_type": "markdown",
   "metadata": {},
   "source": [
    "## 실습 02 배열 생성"
   ]
  },
  {
   "cell_type": "code",
   "execution_count": 7,
   "metadata": {},
   "outputs": [
    {
     "data": {
      "text/plain": [
       "array([[[  1,   2,   3],\n",
       "        [  4,   5,   6],\n",
       "        [  7,   8,   9]],\n",
       "\n",
       "       [[ 10,  20,  30],\n",
       "        [ 40,  50,  60],\n",
       "        [ 70,  80,  90]],\n",
       "\n",
       "       [[100, 200, 300],\n",
       "        [400, 500, 600],\n",
       "        [700, 800, 900]]])"
      ]
     },
     "execution_count": 7,
     "metadata": {},
     "output_type": "execute_result"
    }
   ],
   "source": [
    "# 방법 1\n",
    "import numpy as np\n",
    "\n",
    "# 배열 생성\n",
    "a = np.array([\n",
    "    [[1, 2, 3], [4, 5, 6], [7, 8, 9]],\n",
    "    [[10, 20, 30], [40, 50, 60], [70, 80, 90]],\n",
    "    [[100, 200, 300], [400, 500, 600], [700, 800, 900]]\n",
    "])\n",
    "\n",
    "a"
   ]
  },
  {
   "cell_type": "code",
   "execution_count": 8,
   "metadata": {},
   "outputs": [
    {
     "name": "stdout",
     "output_type": "stream",
     "text": [
      "[[1 2 3]\n",
      " [2 3 4]\n",
      " [3 4 5]]\n",
      "\n",
      "[[10 20 30]\n",
      " [20 30 40]\n",
      " [30 40 50]]\n",
      "\n",
      "[[100 200 300]\n",
      " [200 300 400]\n",
      " [300 400 500]]\n",
      "\n"
     ]
    },
    {
     "data": {
      "text/plain": [
       "array([[[  1,   2,   3],\n",
       "        [  2,   3,   4],\n",
       "        [  3,   4,   5]],\n",
       "\n",
       "       [[ 10,  20,  30],\n",
       "        [ 20,  30,  40],\n",
       "        [ 30,  40,  50]],\n",
       "\n",
       "       [[100, 200, 300],\n",
       "        [200, 300, 400],\n",
       "        [300, 400, 500]]])"
      ]
     },
     "execution_count": 8,
     "metadata": {},
     "output_type": "execute_result"
    }
   ],
   "source": [
    "# 방법 2\n",
    "test = np.array([[i + j for i in range(1,4)] for j in range(3)])\n",
    "print(test)\n",
    "print()\n",
    "test2 = test*10\n",
    "print(test2)\n",
    "print()\n",
    "test3 = test*100\n",
    "print(test3)\n",
    "print()\n",
    "a = np.array([test, test2, test3])\n",
    "a"
   ]
  },
  {
   "cell_type": "code",
   "execution_count": 9,
   "metadata": {},
   "outputs": [
    {
     "name": "stdout",
     "output_type": "stream",
     "text": [
      "(3, 3, 3)\n",
      "int64\n"
     ]
    }
   ],
   "source": [
    "print(a.shape)\n",
    "print(a.dtype)"
   ]
  },
  {
   "cell_type": "code",
   "execution_count": 100,
   "metadata": {},
   "outputs": [
    {
     "name": "stdout",
     "output_type": "stream",
     "text": [
      "[[[  1   2   3]\n",
      "  [  4   5   6]\n",
      "  [  7   8   9]]\n",
      "\n",
      " [[ 10  20  30]\n",
      "  [ 40  50  60]\n",
      "  [ 70  80  90]]\n",
      "\n",
      " [[100 200 300]\n",
      "  [400 500 600]\n",
      "  [700 800 900]]]\n"
     ]
    }
   ],
   "source": [
    "# 방법 3\n",
    "import numpy as np\n",
    "\n",
    "# arange로 배열 생성\n",
    "a = np.arange(1, 10).reshape(3,3) * np.array([1, 10, 100]).reshape(3, 1, 1)\n",
    "\n",
    "print(a)"
   ]
  },
  {
   "cell_type": "markdown",
   "metadata": {},
   "source": [
    "## 02-1\n",
    "\n",
    "[문제 1] 아래와 같은 배열을 출력하세요\n",
    "\\\n",
    "\\\n",
    "array([[2, 5, 8], \\\n",
    "    [20, 50, 80], \\\n",
    "    [200, 500, 800]])\n"
   ]
  },
  {
   "cell_type": "code",
   "execution_count": 114,
   "metadata": {},
   "outputs": [
    {
     "name": "stdout",
     "output_type": "stream",
     "text": [
      "[[  2   5   8]\n",
      " [ 20  50  80]\n",
      " [200 500 800]]\n"
     ]
    }
   ],
   "source": [
    "result = a[:, :, 1]\n",
    "print(result)"
   ]
  },
  {
   "cell_type": "markdown",
   "metadata": {},
   "source": [
    "## 02-2\n",
    "\n",
    "[문제 2] 아래와 같은 배열을 출력하세요\n",
    "\\\n",
    "\\\n",
    "array([[1, 3], \\\n",
    "    [100, 300]])\n"
   ]
  },
  {
   "cell_type": "code",
   "execution_count": 115,
   "metadata": {},
   "outputs": [
    {
     "data": {
      "text/plain": [
       "array([[  1,   3],\n",
       "       [100, 300]])"
      ]
     },
     "execution_count": 115,
     "metadata": {},
     "output_type": "execute_result"
    }
   ],
   "source": [
    "result = a[::2, 0, ::2]\n",
    "result"
   ]
  },
  {
   "cell_type": "markdown",
   "metadata": {},
   "source": [
    "## 02-3\n",
    "\n",
    "[문제 2] 아래와 같은 배열을 출력하세요\n",
    "\\\n",
    "\\\n",
    "array([[[3, 2, 1], \\\n",
    "    [9, 8, 7]], \\\n",
    "\\\n",
    "    [[30, 20, 10], \\\n",
    "    [90, 80, 70]]])\n"
   ]
  },
  {
   "cell_type": "code",
   "execution_count": 122,
   "metadata": {},
   "outputs": [
    {
     "data": {
      "text/plain": [
       "array([[[ 3,  2,  1],\n",
       "        [ 9,  8,  7]],\n",
       "\n",
       "       [[30, 20, 10],\n",
       "        [90, 80, 70]]])"
      ]
     },
     "execution_count": 122,
     "metadata": {},
     "output_type": "execute_result"
    }
   ],
   "source": [
    "result = a[:2:, ::2, ::-1]\n",
    "result"
   ]
  },
  {
   "cell_type": "markdown",
   "metadata": {},
   "source": [
    "# 5. 배열생성 2"
   ]
  },
  {
   "cell_type": "markdown",
   "metadata": {},
   "source": [
    "## 5.1 zeros"
   ]
  },
  {
   "cell_type": "code",
   "execution_count": 2,
   "metadata": {},
   "outputs": [
    {
     "data": {
      "text/plain": [
       "array([[0., 0.],\n",
       "       [0., 0.],\n",
       "       [0., 0.],\n",
       "       [0., 0.],\n",
       "       [0., 0.]])"
      ]
     },
     "execution_count": 2,
     "metadata": {},
     "output_type": "execute_result"
    }
   ],
   "source": [
    "# dtype 지정 안 한 경우\n",
    "import numpy as np\n",
    "\n",
    "c = np.zeros((5, 2))\n",
    "c"
   ]
  },
  {
   "cell_type": "code",
   "execution_count": 3,
   "metadata": {},
   "outputs": [
    {
     "name": "stdout",
     "output_type": "stream",
     "text": [
      "(5, 2)\n",
      "float64\n"
     ]
    }
   ],
   "source": [
    "print(c.shape)\n",
    "print(c.dtype)"
   ]
  },
  {
   "cell_type": "code",
   "execution_count": 4,
   "metadata": {},
   "outputs": [
    {
     "data": {
      "text/plain": [
       "array([[0, 0],\n",
       "       [0, 0],\n",
       "       [0, 0],\n",
       "       [0, 0],\n",
       "       [0, 0]], dtype=int32)"
      ]
     },
     "execution_count": 4,
     "metadata": {},
     "output_type": "execute_result"
    }
   ],
   "source": [
    "# dtype 지정한 경우\n",
    "\n",
    "c_ = np.zeros((5, 2), dtype='i')\n",
    "c_"
   ]
  },
  {
   "cell_type": "code",
   "execution_count": 5,
   "metadata": {},
   "outputs": [
    {
     "name": "stdout",
     "output_type": "stream",
     "text": [
      "(5, 2)\n",
      "int32\n"
     ]
    }
   ],
   "source": [
    "print(c_.shape)\n",
    "print(c_.dtype)"
   ]
  },
  {
   "cell_type": "markdown",
   "metadata": {},
   "source": [
    "## 5.2 ones"
   ]
  },
  {
   "cell_type": "code",
   "execution_count": 6,
   "metadata": {},
   "outputs": [
    {
     "data": {
      "text/plain": [
       "array([[[1., 1., 1., 1.],\n",
       "        [1., 1., 1., 1.],\n",
       "        [1., 1., 1., 1.]],\n",
       "\n",
       "       [[1., 1., 1., 1.],\n",
       "        [1., 1., 1., 1.],\n",
       "        [1., 1., 1., 1.]]])"
      ]
     },
     "execution_count": 6,
     "metadata": {},
     "output_type": "execute_result"
    }
   ],
   "source": [
    "e = np.ones((2, 3, 4))\n",
    "e"
   ]
  },
  {
   "cell_type": "code",
   "execution_count": 7,
   "metadata": {},
   "outputs": [
    {
     "name": "stdout",
     "output_type": "stream",
     "text": [
      "(2, 3, 4)\n",
      "float64\n"
     ]
    }
   ],
   "source": [
    "print(e.shape)\n",
    "print(e.dtype)"
   ]
  },
  {
   "cell_type": "code",
   "execution_count": 1,
   "metadata": {},
   "outputs": [
    {
     "data": {
      "text/plain": [
       "array([[[1, 1, 1, 1],\n",
       "        [1, 1, 1, 1],\n",
       "        [1, 1, 1, 1]],\n",
       "\n",
       "       [[1, 1, 1, 1],\n",
       "        [1, 1, 1, 1],\n",
       "        [1, 1, 1, 1]]])"
      ]
     },
     "execution_count": 8,
     "metadata": {},
     "output_type": "execute_result"
    }
   ],
   "source": [
    "e_ = np.ones((2, 3, 4), dtype='i8')\n",
    "e_"
   ]
  },
  {
   "cell_type": "code",
   "execution_count": 23,
   "metadata": {},
   "outputs": [
    {
     "name": "stdout",
     "output_type": "stream",
     "text": [
      "(2, 3, 4)\n",
      "int64\n"
     ]
    }
   ],
   "source": [
    "print(e_.shape)\n",
    "print(e_.dtype)"
   ]
  },
  {
   "cell_type": "markdown",
   "metadata": {},
   "source": [
    "## 5.3 zeros_like, ones_like"
   ]
  },
  {
   "cell_type": "code",
   "execution_count": 24,
   "metadata": {},
   "outputs": [
    {
     "data": {
      "text/plain": [
       "array([[0, 0],\n",
       "       [0, 0],\n",
       "       [0, 0],\n",
       "       [0, 0],\n",
       "       [0, 0]], dtype=int32)"
      ]
     },
     "execution_count": 24,
     "metadata": {},
     "output_type": "execute_result"
    }
   ],
   "source": [
    "# zeros_like\n",
    "\n",
    "f = np.zeros_like(c_)\n",
    "f"
   ]
  },
  {
   "cell_type": "code",
   "execution_count": 26,
   "metadata": {},
   "outputs": [
    {
     "name": "stdout",
     "output_type": "stream",
     "text": [
      "(5, 2)\n",
      "int32\n",
      "\n",
      "(5, 2)\n",
      "int32\n"
     ]
    }
   ],
   "source": [
    "print(c_.shape)\n",
    "print(c_.dtype)\n",
    "print()\n",
    "print(f.shape)\n",
    "print(f.dtype)"
   ]
  },
  {
   "cell_type": "code",
   "execution_count": 27,
   "metadata": {},
   "outputs": [
    {
     "data": {
      "text/plain": [
       "array([[[1, 1, 1, 1],\n",
       "        [1, 1, 1, 1],\n",
       "        [1, 1, 1, 1]],\n",
       "\n",
       "       [[1, 1, 1, 1],\n",
       "        [1, 1, 1, 1],\n",
       "        [1, 1, 1, 1]]])"
      ]
     },
     "execution_count": 27,
     "metadata": {},
     "output_type": "execute_result"
    }
   ],
   "source": [
    "# ones_like\n",
    "\n",
    "g = np.ones_like(e_)\n",
    "g"
   ]
  },
  {
   "cell_type": "code",
   "execution_count": 28,
   "metadata": {},
   "outputs": [
    {
     "name": "stdout",
     "output_type": "stream",
     "text": [
      "(2, 3, 4)\n",
      "int64\n",
      "\n",
      "(2, 3, 4)\n",
      "int64\n"
     ]
    }
   ],
   "source": [
    "print(e_.shape)\n",
    "print(e_.dtype)\n",
    "print()\n",
    "print(g.shape)\n",
    "print(g.dtype)"
   ]
  },
  {
   "cell_type": "markdown",
   "metadata": {},
   "source": [
    "## 배열생성2 실습 01\n",
    "\n",
    "[문제] 빈 문자열을 갖는 shape이 (3, 3, 3) ndarray를 만들어 봅시다.\n",
    "- 단, dtype은 ‘U10’으로 합니다.\n"
   ]
  },
  {
   "cell_type": "code",
   "execution_count": 31,
   "metadata": {},
   "outputs": [
    {
     "data": {
      "text/plain": [
       "array([[['', '', ''],\n",
       "        ['', '', ''],\n",
       "        ['', '', '']],\n",
       "\n",
       "       [['', '', ''],\n",
       "        ['', '', ''],\n",
       "        ['', '', '']],\n",
       "\n",
       "       [['', '', ''],\n",
       "        ['', '', ''],\n",
       "        ['', '', '']]], dtype='<U10')"
      ]
     },
     "execution_count": 31,
     "metadata": {},
     "output_type": "execute_result"
    }
   ],
   "source": [
    "reuslt = np.zeros((3, 3, 3), dtype='<U10')\n",
    "reuslt"
   ]
  },
  {
   "cell_type": "markdown",
   "metadata": {},
   "source": [
    "## 배열생성2 실습 02\n",
    "[문제] zeros/ones 함수를 사용해서 배열을 만들고 아래와 같은 배열을 만들어 보세요\n",
    "\\\n",
    "\\\n",
    "array([[1., 1., 1., 1., 1., 1., 1., 1., 1., 1.], \\\n",
    "       [1., 0., 0., 0., 0., 0., 0., 0., 0., 1.], \\\n",
    "       [1., 0., 0., 0., 0., 0., 0., 0., 0., 1.], \\\n",
    "       [1., 0., 0., 0., 0., 0., 0., 0., 0., 1.], \\\n",
    "       [1., 0., 0., 0., 0., 0., 0., 0., 0., 1.], \\\n",
    "       [1., 0., 0., 0., 0., 0., 0., 0., 0., 1.], \\\n",
    "       [1., 0., 0., 0., 0., 0., 0., 0., 0., 1.], \\\n",
    "       [1., 0., 0., 0., 0., 0., 0., 0., 0., 1.], \\\n",
    "       [1., 0., 0., 0., 0., 0., 0., 0., 0., 1.], \\\n",
    "       [1., 1., 1., 1., 1., 1., 1., 1., 1., 1.]])"
   ]
  },
  {
   "cell_type": "code",
   "execution_count": null,
   "metadata": {},
   "outputs": [
    {
     "data": {
      "text/plain": [
       "array([[1., 1., 1., 1., 1., 1., 1., 1., 1., 1.],\n",
       "       [1., 0., 0., 0., 0., 0., 0., 0., 0., 1.],\n",
       "       [1., 0., 0., 0., 0., 0., 0., 0., 0., 1.],\n",
       "       [1., 0., 0., 0., 0., 0., 0., 0., 0., 1.],\n",
       "       [1., 0., 0., 0., 0., 0., 0., 0., 0., 1.],\n",
       "       [1., 0., 0., 0., 0., 0., 0., 0., 0., 1.],\n",
       "       [1., 0., 0., 0., 0., 0., 0., 0., 0., 1.],\n",
       "       [1., 0., 0., 0., 0., 0., 0., 0., 0., 1.],\n",
       "       [1., 0., 0., 0., 0., 0., 0., 0., 0., 1.],\n",
       "       [1., 1., 1., 1., 1., 1., 1., 1., 1., 1.]])"
      ]
     },
     "execution_count": 39,
     "metadata": {},
     "output_type": "execute_result"
    }
   ],
   "source": [
    "my_ones = np.ones((10, 10))\n",
    "my_ones[1:9, 1:9] = my_ones[1:9, 1:9] * 0 # 10번째 인덱스가 9니깐 8번인덱스까지 0.이 나오게 해야함\n",
    "my_ones"
   ]
  },
  {
   "cell_type": "code",
   "execution_count": 40,
   "metadata": {},
   "outputs": [
    {
     "data": {
      "text/plain": [
       "(10, 10)"
      ]
     },
     "execution_count": 40,
     "metadata": {},
     "output_type": "execute_result"
    }
   ],
   "source": [
    "my_ones.shape"
   ]
  },
  {
   "cell_type": "markdown",
   "metadata": {},
   "source": [
    "## 배열생성2 실습 03\n",
    "[문제] zeros/ones 함수를 사용해서 배열을 만들고 아래와 같은 배열을 만들어 보세요\n"
   ]
  },
  {
   "cell_type": "code",
   "execution_count": 47,
   "metadata": {},
   "outputs": [
    {
     "data": {
      "text/plain": [
       "array([[1., 0., 1., 0., 1., 0., 1., 0., 1., 0.],\n",
       "       [0., 1., 0., 1., 0., 1., 0., 1., 0., 1.],\n",
       "       [1., 0., 1., 0., 1., 0., 1., 0., 1., 0.],\n",
       "       [0., 1., 0., 1., 0., 1., 0., 1., 0., 1.],\n",
       "       [1., 0., 1., 0., 1., 0., 1., 0., 1., 0.],\n",
       "       [0., 1., 0., 1., 0., 1., 0., 1., 0., 1.],\n",
       "       [1., 0., 1., 0., 1., 0., 1., 0., 1., 0.],\n",
       "       [0., 1., 0., 1., 0., 1., 0., 1., 0., 1.],\n",
       "       [1., 0., 1., 0., 1., 0., 1., 0., 1., 0.],\n",
       "       [0., 1., 0., 1., 0., 1., 0., 1., 0., 1.]])"
      ]
     },
     "execution_count": 47,
     "metadata": {},
     "output_type": "execute_result"
    }
   ],
   "source": [
    "my_ones = np.ones((10, 10))\n",
    "my_ones[0::2, 1::2] = my_ones[0::2, 1::2] * 0 # 10번째 인덱스가 9니깐 8번인덱스까지 0.이 나오게 해야함\n",
    "my_ones[1::2, 0::2] = my_ones[1::2, 0::2] * 0\n",
    "my_ones"
   ]
  },
  {
   "cell_type": "markdown",
   "metadata": {},
   "source": [
    "## 5.4 empty"
   ]
  },
  {
   "cell_type": "code",
   "execution_count": 48,
   "metadata": {},
   "outputs": [
    {
     "data": {
      "text/plain": [
       "array([[0., 0., 0.],\n",
       "       [0., 0., 0.],\n",
       "       [0., 0., 0.],\n",
       "       [0., 0., 0.]])"
      ]
     },
     "execution_count": 48,
     "metadata": {},
     "output_type": "execute_result"
    }
   ],
   "source": [
    "h = np.empty((4, 3))\n",
    "h"
   ]
  },
  {
   "cell_type": "markdown",
   "metadata": {},
   "source": [
    "## 5.5 arange"
   ]
  },
  {
   "cell_type": "code",
   "execution_count": 49,
   "metadata": {},
   "outputs": [
    {
     "data": {
      "text/plain": [
       "array([0, 1, 2, 3, 4, 5, 6, 7, 8, 9])"
      ]
     },
     "execution_count": 49,
     "metadata": {},
     "output_type": "execute_result"
    }
   ],
   "source": [
    "np.arange(10)"
   ]
  },
  {
   "cell_type": "code",
   "execution_count": 50,
   "metadata": {},
   "outputs": [
    {
     "data": {
      "text/plain": [
       "array([ 3,  5,  7,  9, 11, 13, 15, 17, 19])"
      ]
     },
     "execution_count": 50,
     "metadata": {},
     "output_type": "execute_result"
    }
   ],
   "source": [
    "np.arange(3, 21, 2)"
   ]
  },
  {
   "cell_type": "markdown",
   "metadata": {},
   "source": [
    "## 5.6 random"
   ]
  },
  {
   "cell_type": "code",
   "execution_count": null,
   "metadata": {},
   "outputs": [
    {
     "name": "stdout",
     "output_type": "stream",
     "text": [
      "[[0.76245704 0.61172925 0.41621923]\n",
      " [0.60867459 0.50442132 0.99458743]\n",
      " [0.45115209 0.22836936 0.33828239]]\n"
     ]
    }
   ],
   "source": [
    "# np.random.rand(size): 0~1의 균일 분포에서 난수 생성 \n",
    "\n",
    "print(np.random.rand(3, 3))"
   ]
  },
  {
   "cell_type": "code",
   "execution_count": 62,
   "metadata": {},
   "outputs": [
    {
     "name": "stdout",
     "output_type": "stream",
     "text": [
      "[[0.33124121 0.10197451 0.68562082]\n",
      " [0.94938095 0.96975406 0.77657014]\n",
      " [0.26792989 0.01847137 0.27188331]]\n"
     ]
    }
   ],
   "source": [
    "# np.random.random(size): 0~1의 균일 분포에서 난수 생성 \n",
    "# size를 튜플로 전달 \n",
    "\n",
    "print(np.random.random((3, 3)))"
   ]
  },
  {
   "cell_type": "code",
   "execution_count": null,
   "metadata": {},
   "outputs": [
    {
     "name": "stdout",
     "output_type": "stream",
     "text": [
      "[[7 3 1]\n",
      " [6 4 6]]\n"
     ]
    }
   ],
   "source": [
    "# np.random.randint(start, end, size): start~(end-1)의 균일 분포에서 정수의 난수 생성 \n",
    "\n",
    "print(np.random.randint(1, 10, (2, 3)))"
   ]
  },
  {
   "cell_type": "code",
   "execution_count": 64,
   "metadata": {},
   "outputs": [
    {
     "name": "stdout",
     "output_type": "stream",
     "text": [
      "[[ 3.08648003  0.03600344 -0.78463651]\n",
      " [-0.78732069  1.16711175  1.26905523]\n",
      " [-0.82527944  0.36483613 -1.51956328]]\n"
     ]
    }
   ],
   "source": [
    "# np.random.randn(size): 가우시안 분포를 따르는 난수 생성\n",
    "\n",
    "print(np.random.randn(3, 3))"
   ]
  },
  {
   "cell_type": "markdown",
   "metadata": {},
   "source": [
    "## 5.7 linspace, logspace"
   ]
  },
  {
   "cell_type": "code",
   "execution_count": null,
   "metadata": {},
   "outputs": [
    {
     "data": {
      "text/plain": [
       "array([  0.,  25.,  50.,  75., 100.])"
      ]
     },
     "execution_count": 65,
     "metadata": {},
     "output_type": "execute_result"
    }
   ],
   "source": [
    "# linspace\n",
    "ex = np.linspace(0, 100, 5) # 0~100을 5개의 구간으로 나눔\n",
    "ex"
   ]
  },
  {
   "cell_type": "code",
   "execution_count": null,
   "metadata": {},
   "outputs": [
    {
     "data": {
      "text/plain": [
       "array([1.e+000, 1.e+025, 1.e+050, 1.e+075, 1.e+100])"
      ]
     },
     "execution_count": 66,
     "metadata": {},
     "output_type": "execute_result"
    }
   ],
   "source": [
    "# logspace\n",
    "ex2 = np.logspace(0, 100, 5) # 0~100을 5개의 구간으로 나눔\n",
    "ex2 # e는 지수표기법에서 10의 거듭제곱을 의미 (a x 10^b를 aeb 또는 aE + b의 형태로 표현)\n",
    "\n",
    "# 즉, 1.e+000은 1.0 x 10^0 = 1을 의미 "
   ]
  },
  {
   "cell_type": "markdown",
   "metadata": {},
   "source": [
    "## 배열생성2 실습 04\n",
    "\n",
    "[문제] linspace()를 활용하여 다음과 같은 1차원 ndarray를 만들어 보세요\n",
    "\\\n",
    "\\\n",
    "[0.1 0.2 0.3 0.4 0.5 0.6 0.7 0.8 0.9]\n"
   ]
  },
  {
   "cell_type": "code",
   "execution_count": 80,
   "metadata": {},
   "outputs": [
    {
     "name": "stdout",
     "output_type": "stream",
     "text": [
      "[0.1 0.2 0.3 0.4 0.5 0.6 0.7 0.8 0.9]\n"
     ]
    }
   ],
   "source": [
    "print(np.linspace(0.1, 0.9, 9))"
   ]
  },
  {
   "cell_type": "markdown",
   "metadata": {},
   "source": [
    "# 6. 배열 크기 변경"
   ]
  },
  {
   "cell_type": "markdown",
   "metadata": {},
   "source": [
    "넘파이에서의 메타데이터와 데이터 버퍼\n",
    "\n",
    "- 메타데이터: 데이터 자체를 변경하지 않고도, 데이터의 표현 방식 수정 가능\n",
    "    - 데이터 형태: shape\n",
    "    - dtype \n",
    "    - strides: 배열의 각 차원이 메모리에서 얼마나 떨어져있는지 (바이트 단위)\n",
    "    - 메모리 읽기/쓰기 플래그: 배열이 읽기 전용인지 여부\n",
    "    - 배열의 순서: 배열이 C-order(행 우선)인지 F-order(열 우선)인지 여부\n",
    "    - 배열 객체 ID: 파이썬 수준에서 배열 객체를 구분하는 고유 메모리 주소 \n",
    "- 데이터 버퍼 (Data Buffer)\n",
    "    - 데이터 자체가 저장된 메모리 공간을 의미 (배열의 요소 값들이 연속적으로 저장됨)\n",
    "        - 배열 데이터가 저장된 연속적인 메모리 블록의 시작 주소를 의미\n",
    "    - NumPy 배열은 데이터를 C언어에서 사용하는 연속된 메모리 블록에 저장\n",
    "    - __ array_interface __ ['data']를 통해 데이터 버퍼의 메모리 주소 확인 가능 \n",
    "    - 버퍼에는 배열의 실제 데이터 값이 저장됨 \n",
    "    - 특징\n",
    "        - 배열의 요소는 데이터 버퍼에 저장 됨 (arr[0][0]은 버퍼의 특정 메모리 주소를 참조)\n",
    "        - 데이터 공유: 뷰(view)배열은 원본 배열과 동일한 데이터 버퍼를 참조 -> 데이터 공유 가능 \n",
    "        - 데이터는 일반적으로 연속적인 메모리 공간에 저장되며, strides를 통해 각 차원의 데이터 간 간격을 결정 "
   ]
  },
  {
   "cell_type": "markdown",
   "metadata": {},
   "source": [
    "id와 __ array_interface __\n",
    "\n",
    "- id()\n",
    "    - 파이썬 자체의 고유 메모리 주소 반환\n",
    "    - 객체의 컨테이너 또는 참조 수준에서 메모리 주소 확인 \n",
    "    - 객체의 내부 데이터가 아닌 객체 자체에 대한 정보 제공\n",
    "    - 객체가 같은 데이터를 공유하더라도 다른 ID를 가질 수 있음 (Numpy 배열에서 뷰(view)와 원본 배열의 경우)\n",
    "    - arr과 view_arr의 id는 다름. 이는 배열의 메타데이터와 배열 객체가 독립적으로 존재하기 때문 \n",
    "\n",
    "- __ array_interface __\n",
    "    - Numpy 배열 객체가 관리하는 실제 데이터 버퍼의 정보 제공 \n",
    "    - 데이터 버퍼 주소를 확인하는 데 유용하며, 원본 배열과 뷰(view)간에 데이터 공유 여부를 판단할 수 있음 \n",
    "        - 두 배열의 데이터 버퍼 주소가 같다면, 같은 메모리를 참조하고 있음을 의미 \n",
    "    - Numpy 배열의 내부 구조를 설명하는 속성 (attribute) -> 이 속성을 통해 배열의 데이터 버퍼 주소, dtype, strides 등을 알 수 있음 \n",
    "    - 딕셔너리 형태이며 주요키는 아래와 같음\n",
    "        - data: 배열이 참조하는 데이터 버퍼의 메모리 주소와 읽기/쓰기 플래그 반환\n",
    "            - 읽기 쓰기 플래그: False(읽기 전용), True(읽기 쓰기 모두 가능) -> 하지만 객체수준에서만 적용됨 (데이터 버퍼는 해당 안 됨)\n",
    "        - shape: 배열의 형태\n",
    "        - strides: 데이터가 메모리에서 이동하는 간격 (바이트단위)\n",
    "        - typestr: 배열의 데이터 타입 (dtype)\n",
    "        - version: 인터페이스 버전 \n",
    "    "
   ]
  },
  {
   "cell_type": "markdown",
   "metadata": {},
   "source": [
    "## 6.1 reshape"
   ]
  },
  {
   "cell_type": "code",
   "execution_count": 77,
   "metadata": {},
   "outputs": [
    {
     "name": "stdout",
     "output_type": "stream",
     "text": [
      "4447949840\n",
      "{'data': (4486001008, False), 'strides': None, 'descr': [('', '<i8')], 'typestr': '<i8', 'shape': (12,), 'version': 3}\n"
     ]
    },
    {
     "data": {
      "text/plain": [
       "array([ 0,  1,  2,  3,  4,  5,  6,  7,  8,  9, 10, 11])"
      ]
     },
     "execution_count": 77,
     "metadata": {},
     "output_type": "execute_result"
    }
   ],
   "source": [
    "import numpy as np\n",
    "\n",
    "a = np.arange(12)\n",
    "\n",
    "print(id(a))\n",
    "print(a.__array_interface__)\n",
    "a"
   ]
  },
  {
   "cell_type": "code",
   "execution_count": null,
   "metadata": {},
   "outputs": [
    {
     "name": "stdout",
     "output_type": "stream",
     "text": [
      "4447952816\n",
      "4497579232\n"
     ]
    },
    {
     "data": {
      "text/plain": [
       "array([[ 0,  1,  2,  3],\n",
       "       [ 4,  5,  6,  7],\n",
       "       [ 8,  9, 10, 11]])"
      ]
     },
     "execution_count": 76,
     "metadata": {},
     "output_type": "execute_result"
    }
   ],
   "source": [
    "print(id(a.reshape(3, 4))) # a와 객체 자체의 메모리 주소는 다름 \n",
    "print(a.reshape(3, 4).__array_interface__['data'][0]) # 데이터 자체는 같은 메모리 주소 참조\n",
    "\n",
    "a.reshape(3, 4) \n"
   ]
  },
  {
   "cell_type": "code",
   "execution_count": 78,
   "metadata": {},
   "outputs": [
    {
     "name": "stdout",
     "output_type": "stream",
     "text": [
      "4447949840\n",
      "{'data': (4486001008, False), 'strides': None, 'descr': [('', '<i8')], 'typestr': '<i8', 'shape': (12,), 'version': 3}\n"
     ]
    },
    {
     "data": {
      "text/plain": [
       "array([ 0,  1,  2,  3,  4,  5,  6,  7,  8,  9, 10, 11])"
      ]
     },
     "execution_count": 78,
     "metadata": {},
     "output_type": "execute_result"
    }
   ],
   "source": [
    "print(id(a))\n",
    "print(a.__array_interface__)\n",
    "\n",
    "a # 여전히 a는 그대로인 걸 확인할 수 있음 "
   ]
  },
  {
   "cell_type": "code",
   "execution_count": 83,
   "metadata": {},
   "outputs": [
    {
     "name": "stdout",
     "output_type": "stream",
     "text": [
      "[ 0  1  2  3  4  5  6  7  8  9 10 11]\n",
      "[[ 0  1  2  3]\n",
      " [ 4  5  6  7]\n",
      " [ 8  9 10 11]]\n",
      "4447593136\n",
      "4447949840\n",
      "\n",
      "[ 0  1  2  3  4  5  6  7  8  9 10 11]\n",
      "4486001008\n",
      "4486001008\n"
     ]
    }
   ],
   "source": [
    "a_re_34 = a.reshape(3, 4)\n",
    "\n",
    "# 배열 확인\n",
    "print(a)\n",
    "print(a_re_34)\n",
    "\n",
    "\n",
    "# 각 객체의 id 확인 \n",
    "print(id(a_re_34))\n",
    "print(id(a))\n",
    "print()\n",
    "\n",
    "# reshape 객체의 base 확인 -> a를 가리킴 \n",
    "print(a_re_34.base)\n",
    "\n",
    "# 데이터 범퍼 주소 확인 \n",
    "print(a.__array_interface__['data'][0])\n",
    "print(a_re_34.__array_interface__['data'][0])\n",
    "\n"
   ]
  },
  {
   "cell_type": "code",
   "execution_count": 87,
   "metadata": {},
   "outputs": [
    {
     "data": {
      "text/plain": [
       "array([[ 0,  1,  2,  3],\n",
       "       [ 4,  5,  6,  7],\n",
       "       [ 8,  9, 10, 11]])"
      ]
     },
     "execution_count": 87,
     "metadata": {},
     "output_type": "execute_result"
    }
   ],
   "source": [
    "# -1을 활용한 배열 변경\n",
    "\n",
    "a.reshape(3, -1)"
   ]
  },
  {
   "cell_type": "code",
   "execution_count": 88,
   "metadata": {},
   "outputs": [
    {
     "data": {
      "text/plain": [
       "array([[[ 0,  1,  2],\n",
       "        [ 3,  4,  5]],\n",
       "\n",
       "       [[ 6,  7,  8],\n",
       "        [ 9, 10, 11]]])"
      ]
     },
     "execution_count": 88,
     "metadata": {},
     "output_type": "execute_result"
    }
   ],
   "source": [
    "a.reshape(2, 2, -1)"
   ]
  },
  {
   "cell_type": "code",
   "execution_count": 89,
   "metadata": {},
   "outputs": [
    {
     "data": {
      "text/plain": [
       "array([[[ 0,  1],\n",
       "        [ 2,  3],\n",
       "        [ 4,  5]],\n",
       "\n",
       "       [[ 6,  7],\n",
       "        [ 8,  9],\n",
       "        [10, 11]]])"
      ]
     },
     "execution_count": 89,
     "metadata": {},
     "output_type": "execute_result"
    }
   ],
   "source": [
    "a.reshape(2, -1, 2)"
   ]
  },
  {
   "cell_type": "code",
   "execution_count": 90,
   "metadata": {},
   "outputs": [
    {
     "data": {
      "text/plain": [
       "array([[ 0,  1,  2,  3],\n",
       "       [ 4,  5,  6,  7],\n",
       "       [ 8,  9, 10, 11]])"
      ]
     },
     "execution_count": 90,
     "metadata": {},
     "output_type": "execute_result"
    }
   ],
   "source": [
    "a.reshape(-1, 4)"
   ]
  },
  {
   "cell_type": "code",
   "execution_count": 91,
   "metadata": {},
   "outputs": [
    {
     "data": {
      "text/plain": [
       "array([[[ 0,  1],\n",
       "        [ 2,  3]],\n",
       "\n",
       "       [[ 4,  5],\n",
       "        [ 6,  7]],\n",
       "\n",
       "       [[ 8,  9],\n",
       "        [10, 11]]])"
      ]
     },
     "execution_count": 91,
     "metadata": {},
     "output_type": "execute_result"
    }
   ],
   "source": [
    "a.reshape(-1, 2, 2)"
   ]
  },
  {
   "cell_type": "markdown",
   "metadata": {},
   "source": [
    "## 6.2 배열크기변경 실습 01\n",
    "\n",
    "[문제] \\\n",
    "1부터 40가지의 짝수를 갖는 ndarray를 arange()로 만듭니다.\\\n",
    "그리고 shape을 변경하여 (2, 2, 5)로 변경해보세요.\\\n",
    "\\\n",
    "[2 4 6 8 12 14 16 18 20 22 24 26 28 30 32 34 36 38 40] \\\n",
    "\\\n",
    "[결과] \\\n",
    "array([[[2, 4, 6, 8, 10], \\\n",
    "    [12, 14, 16, 18, 20], \\\n",
    "\\\n",
    "    [[22, 24, 26, 28, 30], \\\n",
    "    [32, 34, 36, 38, 40]]])\n",
    "\n"
   ]
  },
  {
   "cell_type": "code",
   "execution_count": 93,
   "metadata": {},
   "outputs": [
    {
     "data": {
      "text/plain": [
       "array([ 2,  4,  6,  8, 10, 12, 14, 16, 18, 20, 22, 24, 26, 28, 30, 32, 34,\n",
       "       36, 38, 40])"
      ]
     },
     "execution_count": 93,
     "metadata": {},
     "output_type": "execute_result"
    }
   ],
   "source": [
    "a = np.arange(2, 41, 2)\n",
    "a"
   ]
  },
  {
   "cell_type": "code",
   "execution_count": 95,
   "metadata": {},
   "outputs": [
    {
     "data": {
      "text/plain": [
       "array([[[ 2,  4,  6,  8, 10],\n",
       "        [12, 14, 16, 18, 20]],\n",
       "\n",
       "       [[22, 24, 26, 28, 30],\n",
       "        [32, 34, 36, 38, 40]]])"
      ]
     },
     "execution_count": 95,
     "metadata": {},
     "output_type": "execute_result"
    }
   ],
   "source": [
    "a.reshape(2, 2, 5)"
   ]
  },
  {
   "cell_type": "markdown",
   "metadata": {},
   "source": [
    "## 6.3 flatten, ravel"
   ]
  },
  {
   "cell_type": "markdown",
   "metadata": {},
   "source": [
    "### 6.3.1 flatten\n",
    "- 깊은 복사"
   ]
  },
  {
   "cell_type": "code",
   "execution_count": 10,
   "metadata": {},
   "outputs": [
    {
     "name": "stdout",
     "output_type": "stream",
     "text": [
      "(3, 4)\n"
     ]
    },
    {
     "data": {
      "text/plain": [
       "array([[ 0,  1,  2,  3],\n",
       "       [ 4,  5,  6,  7],\n",
       "       [ 8,  9, 10, 11]])"
      ]
     },
     "execution_count": 10,
     "metadata": {},
     "output_type": "execute_result"
    }
   ],
   "source": [
    "import numpy as np\n",
    "# (3, 4) 2차원 배열 생성\n",
    "\n",
    "a = np.array([[0, 1, 2, 3],\n",
    "\t[4, 5, 6, 7],\n",
    "\t[8, 9, 10, 11]])\n",
    "print(a.shape)\n",
    "a"
   ]
  },
  {
   "cell_type": "code",
   "execution_count": 11,
   "metadata": {},
   "outputs": [
    {
     "name": "stdout",
     "output_type": "stream",
     "text": [
      "(12,)\n"
     ]
    },
    {
     "data": {
      "text/plain": [
       "array([ 0,  1,  2,  3,  4,  5,  6,  7,  8,  9, 10, 11])"
      ]
     },
     "execution_count": 11,
     "metadata": {},
     "output_type": "execute_result"
    }
   ],
   "source": [
    "# flatten ((3, 4)차원을 1차원으로 변경)\n",
    "\n",
    "# 변경\n",
    "a_flatten = a.flatten()\n",
    "\n",
    "# 크기 확인\n",
    "print(a_flatten.shape)\n",
    "\n",
    "# 배열 출력 \n",
    "a_flatten"
   ]
  },
  {
   "cell_type": "code",
   "execution_count": 12,
   "metadata": {},
   "outputs": [
    {
     "name": "stdout",
     "output_type": "stream",
     "text": [
      "0\n",
      "4591420368\n",
      "(5484219488, False)\n",
      "\n",
      "0\n",
      "4591420368\n",
      "(4947842800, False)\n"
     ]
    }
   ],
   "source": [
    "# 변경 전후의 요소 0의 id와 버퍼 확인 (첫 요소의 id, 버퍼 주소가 다름)\n",
    "\n",
    "# a의 첫 번째 요소 id \n",
    "print(a[0][0])\n",
    "print(id(a[0][0])) # id\n",
    "print(a.__array_interface__['data'])\n",
    "print()\n",
    "\n",
    "# flatten 후의 첫 번째 소요 id 확인 \n",
    "print(a_flatten[0])\n",
    "print(id(a_flatten[0])) # id 다름 \n",
    "print(a_flatten.__array_interface__['data']) # 버퍼 주소가 다름 "
   ]
  },
  {
   "cell_type": "code",
   "execution_count": 13,
   "metadata": {},
   "outputs": [
    {
     "name": "stdout",
     "output_type": "stream",
     "text": [
      "0\n",
      "\n",
      "[[ 0  1  2  3]\n",
      " [ 4  5  6  7]\n",
      " [ 8  9 10 11]]\n",
      "\n",
      "[100   1   2   3   4   5   6   7   8   9  10  11]\n"
     ]
    }
   ],
   "source": [
    "# 요소 변경 -> 두 객체 다 변경되지 않는것을 알 수 있음 \n",
    "\n",
    "# 요소 변경 \n",
    "print(a_flatten[0])\n",
    "a_flatten[0] = 100\n",
    "print()\n",
    "\n",
    "# 변경된 array 확인 \n",
    "print(a)\n",
    "print()\n",
    "print(a_flatten)"
   ]
  },
  {
   "cell_type": "markdown",
   "metadata": {},
   "source": [
    "### 6.3.2 ravel\n",
    "- 깊은 복사"
   ]
  },
  {
   "cell_type": "code",
   "execution_count": 14,
   "metadata": {},
   "outputs": [
    {
     "name": "stdout",
     "output_type": "stream",
     "text": [
      "(3, 4)\n"
     ]
    },
    {
     "data": {
      "text/plain": [
       "array([[ 0,  1,  2,  3],\n",
       "       [ 4,  5,  6,  7],\n",
       "       [ 8,  9, 10, 11]])"
      ]
     },
     "execution_count": 14,
     "metadata": {},
     "output_type": "execute_result"
    }
   ],
   "source": [
    "# (3, 4) 2차원 배열 생성\n",
    "\n",
    "a = np.array([[0, 1, 2, 3],\n",
    "\t[4, 5, 6, 7],\n",
    "\t[8, 9, 10, 11]])\n",
    "print(a.shape)\n",
    "a"
   ]
  },
  {
   "cell_type": "code",
   "execution_count": 15,
   "metadata": {},
   "outputs": [
    {
     "name": "stdout",
     "output_type": "stream",
     "text": [
      "(12,)\n"
     ]
    },
    {
     "data": {
      "text/plain": [
       "array([ 0,  1,  2,  3,  4,  5,  6,  7,  8,  9, 10, 11])"
      ]
     },
     "execution_count": 15,
     "metadata": {},
     "output_type": "execute_result"
    }
   ],
   "source": [
    "# ravel\n",
    "\n",
    "# ravel로 평탄화 \n",
    "a_ravel = a.ravel()\n",
    "\n",
    "# 크기 확인\n",
    "print(a_ravel.shape)\n",
    "\n",
    "# ravel 출력 \n",
    "a_ravel"
   ]
  },
  {
   "cell_type": "code",
   "execution_count": 16,
   "metadata": {},
   "outputs": [
    {
     "name": "stdout",
     "output_type": "stream",
     "text": [
      "(5216320848, False)\n"
     ]
    },
    {
     "data": {
      "text/plain": [
       "array([[ 0,  1,  2,  3],\n",
       "       [ 4,  5,  6,  7],\n",
       "       [ 8,  9, 10, 11]])"
      ]
     },
     "execution_count": 16,
     "metadata": {},
     "output_type": "execute_result"
    }
   ],
   "source": [
    "\n",
    "\n",
    "print(a.__array_interface__['data'])\n",
    "a"
   ]
  },
  {
   "cell_type": "code",
   "execution_count": 17,
   "metadata": {},
   "outputs": [
    {
     "name": "stdout",
     "output_type": "stream",
     "text": [
      "4591401744\n",
      "4591402608\n",
      "4591389456\n",
      "\n",
      "4591421136\n",
      "4591420848\n",
      "4591421008\n",
      "\n",
      "(5216320848, False)\n",
      "(5216320848, False)\n"
     ]
    }
   ],
   "source": [
    "# a, a_ravel, a.ravel() id 확인 -> id 주소가 모두 다름 \n",
    "print(id(a))\n",
    "print(id(a_ravel))\n",
    "print(id(a.ravel()))\n",
    "\n",
    "print()\n",
    "\n",
    "# 각 객체의 요소 0의 id 확인 -> id 주소가 모두 다름\n",
    "print(id(a[0][0]))\n",
    "print(id(a_ravel[0]))\n",
    "print(id(a.ravel()[0]))\n",
    "print()\n",
    "\n",
    "# 각 객체의 데이터 버퍼 주소 확인 -> 버퍼 주소가 같음\n",
    "print(a.__array_interface__['data'])\n",
    "print(a_ravel.__array_interface__['data'])\n"
   ]
  },
  {
   "cell_type": "code",
   "execution_count": 18,
   "metadata": {},
   "outputs": [
    {
     "name": "stdout",
     "output_type": "stream",
     "text": [
      "0\n",
      "0\n",
      "(5216320848, False)\n",
      "(5216320848, False)\n",
      "\n",
      "\n",
      "[[100   1   2   3]\n",
      " [  4   5   6   7]\n",
      " [  8   9  10  11]]\n",
      "[100   1   2   3   4   5   6   7   8   9  10  11]\n"
     ]
    }
   ],
   "source": [
    "# a의 요소 0을 100으로 바꿔보기 \n",
    "\n",
    "# 변경 전 값 확인\n",
    "print(a[0][0])\n",
    "print(a_ravel[0])\n",
    "print(a.__array_interface__['data'])\n",
    "print(a_ravel.__array_interface__['data'])\n",
    "print()\n",
    "\n",
    "# 요소 변경\n",
    "a_ravel[0] = 100 \n",
    "print()\n",
    "\n",
    "# 변경 후 값 확인\n",
    "print(a)\n",
    "print(a_ravel) # a_ravel도 값이 변경돼있는 걸 알 수 있음 "
   ]
  },
  {
   "cell_type": "code",
   "execution_count": 19,
   "metadata": {},
   "outputs": [
    {
     "name": "stdout",
     "output_type": "stream",
     "text": [
      "4591420880\n",
      "4591420624\n",
      "(5216320848, False)\n",
      "(5216320848, False)\n"
     ]
    }
   ],
   "source": [
    "# 0번째 인덱스 id값 확인 \n",
    "print(id(a[0][0]))\n",
    "print(id(a_ravel[0]))\n",
    "\n",
    "# 0번째 인덱스 버퍼 주소 확인\n",
    "print(a.__array_interface__['data'])\n",
    "print(a_ravel.__array_interface__['data'])"
   ]
  },
  {
   "cell_type": "markdown",
   "metadata": {},
   "source": []
  },
  {
   "cell_type": "markdown",
   "metadata": {},
   "source": [
    "---\n",
    "예제"
   ]
  },
  {
   "cell_type": "code",
   "execution_count": 46,
   "metadata": {},
   "outputs": [
    {
     "name": "stdout",
     "output_type": "stream",
     "text": [
      "[[99  2]\n",
      " [ 3  4]]\n",
      "[99  2  3  4]\n",
      "\n",
      "4443249552\n",
      "4443253104\n",
      "4442170640\n",
      "4442173104\n",
      "\n",
      "{'data': (5559721088, False), 'strides': None, 'descr': [('', '<i8')], 'typestr': '<i8', 'shape': (2, 2), 'version': 3}\n",
      "Data buffer address of arr: 5559721088\n",
      "Data buffer address of view_arr: 5559721088\n"
     ]
    }
   ],
   "source": [
    "import numpy as np\n",
    "\n",
    "# 원본 배열 생성\n",
    "arr = np.array([[1, 2], [3, 4]])\n",
    "\n",
    "# arr의 뷰(view) 생성\n",
    "view_arr = arr.ravel()\n",
    "\n",
    "# 뷰를 수정하면 원본 배열도 변경됨\n",
    "view_arr[0] = 99\n",
    "\n",
    "print(arr)      # [[99  2]\n",
    "                #  [ 3  4]]\n",
    "print(view_arr) # [99  2  3  4]\n",
    "print()\n",
    "\n",
    "print(id(arr))\n",
    "print(id(view_arr))\n",
    "print(id(arr[0][0]))\n",
    "print(id(view_arr[0]))\n",
    "print()\n",
    "\n",
    "# 실제 데이터 주소 비교\n",
    "print(arr.__array_interface__)\n",
    "print(\"Data buffer address of arr:\", arr.__array_interface__['data'][0])\n",
    "print(\"Data buffer address of view_arr:\", view_arr.__array_interface__['data'][0])\n",
    "\n"
   ]
  },
  {
   "cell_type": "code",
   "execution_count": null,
   "metadata": {},
   "outputs": [],
   "source": []
  },
  {
   "cell_type": "markdown",
   "metadata": {},
   "source": [
    "## 6.4 newaxis\n",
    "- 인덱싱 기법으로 배열의 차원을 늘리는 데 유용"
   ]
  },
  {
   "cell_type": "code",
   "execution_count": 108,
   "metadata": {},
   "outputs": [
    {
     "name": "stdout",
     "output_type": "stream",
     "text": [
      "(12,) 1\n"
     ]
    },
    {
     "data": {
      "text/plain": [
       "array([ 0,  1,  2,  3,  4,  5,  6,  7,  8,  9, 10, 11])"
      ]
     },
     "execution_count": 108,
     "metadata": {},
     "output_type": "execute_result"
    }
   ],
   "source": [
    "# 1차원 배열 생성\n",
    "a = np.arange(12)\n",
    "\n",
    "# 크기 확인\n",
    "print(a.shape, a.ndim)\n",
    "\n",
    "a"
   ]
  },
  {
   "cell_type": "code",
   "execution_count": null,
   "metadata": {},
   "outputs": [
    {
     "name": "stdout",
     "output_type": "stream",
     "text": [
      "(12, 1) 2\n"
     ]
    },
    {
     "data": {
      "text/plain": [
       "array([[ 0],\n",
       "       [ 1],\n",
       "       [ 2],\n",
       "       [ 3],\n",
       "       [ 4],\n",
       "       [ 5],\n",
       "       [ 6],\n",
       "       [ 7],\n",
       "       [ 8],\n",
       "       [ 9],\n",
       "       [10],\n",
       "       [11]])"
      ]
     },
     "execution_count": 109,
     "metadata": {},
     "output_type": "execute_result"
    }
   ],
   "source": [
    "# 차원 증가 \n",
    "a = a[:, np.newaxis] # 새로운 축 추가 -> 모든 행 유지하면서 새로운 열 차원 추가  \n",
    "\n",
    "# 크기 확인 \n",
    "print(a.shape, a.ndim) \n",
    "\n",
    "a"
   ]
  },
  {
   "cell_type": "code",
   "execution_count": 114,
   "metadata": {},
   "outputs": [
    {
     "name": "stdout",
     "output_type": "stream",
     "text": [
      "(12,)\n",
      "\n",
      "(1, 12)\n"
     ]
    },
    {
     "data": {
      "text/plain": [
       "array([[ 0,  1,  2,  3,  4,  5,  6,  7,  8,  9, 10, 11]])"
      ]
     },
     "execution_count": 114,
     "metadata": {},
     "output_type": "execute_result"
    }
   ],
   "source": [
    "a = np.arange(12) \n",
    "print(a.shape)\n",
    "print()\n",
    "\n",
    "# 차원 증가 \n",
    "a = a[np.newaxis, :] # 행에 새로운 축 추가 \n",
    "print(a.shape)\n",
    "a"
   ]
  },
  {
   "cell_type": "markdown",
   "metadata": {},
   "source": [
    "## 6.5 전치 "
   ]
  },
  {
   "cell_type": "code",
   "execution_count": null,
   "metadata": {},
   "outputs": [
    {
     "name": "stdout",
     "output_type": "stream",
     "text": [
      "(2, 3)\n"
     ]
    },
    {
     "data": {
      "text/plain": [
       "array([[1, 2, 3],\n",
       "       [4, 5, 6]])"
      ]
     },
     "execution_count": 115,
     "metadata": {},
     "output_type": "execute_result"
    }
   ],
   "source": [
    "# 배열 생성\n",
    "a = np.array([[1, 2, 3], [4, 5, 6]])\n",
    "\n",
    "print(a.shape)\n",
    "a"
   ]
  },
  {
   "cell_type": "code",
   "execution_count": 116,
   "metadata": {},
   "outputs": [
    {
     "name": "stdout",
     "output_type": "stream",
     "text": [
      "(3, 2)\n"
     ]
    },
    {
     "data": {
      "text/plain": [
       "array([[1, 4],\n",
       "       [2, 5],\n",
       "       [3, 6]])"
      ]
     },
     "execution_count": 116,
     "metadata": {},
     "output_type": "execute_result"
    }
   ],
   "source": [
    "b = a.T\n",
    "\n",
    "print(b.shape)\n",
    "b"
   ]
  },
  {
   "cell_type": "code",
   "execution_count": 119,
   "metadata": {},
   "outputs": [
    {
     "name": "stdout",
     "output_type": "stream",
     "text": [
      "4442993264\n",
      "4448947344\n",
      "(4497526352, False)\n",
      "(4497526352, False)\n"
     ]
    }
   ],
   "source": [
    "print(id(a))\n",
    "print(id(a.T))\n",
    "print(a.__array_interface__['data'])\n",
    "print(a.T.__array_interface__['data'])\n"
   ]
  },
  {
   "cell_type": "markdown",
   "metadata": {},
   "source": [
    "## 6.6 배열 결합"
   ]
  },
  {
   "cell_type": "markdown",
   "metadata": {},
   "source": [
    "### 6.6.1 hstack\n",
    "배열을 수평으로 연결 "
   ]
  },
  {
   "cell_type": "code",
   "execution_count": 124,
   "metadata": {},
   "outputs": [
    {
     "name": "stdout",
     "output_type": "stream",
     "text": [
      "(2, 3) (2, 3)\n",
      "[[1 2 3]\n",
      " [4 5 6]]\n",
      "[[10 20 30]\n",
      " [40 50 60]]\n"
     ]
    }
   ],
   "source": [
    "a = np.array([[1, 2, 3], [4, 5, 6]])\n",
    "b = np.array([[10, 20, 30], [40, 50, 60]])\n",
    "print(a.shape, b.shape)\n",
    "print(a)\n",
    "print(b)"
   ]
  },
  {
   "cell_type": "code",
   "execution_count": null,
   "metadata": {},
   "outputs": [
    {
     "name": "stdout",
     "output_type": "stream",
     "text": [
      "(2, 6)\n"
     ]
    },
    {
     "data": {
      "text/plain": [
       "array([[ 1,  2,  3, 10, 20, 30],\n",
       "       [ 4,  5,  6, 40, 50, 60]])"
      ]
     },
     "execution_count": 125,
     "metadata": {},
     "output_type": "execute_result"
    }
   ],
   "source": [
    "# hstack \n",
    "\n",
    "c_hstack = np.hstack([a, b])\n",
    "\n",
    "print(c_hstack.shape) # 같은 행 끼리 요소 연결 \n",
    "c_hstack"
   ]
  },
  {
   "cell_type": "markdown",
   "metadata": {},
   "source": [
    "### 6.6.2 vstack\n",
    "배열을 수직으로 연결 "
   ]
  },
  {
   "cell_type": "code",
   "execution_count": 126,
   "metadata": {},
   "outputs": [
    {
     "name": "stdout",
     "output_type": "stream",
     "text": [
      "(2, 3) (2, 3)\n",
      "[[1 2 3]\n",
      " [4 5 6]]\n",
      "[[10 20 30]\n",
      " [40 50 60]]\n"
     ]
    }
   ],
   "source": [
    "a = np.array([[1, 2, 3], [4, 5, 6]])\n",
    "b = np.array([[10, 20, 30], [40, 50, 60]])\n",
    "print(a.shape, b.shape)\n",
    "print(a)\n",
    "print(b)"
   ]
  },
  {
   "cell_type": "code",
   "execution_count": null,
   "metadata": {},
   "outputs": [
    {
     "name": "stdout",
     "output_type": "stream",
     "text": [
      "(4, 3)\n"
     ]
    },
    {
     "data": {
      "text/plain": [
       "array([[ 1,  2,  3],\n",
       "       [ 4,  5,  6],\n",
       "       [10, 20, 30],\n",
       "       [40, 50, 60]])"
      ]
     },
     "execution_count": 127,
     "metadata": {},
     "output_type": "execute_result"
    }
   ],
   "source": [
    "# vstack \n",
    "\n",
    "c_vstack = np.vstack([a, b])\n",
    "\n",
    "print(c_vstack.shape) # 같은 열 끼리 연결 (수직 연결)\n",
    "c_vstack"
   ]
  },
  {
   "cell_type": "markdown",
   "metadata": {},
   "source": [
    "# 7. 브로드캐스팅"
   ]
  },
  {
   "cell_type": "code",
   "execution_count": null,
   "metadata": {},
   "outputs": [
    {
     "name": "stdout",
     "output_type": "stream",
     "text": [
      "(3,) (3, 1)\n"
     ]
    }
   ],
   "source": [
    "import numpy as np \n",
    "# 예제 1\n",
    "\n",
    "a = np.array([1, 2, 3])\n",
    "b = np.array([[10], [20], [30]])\n",
    "\n",
    "print(a.shape, b.shape) # 차원은 다르지만 차원의 크기가 동일 (열크기 == 행크기)"
   ]
  },
  {
   "cell_type": "code",
   "execution_count": 134,
   "metadata": {},
   "outputs": [
    {
     "name": "stdout",
     "output_type": "stream",
     "text": [
      "(3, 3)\n"
     ]
    },
    {
     "data": {
      "text/plain": [
       "array([[11, 12, 13],\n",
       "       [21, 22, 23],\n",
       "       [31, 32, 33]])"
      ]
     },
     "execution_count": 134,
     "metadata": {},
     "output_type": "execute_result"
    }
   ],
   "source": [
    "result = a + b # a가 (1, 3)으로 자동 확장되어 b와 연산 가능해짐 \n",
    "print(result.shape)\n",
    "result"
   ]
  },
  {
   "cell_type": "code",
   "execution_count": null,
   "metadata": {},
   "outputs": [
    {
     "name": "stdout",
     "output_type": "stream",
     "text": [
      "[[10 20 30]\n",
      " [20 40 60]\n",
      " [30 60 90]]\n"
     ]
    },
    {
     "data": {
      "text/plain": [
       "(3, 3)"
      ]
     },
     "execution_count": 136,
     "metadata": {},
     "output_type": "execute_result"
    }
   ],
   "source": [
    "# 곱셈\n",
    "c = b*a\n",
    "print(c)\n",
    "c.shape "
   ]
  },
  {
   "cell_type": "code",
   "execution_count": null,
   "metadata": {},
   "outputs": [
    {
     "name": "stdout",
     "output_type": "stream",
     "text": [
      "(2, 3) (3,)\n"
     ]
    }
   ],
   "source": [
    "# 예제 2\n",
    "\n",
    "a = np.array([[1, 2, 3], [4, 5, 6]])\n",
    "b = np.array([10, 20, 30])\n",
    "\n",
    "print(a.shape, b.shape) # 차원은 다르지만 차원의 크기는 동일 (열 크기 == 행 크기)"
   ]
  },
  {
   "cell_type": "code",
   "execution_count": null,
   "metadata": {},
   "outputs": [
    {
     "name": "stdout",
     "output_type": "stream",
     "text": [
      "(2, 3)\n"
     ]
    },
    {
     "data": {
      "text/plain": [
       "array([[ 10,  40,  90],\n",
       "       [ 40, 100, 180]])"
      ]
     },
     "execution_count": 132,
     "metadata": {},
     "output_type": "execute_result"
    }
   ],
   "source": [
    "result = a * b # b가 자동으로 브로드캐스트 되어 a의 각 행에 대해 요소별로 곱셈이 이루어짐 \n",
    "\n",
    "print(result.shape)\n",
    "result"
   ]
  },
  {
   "cell_type": "markdown",
   "metadata": {},
   "source": [
    "# 8. NumPy의 다양한 메서드 "
   ]
  },
  {
   "cell_type": "code",
   "execution_count": 137,
   "metadata": {},
   "outputs": [
    {
     "name": "stdout",
     "output_type": "stream",
     "text": [
      "(2, 3)\n"
     ]
    },
    {
     "data": {
      "text/plain": [
       "array([[1, 2, 3],\n",
       "       [4, 5, 6]])"
      ]
     },
     "execution_count": 137,
     "metadata": {},
     "output_type": "execute_result"
    }
   ],
   "source": [
    "a = np.array([[1, 2, 3], [4, 5, 6]])\n",
    "\n",
    "print(a.shape)\n",
    "a"
   ]
  },
  {
   "cell_type": "markdown",
   "metadata": {},
   "source": [
    "## 8.1 최대/최소"
   ]
  },
  {
   "cell_type": "code",
   "execution_count": null,
   "metadata": {},
   "outputs": [
    {
     "name": "stdout",
     "output_type": "stream",
     "text": [
      "6\n",
      "1\n",
      "5\n",
      "0\n"
     ]
    }
   ],
   "source": [
    "# 최대\n",
    "print(a.max())\n",
    "\n",
    "# 최소\n",
    "print(a.min())\n",
    "\n",
    "# 최대값 인덱스 \n",
    "print(a.argmax())\n",
    "\n",
    "# 최소값 인덱스\n",
    "print(a.argmin())"
   ]
  },
  {
   "cell_type": "markdown",
   "metadata": {},
   "source": [
    "## 8.1.1 argmax, argmin\n",
    "- argmax: 해당 배열의 제일 큰 값의 인덱스 반환\n",
    "- argmin: 해당 배열의 제일 작은 값의 인덱스 반환 "
   ]
  },
  {
   "cell_type": "code",
   "execution_count": null,
   "metadata": {},
   "outputs": [
    {
     "data": {
      "text/plain": [
       "array([[[16,  5],\n",
       "        [62, 23],\n",
       "        [75, 44]],\n",
       "\n",
       "       [[42, 56],\n",
       "        [37, 63],\n",
       "        [66, 93]]])"
      ]
     },
     "metadata": {},
     "output_type": "display_data"
    },
    {
     "name": "stdout",
     "output_type": "stream",
     "text": [
      "\n",
      "11\n",
      "1\n",
      "\n",
      "93\n",
      "5\n"
     ]
    }
   ],
   "source": [
    "arr = np.reshape(np.random.randint(100, size=(12)), (2, 3, -1)) # 0에서 99사이의 정수 24개 생성\n",
    "display(arr)\n",
    "print()\n",
    "\n",
    "print(np.argmax(arr)) # 축을 설정하지 않으면 1차원으로 생각했을 때의 인덱스 값을 반환함\n",
    "print(np.argmin(arr))\n",
    "print()\n",
    "\n",
    "# 확인 \n",
    "print(arr.flatten()[np.argmax(arr)]) # 1차원으로 축소 후 인덱싱을 통해 값 확인 \n",
    "print(arr.flatten()[np.argmin(arr)]) "
   ]
  },
  {
   "cell_type": "code",
   "execution_count": null,
   "metadata": {},
   "outputs": [
    {
     "name": "stdout",
     "output_type": "stream",
     "text": [
      "(2, 3, 2, 2)\n"
     ]
    },
    {
     "data": {
      "text/plain": [
       "array([[[[37, 12],\n",
       "         [72,  9]],\n",
       "\n",
       "        [[75,  5],\n",
       "         [79, 64]],\n",
       "\n",
       "        [[16,  1],\n",
       "         [76, 71]]],\n",
       "\n",
       "\n",
       "       [[[ 6, 25],\n",
       "         [50, 20]],\n",
       "\n",
       "        [[18, 84],\n",
       "         [11, 28]],\n",
       "\n",
       "        [[29, 14],\n",
       "         [50, 68]]]])"
      ]
     },
     "execution_count": 172,
     "metadata": {},
     "output_type": "execute_result"
    }
   ],
   "source": [
    "# 축을 설정 했을 경우 (axis 설정 햇을 경우)\n",
    "np.random.seed(1) # 랜덤값의 재현성 보장\n",
    "\n",
    "arr = np.reshape(np.random.randint(100, size=(24)), (2, 3, 2, -1)) \n",
    "print(arr.shape)\n",
    "arr"
   ]
  },
  {
   "cell_type": "code",
   "execution_count": null,
   "metadata": {},
   "outputs": [
    {
     "name": "stdout",
     "output_type": "stream",
     "text": [
      "[[[0 1]\n",
      "  [0 1]]\n",
      "\n",
      " [[0 1]\n",
      "  [0 0]]\n",
      "\n",
      " [[1 1]\n",
      "  [0 0]]]\n",
      "----------\n",
      "[[[2 2]\n",
      "  [0 0]]\n",
      "\n",
      " [[0 2]\n",
      "  [1 0]]]\n",
      "----------\n",
      "[[[0 1]\n",
      "  [0 0]\n",
      "  [0 0]]\n",
      "\n",
      " [[0 1]\n",
      "  [1 1]\n",
      "  [0 0]]]\n"
     ]
    }
   ],
   "source": [
    "# 첫 번째 축에 대해 각 위치에서 두 개의 값 중 최댓값이 있는 첫 번째 축의 인덱스 반환\n",
    "# 즉, arr[0][i][j][k]와 arr[1][i][j][k]를 비교하여 두 개의 (3, 2, 2)를 비교했을 때 더 큰 값이 존재하는 배열의 인덱스를 반환\n",
    "# 그 결과도 결국 (3, 2, 2)가 됨\n",
    "print(np.argmax(arr, axis=0)) \n",
    "print('-'*10)\n",
    "\n",
    "# 두 번째 축(크기3)을 따라 최소값의 인덱스 반환 (2, 2, 2)\n",
    "print(np.argmin(arr, axis=1))\n",
    "print('-'*10)\n",
    "\n",
    "# 세 번째 축(크기3)을 따라 최소값의 인덱스 반환 (2, 3, 2)\n",
    "print(np.argmin(arr, axis=2))"
   ]
  },
  {
   "cell_type": "code",
   "execution_count": null,
   "metadata": {},
   "outputs": [],
   "source": []
  },
  {
   "cell_type": "markdown",
   "metadata": {},
   "source": [
    "## 8.2 통계"
   ]
  },
  {
   "cell_type": "code",
   "execution_count": 149,
   "metadata": {},
   "outputs": [
    {
     "name": "stdout",
     "output_type": "stream",
     "text": [
      "---합---\n",
      "21\n",
      "21\n",
      "\n",
      "---평균---\n",
      "3.5\n",
      "3.5\n",
      "\n",
      "---중의값---\n",
      "3.5\n",
      "\n",
      "---표준편차---\n",
      "1.707825127659933\n",
      "1.707825127659933\n",
      "\n",
      "---분산---\n",
      "2.9166666666666665\n",
      "2.9166666666666665\n"
     ]
    }
   ],
   "source": [
    "print('---합---')\n",
    "print(a.sum())\n",
    "print(np.sum(a))\n",
    "print()\n",
    "\n",
    "print('---평균---')\n",
    "print(a.mean())\n",
    "print(np.mean(a))\n",
    "print()\n",
    "\n",
    "print('---중의값---') \n",
    "print(np.median(a))\n",
    "print()\n",
    "\n",
    "print('---표준편차---') \n",
    "print(a.std())\n",
    "print(np.std(a))\n",
    "print()\n",
    "\n",
    "print('---분산---') \n",
    "print(a.var())\n",
    "print(np.var(a))"
   ]
  },
  {
   "cell_type": "markdown",
   "metadata": {},
   "source": [
    "## 8.3 불리언"
   ]
  },
  {
   "cell_type": "markdown",
   "metadata": {},
   "source": [
    "### 8.3.1 all()"
   ]
  },
  {
   "cell_type": "code",
   "execution_count": null,
   "metadata": {},
   "outputs": [
    {
     "name": "stdout",
     "output_type": "stream",
     "text": [
      "bool\n",
      "True\n",
      "False\n",
      "False\n"
     ]
    }
   ],
   "source": [
    "# 넘파이의 all() 메서드는 and와 동일한 논리를 가짐 \n",
    "\n",
    "a = np.array([True, True, True])\n",
    "b = np.array([True, True, False])\n",
    "c = np.array([False, False, False])\n",
    "\n",
    "print(a.dtype)\n",
    "print(a.all())\n",
    "print(b.all())\n",
    "print(c.all())"
   ]
  },
  {
   "cell_type": "code",
   "execution_count": 161,
   "metadata": {},
   "outputs": [
    {
     "name": "stdout",
     "output_type": "stream",
     "text": [
      "[0 0 0]\n",
      "[1 1 1]\n",
      "[1 1 0]\n",
      "\n",
      "False\n",
      "True\n",
      "False\n"
     ]
    }
   ],
   "source": [
    "a = np.zeros(3, dtype=int)\n",
    "b = np.ones(3, dtype=int)\n",
    "c = np.array([1, 1, 0])\n",
    "\n",
    "print(a)\n",
    "print(b)\n",
    "print(c)\n",
    "print()\n",
    "\n",
    "print(a.all())\n",
    "print(b.all())\n",
    "print(c.all())"
   ]
  },
  {
   "cell_type": "code",
   "execution_count": 154,
   "metadata": {},
   "outputs": [
    {
     "name": "stdout",
     "output_type": "stream",
     "text": [
      "False\n"
     ]
    }
   ],
   "source": [
    "b = a.all()\n",
    "\n",
    "print(b)"
   ]
  },
  {
   "cell_type": "markdown",
   "metadata": {},
   "source": [
    "### 8.3.2 any()"
   ]
  },
  {
   "cell_type": "code",
   "execution_count": null,
   "metadata": {},
   "outputs": [
    {
     "name": "stdout",
     "output_type": "stream",
     "text": [
      "bool\n",
      "True\n",
      "True\n",
      "False\n"
     ]
    }
   ],
   "source": [
    "# 넘파이의 any() 메서드는 or과 동일한 논리를 가짐 \n",
    "\n",
    "a = np.array([True, True, True])\n",
    "b = np.array([True, True, False])\n",
    "c = np.array([False, False, False])\n",
    "\n",
    "print(a.dtype)\n",
    "print(a.any())\n",
    "print(b.any())\n",
    "print(c.any())\n"
   ]
  },
  {
   "cell_type": "code",
   "execution_count": 162,
   "metadata": {},
   "outputs": [
    {
     "name": "stdout",
     "output_type": "stream",
     "text": [
      "[0 0 0]\n",
      "[1 1 1]\n",
      "[1 1 0]\n",
      "\n",
      "False\n",
      "True\n",
      "True\n"
     ]
    }
   ],
   "source": [
    "a = np.zeros(3, dtype=int)\n",
    "b = np.ones(3, dtype=int)\n",
    "c = np.array([1, 1, 0])\n",
    "\n",
    "print(a)\n",
    "print(b)\n",
    "print(c)\n",
    "print()\n",
    "\n",
    "print(a.any())\n",
    "print(b.any())\n",
    "print(c.any())"
   ]
  },
  {
   "cell_type": "markdown",
   "metadata": {},
   "source": [
    "## 8.4 NumPy의 다양한 메서드 실습 01\n",
    "\n",
    "[문제] 1부터 100까지의 3의 배수를 갖는 1차원 ndarray를 생성하고 그 전체의 합을 구하세요"
   ]
  },
  {
   "cell_type": "code",
   "execution_count": 163,
   "metadata": {},
   "outputs": [
    {
     "name": "stdout",
     "output_type": "stream",
     "text": [
      "1683\n"
     ]
    }
   ],
   "source": [
    "a = np.arange(3, 101, 3)\n",
    "print(a.sum())"
   ]
  },
  {
   "cell_type": "markdown",
   "metadata": {},
   "source": [
    "## 8.5 NumPy의 다양한 메서드 실습 02\n",
    "\n",
    "[문제] \n",
    "- 서버 응답시간의 데이터가 다음과 같이 존재합니다.\n",
    "- 해당 값의 단위는 ms 입니다.\n",
    "- 이 때 200ms를 넘기는 값의 개수가 총 몇개인지 구해보세요\n"
   ]
  },
  {
   "cell_type": "code",
   "execution_count": 164,
   "metadata": {},
   "outputs": [],
   "source": [
    "resp_time = np. array([158, 85, 205, 24, 42, 175, 188, 149, 153, 171, 137, 55, 108,\n",
    "199, 177, 209, 218, 76, 103, 189, 110, 192, 136, 119,  4, 102,\n",
    "177, 212, 110, 37, 163, 32, 77, 22, 125, 184, 46, 139, 72,\n",
    "168, 133, 209, 148, 47, 102, 65, 160, 56, 11, 96, 169, 118,\n",
    "55, 135, 217, 49, 100, 85, 179, 15, 139, 199, 124, 142, 15,\n",
    "49, 168, 171, 168, 177, 147, 23, 199, 26, 51, 42, 90, 128,\n",
    "186, 169, 129, 70, 198, 111, 81, 150, 17, 177, 201, 10, 75,\n",
    "199, 55, 151, 183, 152, 119, 193, 110, 204])"
   ]
  },
  {
   "cell_type": "code",
   "execution_count": 165,
   "metadata": {},
   "outputs": [
    {
     "data": {
      "text/plain": [
       "array([False, False,  True, False, False, False, False, False, False,\n",
       "       False, False, False, False, False, False,  True,  True, False,\n",
       "       False, False, False, False, False, False, False, False, False,\n",
       "        True, False, False, False, False, False, False, False, False,\n",
       "       False, False, False, False, False,  True, False, False, False,\n",
       "       False, False, False, False, False, False, False, False, False,\n",
       "        True, False, False, False, False, False, False, False, False,\n",
       "       False, False, False, False, False, False, False, False, False,\n",
       "       False, False, False, False, False, False, False, False, False,\n",
       "       False, False, False, False, False, False, False,  True, False,\n",
       "       False, False, False, False, False, False, False, False, False,\n",
       "        True])"
      ]
     },
     "execution_count": 165,
     "metadata": {},
     "output_type": "execute_result"
    }
   ],
   "source": [
    "resp_time > 200 "
   ]
  },
  {
   "cell_type": "code",
   "execution_count": 166,
   "metadata": {},
   "outputs": [
    {
     "name": "stdout",
     "output_type": "stream",
     "text": [
      "8\n"
     ]
    }
   ],
   "source": [
    "result = np.sum(resp_time > 200)\n",
    "print(result)"
   ]
  },
  {
   "cell_type": "markdown",
   "metadata": {},
   "source": [
    "# 9. 정렬"
   ]
  },
  {
   "cell_type": "code",
   "execution_count": 184,
   "metadata": {},
   "outputs": [
    {
     "data": {
      "text/plain": [
       "array([[ 8, 15, 13,  8],\n",
       "       [11, 18, 11,  8],\n",
       "       [ 7,  2, 17, 11]])"
      ]
     },
     "execution_count": 184,
     "metadata": {},
     "output_type": "execute_result"
    }
   ],
   "source": [
    "np.random.seed(2)\n",
    "arr = np.reshape(np.random.randint(20, size=12), (3, -1))\n",
    "arr"
   ]
  },
  {
   "cell_type": "code",
   "execution_count": null,
   "metadata": {},
   "outputs": [
    {
     "name": "stdout",
     "output_type": "stream",
     "text": [
      "[[ 7  2 11  8]\n",
      " [ 8 15 13  8]\n",
      " [11 18 17 11]]\n",
      "\n",
      "[[ 8  8 13 15]\n",
      " [ 8 11 11 18]\n",
      " [ 2  7 11 17]]\n"
     ]
    }
   ],
   "source": [
    "print(np.sort(arr, axis=0)) # 첫 번째 축 기준으로 오름차순 정렬 (원본의 각 행끼리 비교)\n",
    "print()\n",
    "\n",
    "print(np.sort(arr, axis=1))"
   ]
  },
  {
   "cell_type": "code",
   "execution_count": null,
   "metadata": {},
   "outputs": [],
   "source": []
  }
 ],
 "metadata": {
  "kernelspec": {
   "display_name": "myVenv",
   "language": "python",
   "name": "python3"
  },
  "language_info": {
   "codemirror_mode": {
    "name": "ipython",
    "version": 3
   },
   "file_extension": ".py",
   "mimetype": "text/x-python",
   "name": "python",
   "nbconvert_exporter": "python",
   "pygments_lexer": "ipython3",
   "version": "3.10.14"
  }
 },
 "nbformat": 4,
 "nbformat_minor": 2
}
