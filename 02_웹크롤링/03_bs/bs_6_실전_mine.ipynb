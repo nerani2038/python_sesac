{
 "cells": [
  {
   "cell_type": "markdown",
   "metadata": {},
   "source": [
    "# 실전 크롤링"
   ]
  },
  {
   "cell_type": "markdown",
   "metadata": {},
   "source": [
    "## 1. 영화랭킹"
   ]
  },
  {
   "cell_type": "markdown",
   "metadata": {},
   "source": [
    "✓ 박스오피스 1~30위 순위의 영화 정보 dictionary로 갖고 오기 \\\n",
    "갖고 올 정보 : 순위, 제목, 관객 수"
   ]
  },
  {
   "cell_type": "code",
   "execution_count": 51,
   "metadata": {},
   "outputs": [],
   "source": [
    "import requests\n",
    "from bs4 import BeautifulSoup\n",
    "\n",
    "URL = 'https://search.naver.com/search.naver?sm=tab_sug.top&where=nexearch&ssc=tab.nx.all&query=%EC%98%81%ED%99%94%EC%88%9C%EC%9C%84&oquery=%EC%98%81%ED%99%94&tqi=iFZ%2BNdqo1aVssu%2B4ZOhssssstzV-222396&acq=%EC%98%81%ED%99%94&acr=2&qdt=0'\n",
    "\n",
    "response = requests.get(URL)\n",
    "soup = BeautifulSoup(response.text, 'html.parser')"
   ]
  },
  {
   "cell_type": "code",
   "execution_count": 52,
   "metadata": {},
   "outputs": [
    {
     "name": "stdout",
     "output_type": "stream",
     "text": [
      "[{'순위': '1', '제목': '소방관', '관객수': '8만명'}, {'순위': '2', '제목': '모아나 2', '관객수': '2.5만명'}, {'순위': '3', '제목': '위키드', '관객수': '1.7만명'}, {'순위': '4', '제목': '대가족', '관객수': '1.7만명'}, {'순위': '5', '제목': '1승', '관객수': '7,652명'}, {'순위': '6', '제목': '서브스턴스', '관객수': '6,318명'}, {'순위': '7', '제목': '퍼스트레이디', '관객수': '5,138명'}, {'순위': '8', '제목': '히든페이스', '관객수': '4,990명'}, {'순위': '9', '제목': '인터스텔라', '관객수': '4,248명'}, {'순위': '10', '제목': '극장판 주술회전 0', '관객수': '2,192명'}, {'순위': '11', '제목': '이처럼 사소한 것들', '관객수': '1,381명'}, {'순위': '12', '제목': '원정빌라', '관객수': '974명'}, {'순위': '13', '제목': '덩케르크', '관객수': '842명'}, {'순위': '14', '제목': '아키라', '관객수': '758명'}, {'순위': '15', '제목': '더 크로우', '관객수': '704명'}, {'순위': '16', '제목': '캐롤', '관객수': '650명'}, {'순위': '17', '제목': '글래디에이터 Ⅱ', '관객수': '636명'}, {'순위': '18', '제목': '매트릭스', '관객수': '587명'}, {'순위': '19', '제목': '크리스마스에 기적을 만날 확률', '관객수': '552명'}, {'순위': '20', '제목': '듄: 파트2', '관객수': '509명'}, {'순위': '21', '제목': '엔시티 드림 미스터리 랩: ...', '관객수': '472명'}, {'순위': '22', '제목': '엠호텔', '관객수': '395명'}, {'순위': '23', '제목': '듄', '관객수': '348명'}, {'순위': '24', '제목': '공각기동대', '관객수': '322명'}, {'순위': '25', '제목': '포레스트 검프', '관객수': '301명'}, {'순위': '26', '제목': '폴라로이드 작동법', '관객수': '287명'}, {'순위': '27', '제목': '시빌 워: 분열의 시대', '관객수': '268명'}, {'순위': '28', '제목': '나의 히어로 아카데미아 더 ...', '관객수': '264명'}, {'순위': '29', '제목': '플레이브 팬 콘서트 ‘헬로,...', '관객수': '251명'}, {'순위': '30', '제목': '면접교섭', '관객수': '200명'}]\n",
      "30\n"
     ]
    }
   ],
   "source": [
    "item_list = soup.select('._panel_popular ._panel .item')\n",
    "\n",
    "result = []\n",
    "\n",
    "for item in item_list:\n",
    "    num = item.select_one('.thumb .cm_thumb_rank_number .this_text').text\n",
    "    title = item.select_one('.title_box .name').text\n",
    "    audions = item.select_one('.title_box .sub_text').text\n",
    "\n",
    "    if int(num) <= 30:\n",
    "        result.append(dict(\n",
    "            순위=num,\n",
    "            제목=title,\n",
    "            관객수=audions\n",
    "        ))\n",
    "\n",
    "# # 순위\n",
    "# ._panel .item .thumb .cm_thumb_rank_number .this_text\n",
    "# # 제목\n",
    "# ._panel .item .title_box .name .get_text()\n",
    "# # 관객수\n",
    "# ._panel .item .title_box .sub_text .get_text()\n",
    "print(result)\n",
    "print(len(result))\n",
    "\n",
    "\n"
   ]
  },
  {
   "cell_type": "markdown",
   "metadata": {},
   "source": [
    "## 2. 주가 크롤링_1\n",
    "- 순위, 종목명, 현재가 "
   ]
  },
  {
   "cell_type": "code",
   "execution_count": 11,
   "metadata": {},
   "outputs": [],
   "source": [
    "import requests\n",
    "from bs4 import BeautifulSoup\n",
    "\n",
    "url = 'https://finance.naver.com/sise/sise_quant.nhn'\n",
    "response = requests.get(url)\n",
    "soup = BeautifulSoup(response.text, 'html.parser')\n"
   ]
  },
  {
   "cell_type": "code",
   "execution_count": null,
   "metadata": {},
   "outputs": [
    {
     "name": "stdout",
     "output_type": "stream",
     "text": [
      "1 대원전선 3,370\n",
      "2 KODEX 200선물인버스2X 2,485\n",
      "3 SG글로벌 3,770\n",
      "4 오리엔트바이오 1,170\n",
      "5 KODEX 코스닥150선물인버스 4,105\n",
      "6 KODEX 코스닥150레버리지 6,890\n",
      "7 코오롱모빌리티그룹 2,880\n",
      "8 한국ANKOR유전 350\n",
      "9 삼부토건 991\n",
      "10 일신석재 2,460\n",
      "11 삼성 인버스 2X WTI원유 선물 ETN 95\n",
      "12 삼성전자 54,200\n",
      "13 KODEX 레버리지 14,515\n",
      "14 TIGER 2차전지TOP10 8,870\n",
      "15 KODEX 인버스 4,700\n",
      "16 일성건설 3,200\n",
      "17 이스타코 1,528\n",
      "18 KODEX 2차전지산업레버리지 1,380\n",
      "19 이수페타시스 25,300\n",
      "20 형지엘리트 1,955\n",
      "21 명문제약 2,050\n",
      "22 대상홀딩스 10,570\n",
      "23 대원전선우 4,630\n",
      "24 한화생명 2,460\n",
      "25 KODEX 코스닥150 11,455\n",
      "26 ACE 포스코그룹포커스 4,420\n",
      "27 인디에프 1,027\n",
      "28 한화투자증권 3,980\n",
      "29 삼성 인버스 2X 코스닥150 선물 ETN 7,555\n",
      "30 KODEX AI전력핵심설비 9,535\n",
      "31 삼일제약 14,400\n",
      "32 동양생명 4,730\n",
      "33 두산에너빌리티 17,670\n",
      "34 KOSEF 미국양자컴퓨팅 10,325\n",
      "35 범양건영 3,460\n",
      "36 금양 26,200\n",
      "37 써니전자 2,480\n",
      "38 에이프로젠 854\n",
      "39 KODEX 200 32,710\n",
      "40 TIGER 2차전지소재Fn 4,290\n",
      "41 TIGER 미국S&P500 21,705\n",
      "42 동원금속 1,384\n",
      "43 태양금속 2,495\n",
      "44 ACE 테슬라밸류체인액티브 20,650\n",
      "45 SK하이닉스 183,800\n",
      "46 신원 1,421\n",
      "47 ACE 미국30년국채액티브(H) 8,105\n",
      "48 한화시스템 20,750\n",
      "49 한국패러랠 162\n",
      "50 TIGER 200선물인버스2X 2,630\n",
      "51 TIGER 2차전지TOP10레버리지 1,539\n",
      "52 삼성중공업 11,120\n",
      "53 대창 1,375\n",
      "54 보해양조 514\n",
      "55 대한전선 11,850\n",
      "56 TIGER 미국필라델피아AI반도체나스닥 11,115\n",
      "57 유한양행 113,000\n",
      "58 우리금융지주 15,330\n",
      "59 HJ중공업 4,180\n",
      "60 KODEX 2차전지산업 12,970\n",
      "61 CJ씨푸드 3,270\n",
      "62 TIGER 화장품 2,680\n",
      "63 TIGER 미국배당다우존스 12,865\n",
      "64 한화오션 32,950\n",
      "65 TIGER 엔비디아미국채커버드콜밸런스(합성) 9,970\n",
      "66 TIGER 미국30년국채커버드콜액티브(H) 8,770\n",
      "67 TIGER 미국테크TOP10 INDXX 25,660\n",
      "68 삼성전자우 44,850\n",
      "69 카카오 43,350\n",
      "70 동양철관 700\n",
      "71 TIGER 차이나전기차SOLACTIVE 9,350\n",
      "72 BNK금융지주 10,800\n",
      "73 참엔지니어링 341\n",
      "74 한국앤컴퍼니 21,300\n",
      "75 파미셀 7,630\n",
      "76 코오롱 15,310\n",
      "77 한미반도체 86,100\n",
      "78 KODEX 미국서학개미 19,730\n",
      "79 체시스 1,133\n",
      "80 TYM 4,900\n",
      "81 SOL 조선TOP3플러스 14,205\n",
      "82 롯데지주 24,100\n",
      "83 신성통상 2,125\n",
      "84 KODEX 미국S&P500TR 19,905\n",
      "85 온타이드 435\n",
      "86 한화리츠 3,525\n",
      "87 TIGER 미국필라델피아반도체나스닥 19,855\n",
      "88 LG유플러스 11,030\n",
      "89 KB금융 85,300\n",
      "90 한국가스공사 35,050\n",
      "91 TIGER 미국배당다우존스타겟커버드콜2호 10,880\n",
      "92 일진전기 27,350\n",
      "93 서원 1,176\n",
      "94 화천기계 2,605\n",
      "95 현대로템 48,550\n",
      "96 진양산업 9,130\n",
      "97 KODEX 미국나스닥100TR 21,185\n",
      "98 KODEX 금융고배당TOP10타겟위클리커버드콜 9,850\n",
      "99 한국종합기술 6,110\n",
      "100 케이카 14,860\n"
     ]
    }
   ],
   "source": [
    "# 순위, 종목명, 현재가\n",
    "# 1 삼성중공업 6,970\n",
    "\n",
    "# 순위\n",
    "# table.type_2 td.no\n",
    "# 종목명\n",
    "# table.type_2 td a.tltle\n",
    "# 현재가\n",
    "# table.type_2 td.number\n",
    "\n",
    "tr_list = soup.select('table tr')\n",
    "\n",
    "for tr in tr_list:\n",
    "    if tr.select_one('td.no'):\n",
    "        no = tr.select_one('td.no').text\n",
    "        title = tr.select_one('td a.tltle').text\n",
    "        number = tr.select_one('td.number').text\n",
    "        print(no, title, number)\n",
    "\n",
    "\n"
   ]
  },
  {
   "cell_type": "markdown",
   "metadata": {},
   "source": [
    "## 3. 주가 크롤링_2\n",
    "- 전일 대비 상승한 항목만 \n",
    "- 순위, 품목명, 현재가, 전일비"
   ]
  },
  {
   "cell_type": "code",
   "execution_count": 43,
   "metadata": {},
   "outputs": [],
   "source": [
    "import requests\n",
    "from bs4 import BeautifulSoup\n",
    "\n",
    "url = 'https://finance.naver.com/sise/sise_quant.nhn'\n",
    "response = requests.get(url)\n",
    "soup = BeautifulSoup(response.text, 'html.parser')"
   ]
  },
  {
   "cell_type": "code",
   "execution_count": 47,
   "metadata": {},
   "outputs": [
    {
     "name": "stdout",
     "output_type": "stream",
     "text": [
      "1 대원전선 3,365 155\n",
      "2 KODEX 200선물인버스2X 2,495 55\n",
      "3 SG글로벌 3,670 405\n",
      "4 오리엔트바이오 1,171 11\n",
      "5 KODEX 코스닥150선물인버스 4,105 55\n",
      "7 코오롱모빌리티그룹 2,790 265\n",
      "8 한국ANKOR유전 350 24\n",
      "10 삼부토건 995 28\n",
      "15 KODEX 인버스 4,710 55\n",
      "19 이수페타시스 26,300 1,350\n",
      "20 명문제약 1,935 54\n",
      "21 형지엘리트 1,993 39\n",
      "23 대상홀딩스 10,580 570\n",
      "25 대원전선우 4,530 710\n",
      "26 KODEX AI전력핵심설비 9,565 150\n",
      "30 삼성 인버스 2X 코스닥150 선물 ETN 7,530 180\n",
      "33 삼일제약 14,210 1,290\n",
      "35 KOSEF 미국양자컴퓨팅 10,325 325\n",
      "36 범양건영 3,500 70\n",
      "40 태양금속 2,515 90\n",
      "42 온타이드 447 38\n",
      "43 TIGER 미국S&P500 21,710 80\n",
      "45 SK하이닉스 183,800 4,500\n",
      "46 ACE 테슬라밸류체인액티브 20,645 1,260\n",
      "49 TIGER 200선물인버스2X 2,640 55\n",
      "50 한국패러랠 164 3\n",
      "55 대창 1,369 3\n",
      "58 CJ씨푸드 3,250 155\n",
      "59 보해양조 511 10\n",
      "60 TIGER 미국필라델피아AI반도체나스닥 11,105 195\n",
      "62 HJ중공업 4,260 355\n",
      "69 TIGER 미국테크TOP10 INDXX 25,680 465\n",
      "71 한국앤컴퍼니 20,450 2,890\n",
      "73 KODEX 미국서학개미 19,740 675\n",
      "74 롯데지주 24,600 2,700\n",
      "76 체시스 1,141 14\n",
      "77 동양철관 699 16\n",
      "78 TIGER 차이나전기차SOLACTIVE 9,350 120\n",
      "79 파미셀 7,640 100\n",
      "80 TIGER 미국필라델피아반도체나스닥 19,860 365\n",
      "81 참엔지니어링 342 9\n",
      "84 한미반도체 86,700 2,900\n",
      "88 한국가스공사 35,250 1,400\n",
      "89 KODEX 미국S&P500TR 19,915 80\n",
      "91 한화리츠 3,530 15\n",
      "94 일진전기 27,650 1,200\n",
      "97 케이카 14,740 1,340\n",
      "98 KODEX 미국나스닥100TR 21,195 320\n"
     ]
    }
   ],
   "source": [
    "# 순위\n",
    "# table.type_2 td.no\n",
    "# 품목명\n",
    "# table.type_2 td a.tltle\n",
    "# 현재가\n",
    "# table.type_2 td.number\n",
    "# 전일비\n",
    "# 상승한 것만\n",
    "# table.type_2 td.number em.bu_p.bu_pup span  .get_text() -> ^='상'\n",
    "# table.type_2 td.number .tah.p11 .get_text()\n",
    "\n",
    "tr_list = soup.select('table tr')\n",
    "\n",
    "for tr in tr_list:\n",
    "    if (tr.select_one('td.no')) and (tr.select_one('td.number em.bu_p.bu_pup span')) and (tr.select_one('td.number em.bu_p.bu_pup span').text == '상승'):\n",
    "        no = tr.select_one('td.no').text.strip()\n",
    "        title = tr.select_one('td a.tltle').text.strip()\n",
    "        number = tr.select_one('td.number').text.strip()\n",
    "        yesterdaty = tr.select_one('td.number .tah.p11').text.strip()\n",
    "        print(no, title, number, yesterdaty)\n",
    "\n"
   ]
  }
 ],
 "metadata": {
  "kernelspec": {
   "display_name": "sesac",
   "language": "python",
   "name": "python3"
  },
  "language_info": {
   "codemirror_mode": {
    "name": "ipython",
    "version": 3
   },
   "file_extension": ".py",
   "mimetype": "text/x-python",
   "name": "python",
   "nbconvert_exporter": "python",
   "pygments_lexer": "ipython3",
   "version": "3.10.15"
  }
 },
 "nbformat": 4,
 "nbformat_minor": 2
}
