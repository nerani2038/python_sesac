{
 "cells": [
  {
   "cell_type": "markdown",
   "metadata": {},
   "source": [
    "# BeautifulSoup 사용해보기 "
   ]
  },
  {
   "cell_type": "markdown",
   "metadata": {},
   "source": [
    "# BeautifulSoup을 활용한 데이터 수집 순서 "
   ]
  },
  {
   "cell_type": "code",
   "execution_count": null,
   "metadata": {},
   "outputs": [],
   "source": [
    "import requests\n",
    "from bs4 import BeautifulSoup\n",
    "\n",
    "url = 'https://crawlingstudy-dd3c9.web.app/01/'\n",
    "\n",
    "source = requests.get(url).text\n",
    "\n",
    "# print(type(source))\n",
    "# print(source)\n",
    "\n",
    "# 파싱(분석 및 구조화)\n",
    "soup = BeautifulSoup(source, 'html.parser') # (response 의 text, html 문서를 parsing)\n",
    "# 인스턴스(객체) = 클래스\n",
    "# 클래스 -> def __init__(self, source, 'html.parser')"
   ]
  },
  {
   "cell_type": "code",
   "execution_count": 7,
   "metadata": {},
   "outputs": [
    {
     "name": "stdout",
     "output_type": "stream",
     "text": [
      "* soup 타입:  <class 'bs4.BeautifulSoup'>\n",
      "* result:  <h1>저의 첫 웹사이트 오신것을 환영합니다.</h1>\n",
      "* result type:  <class 'bs4.element.Tag'>\n",
      "* 태그한 내용만 가져오기:  저의 첫 웹사이트 오신것을 환영합니다.\n",
      "* 태그한 내용의 타입:  <class 'str'>\n"
     ]
    }
   ],
   "source": [
    "\n",
    "result = soup.select_one('h1')\n",
    "print('* soup 타입: ', type(soup))\n",
    "print('* result: ', result)\n",
    "print('* result type: ', type(result))\n",
    "print('* 태그한 내용만 가져오기: ', result.text)\n",
    "print('* 태그한 내용의 타입: ', type(result.text))\n"
   ]
  }
 ],
 "metadata": {
  "kernelspec": {
   "display_name": "sesac",
   "language": "python",
   "name": "python3"
  },
  "language_info": {
   "codemirror_mode": {
    "name": "ipython",
    "version": 3
   },
   "file_extension": ".py",
   "mimetype": "text/x-python",
   "name": "python",
   "nbconvert_exporter": "python",
   "pygments_lexer": "ipython3",
   "version": "3.10.15"
  }
 },
 "nbformat": 4,
 "nbformat_minor": 2
}
