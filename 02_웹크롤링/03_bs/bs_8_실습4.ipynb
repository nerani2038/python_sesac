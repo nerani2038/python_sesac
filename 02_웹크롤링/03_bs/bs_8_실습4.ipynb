{
 "cells": [
  {
   "cell_type": "markdown",
   "metadata": {
    "id": "LpLBZarxHd_6"
   },
   "source": [
    "# 실습 4\n",
    "\n",
    "[문제] 아래 URL 의 뉴스기사 본문에 기사제목, 기사내용, 사람들반응, 댓글을 모두 크롤링하여 json 파일 형태로 저장해주세요 \n",
    "- https://n.news.naver.com/mnews/article/032/0003312694  \n",
    "\\\n",
    "\\\n",
    "예시: \\\n",
    "[{ \\\n",
    "    “title” :  “제목 삽입”, \\\n",
    "    “body” : “본문 삽입“, \\\n",
    "    “reactions”: { \\\n",
    "        “react1”: 0, \\\n",
    "        “react2”:0, … \\\n",
    "    }, \\\n",
    "    “comments” : [ \\\n",
    "        ‘댓글1’, \\\n",
    "        ‘댓글2’, … \\\n",
    "     ] \\\n",
    "}]\n"
   ]
  },
  {
   "cell_type": "code",
   "execution_count": null,
   "metadata": {},
   "outputs": [],
   "source": [
    "✓ 아래 URL 의 뉴스기사 본문에 기사제목, 기사내용, 사람들반응, 댓글을 모두 크롤링하여 json 파일 형태로 저장해주세요\n",
    "https://n.news.naver.com/mnews/article/032/0003312694\n",
    "[{\n",
    "“title” : “제목 삽입”,\n",
    "“body” : “본문 삽입“,\n",
    "“reactions”: {\n",
    "“react1”: 0,\n",
    "“react2”:0, …\n",
    "},\n",
    "“comments” : [\n",
    "‘댓글1’,\n",
    "‘댓글2’, …\n",
    "]\n",
    "}]\n",
    "\n",
    "https://news.like.naver.com/v1/search/contents?suppress_response_codes=true&callback=jQuery331020467169503855254_1734502971275&q=NEWS%5Bne_032_0003312694%5D&isDuplication=false&cssIds=MULTI_MOBILE%2CNEWS_MOBILE&_=1734502971276\n",
    "\n"
   ]
  },
  {
   "cell_type": "code",
   "execution_count": null,
   "metadata": {},
   "outputs": [
    {
     "data": {
      "text/plain": [
       "[{'reactionType': 'analytical',\n",
       "  'count': 1,\n",
       "  'isReacted': False,\n",
       "  'periodUser': None,\n",
       "  'reactionTypeCode': {'name': 'analytical',\n",
       "   'messageCode': 'reaction.type.analytical',\n",
       "   'description': '분석이탁월해요'}},\n",
       " {'reactionType': 'recommend',\n",
       "  'count': 2,\n",
       "  'isReacted': False,\n",
       "  'periodUser': None,\n",
       "  'reactionTypeCode': {'name': 'recommend',\n",
       "   'messageCode': 'reaction.type.recommend',\n",
       "   'description': '추천해요'}},\n",
       " {'reactionType': 'useful',\n",
       "  'count': 1,\n",
       "  'isReacted': False,\n",
       "  'periodUser': None,\n",
       "  'reactionTypeCode': {'name': 'useful',\n",
       "   'messageCode': 'reaction.type.useful',\n",
       "   'description': '유익해요'}},\n",
       " {'reactionType': 'touched',\n",
       "  'count': 21,\n",
       "  'isReacted': False,\n",
       "  'periodUser': None,\n",
       "  'reactionTypeCode': {'name': 'touched',\n",
       "   'messageCode': 'reaction.type.touched',\n",
       "   'description': '감동받았어요'}},\n",
       " {'reactionType': 'wow',\n",
       "  'count': 3,\n",
       "  'isReacted': False,\n",
       "  'periodUser': None,\n",
       "  'reactionTypeCode': {'name': 'wow',\n",
       "   'messageCode': 'reaction.type.wow',\n",
       "   'description': '놀랍네요'}}]"
      ]
     },
     "execution_count": 6,
     "metadata": {},
     "output_type": "execute_result"
    }
   ],
   "source": [
    "import requests\n",
    "from bs4 import BeautifulSoup\n",
    "import json\n",
    "\n",
    "url = 'https://n.news.naver.com/mnews/article/032/0003312694'\n",
    "response = requests.get(url)\n",
    "soup = BeautifulSoup(response.text, 'html.parser')\n",
    "\n",
    "result = []\n",
    "\n",
    "title = soup.select_one('title').text\n",
    "body = soup.select_one('.img_desc').text\n",
    "\n",
    "# reactions\n",
    "reaction_url = 'https://news.like.naver.com/v1/search/contents?suppress_response_codes=true&q=NEWS%5Bne_032_0003312694%5D&isDuplication=false&cssIds=MULTI_MOBILE%2CNEWS_MOBILE&_=1734502971276'\n",
    "reaction_res = requests.get(reaction_url)\n",
    "# reaction_res.text\n",
    "reaction_data = reaction_res.json()\n",
    "# reaction_data\n",
    "# len(reaction_data['contents'])\n",
    "reactions_list = reaction_data['contents'][0]['reactions']\n",
    "# len(reactions_list)\n",
    "for react in reactions_list:\n",
    "    \n",
    "\n",
    "\n",
    "# comments\n",
    "\n",
    "\n"
   ]
  }
 ],
 "metadata": {
  "colab": {
   "provenance": []
  },
  "kernelspec": {
   "display_name": "sesac",
   "language": "python",
   "name": "python3"
  },
  "language_info": {
   "codemirror_mode": {
    "name": "ipython",
    "version": 3
   },
   "file_extension": ".py",
   "mimetype": "text/x-python",
   "name": "python",
   "nbconvert_exporter": "python",
   "pygments_lexer": "ipython3",
   "version": "3.10.15"
  }
 },
 "nbformat": 4,
 "nbformat_minor": 0
}
