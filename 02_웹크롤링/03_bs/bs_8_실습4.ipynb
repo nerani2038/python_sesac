{
 "cells": [
  {
   "cell_type": "markdown",
   "metadata": {
    "id": "LpLBZarxHd_6"
   },
   "source": [
    "# 실습 4\n",
    "\n",
    "[문제] 아래 URL 의 뉴스기사 본문에 기사제목, 기사내용, 사람들반응, 댓글을 모두 크롤링하여 json 파일 형태로 저장해주세요 \n",
    "- https://n.news.naver.com/mnews/article/032/0003312694  \n",
    "\\\n",
    "\\\n",
    "예시: \\\n",
    "[{ \\\n",
    "    “title” :  “제목 삽입”, \\\n",
    "    “body” : “본문 삽입“, \\\n",
    "    “reactions”: { \\\n",
    "        “react1”: 0, \\\n",
    "        “react2”:0, … \\\n",
    "    }, \\\n",
    "    “comments” : [ \\\n",
    "        ‘댓글1’, \\\n",
    "        ‘댓글2’, … \\\n",
    "     ] \\\n",
    "}]\n"
   ]
  },
  {
   "cell_type": "code",
   "execution_count": null,
   "metadata": {},
   "outputs": [],
   "source": [
    "✓ 아래 URL 의 뉴스기사 본문에 기사제목, 기사내용, 사람들반응, 댓글을 모두 크롤링하여 json 파일 형태로 저장해주세요\n",
    "https://n.news.naver.com/mnews/article/032/0003312694\n",
    "[{\n",
    "“title” : “제목 삽입”,\n",
    "“body” : “본문 삽입“,\n",
    "“reactions”: {\n",
    "“react1”: 0,\n",
    "“react2”:0, …\n",
    "},\n",
    "“comments” : [\n",
    "‘댓글1’,\n",
    "‘댓글2’, …\n",
    "]\n",
    "}]\n",
    "\n",
    "https://news.like.naver.com/v1/search/contents?suppress_response_codes=true&callback=jQuery331020467169503855254_1734502971275&q=NEWS%5Bne_032_0003312694%5D&isDuplication=false&cssIds=MULTI_MOBILE%2CNEWS_MOBILE&_=1734502971276\n",
    "\n"
   ]
  },
  {
   "cell_type": "code",
   "execution_count": 17,
   "metadata": {},
   "outputs": [
    {
     "name": "stdout",
     "output_type": "stream",
     "text": [
      "[{'title': '임시현, ‘3관왕’ 달성···남수현 은메달까지, 한국 女 개인전도 쓸었다', 'body': '임시현(오른쪽)이 3일 파리올림픽 양궁 여자 개인전 결승에서 승리해 금메달을 확정한 뒤 남수현과 끌어안고 기뻐하고 있다. 파리 | 로이터연합뉴스', 'reactions': {}, 'comments': []}]\n",
      "<Response [200]>\n",
      "jQuery33102707998917009775_1734569378648({\"success\":false,\"code\":\"3999\",\"message\":\"잘못된 접근입니다.\",\"lang\":\"ko\",\"country\":\"KR\",\"result\":{},\"date\":\"2024-12-19T01:13:45+0000\",\"mode\":0});\n"
     ]
    }
   ],
   "source": [
    "import requests\n",
    "from bs4 import BeautifulSoup\n",
    "import json\n",
    "\n",
    "url = 'https://n.news.naver.com/mnews/article/032/0003312694'\n",
    "response = requests.get(url)\n",
    "soup = BeautifulSoup(response.text, 'html.parser')\n",
    "\n",
    "result = []\n",
    "\n",
    "title = soup.select_one('title').text\n",
    "body = soup.select_one('.img_desc').text\n",
    "\n",
    "result.append(dict(\n",
    "    title=title,\n",
    "    body=body,\n",
    "    reactions={},\n",
    "    comments=[]\n",
    "))\n",
    "\n",
    "print(result)\n",
    "\n",
    "# print(result)\n",
    "# reactions\n",
    "reaction_url = 'https://news.like.naver.com/v1/search/contents?suppress_response_codes=true&q=NEWS%5Bne_032_0003312694%5D&isDuplication=false&cssIds=MULTI_MOBILE%2CNEWS_MOBILE&_=1734502971276'\n",
    "reaction_res = requests.get(reaction_url)\n",
    "# reaction_res.text\n",
    "reaction_data = reaction_res.json()\n",
    "# reaction_data\n",
    "# len(reaction_data['contents'])\n",
    "reactions_list = reaction_data['contents'][0]['reactions']\n",
    "# len(reactions_list)\n",
    "\n",
    "reactions = {}\n",
    "for react in reactions_list:\n",
    "    reactionType = react['reactionType']\n",
    "    count = react['count']\n",
    "\n",
    "    reactions[reactionType] = count\n",
    "\n",
    "result[0]['reactions'] = reactions\n",
    "\n",
    "# print(result)\n",
    "\n",
    "# comments\n",
    "# “comments” : [\n",
    "# ‘댓글1’,\n",
    "# ‘댓글2’, …\n",
    "# ]\n",
    "\n",
    "comments_url = 'https://apis.naver.com/commentBox/cbox/web_naver_list_jsonp.json?ticket=news&templateId=default_world&pool=cbox5&_cv=20241217130331&_callback=jQuery33102707998917009775_1734569378648&lang=ko&country=KR&objectId=news032%2C0003312694&categoryId=&pageSize=20&indexSize=10&groupId=&listType=OBJECT&pageType=more&page=1&initialize=true&followSize=5&userType=&useAltSort=true&replyPageSize=20&sort=FAVORITE&_=1734569378650'\n",
    "comments_headers = {\n",
    "    'authority': 'apis.naver.com',\n",
    "    'user-agent': 'Mozilla/5.0 (Macintosh; Intel Mac OS X 10_15_7) AppleWebKit/537.36 (KHTML, like Gecko) Chrome/131.0.0.0 Safari/537.36'\n",
    "}\n",
    "\n",
    "comments_res = requests.get(comments_url, headers=comments_headers)\n",
    "print(comments_res)\n",
    "print(comments_res.text)\n",
    "\n",
    "\n"
   ]
  }
 ],
 "metadata": {
  "colab": {
   "provenance": []
  },
  "kernelspec": {
   "display_name": "sesac",
   "language": "python",
   "name": "python3"
  },
  "language_info": {
   "codemirror_mode": {
    "name": "ipython",
    "version": 3
   },
   "file_extension": ".py",
   "mimetype": "text/x-python",
   "name": "python",
   "nbconvert_exporter": "python",
   "pygments_lexer": "ipython3",
   "version": "3.10.15"
  }
 },
 "nbformat": 4,
 "nbformat_minor": 0
}
