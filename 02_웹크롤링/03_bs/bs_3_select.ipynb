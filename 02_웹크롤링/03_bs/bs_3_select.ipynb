{
 "cells": [
  {
   "cell_type": "markdown",
   "metadata": {},
   "source": [
    "# select로 크롤링하기 "
   ]
  },
  {
   "cell_type": "markdown",
   "metadata": {},
   "source": [
    "## 1. 종류"
   ]
  },
  {
   "cell_type": "code",
   "execution_count": null,
   "metadata": {},
   "outputs": [],
   "source": [
    "import requests\n",
    "from bs4 import BeautifulSoup\n",
    "\n",
    "url = 'https://crawlingstudy-dd3c9.web.app/01/'\n",
    "\n",
    "source = requests.get(url).text\n",
    "\n",
    "# 파싱(분석 및 구조화)\n",
    "soup = BeautifulSoup(source, 'html.parser') # 파서 생성 및 html 구조화"
   ]
  },
  {
   "cell_type": "markdown",
   "metadata": {},
   "source": [
    "### 주요 차이점: `html.select()` vs. `tag.select()`\n",
    "\n",
    "| **기능**          | **`html.select()`**                         | **`tag.select()`**                           |\n",
    "|--------------------|---------------------------------------------|----------------------------------------------|\n",
    "| **탐색 범위**     | HTML 문서 전체에서 탐색                     | 특정 태그 내부로 탐색 범위를 제한             |\n",
    "| **용도**          | 전체 문서에서 특정 요소를 찾을 때            | 특정 영역 내부에서만 세부적으로 탐색할 때     |\n",
    "| **적용 대상**     | BeautifulSoup 객체 (루트 객체)              | BeautifulSoup 객체에서 선택된 특정 태그       |\n",
    "| **사용 예**       | `.text`, `#id`, `div > p` 등 전체 HTML 구조를 고려한 검색 | 특정 태그 내의 `p`, `.class` 등의 세부 검색   |\n"
   ]
  },
  {
   "cell_type": "code",
   "execution_count": null,
   "metadata": {},
   "outputs": [
    {
     "name": "stdout",
     "output_type": "stream",
     "text": [
      "<class 'bs4.element.ResultSet'>\n",
      "[<p id=\"hello\">\n",
      "    이탈리아 요리의 시작은 기원전 4세기로 거슬러 올라갈 수 있다. 대항해시대를 거치면서 아메리카 대륙에서 감자·토마토·후추·옥수수 등이 유입되어 그 종류와 풍미가 다양해졌고 현대에 이르러서는 피자와 파스타 등 많은 이탈리아 요리가 널리 퍼지게 되었다.\n",
      "</p>, <p id=\"cook\">\n",
      "    전통적인 요리법이나 양식은 상당한 차이가 있지만, 이탈리아 요리는 다른 국가의 요리 문화에서 다양한 영감을 줄 만큼 다양하고 혁신적인 것으로 평가되고 있다. 각 지방마다 고유의 특색이 있어 그 양식도 다양하지만 크게 북부와 남부로 나눌 수 있다. 다른 나라와 국경을 맞대고 있던 북부 지방은 산업화되어 경제적으로 풍족하고 농업이 발달해 쌀이 풍부해 유제품이 다양한 반면 경제적으로 침체되었던 남부 지방은 올리브와 토마토, 모차렐라 치즈가 유명하고 특별히 해산물을 활용한 요리가 많다. 식재료와 치즈 등의 차이는 파스타의 종류와 소스와 수프 등도 다름을 의미한다.\n",
      "</p>]\n"
     ]
    }
   ],
   "source": [
    "p_tag = soup.select('p')\n",
    "print(type(p_tag)) # list 처럼 활용하면 됨\n",
    "print(p_tag)"
   ]
  },
  {
   "cell_type": "code",
   "execution_count": 6,
   "metadata": {},
   "outputs": [
    {
     "name": "stdout",
     "output_type": "stream",
     "text": [
      "2\n",
      "<class 'bs4.element.Tag'>\n",
      "<p id=\"hello\">\n",
      "    이탈리아 요리의 시작은 기원전 4세기로 거슬러 올라갈 수 있다. 대항해시대를 거치면서 아메리카 대륙에서 감자·토마토·후추·옥수수 등이 유입되어 그 종류와 풍미가 다양해졌고 현대에 이르러서는 피자와 파스타 등 많은 이탈리아 요리가 널리 퍼지게 되었다.\n",
      "</p>\n"
     ]
    }
   ],
   "source": [
    "print(len(p_tag))\n",
    "print(type(p_tag[0]))\n",
    "print(p_tag[0])"
   ]
  },
  {
   "cell_type": "markdown",
   "metadata": {},
   "source": [
    "### 1.1 soup.select('css_selector')\n",
    "- 해당되는 태그는 모두 갖고와서 list로 return\n",
    "- html에서 태그를 찾기"
   ]
  },
  {
   "cell_type": "code",
   "execution_count": 15,
   "metadata": {},
   "outputs": [
    {
     "name": "stdout",
     "output_type": "stream",
     "text": [
      "* p_tag:  [<p id=\"hello\">\n",
      "    이탈리아 요리의 시작은 기원전 4세기로 거슬러 올라갈 수 있다. 대항해시대를 거치면서 아메리카 대륙에서 감자·토마토·후추·옥수수 등이 유입되어 그 종류와 풍미가 다양해졌고 현대에 이르러서는 피자와 파스타 등 많은 이탈리아 요리가 널리 퍼지게 되었다.\n",
      "</p>, <p id=\"cook\">\n",
      "    전통적인 요리법이나 양식은 상당한 차이가 있지만, 이탈리아 요리는 다른 국가의 요리 문화에서 다양한 영감을 줄 만큼 다양하고 혁신적인 것으로 평가되고 있다. 각 지방마다 고유의 특색이 있어 그 양식도 다양하지만 크게 북부와 남부로 나눌 수 있다. 다른 나라와 국경을 맞대고 있던 북부 지방은 산업화되어 경제적으로 풍족하고 농업이 발달해 쌀이 풍부해 유제품이 다양한 반면 경제적으로 침체되었던 남부 지방은 올리브와 토마토, 모차렐라 치즈가 유명하고 특별히 해산물을 활용한 요리가 많다. 식재료와 치즈 등의 차이는 파스타의 종류와 소스와 수프 등도 다름을 의미한다.\n",
      "</p>]\n",
      "* p_tag type:  <class 'bs4.element.ResultSet'>\n"
     ]
    }
   ],
   "source": [
    "p_tag = soup.select('p')\n",
    "\n",
    "print('* p_tag: ', p_tag)\n",
    "print('* p_tag type: ', type(p_tag))"
   ]
  },
  {
   "cell_type": "markdown",
   "metadata": {},
   "source": [
    "- tag에서 tag 찾기"
   ]
  },
  {
   "cell_type": "code",
   "execution_count": null,
   "metadata": {},
   "outputs": [
    {
     "name": "stdout",
     "output_type": "stream",
     "text": [
      "* length:  1\n",
      "* table_tags type:  <class 'bs4.element.ResultSet'>\n",
      "* table_tags:  [<table border=\"1\">\n",
      "<thead>\n",
      "<tr>\n",
      "<th class=\"tablehead\">이름</th>\n",
      "<th class=\"tablehead\">나이</th>\n",
      "</tr>\n",
      "</thead>\n",
      "<tbody>\n",
      "<tr>\n",
      "<td>이몽룡</td>\n",
      "<td>34</td>\n",
      "</tr>\n",
      "<tr>\n",
      "<td>홍길동</td>\n",
      "<td>23</td>\n",
      "</tr>\n",
      "</tbody>\n",
      "</table>]\n"
     ]
    }
   ],
   "source": [
    "# 1. table 태그 가져오기 -> html 에서 태그 찾는 방법\n",
    "table_tags = soup.select('table') # return: list (html에서 태그 찾기)\n",
    "print('* length: ', len(table_tags))\n",
    "print('* table_tags type: ', type(table_tags))\n",
    "print('* table_tags: ', table_tags)"
   ]
  },
  {
   "cell_type": "code",
   "execution_count": null,
   "metadata": {},
   "outputs": [
    {
     "name": "stdout",
     "output_type": "stream",
     "text": [
      "* length:  3\n",
      "* tr_tags type:  <class 'bs4.element.ResultSet'>\n",
      "* tr_tags:  [<tr>\n",
      "<th class=\"tablehead\">이름</th>\n",
      "<th class=\"tablehead\">나이</th>\n",
      "</tr>, <tr>\n",
      "<td>이몽룡</td>\n",
      "<td>34</td>\n",
      "</tr>, <tr>\n",
      "<td>홍길동</td>\n",
      "<td>23</td>\n",
      "</tr>]\n"
     ]
    }
   ],
   "source": [
    "# 2. table 에서 tr 태그 가져오기 -> tag에서 tag 찾는 방법\n",
    "# table_tags 로 list 를 만들고 그 안의 table tag 를 가져와야하므로 \n",
    "# table_tags list -> table_tags[0] tag -> 이제 여기서 select\n",
    "tr_tags = table_tags[0].select('tr')\n",
    "print('* length: ', len(tr_tags))\n",
    "print('* tr_tags type: ', type(tr_tags))\n",
    "print('* tr_tags: ', tr_tags)"
   ]
  },
  {
   "cell_type": "markdown",
   "metadata": {},
   "source": [
    "### 1.2 soup.select_one('css_selector')\n",
    "- 해당되는 태그 중 가장 첫 번째 태그만 return \n",
    "- list에 묶이지 않고 태그를 바로 return해줌 \n",
    "- html에서 태그 찾기 "
   ]
  },
  {
   "cell_type": "code",
   "execution_count": null,
   "metadata": {},
   "outputs": [
    {
     "name": "stdout",
     "output_type": "stream",
     "text": [
      "* p_tag type:  <class 'bs4.element.Tag'>\n",
      "* p_tag:  <p id=\"hello\">\n",
      "    이탈리아 요리의 시작은 기원전 4세기로 거슬러 올라갈 수 있다. 대항해시대를 거치면서 아메리카 대륙에서 감자·토마토·후추·옥수수 등이 유입되어 그 종류와 풍미가 다양해졌고 현대에 이르러서는 피자와 파스타 등 많은 이탈리아 요리가 널리 퍼지게 되었다.\n",
      "</p>\n",
      "* p_tag text:  \n",
      "    이탈리아 요리의 시작은 기원전 4세기로 거슬러 올라갈 수 있다. 대항해시대를 거치면서 아메리카 대륙에서 감자·토마토·후추·옥수수 등이 유입되어 그 종류와 풍미가 다양해졌고 현대에 이르러서는 피자와 파스타 등 많은 이탈리아 요리가 널리 퍼지게 되었다.\n",
      "\n"
     ]
    }
   ],
   "source": [
    "# 1. html 에서 태그 가져오기\n",
    "# p 태그 가져오기\n",
    "\n",
    "import requests\n",
    "from bs4 import BeautifulSoup\n",
    "\n",
    "url = 'https://crawlingstudy-dd3c9.web.app/01/'\n",
    "\n",
    "response = requests.get(url)\n",
    "\n",
    "soup = BeautifulSoup(response.text, 'html.parser') # soup: 구조화된 html\n",
    "\n",
    "p_tag = soup.select_one('p')\n",
    "\n",
    "print('* p_tag type: ', type(p_tag)) # tag\n",
    "print('* p_tag: ', p_tag)\n",
    "print('* p_tag text: ', p_tag.text)\n"
   ]
  },
  {
   "cell_type": "markdown",
   "metadata": {},
   "source": [
    "- tag에서 tag찾기 "
   ]
  },
  {
   "cell_type": "code",
   "execution_count": 22,
   "metadata": {},
   "outputs": [
    {
     "name": "stdout",
     "output_type": "stream",
     "text": [
      "* table_tag type:  <class 'bs4.element.Tag'>\n",
      "* table_tag:  <table border=\"1\">\n",
      "<thead>\n",
      "<tr>\n",
      "<th class=\"tablehead\">이름</th>\n",
      "<th class=\"tablehead\">나이</th>\n",
      "</tr>\n",
      "</thead>\n",
      "<tbody>\n",
      "<tr>\n",
      "<td>이몽룡</td>\n",
      "<td>34</td>\n",
      "</tr>\n",
      "<tr>\n",
      "<td>홍길동</td>\n",
      "<td>23</td>\n",
      "</tr>\n",
      "</tbody>\n",
      "</table>\n"
     ]
    }
   ],
   "source": [
    "# 1. html에서 table 태그 가져오기\n",
    "import requests\n",
    "from bs4 import BeautifulSoup\n",
    "\n",
    "response = requests.get(url)\n",
    "\n",
    "soup = BeautifulSoup(response.text, 'html.parser')\n",
    "\n",
    "\n",
    "table_tag = soup.select_one('table')\n",
    "\n",
    "print('* table_tag type: ', type(table_tag)) # tag\n",
    "print('* table_tag: ', table_tag)"
   ]
  },
  {
   "cell_type": "code",
   "execution_count": 23,
   "metadata": {},
   "outputs": [
    {
     "name": "stdout",
     "output_type": "stream",
     "text": [
      "* tr_tag type:  <class 'bs4.element.Tag'>\n",
      "* tr_tag:  <tr>\n",
      "<th class=\"tablehead\">이름</th>\n",
      "<th class=\"tablehead\">나이</th>\n",
      "</tr>\n"
     ]
    }
   ],
   "source": [
    "# 2. \n",
    "tr_tag = table_tag.select_one('tr')\n",
    "\n",
    "print('* tr_tag type: ', type(tr_tag)) # tag\n",
    "print('* tr_tag: ', tr_tag)"
   ]
  },
  {
   "cell_type": "code",
   "execution_count": 24,
   "metadata": {},
   "outputs": [
    {
     "name": "stdout",
     "output_type": "stream",
     "text": [
      "\n",
      "이름\n",
      "나이\n",
      "\n"
     ]
    }
   ],
   "source": [
    "print(tr_tag.text)"
   ]
  },
  {
   "cell_type": "markdown",
   "metadata": {},
   "source": [
    "## 2. css선택자로 태그 갖고오기 "
   ]
  },
  {
   "cell_type": "markdown",
   "metadata": {},
   "source": [
    "### 2.1 id 셀렉터로 태그 갖고오기 \n",
    "- div태그가 여러개 이니깐 id로 원하는 div태그만 갖고올 수 있음 "
   ]
  },
  {
   "cell_type": "code",
   "execution_count": 2,
   "metadata": {},
   "outputs": [
    {
     "name": "stdout",
     "output_type": "stream",
     "text": [
      "* title_list type:  <class 'bs4.element.ResultSet'>\n",
      "* title_list:  [<div class=\"bold blue\" id=\"title\">\n",
      "        안녕하세요 \n",
      "    </div>]\n",
      "--------------------\n",
      "* title type:  <class 'bs4.element.Tag'>\n",
      "* title:  <div class=\"bold blue\" id=\"title\">\n",
      "        안녕하세요 \n",
      "    </div>\n"
     ]
    }
   ],
   "source": [
    "import requests\n",
    "from bs4 import BeautifulSoup\n",
    "\n",
    "url = 'https://crawlingstudy-dd3c9.web.app/02/'\n",
    "\n",
    "response = requests.get(url)\n",
    "\n",
    "soup = BeautifulSoup(response.text, 'html.parser')\n",
    "\n",
    "# id = title 인 태그 가져오기\n",
    "\n",
    "# .select()\n",
    "title_list = soup.select('#title')\n",
    "print('* title_list type: ', type(title_list)) # tag\n",
    "print('* title_list: ', title_list)\n",
    "\n",
    "print('-'*20)\n",
    "\n",
    "# select_one()\n",
    "title = soup.select_one('#title')\n",
    "print('* title type: ', type(title)) # tag\n",
    "print('* title: ', title)"
   ]
  },
  {
   "cell_type": "code",
   "execution_count": null,
   "metadata": {},
   "outputs": [],
   "source": [
    "# id = content 태그 들고오기"
   ]
  },
  {
   "cell_type": "code",
   "execution_count": null,
   "metadata": {},
   "outputs": [],
   "source": [
    "# id = winter 태그 들고오기"
   ]
  },
  {
   "cell_type": "code",
   "execution_count": null,
   "metadata": {},
   "outputs": [],
   "source": []
  },
  {
   "cell_type": "code",
   "execution_count": null,
   "metadata": {},
   "outputs": [],
   "source": []
  },
  {
   "cell_type": "markdown",
   "metadata": {},
   "source": [
    "### 2.2 class 셀렉터로 태그 갖고오기 "
   ]
  },
  {
   "cell_type": "code",
   "execution_count": null,
   "metadata": {},
   "outputs": [],
   "source": []
  },
  {
   "cell_type": "code",
   "execution_count": null,
   "metadata": {},
   "outputs": [],
   "source": []
  },
  {
   "cell_type": "markdown",
   "metadata": {},
   "source": [
    "### 2.3 속성 셀렉터로 태그 갖고오기 \n",
    "- tag[속성~ = ”값”] : 해당 단어와 일치 \n",
    "- tag[속성^ = ”값”] : 해당 값으로 시작\t\n",
    "- tag[속성$ = ”값”] : 해당 값으로 끝나는\t\n",
    "- tag[속성* = ”값”] : 해당 값을 포함하는\n"
   ]
  },
  {
   "cell_type": "code",
   "execution_count": null,
   "metadata": {},
   "outputs": [],
   "source": []
  },
  {
   "cell_type": "code",
   "execution_count": null,
   "metadata": {},
   "outputs": [],
   "source": []
  },
  {
   "cell_type": "code",
   "execution_count": null,
   "metadata": {},
   "outputs": [],
   "source": []
  },
  {
   "cell_type": "code",
   "execution_count": null,
   "metadata": {},
   "outputs": [],
   "source": []
  },
  {
   "cell_type": "markdown",
   "metadata": {},
   "source": [
    "### 2.4 후손 셀렉터로 태그 갖고오기 "
   ]
  },
  {
   "cell_type": "code",
   "execution_count": null,
   "metadata": {},
   "outputs": [],
   "source": []
  },
  {
   "cell_type": "markdown",
   "metadata": {},
   "source": [
    "### 2.5 자식 셀렉터로 태그 갖고오기 "
   ]
  },
  {
   "cell_type": "code",
   "execution_count": null,
   "metadata": {},
   "outputs": [],
   "source": []
  }
 ],
 "metadata": {
  "kernelspec": {
   "display_name": "sesac",
   "language": "python",
   "name": "python3"
  },
  "language_info": {
   "codemirror_mode": {
    "name": "ipython",
    "version": 3
   },
   "file_extension": ".py",
   "mimetype": "text/x-python",
   "name": "python",
   "nbconvert_exporter": "python",
   "pygments_lexer": "ipython3",
   "version": "3.10.15"
  }
 },
 "nbformat": 4,
 "nbformat_minor": 2
}
