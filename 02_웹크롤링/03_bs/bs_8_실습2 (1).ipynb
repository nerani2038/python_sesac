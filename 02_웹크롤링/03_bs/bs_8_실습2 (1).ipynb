{
 "cells": [
  {
   "cell_type": "markdown",
   "metadata": {},
   "source": [
    "## 실습 2. 쇼핑몰 크롤링 \n",
    "- 다섯 페이지의 데이터 갖고와서 json파일로 저장하기 \n",
    "- brandName, goodsName, normalPrice, price \\\n",
    "\n",
    "\n",
    "[{'brand': '페이퍼보이', \\\n",
    "'goodsName': '내추럴리스트 반팔티셔츠-화이트', \\\n",
    "'normalPrice': 39000, \\\n",
    "'price': 29250}, \\\n",
    "{'brand': '브룩스 브라더스', \\\n",
    "'goodsName': '레귤러핏 논아이론 옥스포드 솔리드 스포츠셔츠 (옐로우) (34900363)', \\\n",
    "'normalPrice': 159000, \\\n",
    "'price': 111300}, \\\n",
    "..."
   ]
  },
  {
   "cell_type": "code",
   "execution_count": 14,
   "metadata": {},
   "outputs": [],
   "source": [
    "import requests \n",
    "import json \n",
    "\n",
    "\n",
    "headers = {\n",
    "    'user-agent':'Mozilla/5.0 (Macintosh; Intel Mac OS X 10_15_7) AppleWebKit/537.36 (KHTML, like Gecko) Chrome/131.0.0.0 Safari/537.36'\n",
    "}\n",
    "\n",
    "\n",
    "url = 'https://api.musinsa.com/api2/dp/v1/plp/goods?gf=A&category=001&caller=CATEGORY&page=1&size=30'\n",
    "response = requests.get(url, headers=headers)\n",
    "json_data = response.json() # 파싱 \n",
    "# json_data['data']['list']\n",
    "\n",
    "result = []\n",
    "for data in json_data['data']['list']:\n",
    "    # print(data)\n",
    "\n",
    "    brand = data['brand']\n",
    "    goodsName = data['goodsName']\n",
    "    normalPrice = data['normalPrice']\n",
    "    price = data['price']\n",
    "\n",
    "    result.append(dict(\n",
    "        brand=brand,\n",
    "        goodsName=goodsName,\n",
    "        normalPrice=normalPrice,\n",
    "        price=price\n",
    "    ))\n",
    "\n",
    "\n",
    "result \n",
    "\n",
    "with open('musinsa_datas.json', 'w', encoding='utf-8') as json_file:\n",
    "    json.dump(result, json_file, ensure_ascii=False)"
   ]
  },
  {
   "cell_type": "code",
   "execution_count": 9,
   "metadata": {},
   "outputs": [
    {
     "name": "stdout",
     "output_type": "stream",
     "text": [
      "a\n",
      "b\n"
     ]
    }
   ],
   "source": [
    "\n",
    "a = {'a':1, 'b':2}\n",
    "\n",
    "for i in a:\n",
    "    print(i)"
   ]
  },
  {
   "cell_type": "code",
   "execution_count": 19,
   "metadata": {},
   "outputs": [
    {
     "name": "stdout",
     "output_type": "stream",
     "text": [
      "현재 페이지:  1\n",
      "현재 페이지:  2\n",
      "현재 페이지:  3\n",
      "현재 페이지:  4\n",
      "현재 페이지:  5\n",
      "150\n"
     ]
    }
   ],
   "source": [
    "import requests\n",
    "import json \n",
    "\n",
    "headers = {'User-Agent':\n",
    "'Mozilla/5.0 (Macintosh; Intel Mac OS X 10_15_7) AppleWebKit/537.36 (KHTML, like Gecko) Chrome/131.0.0.0 Safari/537.36'}\n",
    "\n",
    "\n",
    "result = []\n",
    "for i in range(1, 6):\n",
    "\n",
    "    print('현재 페이지: ', i)\n",
    "\n",
    "    url = f'https://api.musinsa.com/api2/dp/v1/plp/goods?gf=A&category=001&caller=CATEGORY&page={i}&size=30'\n",
    "    response = requests.get(url, headers=headers)\n",
    "    # print(response)\n",
    "    # print(response.text)\n",
    "\n",
    "    goods_list = response.json()['data']['list']\n",
    "    \n",
    "    for goods in goods_list:\n",
    "        # print(goods)\n",
    "        \n",
    "        brand = goods['brand']\n",
    "        goodsName = goods['goodsName']\n",
    "        normalPrice = goods['normalPrice']\n",
    "        price = goods['price']\n",
    "\n",
    "        result.append(dict(\n",
    "            # page=response.json()['data']['pagination']['page'],\n",
    "            page=i,\n",
    "            brand=brand,\n",
    "            goodsName=goodsName,\n",
    "            normalPrice=normalPrice,\n",
    "            price=price\n",
    "        ))\n",
    "\n",
    "\n",
    "    # break\n",
    "\n",
    "print(len(result))"
   ]
  },
  {
   "cell_type": "code",
   "execution_count": 20,
   "metadata": {},
   "outputs": [],
   "source": [
    "with open('musinsa_all_pages.json', 'w', encoding='utf-8') as json_file:\n",
    "    json.dump(result, json_file, ensure_ascii=False)"
   ]
  },
  {
   "cell_type": "code",
   "execution_count": null,
   "metadata": {},
   "outputs": [],
   "source": []
  }
 ],
 "metadata": {
  "kernelspec": {
   "display_name": "sesac",
   "language": "python",
   "name": "python3"
  },
  "language_info": {
   "codemirror_mode": {
    "name": "ipython",
    "version": 3
   },
   "file_extension": ".py",
   "mimetype": "text/x-python",
   "name": "python",
   "nbconvert_exporter": "python",
   "pygments_lexer": "ipython3",
   "version": "3.10.15"
  }
 },
 "nbformat": 4,
 "nbformat_minor": 2
}
