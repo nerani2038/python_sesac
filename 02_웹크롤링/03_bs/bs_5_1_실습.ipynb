{
 "cells": [
  {
   "cell_type": "markdown",
   "metadata": {},
   "source": [
    "# 실습 1~3"
   ]
  },
  {
   "cell_type": "code",
   "execution_count": 1,
   "metadata": {},
   "outputs": [],
   "source": [
    "import requests\n",
    "from bs4 import BeautifulSoup\n",
    "\n",
    "url_01 = 'https://crawlingstudy-dd3c9.web.app/01/'\n",
    "url_02 = 'https://crawlingstudy-dd3c9.web.app/02/'\n",
    "\n",
    "reponse_01 = requests.get(url_01)\n",
    "soup_01 = BeautifulSoup(reponse_01.text, 'html.parser')\n",
    "\n",
    "reponse_02 = requests.get(url_02)\n",
    "soup_02 = BeautifulSoup(reponse_02.text, 'html.parser')"
   ]
  },
  {
   "cell_type": "markdown",
   "metadata": {},
   "source": [
    "## 실습 01. \n",
    "[문제]\\\n",
    "HTML문서 내에 ID가 cook인 태그의 내용을 출력해주세요"
   ]
  },
  {
   "cell_type": "code",
   "execution_count": 4,
   "metadata": {},
   "outputs": [
    {
     "name": "stdout",
     "output_type": "stream",
     "text": [
      "전통적인 요리법이나 양식은 상당한 차이가 있지만, 이탈리아 요리는 다른 국가의 요리 문화에서 다양한 영감을 줄 만큼 다양하고 혁신적인 것으로 평가되고 있다. 각 지방마다 고유의 특색이 있어 그 양식도 다양하지만 크게 북부와 남부로 나눌 수 있다. 다른 나라와 국경을 맞대고 있던 북부 지방은 산업화되어 경제적으로 풍족하고 농업이 발달해 쌀이 풍부해 유제품이 다양한 반면 경제적으로 침체되었던 남부 지방은 올리브와 토마토, 모차렐라 치즈가 유명하고 특별히 해산물을 활용한 요리가 많다. 식재료와 치즈 등의 차이는 파스타의 종류와 소스와 수프 등도 다름을 의미한다.\n"
     ]
    }
   ],
   "source": [
    "cook_tag = soup_01.select_one('#cook')\n",
    "print(cook_tag.text.strip())"
   ]
  },
  {
   "cell_type": "code",
   "execution_count": 38,
   "metadata": {},
   "outputs": [
    {
     "name": "stdout",
     "output_type": "stream",
     "text": [
      "\n",
      "    전통적인 요리법이나 양식은 상당한 차이가 있지만, 이탈리아 요리는 다른 국가의 요리 문화에서 다양한 영감을 줄 만큼 다양하고 혁신적인 것으로 평가되고 있다. 각 지방마다 고유의 특색이 있어 그 양식도 다양하지만 크게 북부와 남부로 나눌 수 있다. 다른 나라와 국경을 맞대고 있던 북부 지방은 산업화되어 경제적으로 풍족하고 농업이 발달해 쌀이 풍부해 유제품이 다양한 반면 경제적으로 침체되었던 남부 지방은 올리브와 토마토, 모차렐라 치즈가 유명하고 특별히 해산물을 활용한 요리가 많다. 식재료와 치즈 등의 차이는 파스타의 종류와 소스와 수프 등도 다름을 의미한다.\n",
      "\n"
     ]
    }
   ],
   "source": [
    "# 쌤 답안\n",
    "result = soup_01.select_one('#cook')\n",
    "print(result.text)"
   ]
  },
  {
   "cell_type": "markdown",
   "metadata": {},
   "source": [
    "## 실습 02. \n",
    "[문제]\\\n",
    "HTML문서의 Table 내에 th와 td에 있는 값들을 크롤링해 아래와 같은 딕셔너리 형태를 만들어 보세요. "
   ]
  },
  {
   "cell_type": "markdown",
   "metadata": {},
   "source": [
    "[{'이름': '이몽룡', '나이': '34'}, {'이름': '홍길동', '나이': '23’}]"
   ]
  },
  {
   "cell_type": "code",
   "execution_count": null,
   "metadata": {},
   "outputs": [
    {
     "data": {
      "text/plain": [
       "[{'이름': '이몽룡', '나이': '34'}, {'이름': '홍길동', '나이': '23'}]"
      ]
     },
     "execution_count": 68,
     "metadata": {},
     "output_type": "execute_result"
    }
   ],
   "source": [
    "import requests\n",
    "from bs4 import BeautifulSoup\n",
    "\n",
    "response = requests.get('https://crawlingstudy-dd3c9.web.app/01/')\n",
    "soup = BeautifulSoup(response.text, 'html.parser')\n",
    "\n",
    "# -----------key값 리스트에 담기-----------\n",
    "th_list = soup.select('thead th')\n",
    "# print(th_list) # [<th class=\"tablehead\">이름</th>, <th class=\"tablehead\">나이</th>]\n",
    "\n",
    "keys = []\n",
    "for tag in th_list:\n",
    "    keys.append(tag.text)\n",
    "# print(keys) # ['이름', '나이']\n",
    "\n",
    "# -----------value값 리스트에 담기-----------\n",
    "tr_list = soup.select('tbody tr')\n",
    "# print(tr_list)\n",
    "'''\n",
    "[<tr>\n",
    "<td>이몽룡</td>\n",
    "<td>34</td>\n",
    "</tr>, <tr>\n",
    "<td>홍길동</td>\n",
    "<td>23</td>\n",
    "</tr>]\n",
    "'''\n",
    "\n",
    "result = []\n",
    "for tr in tr_list:\n",
    "    values = []\n",
    "\n",
    "    for td in tr.select('td'):\n",
    "        values.append(td.text)\n",
    "    # print(values)\n",
    "    '''\n",
    "    ['이몽룡', '34']\n",
    "    ['홍길동', '23']\n",
    "    '''\n",
    "\n",
    "    result.append(dict(zip(keys, values)))\n",
    "result\n",
    "# [{'이름': '이몽룡', '나이': '34'}, {'이름': '홍길동', '나이': '23'}]\n"
   ]
  },
  {
   "cell_type": "code",
   "execution_count": 56,
   "metadata": {},
   "outputs": [
    {
     "name": "stdout",
     "output_type": "stream",
     "text": [
      "[{'이름': '이몽룡', '나이': '34'}, {'이름': '이몽룡', '나이': '34'}]\n"
     ]
    }
   ],
   "source": [
    "# 쌤 답안\n",
    "# th 가져오기\n",
    "th_list = soup_01.select('thead th') # list\n",
    "# print(th_list)\n",
    "# print('-'*20)\n",
    "\n",
    "# for문으로 key값 가져오기\n",
    "keys = []\n",
    "for tag in th_list:\n",
    "    keys.append(tag.text)\n",
    "# print(keys)\n",
    "# print('-'*20)\n",
    "\n",
    "# td 가져오기\n",
    "td_list = soup_01.select('tbody td')\n",
    "# print(td_list)\n",
    "# print('-'*20)\n",
    "\n",
    "# for문으로 value값 가져오기\n",
    "values = []\n",
    "for tag in td_list:\n",
    "    values.append(tag.text)\n",
    "# print(values)\n",
    "# print('-'*20)\n",
    "\n",
    "# zip\n",
    "# dict(zip(keys, values))\n",
    "\n",
    "# 결과\n",
    "result =[]\n",
    "for th in th_list:\n",
    "    values = []\n",
    "    # 중첩포문\n",
    "    for td in td_list:\n",
    "        values.append(td.text)\n",
    "\n",
    "    result.append(dict(zip(keys, values)))\n",
    "\n",
    "print(result)\n"
   ]
  },
  {
   "cell_type": "markdown",
   "metadata": {},
   "source": [
    "- th 갖고오기"
   ]
  },
  {
   "cell_type": "markdown",
   "metadata": {},
   "source": []
  },
  {
   "cell_type": "code",
   "execution_count": 62,
   "metadata": {},
   "outputs": [
    {
     "name": "stdout",
     "output_type": "stream",
     "text": [
      "[<th class=\"tablehead\">이름</th>, <th class=\"tablehead\">나이</th>]\n",
      "[<tr>\n",
      "<td>이몽룡</td>\n",
      "<td>34</td>\n",
      "</tr>, <tr>\n",
      "<td>홍길동</td>\n",
      "<td>23</td>\n",
      "</tr>]\n",
      "['이름', '나이']\n",
      "===== ['이름', '나이']\n",
      "===== ['이몽룡', '34']\n",
      "===== ['이름', '나이']\n",
      "===== ['홍길동', '23']\n",
      "[{'이름': '이몽룡', '나이': '34'}, {'이름': '홍길동', '나이': '23'}]\n"
     ]
    }
   ],
   "source": [
    "table_list = soup_01.select('table')\n",
    "# print(table_list)\n",
    "th_tag = table_list[0].select('thead th')\n",
    "tr_tag = table_list[0].select('tbody tr')\n",
    "# td_tag = table_list[0].select('tbody td')\n",
    "print(th_tag) # [<th class=\"tablehead\">이름</th>, <th class=\"tablehead\">나이</th>]\n",
    "# print(td_tag)\n",
    "print(tr_tag) \n",
    "'''\n",
    "[<tr>\n",
    "<td>이몽룡</td>\n",
    "<td>34</td>\n",
    "</tr>, <tr>\n",
    "<td>홍길동</td>\n",
    "<td>23</td>\n",
    "</tr>]\n",
    "'''\n",
    "\n",
    "th_tag_data = []\n",
    "for tag in th_tag:\n",
    "    th_tag_data.append(tag.text)\n",
    "print(th_tag_data) #['이름', '나이'] <- key 값\n",
    "\n",
    "# td_tag_data = []\n",
    "# for tag in td_tag:\n",
    "    # td_tag_data.append(tag.text)\n",
    "# print(td_tag_data)\n",
    "\n",
    "# tablehead = th_tag[0].select('th')\n",
    "\n",
    "result = []\n",
    "\n",
    "for tr in tr_tag:\n",
    "    td_list = tr.select('td')\n",
    "    # [<td>이몽룡</td>, <td>34</td>]\n",
    "    # [<td>홍길동</td>, <td>23</td>]\n",
    "\n",
    "    values = []\n",
    "    for td in td_list: # [<td>이몽룡</td>, <td>34</td>]\n",
    "        values.append(td.text) # <td>이몽룡</td>.text\n",
    "        # ['이몽룡', '34']\n",
    "    print('=====', th_tag_data)\n",
    "    print('=====', values)\n",
    "    result.append(dict(zip(th_tag_data, values)))\n",
    "\n",
    "print(result)\n",
    "\n"
   ]
  },
  {
   "cell_type": "code",
   "execution_count": null,
   "metadata": {},
   "outputs": [],
   "source": []
  },
  {
   "cell_type": "markdown",
   "metadata": {},
   "source": [
    "- td 갖고오기"
   ]
  },
  {
   "cell_type": "code",
   "execution_count": null,
   "metadata": {},
   "outputs": [],
   "source": []
  },
  {
   "cell_type": "code",
   "execution_count": null,
   "metadata": {},
   "outputs": [],
   "source": []
  },
  {
   "cell_type": "code",
   "execution_count": null,
   "metadata": {},
   "outputs": [],
   "source": []
  },
  {
   "cell_type": "markdown",
   "metadata": {},
   "source": [
    "## 실습 03. \n",
    "\n",
    "[문제] \\\n",
    "HTML문서 내에 모든 A태그에 링크된 페이지에 있는 내용을 읽어 출력해주세요."
   ]
  },
  {
   "cell_type": "code",
   "execution_count": 59,
   "metadata": {},
   "outputs": [
    {
     "data": {
      "text/plain": [
       "['01.html', '02.html', '03.html', '04.html']"
      ]
     },
     "execution_count": 59,
     "metadata": {},
     "output_type": "execute_result"
    }
   ],
   "source": [
    "# a_tags = soup_01.find_all('a')\n",
    "# print(a_tags)\n",
    "# url = a_tags[0].attrs\n",
    "# print(url) # 딕셔너리\n",
    "\n",
    "urls = []\n",
    "\n",
    "for tag in soup_01.select('a'):\n",
    "    urls.append(tag.attrs['href']) # attrs 딕셔너리에서 'href' 키값으로 인덱싱하는것\n",
    "\n",
    "urls\n",
    "\n",
    "# print(urls)"
   ]
  },
  {
   "cell_type": "code",
   "execution_count": 60,
   "metadata": {},
   "outputs": [
    {
     "name": "stdout",
     "output_type": "stream",
     "text": [
      "크롤링 연습사이트 01-1 페이지입니다.\n",
      "크롤링 연습사이트 01-2 페이지입니다.\n",
      "크롤링 연습사이트 01-3 페이지입니다.\n",
      "크롤링 연습사이트 01-4 페이지입니다.\n"
     ]
    }
   ],
   "source": [
    "# ulr 바꿔가며 p 태그의 내용 들고 오기\n",
    "for url in urls:\n",
    "    res = requests.get(url_01 + url)\n",
    "    soup = BeautifulSoup(res.text, 'html.parser')\n",
    "\n",
    "    text = soup.select_one('p').text.strip()\n",
    "    print(text)"
   ]
  },
  {
   "cell_type": "code",
   "execution_count": 22,
   "metadata": {},
   "outputs": [
    {
     "name": "stdout",
     "output_type": "stream",
     "text": [
      "01.html\n",
      "02.html\n",
      "03.html\n",
      "04.html\n"
     ]
    }
   ],
   "source": [
    "a_list = soup_01.find_all('a')\n",
    "# a_list\n",
    "\n",
    "for tag in a_list:\n",
    "    print(tag.attrs['href'])\n",
    "\n",
    "# a_tags = soup_01.find('a').attrs['href']\n",
    "# a_tags"
   ]
  },
  {
   "cell_type": "code",
   "execution_count": null,
   "metadata": {},
   "outputs": [],
   "source": []
  }
 ],
 "metadata": {
  "kernelspec": {
   "display_name": "sesac",
   "language": "python",
   "name": "python3"
  },
  "language_info": {
   "codemirror_mode": {
    "name": "ipython",
    "version": 3
   },
   "file_extension": ".py",
   "mimetype": "text/x-python",
   "name": "python",
   "nbconvert_exporter": "python",
   "pygments_lexer": "ipython3",
   "version": "3.10.15"
  }
 },
 "nbformat": 4,
 "nbformat_minor": 2
}
