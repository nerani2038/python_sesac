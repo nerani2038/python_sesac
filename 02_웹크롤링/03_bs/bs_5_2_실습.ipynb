{
 "cells": [
  {
   "cell_type": "markdown",
   "metadata": {},
   "source": [
    "# 실습 4~7"
   ]
  },
  {
   "cell_type": "code",
   "execution_count": 25,
   "metadata": {},
   "outputs": [],
   "source": [
    "import requests\n",
    "from bs4 import BeautifulSoup\n",
    "\n",
    "response = requests.get('https://crawlingstudy-dd3c9.web.app/03/')\n",
    "soup = BeautifulSoup(response.text, 'html.parser')"
   ]
  },
  {
   "cell_type": "markdown",
   "metadata": {},
   "source": [
    "---\n",
    "## 실습 04. \n",
    "\n",
    "[문제] \\\n",
    "사이트내에 인기검색종목과 주요해외지수를 각각 크롤링하여 종목명과 주가지수를 아래와 같이 리스트로 정리해주세요. \\\n",
    "\\\n",
    "\\\n",
    "[결과]\n",
    "- 인기검색종목 \\\n",
    "[['써니전자', '5,000'], ['삼성전자', '55,200'], ['안랩', '81,000'], ['케이엠더블..', '57,300'], ['피피아이', '12,600’], \\\n",
    "['KT&G', '92,500'], ['삼성전자우', '45,600'], ['대양금속', '10,550'], ['SK하이닉스', '94,700'], ['SK텔레콤', '234,000’]]\n",
    "\n",
    "- 주요해외지수 \\\n",
    "[['다우산업', '28,647.43'], ['나스닥', '9,015.03'], ['홍콩H', '11,320.56'], ['상해종합', '3,085.20'], ['니케이225', '23,656.62']]\n",
    "\n"
   ]
  },
  {
   "cell_type": "code",
   "execution_count": null,
   "metadata": {},
   "outputs": [
    {
     "name": "stdout",
     "output_type": "stream",
     "text": [
      "[<li class=\"up\"><em>1.</em><a href=\"https://finance.naver.com/item/main.nhn?code=004770\">써니전자</a><span>5,000</span><img alt=\"상한\" height=\"11\" src=\"https://ssl.pstatic.net/static/nfinance/ico_up2.gif\" width=\"7\"/></li>, <li class=\"dn\"><em>2.</em><a href=\"https://finance.naver.com/item/main.nhn?code=005930\">삼성전자</a><span>55,200</span><img alt=\"하락\" height=\"6\" src=\"https://ssl.pstatic.net/static/nfinance/ico_down.gif\" width=\"7\"/></li>, <li class=\"up\"><em>3.</em><a href=\"https://finance.naver.com/item/main.nhn?code=053800\">안랩</a><span>81,000</span><img alt=\"상승\" height=\"6\" src=\"https://ssl.pstatic.net/static/nfinance/ico_up.gif\" width=\"7\"/></li>, <li class=\"up\"><em>4.</em><a href=\"https://finance.naver.com/item/main.nhn?code=032500\">케이엠더블..</a><span>57,300</span><img alt=\"상승\" height=\"6\" src=\"https://ssl.pstatic.net/static/nfinance/ico_up.gif\" width=\"7\"/></li>, <li class=\"up\"><em>5.</em><a href=\"https://finance.naver.com/item/main.nhn?code=062970\">피피아이</a><span>12,600</span><img alt=\"상한\" height=\"11\" src=\"https://ssl.pstatic.net/static/nfinance/ico_up2.gif\" width=\"7\"/></li>, <li class=\"dn\"><em>6.</em><a href=\"https://finance.naver.com/item/main.nhn?code=033780\">KT&amp;G</a><span>92,500</span><img alt=\"하락\" height=\"6\" src=\"https://ssl.pstatic.net/static/nfinance/ico_down.gif\" width=\"7\"/></li>, <li class=\"up\"><em>7.</em><a href=\"https://finance.naver.com/item/main.nhn?code=005935\">삼성전자우</a><span>45,600</span><img alt=\"상승\" height=\"6\" src=\"https://ssl.pstatic.net/static/nfinance/ico_up.gif\" width=\"7\"/></li>, <li class=\"dn\"><em>8.</em><a href=\"https://finance.naver.com/item/main.nhn?code=009190\">대양금속</a><span>10,550</span><img alt=\"하한\" height=\"11\" src=\"https://ssl.pstatic.net/static/nfinance/ico_down2.gif\" width=\"7\"/></li>, <li class=\"up\"><em>9.</em><a href=\"https://finance.naver.com/item/main.nhn?code=000660\">SK하이닉스</a><span>94,700</span><img alt=\"상승\" height=\"6\" src=\"https://ssl.pstatic.net/static/nfinance/ico_up.gif\" width=\"7\"/></li>, <li class=\"dn\"><em>10.</em><a href=\"https://finance.naver.com/item/main.nhn?code=017670\">SK텔레콤</a><span>234,000</span><img alt=\"하락\" height=\"6\" src=\"https://ssl.pstatic.net/static/nfinance/ico_down.gif\" width=\"7\"/></li>]\n",
      "10\n",
      "[['써니전자', '5,000'], ['삼성전자', '55,200'], ['안랩', '81,000'], ['케이엠더블..', '57,300'], ['피피아이', '12,600'], ['KT&G', '92,500'], ['삼성전자우', '45,600'], ['대양금속', '10,550'], ['SK하이닉스', '94,700'], ['SK텔레콤', '234,000']]\n",
      "5\n",
      "[['다우산업', '28,647.43'], ['나스닥', '9,015.03'], ['홍콩H', '11,320.56'], ['상해종합', '3,085.20'], ['니케이225', '23,656.62']]\n"
     ]
    }
   ],
   "source": [
    "# 쌤답안\n",
    "\n",
    "# 인기\n",
    "popular_tags = soup.select('ul.lst_pop > li')\n",
    "\n",
    "popular_list = []\n",
    "for li_tag in popular_tags:\n",
    "    name = li_tag.select_one('a').get_text()\n",
    "    price = li_tag.select_one('span').get_text()\n",
    "\n",
    "    popular_list.append([name, price])\n",
    "\n",
    "print(len(popular_list))\n",
    "print(popular_list)\n",
    "\n",
    "# 주요해외지수\n",
    "major_tags = soup.select('ul.lst_major > li')\n",
    "\n",
    "major_list = []\n",
    "for li_tag in major_tags:\n",
    "    name = li_tag.select_one('a').text\n",
    "    price = li_tag.select_one('span').text\n",
    "\n",
    "    major_list.append([name, price])\n",
    "\n",
    "print(len(major_list))\n",
    "print(major_list)"
   ]
  },
  {
   "cell_type": "code",
   "execution_count": null,
   "metadata": {},
   "outputs": [
    {
     "name": "stdout",
     "output_type": "stream",
     "text": [
      "[['써니전자', '5,000'], ['삼성전자', '55,200'], ['안랩', '81,000'], ['케이엠더블..', '57,300'], ['피피아이', '12,600'], ['KT&G', '92,500'], ['삼성전자우', '45,600'], ['대양금속', '10,550'], ['SK하이닉스', '94,700'], ['SK텔레콤', '234,000']]\n",
      "[['다우산업', '28,647.43'], ['나스닥', '9,015.03'], ['홍콩H', '11,320.56'], ['상해종합', '3,085.20'], ['니케이225', '23,656.62']]\n"
     ]
    }
   ],
   "source": [
    "# 인기검색종목\n",
    "pop_list = soup.select('#popularItemList li')\n",
    "# print(pop_list[0])\n",
    "\n",
    "pop_result = []\n",
    "for tag in pop_list:\n",
    "    values = []\n",
    "    values.append(tag.select_one('a').text)\n",
    "    values.append(tag.select_one('span').text)\n",
    "\n",
    "    pop_result.append(values)\n",
    "\n",
    "print(pop_result)\n",
    "\n",
    "# 주요해외지수\n",
    "major_list = soup.select('.lst_major li')\n",
    "# print(major_list)\n",
    "\n",
    "major_result = []\n",
    "for tag in major_list:\n",
    "    values = []\n",
    "    values.append(tag.select_one('a').text)\n",
    "    values.append(tag.select_one('span').text)\n",
    "\n",
    "    major_result.append(values)\n",
    "\n",
    "print(major_result)\n",
    "\n"
   ]
  },
  {
   "cell_type": "markdown",
   "metadata": {},
   "source": [
    "---\n",
    "## 실습 05. \n",
    "\n",
    "[문제] \\\n",
    "사이트내에 인기검색종목과 주요해외지수를 각각 크롤링하여 종목명과 상한, 하한 여부를 아래와 같이 리스트로 정리해주세요. \\\n",
    "\\\n",
    "\\\n",
    "[결과] \n",
    "\n",
    "- 인기검색종목 \\\n",
    "[['써니전자', '상한'], ['삼성전자', '하한'], ['안랩', '상한'], ['케이엠더블..', '상한'], ['피피아이', '상한’], \\\n",
    "['KT&G', '하한'], ['삼성전자우', '상한'], \\['대양금속', '하한'], ['SK하이닉스', '상한'], ['SK텔레콤', '하한’]] \n",
    "\n",
    "- 주요해외지수 \\\n",
    "[['다우산업', '상한'], ['나스닥', '상한'], ['홍콩H', '상한'], ['상해종합', '상한'], ['니케이225', '하한']]\n",
    "\n"
   ]
  },
  {
   "cell_type": "code",
   "execution_count": 37,
   "metadata": {},
   "outputs": [
    {
     "name": "stdout",
     "output_type": "stream",
     "text": [
      "10\n",
      "[['써니전자', '상한'], ['삼성전자', '하락'], ['안랩', '상승'], ['케이엠더블..', '상승'], ['피피아이', '상한'], ['KT&G', '하락'], ['삼성전자우', '상승'], ['대양금속', '하한'], ['SK하이닉스', '상승'], ['SK텔레콤', '하락']]\n",
      "5\n",
      "[['다우산업', '상한'], ['나스닥', '상한'], ['홍콩H', '상한'], ['상해종합', '상한'], ['니케이225', '하락']]\n"
     ]
    }
   ],
   "source": [
    "# 쌤 답안\n",
    "\n",
    "# 인기\n",
    "popular_tags = soup.select('#popularItemList > li')\n",
    "\n",
    "popular_list = []\n",
    "for tag in popular_tags:\n",
    "    name = tag.select_one('a').get_text()\n",
    "    up_down = tag.select_one('img').attrs['alt']\n",
    "    # print(tag.select_one('img').attrs) # {'height': '11', 'width': '7', 'alt': '상한', 'src': 'https://ssl.pstatic.net/static/nfinance/ico_up2.gif'}\n",
    "    \n",
    "    popular_list.append([name, up_down])\n",
    "\n",
    "print(len(popular_list))\n",
    "print(popular_list)\n",
    "\n",
    "# 주요해외지수\n",
    "major_tags = soup.select('.lst_major > li')\n",
    "\n",
    "major_list = []\n",
    "for tag in major_tags:\n",
    "    name = tag.select_one('a').get_text()\n",
    "    up_down = tag.select_one('img').attrs['alt']\n",
    "\n",
    "    major_list.append([name, up_down])\n",
    "\n",
    "print(len(major_list))\n",
    "print(major_list)"
   ]
  },
  {
   "cell_type": "code",
   "execution_count": 19,
   "metadata": {},
   "outputs": [
    {
     "name": "stdout",
     "output_type": "stream",
     "text": [
      "[['써니전자', '상한'], ['삼성전자', '하락'], ['안랩', '상승'], ['케이엠더블..', '상승'], ['피피아이', '상한'], ['KT&G', '하락'], ['삼성전자우', '상승'], ['대양금속', '하한'], ['SK하이닉스', '상승'], ['SK텔레콤', '하락']]\n",
      "[['다우산업', '상한'], ['나스닥', '상한'], ['홍콩H', '상한'], ['상해종합', '상한'], ['니케이225', '하락']]\n"
     ]
    }
   ],
   "source": [
    "# 인기검색종목\n",
    "pop_list = soup.select('#popularItemList li')\n",
    "# print(pop_list[0])\n",
    "\n",
    "pop_result = []\n",
    "for tag in pop_list:\n",
    "    values = []\n",
    "    values.append(tag.select_one('a').text)\n",
    "    values.append(tag.find('img').attrs['alt'])\n",
    "\n",
    "    pop_result.append(values)\n",
    "\n",
    "print(pop_result)\n",
    "\n",
    "# html_01_url = soup.find('a').attrs['href']\n",
    "\n",
    "# 주요해외지수\n",
    "major_list = soup.select('.lst_major li')\n",
    "# print(major_list)\n",
    "\n",
    "major_result = []\n",
    "for tag in major_list:\n",
    "    values = []\n",
    "    values.append(tag.select_one('a').text)\n",
    "    values.append(tag.find('img').attrs['alt'])\n",
    "\n",
    "    major_result.append(values)\n",
    "\n",
    "print(major_result)\n"
   ]
  },
  {
   "cell_type": "markdown",
   "metadata": {},
   "source": [
    "---\n",
    "## 실습 06. \n",
    "\n",
    "[문제] \\\n",
    "사이트내에 인기검색종목과 주요해외지수를 각각 상한가인 종목만 크롤링하여 종목명과 주가지수를 아래와 같이 리스트로 정리해주세요.\n",
    "\n",
    "\n",
    "[결과]\n",
    "\n",
    "- 인기검색종목 \\\n",
    "[['써니전자', '5,000'], ['안랩', '81,000'], ['케이엠더블..', '57,300'], ['피피아이', '12,600’], ['삼성전자우', '45,600'], ['SK하이닉스', '94,700’]]\n",
    "\n",
    "- 주요해외지수 \\\n",
    "[['다우산업', '28,647.43'], ['나스닥', '9,015.03'], ['홍콩H', '11,320.56'], ['상해종합', '3,085.20']]\n"
   ]
  },
  {
   "cell_type": "code",
   "execution_count": 39,
   "metadata": {},
   "outputs": [
    {
     "name": "stdout",
     "output_type": "stream",
     "text": [
      "6\n",
      "[['써니전자', '5,000'], ['안랩', '81,000'], ['케이엠더블..', '57,300'], ['피피아이', '12,600'], ['삼성전자우', '45,600'], ['SK하이닉스', '94,700']]\n",
      "4\n",
      "[['다우산업', '28,647.43'], ['나스닥', '9,015.03'], ['홍콩H', '11,320.56'], ['상해종합', '3,085.20']]\n"
     ]
    }
   ],
   "source": [
    "# 쌤답안\n",
    "\n",
    "# 인기\n",
    "popular_tags = soup.select('#popularItemList > li')\n",
    "\n",
    "popular_list = []\n",
    "for tag in popular_tags:\n",
    "    if(tag.select_one('img').attrs['alt'] == '상한') or (tag.select_one('img').attrs['alt'] == '상승'):\n",
    "        name = tag.select_one('a').get_text()\n",
    "        price = tag.select_one('span').get_text()\n",
    "\n",
    "        popular_list.append([name, price])\n",
    "    \n",
    "    continue\n",
    "\n",
    "print(len(popular_list))\n",
    "print(popular_list)\n",
    "\n",
    "# 주요\n",
    "major_tags = soup.select('.lst_major > li')\n",
    "\n",
    "major_list = []\n",
    "for tag in major_tags:\n",
    "    if(tag.select_one('img').attrs['alt'] == '상한') or (tag.select_one('img').attrs['alt'] == '상승'):\n",
    "        name = tag.select_one('a').get_text()\n",
    "        price = tag.select_one('span').get_text()\n",
    "\n",
    "        major_list.append([name, price])\n",
    "    \n",
    "    continue\n",
    "\n",
    "print(len(major_list))\n",
    "print(major_list)\n"
   ]
  },
  {
   "cell_type": "code",
   "execution_count": 23,
   "metadata": {},
   "outputs": [
    {
     "name": "stdout",
     "output_type": "stream",
     "text": [
      "[['써니전자', '5,000'], ['안랩', '81,000'], ['케이엠더블..', '57,300'], ['피피아이', '12,600'], ['삼성전자우', '45,600'], ['SK하이닉스', '94,700']]\n",
      "[['다우산업', '28,647.43'], ['나스닥', '9,015.03'], ['홍콩H', '11,320.56'], ['상해종합', '3,085.20']]\n"
     ]
    }
   ],
   "source": [
    "# 인기검색종목\n",
    "pop_list = soup.select('#popularItemList li')\n",
    "# print(pop_list[0])\n",
    "\n",
    "pop_result = []\n",
    "for tag in pop_list:\n",
    "    values = []\n",
    "    \n",
    "    if tag.select('[alt^=\"상\"]'):\n",
    "        values.append(tag.select_one('a').text)\n",
    "        values.append(tag.select_one('span').text)\n",
    "        pop_result.append(values)\n",
    "\n",
    "\n",
    "print(pop_result)\n",
    "\n",
    "# a_match_google = soup.select('[href~=\"http://google.com\"]')\n",
    "\n",
    "# 주요해외지수\n",
    "major_list = soup.select('.lst_major li')\n",
    "# print(major_list)\n",
    "\n",
    "major_result = []\n",
    "for tag in major_list:\n",
    "    values = []\n",
    "\n",
    "    if tag.select('[alt^=\"상\"]'):\n",
    "        values.append(tag.select_one('a').text)\n",
    "        values.append(tag.select_one('span').text)\n",
    "        major_result.append(values)\n",
    "\n",
    "print(major_result)\n"
   ]
  },
  {
   "cell_type": "markdown",
   "metadata": {},
   "source": [
    "---\n",
    "## 실습 07. \n",
    "\n",
    "[문제] \\\n",
    "분양중인 아파트 정보를 크롤링하여 아래와 같이 딕셔너리 형태로 정리 해주세요.\n",
    "- key : 이름, 보증금, 유형, 분양유형, 세대수, 평형 "
   ]
  },
  {
   "cell_type": "code",
   "execution_count": 63,
   "metadata": {},
   "outputs": [
    {
     "name": "stdout",
     "output_type": "stream",
     "text": [
      "[{'이름': 'H하우스장위', '보증금': '16,000', '유형': '아파트', '분양유형': '일반민간임대', '세대수': '분양 134세대', '평형': '45㎡~65㎡'}, {'이름': '고덕리엔파크2단지 장기전세', '보증금': '38,400', '유형': '아파트', '분양유형': '장기전세주택', '세대수': '분양 1세대', '평형': '149㎡'}, {'이름': '신정이펜하우스3단지 장기전세', '보증금': '39,040', '유형': '아파트', '분양유형': '장기전세주택', '세대수': '분양 1세대', '평형': '148㎡'}, {'이름': '천왕이펜하우스2단지 장기전세', '보증금': '38,240', '유형': '아파트', '분양유형': '장기전세주택', '세대수': '분양 1세대', '평형': '142㎡'}, {'이름': '송파파크데일2단지 장기전세', '보증금': '45,600', '유형': '아파트', '분양유형': '장기전세주택', '세대수': '분양 1세대', '평형': '150㎡'}]\n",
      "5\n"
     ]
    }
   ],
   "source": [
    "# 쌤답안\n",
    "sale_list = soup.select('.sale_list > li')\n",
    "\n",
    "result = []\n",
    "\n",
    "for li_tag in sale_list:\n",
    "    name = li_tag.select_one('a').text.strip()\n",
    "    price = li_tag.select_one('div.sale_detail dd.txt strong').text\n",
    "    type_ = li_tag.select('div.sale_detail dd.txt')[1].text.split('|')[0].strip()\n",
    "    sale_type = li_tag.select('div.sale_detail dd.txt')[1].text.split('|')[1].strip()\n",
    "    household = li_tag.select('div.sale_detail dd.txt')[2].text.split('|')[0].strip()\n",
    "    space = li_tag.select('div.sale_detail dd.txt')[2].text.split('|')[1].strip()\n",
    "\n",
    "    # print(name, price, type_, sale_type, household, space)\n",
    "\n",
    "    result.append(dict(\n",
    "        이름=name,\n",
    "        보증금=price,\n",
    "        유형=type_,\n",
    "        분양유형=sale_type,\n",
    "        세대수=household,\n",
    "        평형=space\n",
    "    ))\n",
    "\n",
    "print(result)\n",
    "print(len(result))\n",
    "\n"
   ]
  },
  {
   "cell_type": "code",
   "execution_count": 55,
   "metadata": {},
   "outputs": [
    {
     "name": "stdout",
     "output_type": "stream",
     "text": [
      "[{'이름': 'H하우스장위', '보증금': '16,000', '유형': '아파트', '분양유형': '일반민간임대', '세대수': '분양 134세대', '평형': '45㎡~65㎡'}, {'이름': '고덕리엔파크2단지 장기전세', '보증금': '38,400', '유형': '아파트', '분양유형': '장기전세주택', '세대수': '분양 1세대', '평형': '149㎡'}, {'이름': '신정이펜하우스3단지 장기전세', '보증금': '39,040', '유형': '아파트', '분양유형': '장기전세주택', '세대수': '분양 1세대', '평형': '148㎡'}, {'이름': '천왕이펜하우스2단지 장기전세', '보증금': '38,240', '유형': '아파트', '분양유형': '장기전세주택', '세대수': '분양 1세대', '평형': '142㎡'}, {'이름': '송파파크데일2단지 장기전세', '보증금': '45,600', '유형': '아파트', '분양유형': '장기전세주택', '세대수': '분양 1세대', '평형': '150㎡'}]\n"
     ]
    }
   ],
   "source": [
    "keys = ['이름', '보증금', '유형', '분양유형', '세대수', '평형']\n",
    "\n",
    "results = []\n",
    "\n",
    "sale_item_list = soup.select('.sale_list .sale_item')\n",
    "\n",
    "for tag in sale_item_list:\n",
    "    values = []\n",
    "\n",
    "    # 이름\n",
    "    title = tag.select_one('.sale_tit a').text\n",
    "\n",
    "    sale_detail_tit = tag.select('.sale_detail .detail_info .tit')\n",
    "    sale_detail_txt = tag.select('.sale_detail .detail_info .txt')\n",
    "\n",
    "    # print(sale_detail_tit)\n",
    "    # print(sale_detail_txt)\n",
    "    \n",
    "    sale_detail_tit_text = [] \n",
    "    for tit in sale_detail_tit:\n",
    "        sale_detail_tit_text.append(tit.text)\n",
    "\n",
    "    sale_detail_txt_text = [] \n",
    "    for txt in sale_detail_txt:\n",
    "        sale_detail_txt_text.append(txt.text)\n",
    "\n",
    "    # print(sale_detail_tit_text)\n",
    "    # print(sale_detail_txt_text)\n",
    "\n",
    "    sale_detail_dict = dict(zip(sale_detail_tit_text, sale_detail_txt_text))\n",
    "    # print(sale_detail_dict)\n",
    "\n",
    "    # 보증금\n",
    "    deposit = sale_detail_dict['보증금'].split(' ')[0]\n",
    "    # 유형\n",
    "    type_ = sale_detail_dict['유형'].split('|')[0]\n",
    "    # 분양유형\n",
    "    sales_type = sale_detail_dict['유형'].split('|')[1]\n",
    "    # 세대수\n",
    "    num_households = sale_detail_dict['규모/면적'].split('|')[0]\n",
    "    # 평형\n",
    "    size = sale_detail_dict['규모/면적'].split('|')[1]\n",
    "\n",
    "    # result = '1,2,3'.split(',')\n",
    "    values = [title, deposit, type_, sales_type, num_households, size]\n",
    "\n",
    "    results.append(dict(zip(keys, values)))\n",
    "    \n",
    "    \n",
    "    # 보증금\n",
    "    # 유형\n",
    "    # 분양유형\n",
    "    # 세대수\n",
    "    # 평형\n",
    "print(results)"
   ]
  },
  {
   "cell_type": "code",
   "execution_count": null,
   "metadata": {},
   "outputs": [],
   "source": []
  }
 ],
 "metadata": {
  "kernelspec": {
   "display_name": "sesac",
   "language": "python",
   "name": "python3"
  },
  "language_info": {
   "codemirror_mode": {
    "name": "ipython",
    "version": 3
   },
   "file_extension": ".py",
   "mimetype": "text/x-python",
   "name": "python",
   "nbconvert_exporter": "python",
   "pygments_lexer": "ipython3",
   "version": "3.10.15"
  }
 },
 "nbformat": 4,
 "nbformat_minor": 2
}
