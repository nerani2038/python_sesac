{
 "cells": [
  {
   "cell_type": "markdown",
   "metadata": {},
   "source": [
    "# EDA\n",
    "\n",
    "목표: 데이터의 분포와 특성을 이해하고 분석 방향성을 설정하는 것"
   ]
  },
  {
   "cell_type": "markdown",
   "metadata": {},
   "source": [
    "# 1.데이터 소개"
   ]
  },
  {
   "cell_type": "markdown",
   "metadata": {},
   "source": [
    "## 1.1 데이터의 종류\n",
    "\n",
    "<img src=\"./데이터 종류.png\" alt=\"예제 이미지\" width=\"900\" height=\"300\"> \\ \\\n",
    "이미지 출처: https://double-d.tistory.com/23"
   ]
  },
  {
   "cell_type": "markdown",
   "metadata": {},
   "source": [
    "## 1.2 타이타닉 변수 설명 \n",
    "\n",
    "- survived : 생존 여부 (0: 사망, 1: 생존) </br>\n",
    "- pclass : 승객 등급 (1: 1등급, 2: 2등급, 3: 3등급) </br>\n",
    "- name : 승객 이름 </br>\n",
    "- sex : 승객 성별 </br>\n",
    "- age : 승객 나이 </br>\n",
    "- sibsp : 함께 탑승한 형제/배우자 수 </br>\n",
    "- parch :\t함께 탑승한 부모/자녀 수 </br>\n",
    "- ticket : 티켓 번호 </br> \n",
    "- fare : 승객이 지불한 요금 </br>\n",
    "- cabin : 객실 번호 </br>\n",
    "- embarked : 탑승 항구 (C: 셰르부르, Q: 퀸즈타운, S: 사우샘프턴) </br>"
   ]
  },
  {
   "cell_type": "markdown",
   "metadata": {},
   "source": [
    "# 2. 시각화 차트 종류\n",
    "\n",
    "<img src=\"./시각화%20차트%20종류.png\" alt=\"예제 이미지\" width=\"700\" height=\"500\"> \\\n",
    "이미지 출처: https://yozm.wishket.com/magazine/detail/2406/\n",
    "\\\n",
    "\\\n",
    "<img src=\"./시각화 차트 종류 2.png\" alt=\"예제 이미지\" width=\"700\" height=\"400\"> "
   ]
  },
  {
   "cell_type": "markdown",
   "metadata": {},
   "source": [
    "## 2.1 수치형 데이터 시각화\n",
    "\n",
    "### 수치형 데이터 시각화\n",
    "- 히스토그램 : 수치형 데이터의 구간별 빈도수\n",
    "- 커널밀도추정 : 히스토그램을 매끄럽게 곡선으로 연결한 그래프\n",
    "- 분포도 : 수치형 데이터 하나의 분포를 나타내는 그래프\n",
    "- 러그 플롯 : 주변 분포를 나타내는 그래프\n",
    "### 범주형 데이터 시각화\n",
    "- 막대 그래프 : 범주형 데이터 값에 따라 수치형 데이터 값이 어떻게 달라지는지 파악할 때 사용\n",
    "- 포인트 플롯 : 막대그래프와 모양만 다를 뿐 동일한 정보를 제공(여러 그래프를 비교할 때 가시성이 좋음)\n",
    "- 박스 플롯 : 막대그래프나 포인트 플롯보다 더 많은 정보를 제공(최솟값, 제1사분위 수, 제 2사분위 수, 제 3사분위 수, 최댓값) \\\n",
    "<img src=\"./박스플롯.png\" alt=\"예제 이미지\" width=\"500\" height=\"380\"> \n",
    "\n",
    "- 바이올린 플롯 : 박스플롯과 커널 밀도추정 함수 그래프를 합쳐놓은 그래프 \\\n",
    "<img src=\"./바이올린플롯.png\" alt=\"예제 이미지\" width=\"500\" height=\"380\"> \n",
    "\n",
    "- 카운트 플롯 : 범주형 데이터의 개수를 확인할 때 사용\n",
    "- 파이 그래프 : 범주형 데이터의 비율을 알아볼 때 사용\n",
    "### 데이터 관계 시각화\n",
    "- 히트맵 : 데이터 간 관계를 색상으로 표현한 그래프\n",
    "- 라인 플롯 : 두 수치형 데이터 사이의 관계를 나타날 때 사용\n",
    "- 산점도 : 두 데이터의 관계를 점으로 표현하는 그래프\n",
    "- 산점도+회귀선 : 산점도와 선형 회귀선을 그려 전반적인 상관관계를 파악하기 좀 더 쉬움"
   ]
  },
  {
   "cell_type": "markdown",
   "metadata": {},
   "source": [
    "# 3. 가설 설정 (타이타닉 영화를 기반으로)\n",
    "\n",
    "#### - 가설 1: 성별(Sex)이 생존률에 유의미한 영향을 미친다.\n",
    "타이타닉 사고 당시, 여성의 생존율이 남성보다 훨씬 높았다는 것은 구조 우선 순위에서 여성에게 유리한 조건이 있었기 때문\n",
    "\n",
    "#### - 가설 2: 좌석 등급(Pclass)이 생존률에 유의미한 영향을 미친다.\n",
    "높은 등급의 좌석에 위치한 승객들이 구조 우선 순위에서 더 유리한 조건에 있었을 수 있음\n",
    "\n",
    "#### - 가설 3: 나이(Age)가 생존률에 유의미한 영향을 미친다.\n",
    "나이가 어린 승객들이 구조 우선 순위에서 더 유리한 위치에 있었을 수 있음\n",
    "\n",
    "#### - 가설 4: 운임(Fare)이 생존률에 유의미한 영향을 미친다.\n",
    "더 높은 운임을 지불한 승객일수록 더 안전한 위치에 있었거나 구조될 가능성이 높았을 수 있음\n"
   ]
  },
  {
   "cell_type": "markdown",
   "metadata": {},
   "source": [
    "# 4. 분석 과정\n",
    "\n",
    "1. EDA (Exploratory Data Analysis)\n",
    "2. 데이터 전처리 (Feature Engineering, Data Cleansing)\n",
    "3. 데이터 모델링 (ML modeling) with 앙상블 기법\n",
    "4. 모델 평가 (Model Evaluation)"
   ]
  },
  {
   "cell_type": "markdown",
   "metadata": {},
   "source": [
    "# 5. EDA"
   ]
  },
  {
   "cell_type": "markdown",
   "metadata": {},
   "source": [
    "## 5.1 Package Import "
   ]
  },
  {
   "cell_type": "code",
   "execution_count": 2,
   "metadata": {},
   "outputs": [
    {
     "name": "stdout",
     "output_type": "stream",
     "text": [
      "Collecting matplotlib\n",
      "  Downloading matplotlib-3.10.0-cp310-cp310-macosx_11_0_arm64.whl.metadata (11 kB)\n",
      "Collecting contourpy>=1.0.1 (from matplotlib)\n",
      "  Downloading contourpy-1.3.1-cp310-cp310-macosx_11_0_arm64.whl.metadata (5.4 kB)\n",
      "Collecting cycler>=0.10 (from matplotlib)\n",
      "  Downloading cycler-0.12.1-py3-none-any.whl.metadata (3.8 kB)\n",
      "Collecting fonttools>=4.22.0 (from matplotlib)\n",
      "  Downloading fonttools-4.55.3-cp310-cp310-macosx_10_9_universal2.whl.metadata (165 kB)\n",
      "Collecting kiwisolver>=1.3.1 (from matplotlib)\n",
      "  Downloading kiwisolver-1.4.7-cp310-cp310-macosx_11_0_arm64.whl.metadata (6.3 kB)\n",
      "Requirement already satisfied: numpy>=1.23 in /opt/homebrew/anaconda3/envs/sesac/lib/python3.10/site-packages (from matplotlib) (2.2.0)\n",
      "Requirement already satisfied: packaging>=20.0 in /opt/homebrew/anaconda3/envs/sesac/lib/python3.10/site-packages (from matplotlib) (24.2)\n",
      "Collecting pillow>=8 (from matplotlib)\n",
      "  Downloading pillow-11.0.0-cp310-cp310-macosx_11_0_arm64.whl.metadata (9.1 kB)\n",
      "Collecting pyparsing>=2.3.1 (from matplotlib)\n",
      "  Downloading pyparsing-3.2.0-py3-none-any.whl.metadata (5.0 kB)\n",
      "Requirement already satisfied: python-dateutil>=2.7 in /opt/homebrew/anaconda3/envs/sesac/lib/python3.10/site-packages (from matplotlib) (2.9.0.post0)\n",
      "Requirement already satisfied: six>=1.5 in /opt/homebrew/anaconda3/envs/sesac/lib/python3.10/site-packages (from python-dateutil>=2.7->matplotlib) (1.16.0)\n",
      "Downloading matplotlib-3.10.0-cp310-cp310-macosx_11_0_arm64.whl (8.0 MB)\n",
      "\u001b[2K   \u001b[90m━━━━━━━━━━━━━━━━━━━━━━━━━━━━━━━━━━━━━━━━\u001b[0m \u001b[32m8.0/8.0 MB\u001b[0m \u001b[31m11.5 MB/s\u001b[0m eta \u001b[36m0:00:00\u001b[0ma \u001b[36m0:00:01\u001b[0m\n",
      "\u001b[?25hDownloading contourpy-1.3.1-cp310-cp310-macosx_11_0_arm64.whl (253 kB)\n",
      "Downloading cycler-0.12.1-py3-none-any.whl (8.3 kB)\n",
      "Downloading fonttools-4.55.3-cp310-cp310-macosx_10_9_universal2.whl (2.8 MB)\n",
      "\u001b[2K   \u001b[90m━━━━━━━━━━━━━━━━━━━━━━━━━━━━━━━━━━━━━━━━\u001b[0m \u001b[32m2.8/2.8 MB\u001b[0m \u001b[31m11.2 MB/s\u001b[0m eta \u001b[36m0:00:00\u001b[0ma \u001b[36m0:00:01\u001b[0m\n",
      "\u001b[?25hDownloading kiwisolver-1.4.7-cp310-cp310-macosx_11_0_arm64.whl (64 kB)\n",
      "Downloading pillow-11.0.0-cp310-cp310-macosx_11_0_arm64.whl (3.0 MB)\n",
      "\u001b[2K   \u001b[90m━━━━━━━━━━━━━━━━━━━━━━━━━━━━━━━━━━━━━━━━\u001b[0m \u001b[32m3.0/3.0 MB\u001b[0m \u001b[31m11.2 MB/s\u001b[0m eta \u001b[36m0:00:00\u001b[0ma \u001b[36m0:00:01\u001b[0m\n",
      "\u001b[?25hDownloading pyparsing-3.2.0-py3-none-any.whl (106 kB)\n",
      "Installing collected packages: pyparsing, pillow, kiwisolver, fonttools, cycler, contourpy, matplotlib\n",
      "Successfully installed contourpy-1.3.1 cycler-0.12.1 fonttools-4.55.3 kiwisolver-1.4.7 matplotlib-3.10.0 pillow-11.0.0 pyparsing-3.2.0\n"
     ]
    }
   ],
   "source": [
    "! pip install matplotlib"
   ]
  },
  {
   "cell_type": "code",
   "execution_count": 4,
   "metadata": {},
   "outputs": [
    {
     "name": "stdout",
     "output_type": "stream",
     "text": [
      "Collecting seaborn\n",
      "  Downloading seaborn-0.13.2-py3-none-any.whl.metadata (5.4 kB)\n",
      "Requirement already satisfied: numpy!=1.24.0,>=1.20 in /opt/homebrew/anaconda3/envs/sesac/lib/python3.10/site-packages (from seaborn) (2.2.0)\n",
      "Requirement already satisfied: pandas>=1.2 in /opt/homebrew/anaconda3/envs/sesac/lib/python3.10/site-packages (from seaborn) (2.2.3)\n",
      "Requirement already satisfied: matplotlib!=3.6.1,>=3.4 in /opt/homebrew/anaconda3/envs/sesac/lib/python3.10/site-packages (from seaborn) (3.10.0)\n",
      "Requirement already satisfied: contourpy>=1.0.1 in /opt/homebrew/anaconda3/envs/sesac/lib/python3.10/site-packages (from matplotlib!=3.6.1,>=3.4->seaborn) (1.3.1)\n",
      "Requirement already satisfied: cycler>=0.10 in /opt/homebrew/anaconda3/envs/sesac/lib/python3.10/site-packages (from matplotlib!=3.6.1,>=3.4->seaborn) (0.12.1)\n",
      "Requirement already satisfied: fonttools>=4.22.0 in /opt/homebrew/anaconda3/envs/sesac/lib/python3.10/site-packages (from matplotlib!=3.6.1,>=3.4->seaborn) (4.55.3)\n",
      "Requirement already satisfied: kiwisolver>=1.3.1 in /opt/homebrew/anaconda3/envs/sesac/lib/python3.10/site-packages (from matplotlib!=3.6.1,>=3.4->seaborn) (1.4.7)\n",
      "Requirement already satisfied: packaging>=20.0 in /opt/homebrew/anaconda3/envs/sesac/lib/python3.10/site-packages (from matplotlib!=3.6.1,>=3.4->seaborn) (24.2)\n",
      "Requirement already satisfied: pillow>=8 in /opt/homebrew/anaconda3/envs/sesac/lib/python3.10/site-packages (from matplotlib!=3.6.1,>=3.4->seaborn) (11.0.0)\n",
      "Requirement already satisfied: pyparsing>=2.3.1 in /opt/homebrew/anaconda3/envs/sesac/lib/python3.10/site-packages (from matplotlib!=3.6.1,>=3.4->seaborn) (3.2.0)\n",
      "Requirement already satisfied: python-dateutil>=2.7 in /opt/homebrew/anaconda3/envs/sesac/lib/python3.10/site-packages (from matplotlib!=3.6.1,>=3.4->seaborn) (2.9.0.post0)\n",
      "Requirement already satisfied: pytz>=2020.1 in /opt/homebrew/anaconda3/envs/sesac/lib/python3.10/site-packages (from pandas>=1.2->seaborn) (2024.2)\n",
      "Requirement already satisfied: tzdata>=2022.7 in /opt/homebrew/anaconda3/envs/sesac/lib/python3.10/site-packages (from pandas>=1.2->seaborn) (2024.2)\n",
      "Requirement already satisfied: six>=1.5 in /opt/homebrew/anaconda3/envs/sesac/lib/python3.10/site-packages (from python-dateutil>=2.7->matplotlib!=3.6.1,>=3.4->seaborn) (1.16.0)\n",
      "Downloading seaborn-0.13.2-py3-none-any.whl (294 kB)\n",
      "Installing collected packages: seaborn\n",
      "Successfully installed seaborn-0.13.2\n"
     ]
    }
   ],
   "source": [
    "! pip install seaborn"
   ]
  },
  {
   "cell_type": "code",
   "execution_count": 5,
   "metadata": {},
   "outputs": [],
   "source": [
    "import numpy as np\n",
    "import pandas as pd\n",
    "import matplotlib.pyplot as plt\n",
    "import seaborn as sns\n",
    "\n",
    "# 경고 메세지 무시 설정\n",
    "import warnings\n",
    "warnings.filterwarnings('ignore')"
   ]
  },
  {
   "cell_type": "markdown",
   "metadata": {},
   "source": [
    "## 5.2 titanic 불러오기"
   ]
  },
  {
   "cell_type": "code",
   "execution_count": 6,
   "metadata": {},
   "outputs": [
    {
     "data": {
      "text/html": [
       "<div>\n",
       "<style scoped>\n",
       "    .dataframe tbody tr th:only-of-type {\n",
       "        vertical-align: middle;\n",
       "    }\n",
       "\n",
       "    .dataframe tbody tr th {\n",
       "        vertical-align: top;\n",
       "    }\n",
       "\n",
       "    .dataframe thead th {\n",
       "        text-align: right;\n",
       "    }\n",
       "</style>\n",
       "<table border=\"1\" class=\"dataframe\">\n",
       "  <thead>\n",
       "    <tr style=\"text-align: right;\">\n",
       "      <th></th>\n",
       "      <th>PassengerId</th>\n",
       "      <th>Survived</th>\n",
       "      <th>Pclass</th>\n",
       "      <th>Name</th>\n",
       "      <th>Sex</th>\n",
       "      <th>Age</th>\n",
       "      <th>SibSp</th>\n",
       "      <th>Parch</th>\n",
       "      <th>Ticket</th>\n",
       "      <th>Fare</th>\n",
       "      <th>Cabin</th>\n",
       "      <th>Embarked</th>\n",
       "    </tr>\n",
       "  </thead>\n",
       "  <tbody>\n",
       "    <tr>\n",
       "      <th>0</th>\n",
       "      <td>1</td>\n",
       "      <td>0</td>\n",
       "      <td>3</td>\n",
       "      <td>Braund, Mr. Owen Harris</td>\n",
       "      <td>male</td>\n",
       "      <td>22.0</td>\n",
       "      <td>1</td>\n",
       "      <td>0</td>\n",
       "      <td>A/5 21171</td>\n",
       "      <td>7.2500</td>\n",
       "      <td>NaN</td>\n",
       "      <td>S</td>\n",
       "    </tr>\n",
       "    <tr>\n",
       "      <th>1</th>\n",
       "      <td>2</td>\n",
       "      <td>1</td>\n",
       "      <td>1</td>\n",
       "      <td>Cumings, Mrs. John Bradley (Florence Briggs Th...</td>\n",
       "      <td>female</td>\n",
       "      <td>38.0</td>\n",
       "      <td>1</td>\n",
       "      <td>0</td>\n",
       "      <td>PC 17599</td>\n",
       "      <td>71.2833</td>\n",
       "      <td>C85</td>\n",
       "      <td>C</td>\n",
       "    </tr>\n",
       "    <tr>\n",
       "      <th>2</th>\n",
       "      <td>3</td>\n",
       "      <td>1</td>\n",
       "      <td>3</td>\n",
       "      <td>Heikkinen, Miss. Laina</td>\n",
       "      <td>female</td>\n",
       "      <td>26.0</td>\n",
       "      <td>0</td>\n",
       "      <td>0</td>\n",
       "      <td>STON/O2. 3101282</td>\n",
       "      <td>7.9250</td>\n",
       "      <td>NaN</td>\n",
       "      <td>S</td>\n",
       "    </tr>\n",
       "    <tr>\n",
       "      <th>3</th>\n",
       "      <td>4</td>\n",
       "      <td>1</td>\n",
       "      <td>1</td>\n",
       "      <td>Futrelle, Mrs. Jacques Heath (Lily May Peel)</td>\n",
       "      <td>female</td>\n",
       "      <td>35.0</td>\n",
       "      <td>1</td>\n",
       "      <td>0</td>\n",
       "      <td>113803</td>\n",
       "      <td>53.1000</td>\n",
       "      <td>C123</td>\n",
       "      <td>S</td>\n",
       "    </tr>\n",
       "    <tr>\n",
       "      <th>4</th>\n",
       "      <td>5</td>\n",
       "      <td>0</td>\n",
       "      <td>3</td>\n",
       "      <td>Allen, Mr. William Henry</td>\n",
       "      <td>male</td>\n",
       "      <td>35.0</td>\n",
       "      <td>0</td>\n",
       "      <td>0</td>\n",
       "      <td>373450</td>\n",
       "      <td>8.0500</td>\n",
       "      <td>NaN</td>\n",
       "      <td>S</td>\n",
       "    </tr>\n",
       "  </tbody>\n",
       "</table>\n",
       "</div>"
      ],
      "text/plain": [
       "   PassengerId  Survived  Pclass  \\\n",
       "0            1         0       3   \n",
       "1            2         1       1   \n",
       "2            3         1       3   \n",
       "3            4         1       1   \n",
       "4            5         0       3   \n",
       "\n",
       "                                                Name     Sex   Age  SibSp  \\\n",
       "0                            Braund, Mr. Owen Harris    male  22.0      1   \n",
       "1  Cumings, Mrs. John Bradley (Florence Briggs Th...  female  38.0      1   \n",
       "2                             Heikkinen, Miss. Laina  female  26.0      0   \n",
       "3       Futrelle, Mrs. Jacques Heath (Lily May Peel)  female  35.0      1   \n",
       "4                           Allen, Mr. William Henry    male  35.0      0   \n",
       "\n",
       "   Parch            Ticket     Fare Cabin Embarked  \n",
       "0      0         A/5 21171   7.2500   NaN        S  \n",
       "1      0          PC 17599  71.2833   C85        C  \n",
       "2      0  STON/O2. 3101282   7.9250   NaN        S  \n",
       "3      0            113803  53.1000  C123        S  \n",
       "4      0            373450   8.0500   NaN        S  "
      ]
     },
     "execution_count": 6,
     "metadata": {},
     "output_type": "execute_result"
    }
   ],
   "source": [
    "df = pd.read_csv('./titanic.csv')\n",
    "df.head()"
   ]
  },
  {
   "cell_type": "markdown",
   "metadata": {},
   "source": [
    "## 5.3 데이터 탐색"
   ]
  },
  {
   "cell_type": "markdown",
   "metadata": {},
   "source": [
    "데이터를 잘파악해야지 좋은 값을 도출할 수 있음"
   ]
  },
  {
   "cell_type": "markdown",
   "metadata": {},
   "source": [
    "### 5.3.1 데이터 모양 확인"
   ]
  },
  {
   "cell_type": "code",
   "execution_count": 7,
   "metadata": {},
   "outputs": [
    {
     "data": {
      "text/plain": [
       "(891, 12)"
      ]
     },
     "execution_count": 7,
     "metadata": {},
     "output_type": "execute_result"
    }
   ],
   "source": [
    "df.shape # 행, 열 파악"
   ]
  },
  {
   "cell_type": "markdown",
   "metadata": {},
   "source": [
    "### 5.3.2 데이터 구조와 속성 확인\n",
    " \n",
    "- 종속변수에 영향을 미칠 / 미치지 않을 칼럼 확인 \n",
    "    - 삭제할 칼럼 있는지 확인\n",
    "- 각 칼럼별로 데이터 타입 확인 \n",
    "    - 모델링까지 할 경우 인코딩 및 정규화가 필요한 칼럼 확인 \n",
    "    - 모델링을 하지 않더라도 시각화 및 통계분석을 원활히 하기 위해 해당 과정이 필요할 수도 있음 "
   ]
  },
  {
   "cell_type": "code",
   "execution_count": 8,
   "metadata": {},
   "outputs": [
    {
     "name": "stdout",
     "output_type": "stream",
     "text": [
      "<class 'pandas.core.frame.DataFrame'>\n",
      "RangeIndex: 891 entries, 0 to 890\n",
      "Data columns (total 12 columns):\n",
      " #   Column       Non-Null Count  Dtype  \n",
      "---  ------       --------------  -----  \n",
      " 0   PassengerId  891 non-null    int64  \n",
      " 1   Survived     891 non-null    int64  \n",
      " 2   Pclass       891 non-null    int64  \n",
      " 3   Name         891 non-null    object \n",
      " 4   Sex          891 non-null    object \n",
      " 5   Age          714 non-null    float64\n",
      " 6   SibSp        891 non-null    int64  \n",
      " 7   Parch        891 non-null    int64  \n",
      " 8   Ticket       891 non-null    object \n",
      " 9   Fare         891 non-null    float64\n",
      " 10  Cabin        204 non-null    object \n",
      " 11  Embarked     889 non-null    object \n",
      "dtypes: float64(2), int64(5), object(5)\n",
      "memory usage: 83.7+ KB\n"
     ]
    }
   ],
   "source": [
    "df.info()\n",
    "# 결론도출관 관계있는지 없는지 확인\n",
    "# 범주형 데이터 인지 확인\n",
    "# 데이터 유형이 어떠하고 어떤 정보를 가지고 있는지 파악하고 변경가능한지 확인\n",
    "# 결측치가 있는지 확인"
   ]
  },
  {
   "cell_type": "code",
   "execution_count": null,
   "metadata": {},
   "outputs": [],
   "source": []
  },
  {
   "cell_type": "markdown",
   "metadata": {},
   "source": [
    "### 5.3.3 결측치 확인\n",
    "- Age, Cabin, Embarked에 결측치 존재\n",
    "- 결측치가 존재하는 변수들의 결측치 처리를 어떻게 할지 고민해보기 \n",
    "    - 결측치 처리 방법 및 방향에 따라 생존 여부에 영향을 줄 수도 있음을 고려하기\n",
    "    - 결측치 개수가 적은 칼럼일 경우 -> 결측치가 존재하는 데이터(행)를 제거할지 말지 고려해보기\n",
    "    - 결측치 개수가 많을 경우 -> 결측치를 평균으로 채울지 중의값으로 채울지 고려해보기 "
   ]
  },
  {
   "cell_type": "code",
   "execution_count": 11,
   "metadata": {},
   "outputs": [
    {
     "data": {
      "text/plain": [
       "PassengerId      0\n",
       "Survived         0\n",
       "Pclass           0\n",
       "Name             0\n",
       "Sex              0\n",
       "Age            177\n",
       "SibSp            0\n",
       "Parch            0\n",
       "Ticket           0\n",
       "Fare             0\n",
       "Cabin          687\n",
       "Embarked         2\n",
       "dtype: int64"
      ]
     },
     "execution_count": 11,
     "metadata": {},
     "output_type": "execute_result"
    }
   ],
   "source": [
    "df.isnull().sum()\n",
    "# df.isna().sum()"
   ]
  },
  {
   "cell_type": "markdown",
   "metadata": {},
   "source": [
    "### 5.3.4 데이터 통계 확인\n",
    "\n",
    "describe() 메서들르 통해 데이터의 분포, 범위, 중심 경향성 등을 빠르게 파악할 수 있다.\n",
    "\n",
    "1. count\n",
    "- 설명: 해당 열에서 결측치가 아닌 데이터의 개수를 의미.\n",
    "\n",
    "2. mean\n",
    "- 설명: 해당 열의 평균값.\n",
    "- 예시: Age의 평균값은 모든 나이의 합을 나눈 값으로, 중앙값이나 분포의 중심 경향성을 나타냄.\n",
    "\n",
    "3. std (Standard Deviation, 표준편차)\n",
    "- 설명: 데이터가 평균을 기준으로 얼마나 퍼져 있는지를 나타냄.\n",
    "- 예시: Age의 표준편차가 크다면, 나이의 분포가 넓다는 뜻. 반대로 표준편차가 작다면 대부분의 나이가 평균에 가까운 값이라는 의미.\n",
    "- 추가설명: Age의 경우 나이대가 0~80 사이인데 표준편차가 14이면 분포가 굉장히 넓음을 의미\n",
    "\n",
    "4. min\n",
    "- 설명: 해당 열에서의 최소값을 의미.\n",
    "- 예시: Fare의 최소값은 승객이 지불한 최소 요금을 나타냄.\n",
    "\n",
    "5. 25% (1사분위수, Q1)\n",
    "- 설명: 데이터의 하위 25%가 해당 값 이하임을 의미.\n",
    "- 예시: Age의 1사분위수는 나이가 전체 데이터 중 하위 25%에 해당하는 승객의 나이를 의미.\n",
    "\n",
    "6. 50% (중앙값, Q2 또는 Median)\n",
    "- 설명: 데이터의 중간값. 전체 데이터 중 50%가 해당 값 이하, 50%가 해당 값 이상임을 의미.\n",
    "- 예시: Age의 50% 값은 나이의 중앙값으로, 나이 분포의 중간을 나타냄.\n",
    "\n",
    "7. 75% (3사분위수, Q3)\n",
    "- 설명: 데이터의 상위 25%가 해당 값 이상임을 의미.\n",
    "- 예시: Age의 3사분위수는 나이가 전체 데이터 중 상위 25%에 해당하는 승객의 나이를 의미.\n",
    "\n",
    "8. max\n",
    "- 설명: 해당 열에서의 최댓값을 의미.\n",
    "- 예시: Fare의 최댓값은 승객이 지불한 가장 높은 요금을 나타냄."
   ]
  },
  {
   "cell_type": "code",
   "execution_count": 12,
   "metadata": {},
   "outputs": [
    {
     "data": {
      "text/html": [
       "<div>\n",
       "<style scoped>\n",
       "    .dataframe tbody tr th:only-of-type {\n",
       "        vertical-align: middle;\n",
       "    }\n",
       "\n",
       "    .dataframe tbody tr th {\n",
       "        vertical-align: top;\n",
       "    }\n",
       "\n",
       "    .dataframe thead th {\n",
       "        text-align: right;\n",
       "    }\n",
       "</style>\n",
       "<table border=\"1\" class=\"dataframe\">\n",
       "  <thead>\n",
       "    <tr style=\"text-align: right;\">\n",
       "      <th></th>\n",
       "      <th>PassengerId</th>\n",
       "      <th>Survived</th>\n",
       "      <th>Pclass</th>\n",
       "      <th>Age</th>\n",
       "      <th>SibSp</th>\n",
       "      <th>Parch</th>\n",
       "      <th>Fare</th>\n",
       "    </tr>\n",
       "  </thead>\n",
       "  <tbody>\n",
       "    <tr>\n",
       "      <th>count</th>\n",
       "      <td>891.000000</td>\n",
       "      <td>891.000000</td>\n",
       "      <td>891.000000</td>\n",
       "      <td>714.000000</td>\n",
       "      <td>891.000000</td>\n",
       "      <td>891.000000</td>\n",
       "      <td>891.000000</td>\n",
       "    </tr>\n",
       "    <tr>\n",
       "      <th>mean</th>\n",
       "      <td>446.000000</td>\n",
       "      <td>0.383838</td>\n",
       "      <td>2.308642</td>\n",
       "      <td>29.699118</td>\n",
       "      <td>0.523008</td>\n",
       "      <td>0.381594</td>\n",
       "      <td>32.204208</td>\n",
       "    </tr>\n",
       "    <tr>\n",
       "      <th>std</th>\n",
       "      <td>257.353842</td>\n",
       "      <td>0.486592</td>\n",
       "      <td>0.836071</td>\n",
       "      <td>14.526497</td>\n",
       "      <td>1.102743</td>\n",
       "      <td>0.806057</td>\n",
       "      <td>49.693429</td>\n",
       "    </tr>\n",
       "    <tr>\n",
       "      <th>min</th>\n",
       "      <td>1.000000</td>\n",
       "      <td>0.000000</td>\n",
       "      <td>1.000000</td>\n",
       "      <td>0.420000</td>\n",
       "      <td>0.000000</td>\n",
       "      <td>0.000000</td>\n",
       "      <td>0.000000</td>\n",
       "    </tr>\n",
       "    <tr>\n",
       "      <th>25%</th>\n",
       "      <td>223.500000</td>\n",
       "      <td>0.000000</td>\n",
       "      <td>2.000000</td>\n",
       "      <td>20.125000</td>\n",
       "      <td>0.000000</td>\n",
       "      <td>0.000000</td>\n",
       "      <td>7.910400</td>\n",
       "    </tr>\n",
       "    <tr>\n",
       "      <th>50%</th>\n",
       "      <td>446.000000</td>\n",
       "      <td>0.000000</td>\n",
       "      <td>3.000000</td>\n",
       "      <td>28.000000</td>\n",
       "      <td>0.000000</td>\n",
       "      <td>0.000000</td>\n",
       "      <td>14.454200</td>\n",
       "    </tr>\n",
       "    <tr>\n",
       "      <th>75%</th>\n",
       "      <td>668.500000</td>\n",
       "      <td>1.000000</td>\n",
       "      <td>3.000000</td>\n",
       "      <td>38.000000</td>\n",
       "      <td>1.000000</td>\n",
       "      <td>0.000000</td>\n",
       "      <td>31.000000</td>\n",
       "    </tr>\n",
       "    <tr>\n",
       "      <th>max</th>\n",
       "      <td>891.000000</td>\n",
       "      <td>1.000000</td>\n",
       "      <td>3.000000</td>\n",
       "      <td>80.000000</td>\n",
       "      <td>8.000000</td>\n",
       "      <td>6.000000</td>\n",
       "      <td>512.329200</td>\n",
       "    </tr>\n",
       "  </tbody>\n",
       "</table>\n",
       "</div>"
      ],
      "text/plain": [
       "       PassengerId    Survived      Pclass         Age       SibSp  \\\n",
       "count   891.000000  891.000000  891.000000  714.000000  891.000000   \n",
       "mean    446.000000    0.383838    2.308642   29.699118    0.523008   \n",
       "std     257.353842    0.486592    0.836071   14.526497    1.102743   \n",
       "min       1.000000    0.000000    1.000000    0.420000    0.000000   \n",
       "25%     223.500000    0.000000    2.000000   20.125000    0.000000   \n",
       "50%     446.000000    0.000000    3.000000   28.000000    0.000000   \n",
       "75%     668.500000    1.000000    3.000000   38.000000    1.000000   \n",
       "max     891.000000    1.000000    3.000000   80.000000    8.000000   \n",
       "\n",
       "            Parch        Fare  \n",
       "count  891.000000  891.000000  \n",
       "mean     0.381594   32.204208  \n",
       "std      0.806057   49.693429  \n",
       "min      0.000000    0.000000  \n",
       "25%      0.000000    7.910400  \n",
       "50%      0.000000   14.454200  \n",
       "75%      0.000000   31.000000  \n",
       "max      6.000000  512.329200  "
      ]
     },
     "execution_count": 12,
     "metadata": {},
     "output_type": "execute_result"
    }
   ],
   "source": [
    "df.describe() # 통계확인"
   ]
  },
  {
   "cell_type": "markdown",
   "metadata": {},
   "source": [
    "## 5.4 종속변수(y) 탐색 \n",
    "타이타닉 데이터에서 종속변수(y)는 Survived다."
   ]
  },
  {
   "cell_type": "code",
   "execution_count": 15,
   "metadata": {},
   "outputs": [
    {
     "data": {
      "text/plain": [
       "PassengerId    891\n",
       "Survived         2\n",
       "Pclass           3\n",
       "Name           891\n",
       "Sex              2\n",
       "Age             88\n",
       "SibSp            7\n",
       "Parch            7\n",
       "Ticket         681\n",
       "Fare           248\n",
       "Cabin          147\n",
       "Embarked         3\n",
       "dtype: int64"
      ]
     },
     "execution_count": 15,
     "metadata": {},
     "output_type": "execute_result"
    }
   ],
   "source": [
    "df.nunique() # 각 칼럼별 고유값이 몇개인지\n"
   ]
  },
  {
   "cell_type": "code",
   "execution_count": 13,
   "metadata": {},
   "outputs": [
    {
     "data": {
      "text/plain": [
       "Survived\n",
       "0    549\n",
       "1    342\n",
       "Name: count, dtype: int64"
      ]
     },
     "execution_count": 13,
     "metadata": {},
     "output_type": "execute_result"
    }
   ],
   "source": [
    "# 각 범주 별 데이터 개수 확인\n",
    "# 사망 몇명, 생존 몇명\n",
    "df['Survived'].value_counts()\n"
   ]
  },
  {
   "cell_type": "code",
   "execution_count": 23,
   "metadata": {},
   "outputs": [
    {
     "data": {
      "text/plain": [
       "Text(0.5, 1.0, 'Survived')"
      ]
     },
     "execution_count": 23,
     "metadata": {},
     "output_type": "execute_result"
    },
    {
     "data": {
      "image/png": "[encoded data removed]",
      "text/plain": [
       "<Figure size 1800x800 with 2 Axes>"
      ]
     },
     "metadata": {},
     "output_type": "display_data"
    }
   ],
   "source": [
    "import matplotlib.colors as mcolors\n",
    "\n",
    "# 서브플롯 생성\n",
    "f, ax = plt.subplots(1,2, figsize=(18,8))\n",
    "\n",
    "# 파이차트(원형의 차트) 색상 설정\n",
    "colors =  ['#1f77b4', '#ff7f0e']\n",
    "\n",
    "# 첫 번째 서브 플롯: 파이차트\n",
    "df['Survived'].value_counts().plot.pie(\n",
    "    explode = [0, 0.1],\n",
    "    autopct='%1.1f%%',\n",
    "    ax=ax[0],\n",
    "    shadow=True,\n",
    "    colors=colors\n",
    ")\n",
    "\n",
    "ax[0].set_title('Survived')\n",
    "ax[0].set_ylabel('')\n",
    "\n",
    "# 두번째 서브플롯 : 막대 그래프\n",
    "sns.countplot(data=df, x='Survived', ax=ax[1], palette=colors)\n",
    "ax[1].set_title('Survived')\n"
   ]
  },
  {
   "cell_type": "code",
   "execution_count": null,
   "metadata": {},
   "outputs": [],
   "source": []
  },
  {
   "cell_type": "markdown",
   "metadata": {},
   "source": [
    "(EDA) 약 62%가 Survived = 0 (사망), 38% 정도가 Survived = 1 (생존) 했음을 알 수 있다. </br>\n",
    "\n",
    "참고로 Python의 포맷 문자열은 다음과 같이 표시한다. </br>\n",
    "%1.0f%%: 소수점 없이 정수 형태로 비율을 표시 (예: 20%) </br>\n",
    "%1.1f%%: 소수점 첫째 자리까지 비율을 표시 (예: 20.0%) </br>\n",
    "%1.2f%%: 소수점 둘째 자리까지 비율을 표시 (예: 20.00%) </br>\n",
    "\n",
    "추가로, </br>\n",
    "앞의 %는 포맷 문자열의 시작을 의미한다. </br>\n",
    "뒤의 %%는 실제 기호 '5'를 표시한다. </br>"
   ]
  },
  {
   "cell_type": "markdown",
   "metadata": {},
   "source": [
    "## 5.5 독립 변수 탐색 및 변수별 관계성 탐색 "
   ]
  },
  {
   "cell_type": "markdown",
   "metadata": {},
   "source": [
    "### 5.5.1 Pclass에 따른 생존율 확인\n",
    "\n",
    "Pclass는 순서형 변수이다."
   ]
  },
  {
   "cell_type": "code",
   "execution_count": 24,
   "metadata": {},
   "outputs": [
    {
     "data": {
      "text/plain": [
       "Pclass\n",
       "3    491\n",
       "1    216\n",
       "2    184\n",
       "Name: count, dtype: int64"
      ]
     },
     "execution_count": 24,
     "metadata": {},
     "output_type": "execute_result"
    }
   ],
   "source": [
    "df['Pclass'].value_counts()"
   ]
  },
  {
   "cell_type": "code",
   "execution_count": 25,
   "metadata": {},
   "outputs": [
    {
     "data": {
      "text/plain": [
       "Pclass  Survived\n",
       "1       1           136\n",
       "        0            80\n",
       "2       0            97\n",
       "        1            87\n",
       "3       0           372\n",
       "        1           119\n",
       "Name: count, dtype: int64"
      ]
     },
     "execution_count": 25,
     "metadata": {},
     "output_type": "execute_result"
    }
   ],
   "source": [
    "# 클래스별 생존 빈도 수 - groupby()\n",
    "df[['Pclass', 'Survived']].groupby('Pclass').value_counts()\n"
   ]
  },
  {
   "cell_type": "code",
   "execution_count": 26,
   "metadata": {},
   "outputs": [
    {
     "data": {
      "text/html": [
       "<div>\n",
       "<style scoped>\n",
       "    .dataframe tbody tr th:only-of-type {\n",
       "        vertical-align: middle;\n",
       "    }\n",
       "\n",
       "    .dataframe tbody tr th {\n",
       "        vertical-align: top;\n",
       "    }\n",
       "\n",
       "    .dataframe thead th {\n",
       "        text-align: right;\n",
       "    }\n",
       "</style>\n",
       "<table border=\"1\" class=\"dataframe\">\n",
       "  <thead>\n",
       "    <tr style=\"text-align: right;\">\n",
       "      <th></th>\n",
       "      <th>Survived</th>\n",
       "    </tr>\n",
       "    <tr>\n",
       "      <th>Pclass</th>\n",
       "      <th></th>\n",
       "    </tr>\n",
       "  </thead>\n",
       "  <tbody>\n",
       "    <tr>\n",
       "      <th>1</th>\n",
       "      <td>0.629630</td>\n",
       "    </tr>\n",
       "    <tr>\n",
       "      <th>2</th>\n",
       "      <td>0.472826</td>\n",
       "    </tr>\n",
       "    <tr>\n",
       "      <th>3</th>\n",
       "      <td>0.242363</td>\n",
       "    </tr>\n",
       "  </tbody>\n",
       "</table>\n",
       "</div>"
      ],
      "text/plain": [
       "        Survived\n",
       "Pclass          \n",
       "1       0.629630\n",
       "2       0.472826\n",
       "3       0.242363"
      ]
     },
     "execution_count": 26,
     "metadata": {},
     "output_type": "execute_result"
    }
   ],
   "source": [
    "# 클래스별 생존률 -> 어떤 요인이 1등급 승객의 생존률을 높였는지 생각해보기\n",
    "# 통계치 - mean()\n",
    "df[['Pclass', 'Survived']].groupby('Pclass').mean()"
   ]
  },
  {
   "cell_type": "code",
   "execution_count": 29,
   "metadata": {},
   "outputs": [
    {
     "data": {
      "text/plain": [
       "Text(0.5, 0, 'Pclass')"
      ]
     },
     "execution_count": 29,
     "metadata": {},
     "output_type": "execute_result"
    },
    {
     "data": {
      "image/png": "[encoded data removed]",
      "text/plain": [
       "<Figure size 2000x800 with 2 Axes>"
      ]
     },
     "metadata": {},
     "output_type": "display_data"
    }
   ],
   "source": [
    "f, ax = plt.subplots(1, 2, figsize=(20, 8))\n",
    "\n",
    "# 첫번째 서브플롯: Pclass별 승객 수 막대 그래프 - 범주형\n",
    "sns.countplot(data=df, x='Pclass', hue='Pclass', ax=ax[0])\n",
    "ax[0].set_title('Number Of Passenger By Pclass')\n",
    "ax[0].set_ylabel('Count')\n",
    "\n",
    "# 두번째 서브플롯: Pclass별 생존율\n",
    "sns.barplot(data=df, x='Pclass', y='Survived', hue='Pclass', ax=ax[1])\n",
    "ax[1].set_title('Pclass: Survied vs Dead')\n",
    "ax[1].set_xlabel('Pclass', fontsize=15)\n",
    "\n",
    "\n"
   ]
  },
  {
   "cell_type": "markdown",
   "metadata": {},
   "source": [
    "등급이 높을 수록 생존률이 높았음 -> 돈으로 목숨을 산 격"
   ]
  },
  {
   "cell_type": "markdown",
   "metadata": {},
   "source": [
    "### 5.5.2 Age는 연속형 변수 "
   ]
  },
  {
   "cell_type": "code",
   "execution_count": 32,
   "metadata": {},
   "outputs": [
    {
     "data": {
      "text/plain": [
       "(0.0, 80.0)"
      ]
     },
     "execution_count": 32,
     "metadata": {},
     "output_type": "execute_result"
    },
    {
     "data": {
      "image/png": "[encoded data removed]",
      "text/plain": [
       "<Figure size 2000x800 with 2 Axes>"
      ]
     },
     "metadata": {},
     "output_type": "display_data"
    }
   ],
   "source": [
    "f, ax = plt.subplots(1, 2, figsize=(20, 8))\n",
    "\n",
    "# 첫번째 서브플롯 : Pclass와 Age에 따른 생존자와 사망자 분포 바이올린 플롯\n",
    "sns.violinplot(\n",
    "    data=df,\n",
    "    x='Pclass',\n",
    "    y='Age',\n",
    "    hue='Survived',\n",
    "    split=True, # 생존 여부에 따라 분할    \n",
    "    ax=ax[0]\n",
    ")\n",
    "ax[0].set_yticks(range(0, 81, 10))\n",
    "ax[0].set_title('Pclass and Age vs Survied')\n",
    "\n",
    "# 두번째 서브플롯 : Sex와 Age에 따른 생존자와 사망자 분포 바이올린 플롯\n",
    "sns.violinplot(\n",
    "    data=df,\n",
    "    x='Sex',\n",
    "    y='Age',\n",
    "    hue='Survived',\n",
    "    split=True, # 생존 여부에 따라 분할    \n",
    "    ax=ax[1]\n",
    ")\n",
    "ax[1].set_yticks(range(0, 81, 10))\n",
    "ax[1].set_title('Sex and Age vs Survied')\n",
    "\n",
    "ax[0].set_ylim(0, 80)\n",
    "ax[1].set_ylim(0, 80)"
   ]
  },
  {
   "cell_type": "markdown",
   "metadata": {},
   "source": [
    "### 5.5.3 Embarked는 명목형 변수\n",
    "\n",
    "오차막대: 각 데이터 포인트에서 신뢰구간이나 표준오차를 나타냄 (데이터의 변동성을 보여줌)\n",
    "- 오차 막대가 길수록 변동성이 크거나 샘플의 크기가 작을 수 있음 \n",
    "- 데이터의 변동성이 크다: 데이터 값이 큰 폭으로 오르내리거나 불규칙적인 변화를 보이는 경우"
   ]
  },
  {
   "cell_type": "code",
   "execution_count": null,
   "metadata": {},
   "outputs": [],
   "source": []
  },
  {
   "cell_type": "code",
   "execution_count": null,
   "metadata": {},
   "outputs": [],
   "source": []
  },
  {
   "cell_type": "markdown",
   "metadata": {},
   "source": [
    "### 5.5.4 SibSp는 이산형 변수\n",
    "SibSp: 함께 탑승한 형제/배우자 수 "
   ]
  },
  {
   "cell_type": "code",
   "execution_count": null,
   "metadata": {},
   "outputs": [],
   "source": []
  },
  {
   "cell_type": "code",
   "execution_count": null,
   "metadata": {},
   "outputs": [],
   "source": []
  },
  {
   "cell_type": "code",
   "execution_count": null,
   "metadata": {},
   "outputs": [],
   "source": []
  },
  {
   "cell_type": "markdown",
   "metadata": {},
   "source": [
    "### 5.5.5 Parch는 이산형 변수\n",
    "\n",
    "Parch: 함께 탑승한 부모/자녀 수 "
   ]
  },
  {
   "cell_type": "code",
   "execution_count": null,
   "metadata": {},
   "outputs": [],
   "source": []
  },
  {
   "cell_type": "code",
   "execution_count": null,
   "metadata": {},
   "outputs": [],
   "source": []
  },
  {
   "cell_type": "code",
   "execution_count": null,
   "metadata": {},
   "outputs": [],
   "source": []
  },
  {
   "cell_type": "markdown",
   "metadata": {},
   "source": [
    "### 5.5.6 Fare는 연속형 변수 "
   ]
  },
  {
   "cell_type": "code",
   "execution_count": null,
   "metadata": {},
   "outputs": [],
   "source": []
  },
  {
   "cell_type": "markdown",
   "metadata": {},
   "source": [
    "## 5.6 가설1 - Sex와 Survived의 관계"
   ]
  },
  {
   "cell_type": "code",
   "execution_count": null,
   "metadata": {},
   "outputs": [],
   "source": []
  },
  {
   "cell_type": "code",
   "execution_count": null,
   "metadata": {},
   "outputs": [],
   "source": []
  },
  {
   "cell_type": "code",
   "execution_count": null,
   "metadata": {},
   "outputs": [],
   "source": []
  },
  {
   "cell_type": "markdown",
   "metadata": {},
   "source": [
    "## 5.7 가설2 - Sex, Survived와 Pclass의 관계 "
   ]
  },
  {
   "cell_type": "code",
   "execution_count": null,
   "metadata": {},
   "outputs": [],
   "source": []
  },
  {
   "cell_type": "code",
   "execution_count": null,
   "metadata": {},
   "outputs": [],
   "source": []
  },
  {
   "cell_type": "code",
   "execution_count": null,
   "metadata": {},
   "outputs": [],
   "source": []
  },
  {
   "cell_type": "markdown",
   "metadata": {},
   "source": [
    "먼저, Pclass와 Survived 모두 Categorical 데이터 이므로 catplot을 이용했다. </br>\n",
    "\n",
    "위 Plot을 보면, 남 녀 모두 Pclass가 하등 객실로 감에따라 생존율이 떨어지는 것을 알 수 있다. </br>\n",
    "\n",
    "특히 여자의경우 더욱 극적이다. </br>\n",
    "\n",
    "물론 일단 여자의 경우 Lady/Baby First Policy에 의해 남자보다는 생존율이 압도적으로 높다. </br> \n",
    "\n",
    "즉, 여자이면서 Pclass = 1에 머물렀을 경우 거의 모두 살아남았다고 할 수 있다. (여자 1등객실 94명중 3명만 사망했다고 한다) </br>\n",
    "\n",
    "참고로, catplot(categorical plot) 함수는 다양한 그래프 유형을 지원하며, kind 파라미터를 통해 'point', 'bar', 'strip', 'swarm', 'box', 'violin' 등의 그래프를 생성할 수 있습니다."
   ]
  },
  {
   "cell_type": "markdown",
   "metadata": {},
   "source": [
    "## 5.8 가설3 - Age와 Survived의 관계 \n",
    "\n",
    "Age는 연속형 변수"
   ]
  },
  {
   "cell_type": "code",
   "execution_count": null,
   "metadata": {},
   "outputs": [],
   "source": []
  },
  {
   "cell_type": "markdown",
   "metadata": {},
   "source": [
    "생존/사망 여부에 Frequency로 나타냈기때문에 20-40대 에서 분포가 비슷하다 할 수 있지만, </br>\n",
    "영유아의 경우 생존할 가능성이 더 높았던것은 확실하다. </br>"
   ]
  },
  {
   "cell_type": "markdown",
   "metadata": {},
   "source": [
    "## 5.9 가설4 - Fare와 Survived의 관계 "
   ]
  },
  {
   "cell_type": "code",
   "execution_count": null,
   "metadata": {},
   "outputs": [],
   "source": []
  },
  {
   "cell_type": "markdown",
   "metadata": {},
   "source": [
    "# 6. EDA 결과 정리"
   ]
  },
  {
   "cell_type": "markdown",
   "metadata": {},
   "source": [
    "- Sex: 남성에 비해 여성의 생존율은 매우 높았다.\n",
    "\n",
    "- Pclass: 일등석 승객이 되면 생존율이 높아지고, 삼등석은 생존율이 매우 낮았다. \n",
    "\n",
    "- Age: 영유아일 수록 생존 확률이 높았다, 15-35세사이의 승객이 많이 죽었다.\n",
    "\n",
    "- Embarked: Pclass1의 상당수가 S, Q에서 탑승했음에도 불구하고 C에서의 생존율이 높았다.\n",
    "\n",
    "- Parch + SibSp : 대가족이 혼자 여행하는 사람들보다 생존율이 올라갔다.\n",
    "\n",
    "- Fare : 요금을 많이 지불한 사람일수록, 생존율이 높았다."
   ]
  },
  {
   "cell_type": "code",
   "execution_count": null,
   "metadata": {},
   "outputs": [],
   "source": []
  },
  {
   "cell_type": "markdown",
   "metadata": {},
   "source": [
    "- 상관계수\n",
    "    - 양의 상관관계 : 한 변수가 증가하면 다른 변수도 증가\n",
    "    - 음의 상관관계 : 한 변수가 증가하면 다른 변수는 감소 "
   ]
  },
  {
   "cell_type": "code",
   "execution_count": null,
   "metadata": {},
   "outputs": [],
   "source": []
  }
 ],
 "metadata": {
  "kernelspec": {
   "display_name": "sesac",
   "language": "python",
   "name": "python3"
  },
  "language_info": {
   "codemirror_mode": {
    "name": "ipython",
    "version": 3
   },
   "file_extension": ".py",
   "mimetype": "text/x-python",
   "name": "python",
   "nbconvert_exporter": "python",
   "pygments_lexer": "ipython3",
   "version": "3.10.15"
  }
 },
 "nbformat": 4,
 "nbformat_minor": 2
}
