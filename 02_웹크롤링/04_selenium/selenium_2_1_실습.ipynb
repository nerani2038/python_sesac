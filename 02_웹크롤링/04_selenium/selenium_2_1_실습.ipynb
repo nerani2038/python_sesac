{
 "cells": [
  {
   "cell_type": "markdown",
   "metadata": {},
   "source": [
    "# 실습 1"
   ]
  },
  {
   "cell_type": "markdown",
   "metadata": {},
   "source": [
    "사이트내에 인기검색종목과 주요해외지수를 각각 크롤링하여 종목명과 주가지수를 아래와 같이 리스트로 정리해주세요\n",
    "- 종목명\n",
    "- 주가지수"
   ]
  },
  {
   "cell_type": "code",
   "execution_count": 21,
   "metadata": {},
   "outputs": [],
   "source": [
    "url = 'https://crawlingstudy-dd3c9.web.app/03/'"
   ]
  },
  {
   "cell_type": "markdown",
   "metadata": {},
   "source": [
    "## 1.1 인기검색종목"
   ]
  },
  {
   "cell_type": "code",
   "execution_count": 13,
   "metadata": {},
   "outputs": [
    {
     "name": "stdout",
     "output_type": "stream",
     "text": [
      "[['써니전자', '5,000'], ['삼성전자', '55,200'], ['안랩', '81,000'], ['케이엠더블..', '57,300'], ['피피아이', '12,600'], ['KT&G', '92,500'], ['삼성전자우', '45,600'], ['대양금속', '10,550'], ['SK하이닉스', '94,700'], ['SK텔레콤', '234,000']]\n",
      "[['다우산업', '28,647.43'], ['나스닥', '9,015.03'], ['홍콩H', '11,320.56'], ['상해종합', '3,085.20'], ['니케이225', '23,656.62']]\n"
     ]
    }
   ],
   "source": [
    "from selenium import webdriver\n",
    "import time\n",
    "from bs4 import BeautifulSoup\n",
    "\n",
    "driver = webdriver.Chrome()\n",
    "driver.implicitly_wait(2)\n",
    "driver.get(url)\n",
    "\n",
    "response = driver.page_source\n",
    "\n",
    "soup = BeautifulSoup(response, 'html.parser')\n",
    "\n",
    "popular_item_list = soup.select('#popularItemList li')\n",
    "\n",
    "popular = []\n",
    "for pop in popular_item_list:\n",
    "    title = pop.select_one('a').text\n",
    "    price = pop.select_one('span').text\n",
    "    popular.append([title, price])\n",
    "\n",
    "lst_major = soup.select('.lst_major li')\n",
    "\n",
    "major = []\n",
    "for m in lst_major:\n",
    "    title = m.select_one('a').text\n",
    "    price = m.select_one('span').text\n",
    "    major.append([title, price])\n",
    "\n",
    "print(popular)\n",
    "print(major)\n",
    "time.sleep(2)\n",
    "\n",
    "driver.quit()\n",
    "\n"
   ]
  },
  {
   "cell_type": "code",
   "execution_count": 23,
   "metadata": {},
   "outputs": [],
   "source": [
    "# 쌤답안\n",
    "from selenium import webdriver\n",
    "from selenium.webdriver.common.by import By\n",
    "import time\n",
    "from bs4 import BeautifulSoup\n",
    "\n",
    "driver = webdriver.Chrome()\n",
    "driver.implicitly_wait(2)\n",
    "driver.get(url)\n",
    "\n",
    "popular_list = []\n",
    "\n",
    "li_tags = driver.find_elements(By.CSS_SELECTOR, '#popularItemList li')\n",
    "for li in li_tags:\n",
    "    \n",
    "    name = li.find_element(By.CSS_SELECTOR, 'a').text\n",
    "    price = li.find_element(By.CSS_SELECTOR, 'span').text\n",
    "\n",
    "    popular_list.append([name, price])\n",
    "\n",
    "# print(popular_list)\n",
    "# print(len(popular_list))\n",
    "\n",
    "driver.quit()"
   ]
  },
  {
   "cell_type": "code",
   "execution_count": 24,
   "metadata": {},
   "outputs": [
    {
     "data": {
      "text/plain": [
       "[['써니전자', '5,000'],\n",
       " ['삼성전자', '55,200'],\n",
       " ['안랩', '81,000'],\n",
       " ['케이엠더블..', '57,300'],\n",
       " ['피피아이', '12,600'],\n",
       " ['KT&G', '92,500'],\n",
       " ['삼성전자우', '45,600'],\n",
       " ['대양금속', '10,550'],\n",
       " ['SK하이닉스', '94,700'],\n",
       " ['SK텔레콤', '234,000']]"
      ]
     },
     "execution_count": 24,
     "metadata": {},
     "output_type": "execute_result"
    }
   ],
   "source": [
    "popular_list"
   ]
  },
  {
   "cell_type": "markdown",
   "metadata": {},
   "source": [
    "## 1.2 주요 해외 지수 \n",
    "혼자 해보기"
   ]
  },
  {
   "cell_type": "markdown",
   "metadata": {},
   "source": [
    "- 종목 명\n",
    "- 주가 지수"
   ]
  },
  {
   "cell_type": "code",
   "execution_count": null,
   "metadata": {},
   "outputs": [],
   "source": []
  },
  {
   "cell_type": "code",
   "execution_count": null,
   "metadata": {},
   "outputs": [],
   "source": []
  },
  {
   "cell_type": "markdown",
   "metadata": {},
   "source": [
    "# 실습 2\n",
    "\n",
    "아래 사이트를 크롤링하여 아래와 같이 각각 글에 id와 title 그리고 글마다 코멘트내용을 리스트형식으로 담고 최종 json 파일 형태로 저장해보세요.\n",
    "\n",
    "- id\n",
    "- title\n",
    "- comments : 리스트로 "
   ]
  },
  {
   "cell_type": "code",
   "execution_count": 14,
   "metadata": {},
   "outputs": [],
   "source": [
    "url = 'https://crawlingstudy-dd3c9.web.app/05/'"
   ]
  },
  {
   "cell_type": "markdown",
   "metadata": {},
   "source": [
    "1. 각 타이틀의 text 뽑아보기 "
   ]
  },
  {
   "cell_type": "code",
   "execution_count": 32,
   "metadata": {},
   "outputs": [
    {
     "name": "stdout",
     "output_type": "stream",
     "text": [
      "title =  accusamus beatae ad facilis cum similique qui sunt\n",
      "title =  reprehenderit est deserunt velit ipsam\n",
      "title =  officia porro iure quia iusto qui ipsa ut modi\n",
      "title =  culpa odio esse rerum omnis laboriosam voluptate repudiandae\n",
      "title =  natus nisi omnis corporis facere molestiae rerum in\n"
     ]
    }
   ],
   "source": [
    "from selenium import webdriver\n",
    "from selenium.webdriver.common.by import By\n",
    "import time\n",
    "\n",
    "url = 'https://crawlingstudy-dd3c9.web.app/05/'\n",
    "\n",
    "driver = webdriver.Chrome()\n",
    "driver.implicitly_wait(2)\n",
    "driver.get(url)\n",
    "\n",
    "div_tags = driver.find_elements(By.CSS_SELECTOR, '#post div')\n",
    "\n",
    "for div in div_tags[:10]:\n",
    "    # print(div.get_attribute('onclick'))\n",
    "    if div.get_attribute('onclick'):\n",
    "        # id = div.get_attribute('onclick')\n",
    "        title = div.text\n",
    "        # print('id = ', id)\n",
    "        print('title = ', title)\n",
    "\n",
    "        div.click()\n",
    "        time.sleep(0.5)\n",
    "\n",
    "\n",
    "\n",
    "time.sleep(3)\n",
    "\n",
    "driver.quit()\n"
   ]
  },
  {
   "cell_type": "markdown",
   "metadata": {},
   "source": [
    "2. title 클릭해서 body 뽑기 "
   ]
  },
  {
   "cell_type": "markdown",
   "metadata": {},
   "source": [
    "<이스케이프 문자>\n",
    "- 역슬래시 \\\n",
    "- 일반 문자가 아닌 특별한 역할을 하도록 만들어진 문자 \n",
    "- ex) \\n, \\t, \\\\\\ (역슬래시 자체를 표현), \\\\\" (큰 따옴표를 문자열 안에서 표현)   \n"
   ]
  },
  {
   "cell_type": "code",
   "execution_count": null,
   "metadata": {},
   "outputs": [],
   "source": []
  },
  {
   "cell_type": "markdown",
   "metadata": {},
   "source": [
    "3. json파일로 저장하기 (최종)"
   ]
  },
  {
   "cell_type": "code",
   "execution_count": null,
   "metadata": {},
   "outputs": [],
   "source": []
  },
  {
   "cell_type": "code",
   "execution_count": null,
   "metadata": {},
   "outputs": [
    {
     "name": "stdout",
     "output_type": "stream",
     "text": [
      "5000\n",
      "accusamus beatae ad facilis cum similique qui sunt\n",
      "reprehenderit est deserunt velit ipsam\n",
      "officia porro iure quia iusto qui ipsa ut modi\n",
      "culpa odio esse rerum omnis laboriosam voluptate repudiandae\n",
      "natus nisi omnis corporis facere molestiae rerum in\n",
      "accusamus ea aliquid et amet sequi nemo\n",
      "officia delectus consequatur vero aut veniam explicabo molestias\n",
      "aut porro officiis laborum odit ea laudantium corporis\n",
      "qui eius qui autem sed\n",
      "beatae et provident et ut vel\n"
     ]
    }
   ],
   "source": [
    "# 쌤답안\n",
    "from selenium import webdriver\n",
    "from selenium.webdriver.common.by import By\n",
    "import time\n",
    "\n",
    "url = 'https://crawlingstudy-dd3c9.web.app/05/'\n",
    "\n",
    "driver = webdriver.Chrome()\n",
    "driver.implicitly_wait(2)\n",
    "driver.get(url)\n",
    "\n",
    "div_tags = driver.find_elements(By.CSS_SELECTOR, '#post div[onclick]') # [속성이름] 만 적으면 속성이름을 가진 것들을 다 가져오겠다.\n",
    "print(len(div_tags))\n",
    "\n",
    "for tag in div_tags[:10]:\n",
    "    title = tag.text\n",
    "\n",
    "\n",
    "\n",
    "driver.quit()\n"
   ]
  },
  {
   "cell_type": "code",
   "execution_count": null,
   "metadata": {},
   "outputs": [
    {
     "name": "stdout",
     "output_type": "stream",
     "text": [
      "5000\n",
      "laudantium enim quasi est quidem magnam voluptate ipsam eos tempora quo necessitatibus dolor quam autem quasi reiciendis et nam sapiente accusantium\n",
      "est natus enim nihil est dolore omnis voluptatem numquam et omnis occaecati quod ullam at voluptatem error expedita pariatur nihil sint nostrum voluptatem reiciendis et\n",
      "quia molestiae reprehenderit quasi aspernatur aut expedita occaecati aliquam eveniet laudantium omnis quibusdam delectus saepe quia accusamus maiores nam est cum et ducimus et vero voluptates excepturi deleniti ratione\n",
      "non et atque occaecati deserunt quas accusantium unde odit nobis qui voluptatem quia voluptas consequuntur itaque dolor et qui rerum deleniti ut occaecati\n",
      "harum non quasi et ratione tempore iure ex voluptates in ratione harum architecto fugit inventore cupiditate voluptates magni quo et\n",
      "doloribus at sed quis culpa deserunt consectetur qui praesentium accusamus fugiat dicta voluptatem rerum ut voluptate autem voluptatem repellendus aspernatur dolorem in\n",
      "maiores sed dolores similique labore et inventore et quasi temporibus esse sunt id et eos voluptatem aliquam aliquid ratione corporis molestiae mollitia quia et magnam dolor\n",
      "ut voluptatem corrupti velit ad voluptatem maiores et nisi velit vero accusamus maiores voluptates quia aliquid ullam eaque\n",
      "sapiente assumenda molestiae atque adipisci laborum distinctio aperiam et ab ut omnis et occaecati aspernatur odit sit rem expedita quas enim ipsam minus\n",
      "voluptate iusto quis nobis reprehenderit ipsum amet nulla quia quas dolores velit et non aut quia necessitatibus nostrum quaerat nulla et accusamus nisi facilis\n",
      "ut dolorum nostrum id quia aut est fuga est inventore vel eligendi explicabo quis consectetur aut occaecati repellat id natus quo est ut blanditiis quia ut vel ut maiores ea\n",
      "expedita maiores dignissimos facilis ipsum est rem est fugit velit sequi eum odio dolores dolor totam occaecati ratione eius rem velit\n",
      "fuga eos qui dolor rerum inventore corporis exercitationem corporis cupiditate et deserunt recusandae est sed quis culpa eum maiores corporis et\n",
      "vel quae voluptas qui exercitationem voluptatibus unde sed minima et qui ipsam aspernatur expedita magnam laudantium et et quaerat ut qui dolorum\n",
      "nihil ut voluptates blanditiis autem odio dicta rerum quisquam saepe et est sunt quasi nemo laudantium deserunt molestias tempora quo quia\n",
      "iste ut laborum aliquid velit facere itaque quo ut soluta dicta voluptate error tempore aut et sequi reiciendis dignissimos expedita consequuntur libero sed fugiat facilis\n",
      "consequatur necessitatibus totam sed sit dolorum recusandae quae odio excepturi voluptatum harum voluptas quisquam sit ad eveniet delectus doloribus odio qui non labore\n",
      "veritatis voluptates necessitatibus maiores corrupti neque et exercitationem amet sit et ullam velit sit magnam laborum magni ut molestias\n",
      "doloribus est illo sed minima aperiam ut dignissimos accusantium tempore atque et aut molestiae magni ut accusamus voluptatem quos ut voluptates quisquam porro sed architecto ut\n",
      "qui harum consequatur fugiat et eligendi perferendis at molestiae commodi ducimus doloremque asperiores numquam qui ut sit dignissimos reprehenderit tempore\n",
      "deleniti aut sed molestias explicabo commodi odio ratione nesciunt voluptate doloremque est nam autem error delectus\n",
      "qui ipsa animi nostrum praesentium voluptatibus odit qui non impedit cum qui nostrum aliquid fuga explicabo voluptatem fugit earum voluptas exercitationem temporibus dignissimos distinctio esse inventore reprehenderit quidem ut incidunt nihil necessitatibus rerum\n",
      "voluptates provident repellendus iusto perspiciatis ex fugiat ut ut dolor nam aliquid et expedita voluptate sunt vitae illo rerum in quos vel eligendi enim quae fugiat est\n",
      "repudiandae repellat quia sequi est dolore explicabo nihil et et sit et et praesentium iste atque asperiores tenetur\n",
      "sunt aut quae laboriosam sit ut impedit adipisci harum laborum totam deleniti voluptas odit rem ea non iure distinctio ut velit doloribus et non ex\n",
      "incidunt sapiente eaque dolor eos ad est molestias quas sit et nihil exercitationem at cumque ullam nihil magnam et\n",
      "nisi vel quas ut laborum ratione rerum magni eum unde et voluptatem saepe voluptas corporis modi amet ipsam eos saepe porro\n",
      "voluptatem repellendus quo alias at laudantium mollitia quidem esse temporibus consequuntur vitae rerum illum id corporis sit id\n",
      "tempora voluptatem est magnam distinctio autem est dolorem et ipsa molestiae odit rerum itaque corporis nihil nam eaque rerum error\n",
      "consequuntur quia voluptate assumenda et autem voluptatem reiciendis ipsum animi est provident earum aperiam sapiente ad vitae iste accusantium aperiam eius qui dolore voluptatem et\n",
      "quia incidunt ut aliquid est ut rerum deleniti iure est ipsum quia ea sint et voluptatem quaerat eaque repudiandae eveniet aut\n",
      "nihil ea itaque libero illo officiis quo quo dicta inventore consequatur voluptas voluptatem corporis sed necessitatibus velit tempore rerum velit et temporibus\n",
      "fugit harum quae vero libero unde tempore soluta eaque culpa sequi quibusdam nulla id et et necessitatibus\n",
      "omnis temporibus quasi ab omnis facilis et omnis illum quae quasi aut minus iure ex rem ut reprehenderit in non fugit\n",
      "dolor mollitia quidem facere et vel est ut ut repudiandae est quidem dolorem sed atque rem quia aut adipisci sunt\n",
      "aut vero est dolor non aut excepturi dignissimos illo nisi aut quas aut magni quia nostrum provident magnam quas modi maxime voluptatem et molestiae\n",
      "qui rem amet aut cumque maiores earum ut quia sit nam esse qui iusto aspernatur quis voluptas dolorem distinctio ex temporibus rem\n",
      "unde voluptatem qui dicta vel ad aut eos error consequatur voluptatem adipisci doloribus qui est sit aut velit aut et ea ratione eveniet iure fuga\n",
      "atque consequatur dolorem sunt adipisci autem et voluptatibus et quae necessitatibus rerum eaque aperiam nostrum nemo eligendi sed et beatae et inventore\n",
      "quod minus alias quos perferendis labore molestias quae ut ut corporis deserunt vitae et quaerat ut et ullam unde asperiores cum voluptatem cumque\n",
      "facere repudiandae vitae ea aut sed quo ut et facere nihil ut voluptates in saepe cupiditate accusantium numquam dolores inventore sint mollitia provident\n",
      "aut culpa quaerat veritatis eos debitis aut repellat eius explicabo et officiis quo sint at magni ratione et iure incidunt quo sequi quia dolorum beatae qui\n",
      "voluptatem ut possimus laborum quae ut commodi delectus in et consequatur in voluptas beatae molestiae est rerum laborum et et velit sint ipsum dolorem\n",
      "qui sunt commodi sint vel optio vitae quis qui non distinctio id quasi modi dicta eos nihil sit inventore est numquam officiis\n",
      "ipsum odio harum voluptatem sunt cumque et dolores nihil laboriosam neque commodi qui est quos numquam voluptatum corporis quo in vitae similique cumque tempore\n"
     ]
    }
   ],
   "source": [
    "# 쌤답안\n",
    "from selenium import webdriver\n",
    "from selenium.webdriver.common.by import By\n",
    "import time\n",
    "\n",
    "url = 'https://crawlingstudy-dd3c9.web.app/05/'\n",
    "\n",
    "driver = webdriver.Chrome()\n",
    "driver.implicitly_wait(2)\n",
    "driver.get(url)\n",
    "\n",
    "\n",
    "div_tags = driver.find_elements(By.CSS_SELECTOR, '#post div[onclick]') # [속성이름] 만 적으면 속성이름을 가진 것들을 다 가져오겠다.\n",
    "print(len(div_tags))\n",
    "\n",
    "for idx, tag in enumerate(div_tags[:10]):\n",
    "    title = tag.text\n",
    "    tag.click()\n",
    "\n",
    "    # 홀수 - 이메일\n",
    "    # 짝수 - 코멘트\n",
    "    num = idx + 1\n",
    "    comments = driver.find_elements(By.CSS_SELECTOR, f'#\\\\3{num} > div') # #1 에서 숫자 그래로 1일라는 것이라는 걸 나타내기 위해 이스케이프 \\\\3 을 넣어줌\n",
    "    # \\3 : 숫자 ID를 이스케이프 하는 방법\n",
    "    # \\\\3 : \\3 이 이스케이프 문자라고 알려주기 위해 \\ 를 하나더 붙임\n",
    "    # #숫자 라고 넣으면 선택자 ID 라는 것을 모름\n",
    "\n",
    "    for idx_1 in range(1, len(comments), 2): # 1번부터 2씩 건너띄면 코멘트\n",
    "        print(comments[idx_1].text)\n",
    "\n",
    "\n",
    "\n",
    "    \n",
    "\n",
    "\n",
    "driver.quit()\n"
   ]
  },
  {
   "cell_type": "code",
   "execution_count": null,
   "metadata": {},
   "outputs": [
    {
     "name": "stdout",
     "output_type": "stream",
     "text": [
      "5000\n"
     ]
    }
   ],
   "source": [
    "# 쌤답안\n",
    "from selenium import webdriver\n",
    "from selenium.webdriver.common.by import By\n",
    "import time\n",
    "\n",
    "url = 'https://crawlingstudy-dd3c9.web.app/05/'\n",
    "\n",
    "driver = webdriver.Chrome()\n",
    "driver.implicitly_wait(3)\n",
    "driver.get(url)\n",
    "\n",
    "\n",
    "div_tags = driver.find_elements(By.CSS_SELECTOR, '#post div[onclick]')\n",
    "print(len(div_tags))\n",
    "\n",
    "result = []\n",
    "\n",
    "for idx, tag in enumerate(div_tags[:5]):\n",
    "\n",
    "    # if idx == 5:\n",
    "    #     break\n",
    "\n",
    "    tag.click()\n",
    "\n",
    "    num = idx + 1\n",
    "    comments = driver.find_elements(By.CSS_SELECTOR, f'#\\\\3{num} > div') \n",
    "\n",
    "    data = dict(\n",
    "        id=num,\n",
    "        title=tag.text\n",
    "    )\n",
    "    data['comments'] = [comments[i].text for i in range(1, len(comments), 2)] # 리스트 컴프리헨션\n",
    "    # for idx_1 in range(1, len(comments), 2):\n",
    "    #     print(comments[idx_1].text)\n",
    "\n",
    "    result.append(data)\n",
    "\n",
    "driver.quit()\n"
   ]
  },
  {
   "cell_type": "code",
   "execution_count": 41,
   "metadata": {},
   "outputs": [
    {
     "data": {
      "text/plain": [
       "[{'id': 1,\n",
       "  'title': 'accusamus beatae ad facilis cum similique qui sunt',\n",
       "  'comments': ['laudantium enim quasi est quidem magnam voluptate ipsam eos tempora quo necessitatibus dolor quam autem quasi reiciendis et nam sapiente accusantium',\n",
       "   'est natus enim nihil est dolore omnis voluptatem numquam et omnis occaecati quod ullam at voluptatem error expedita pariatur nihil sint nostrum voluptatem reiciendis et',\n",
       "   'quia molestiae reprehenderit quasi aspernatur aut expedita occaecati aliquam eveniet laudantium omnis quibusdam delectus saepe quia accusamus maiores nam est cum et ducimus et vero voluptates excepturi deleniti ratione',\n",
       "   'non et atque occaecati deserunt quas accusantium unde odit nobis qui voluptatem quia voluptas consequuntur itaque dolor et qui rerum deleniti ut occaecati',\n",
       "   'harum non quasi et ratione tempore iure ex voluptates in ratione harum architecto fugit inventore cupiditate voluptates magni quo et']},\n",
       " {'id': 2,\n",
       "  'title': 'reprehenderit est deserunt velit ipsam',\n",
       "  'comments': ['doloribus at sed quis culpa deserunt consectetur qui praesentium accusamus fugiat dicta voluptatem rerum ut voluptate autem voluptatem repellendus aspernatur dolorem in',\n",
       "   'maiores sed dolores similique labore et inventore et quasi temporibus esse sunt id et eos voluptatem aliquam aliquid ratione corporis molestiae mollitia quia et magnam dolor',\n",
       "   'ut voluptatem corrupti velit ad voluptatem maiores et nisi velit vero accusamus maiores voluptates quia aliquid ullam eaque',\n",
       "   'sapiente assumenda molestiae atque adipisci laborum distinctio aperiam et ab ut omnis et occaecati aspernatur odit sit rem expedita quas enim ipsam minus',\n",
       "   'voluptate iusto quis nobis reprehenderit ipsum amet nulla quia quas dolores velit et non aut quia necessitatibus nostrum quaerat nulla et accusamus nisi facilis']},\n",
       " {'id': 3,\n",
       "  'title': 'officia porro iure quia iusto qui ipsa ut modi',\n",
       "  'comments': ['ut dolorum nostrum id quia aut est fuga est inventore vel eligendi explicabo quis consectetur aut occaecati repellat id natus quo est ut blanditiis quia ut vel ut maiores ea',\n",
       "   'expedita maiores dignissimos facilis ipsum est rem est fugit velit sequi eum odio dolores dolor totam occaecati ratione eius rem velit',\n",
       "   'fuga eos qui dolor rerum inventore corporis exercitationem corporis cupiditate et deserunt recusandae est sed quis culpa eum maiores corporis et',\n",
       "   'vel quae voluptas qui exercitationem voluptatibus unde sed minima et qui ipsam aspernatur expedita magnam laudantium et et quaerat ut qui dolorum',\n",
       "   'nihil ut voluptates blanditiis autem odio dicta rerum quisquam saepe et est sunt quasi nemo laudantium deserunt molestias tempora quo quia']},\n",
       " {'id': 4,\n",
       "  'title': 'culpa odio esse rerum omnis laboriosam voluptate repudiandae',\n",
       "  'comments': ['iste ut laborum aliquid velit facere itaque quo ut soluta dicta voluptate error tempore aut et sequi reiciendis dignissimos expedita consequuntur libero sed fugiat facilis',\n",
       "   'consequatur necessitatibus totam sed sit dolorum recusandae quae odio excepturi voluptatum harum voluptas quisquam sit ad eveniet delectus doloribus odio qui non labore',\n",
       "   'veritatis voluptates necessitatibus maiores corrupti neque et exercitationem amet sit et ullam velit sit magnam laborum magni ut molestias',\n",
       "   'doloribus est illo sed minima aperiam ut dignissimos accusantium tempore atque et aut molestiae magni ut accusamus voluptatem quos ut voluptates quisquam porro sed architecto ut',\n",
       "   'qui harum consequatur fugiat et eligendi perferendis at molestiae commodi ducimus doloremque asperiores numquam qui ut sit dignissimos reprehenderit tempore']},\n",
       " {'id': 5,\n",
       "  'title': 'natus nisi omnis corporis facere molestiae rerum in',\n",
       "  'comments': ['deleniti aut sed molestias explicabo commodi odio ratione nesciunt voluptate doloremque est nam autem error delectus',\n",
       "   'qui ipsa animi nostrum praesentium voluptatibus odit qui non impedit cum qui nostrum aliquid fuga explicabo voluptatem fugit earum voluptas exercitationem temporibus dignissimos distinctio esse inventore reprehenderit quidem ut incidunt nihil necessitatibus rerum',\n",
       "   'voluptates provident repellendus iusto perspiciatis ex fugiat ut ut dolor nam aliquid et expedita voluptate sunt vitae illo rerum in quos vel eligendi enim quae fugiat est',\n",
       "   'repudiandae repellat quia sequi est dolore explicabo nihil et et sit et et praesentium iste atque asperiores tenetur',\n",
       "   'sunt aut quae laboriosam sit ut impedit adipisci harum laborum totam deleniti voluptas odit rem ea non iure distinctio ut velit doloribus et non ex']}]"
      ]
     },
     "execution_count": 41,
     "metadata": {},
     "output_type": "execute_result"
    }
   ],
   "source": [
    "result"
   ]
  }
 ],
 "metadata": {
  "kernelspec": {
   "display_name": "sesac",
   "language": "python",
   "name": "python3"
  },
  "language_info": {
   "codemirror_mode": {
    "name": "ipython",
    "version": 3
   },
   "file_extension": ".py",
   "mimetype": "text/x-python",
   "name": "python",
   "nbconvert_exporter": "python",
   "pygments_lexer": "ipython3",
   "version": "3.10.15"
  }
 },
 "nbformat": 4,
 "nbformat_minor": 2
}
