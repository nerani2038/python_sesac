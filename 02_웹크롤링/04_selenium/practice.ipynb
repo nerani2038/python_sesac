{
 "cells": [
  {
   "cell_type": "markdown",
   "metadata": {},
   "source": [
    "# selenium"
   ]
  },
  {
   "cell_type": "code",
   "execution_count": 1,
   "metadata": {},
   "outputs": [],
   "source": [
    "url = 'https://crawlingstudy-dd3c9.web.app/01/'"
   ]
  },
  {
   "cell_type": "code",
   "execution_count": 12,
   "metadata": {},
   "outputs": [
    {
     "name": "stdout",
     "output_type": "stream",
     "text": [
      "[<selenium.webdriver.remote.webelement.WebElement (session=\"8aece502136053dbe5839a01a29cca26\", element=\"f.3ACE6FB4196D3CD2F77740998C890A66.d.2F9B4C4DFDC94ED5C6B9491E5DEAB880.e.2\")>, <selenium.webdriver.remote.webelement.WebElement (session=\"8aece502136053dbe5839a01a29cca26\", element=\"f.3ACE6FB4196D3CD2F77740998C890A66.d.2F9B4C4DFDC94ED5C6B9491E5DEAB880.e.3\")>]\n",
      "<class 'list'>\n",
      "<selenium.webdriver.remote.webelement.WebElement (session=\"8aece502136053dbe5839a01a29cca26\", element=\"f.3ACE6FB4196D3CD2F77740998C890A66.d.2F9B4C4DFDC94ED5C6B9491E5DEAB880.e.2\")>\n",
      "<class 'selenium.webdriver.remote.webelement.WebElement'>\n"
     ]
    }
   ],
   "source": [
    "from selenium import webdriver\n",
    "from selenium.webdriver.common.by import By\n",
    "import time\n",
    "\n",
    "driver = webdriver.Chrome()\n",
    "driver.implicitly_wait(1.5)\n",
    "\n",
    "driver.get(url)\n",
    "p_tags = driver.find_elements(By.CSS_SELECTOR, 'p') # list\n",
    "print(p_tags)\n",
    "print(type(p_tags))\n",
    "p_tag = driver.find_element(By.CSS_SELECTOR, 'p') # list\n",
    "print(p_tag)\n",
    "print(type(p_tag))\n",
    "\n",
    "p_tag_text = p_tag.text\n",
    "\n",
    "time.sleep(2)\n",
    "\n",
    "\n",
    "driver.quit()"
   ]
  },
  {
   "cell_type": "code",
   "execution_count": 13,
   "metadata": {},
   "outputs": [
    {
     "data": {
      "text/plain": [
       "'이탈리아 요리의 시작은 기원전 4세기로 거슬러 올라갈 수 있다. 대항해시대를 거치면서 아메리카 대륙에서 감자·토마토·후추·옥수수 등이 유입되어 그 종류와 풍미가 다양해졌고 현대에 이르러서는 피자와 파스타 등 많은 이탈리아 요리가 널리 퍼지게 되었다.'"
      ]
     },
     "execution_count": 13,
     "metadata": {},
     "output_type": "execute_result"
    }
   ],
   "source": [
    "p_tag_text"
   ]
  },
  {
   "cell_type": "code",
   "execution_count": 15,
   "metadata": {},
   "outputs": [],
   "source": [
    "driver = webdriver.Chrome()\n",
    "driver.implicitly_wait(2)\n",
    "\n",
    "driver.get('https://naver.com')\n",
    "\n",
    "a_tag = driver.find_element(By.CSS_SELECTOR, 'a.MyView-module__link_login___HpHMW')\n",
    "a_tag.click()\n",
    "\n",
    "time.sleep(2)\n",
    "\n",
    "driver.quit()"
   ]
  },
  {
   "cell_type": "code",
   "execution_count": 22,
   "metadata": {},
   "outputs": [
    {
     "name": "stdout",
     "output_type": "stream",
     "text": [
      "nerani2038\n",
      "ahyun0311+\n"
     ]
    }
   ],
   "source": [
    "from dotenv import load_dotenv\n",
    "import os\n",
    "\n",
    "load_dotenv()\n",
    "\n",
    "naver_id = os.getenv('NAVER_ID')\n",
    "naver_pw = os.getenv('NAVER_PW')\n",
    "print(naver_id)\n",
    "print(naver_pw)"
   ]
  },
  {
   "cell_type": "code",
   "execution_count": null,
   "metadata": {},
   "outputs": [],
   "source": [
    "driver = webdriver.Chrome()\n",
    "driver.implicitly_wait(2)\n",
    "\n",
    "driver.get('https://naver.com')\n",
    "\n",
    "driver.find_element(By.CSS_SELECTOR, 'a.MyView-module__link_login___HpHMW').click()\n",
    "driver.find_element(By.CSS_SELECTOR, '#id').send_keys(naver_id)\n",
    "driver.find_element(By.CSS_SELECTOR, '#pw').send_keys(naver_pw)\n",
    "\n",
    "driver.find_element(By.CSS_SELECTOR, 'button.btn_login.nlog-click').click()\n",
    "\n",
    "\n",
    "time.sleep(3)\n",
    "\n",
    "driver.quit()"
   ]
  }
 ],
 "metadata": {
  "kernelspec": {
   "display_name": "sesac",
   "language": "python",
   "name": "python3"
  },
  "language_info": {
   "codemirror_mode": {
    "name": "ipython",
    "version": 3
   },
   "file_extension": ".py",
   "mimetype": "text/x-python",
   "name": "python",
   "nbconvert_exporter": "python",
   "pygments_lexer": "ipython3",
   "version": "3.10.15"
  }
 },
 "nbformat": 4,
 "nbformat_minor": 2
}
